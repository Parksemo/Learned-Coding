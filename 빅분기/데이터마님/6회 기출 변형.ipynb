{
 "cells": [
  {
   "cell_type": "markdown",
   "id": "c76b81ba",
   "metadata": {},
   "source": [
    "# 작업 3유형"
   ]
  },
  {
   "cell_type": "markdown",
   "id": "44a4ecdf",
   "metadata": {},
   "source": [
    "A 도시의 남성 600명과 여성 550명이 있다.\n",
    "<br>\n",
    "남성들 중 흡연자 비율은 0.2이며 여성들 중 흡연자 비율은 0.26이다.\n",
    "<br>\n",
    "남성과 여성 간에 흡연 여부에 따른 인구 비율이 다른지 확인하고 싶다.\n",
    "<br>\n",
    "유의 수준 0.05하 귀무가설에 대해 기각 / 채택 여부와 p-value값을 각각  출력하라"
   ]
  },
  {
   "cell_type": "markdown",
   "id": "89322fbb",
   "metadata": {},
   "source": [
    "### 참고자료\n",
    "https://jae-eun-ai.tistory.com/51\n",
    "<br>\n",
    "https://wndofla123.tistory.com/57\n",
    "<br>\n",
    "https://hongl.tistory.com/105\n",
    "<br>\n",
    "https://brunch.co.kr/@saetae/154\n",
    "<br>\n",
    "https://wikidocs.net/227335"
   ]
  },
  {
   "cell_type": "markdown",
   "id": "a4e3d3c6",
   "metadata": {},
   "source": [
    "범주형이기 때문에 카이제곱 검정 사용\n",
    "1. 적합도 검정 : 한 범주형 변수의 각 그룹 별 비율과 특정 상수비가 같은지 검증하는 것\n",
    "2. 독립성 검정 : 두 범주형 변수가 서로 독립인지 검정하는 것\n",
    "3. 동질성 검정 : 각 집단이 서로 유사한 성향을 갖는지 분석하는 것\n",
    "\n",
    "<br>이 문제는 남성과 여성 두 범주형으로 나뉘어지기 때문에 독립성 검정 시행"
   ]
  },
  {
   "cell_type": "code",
   "execution_count": 1,
   "id": "e76dd055",
   "metadata": {},
   "outputs": [],
   "source": [
    "import numpy as np\n",
    "from scipy.stats import chi2_contingency"
   ]
  },
  {
   "cell_type": "code",
   "execution_count": 2,
   "id": "da7262f9",
   "metadata": {},
   "outputs": [],
   "source": [
    "# 남성과 여성의 인구 수\n",
    "total_male = 600\n",
    "total_female = 550"
   ]
  },
  {
   "cell_type": "code",
   "execution_count": 3,
   "id": "c1aac632",
   "metadata": {},
   "outputs": [],
   "source": [
    "# 남성과 여성 중 흡연자의 비율\n",
    "smoking_ratio_male = 0.2\n",
    "smoking_ratio_female = 0.26"
   ]
  },
  {
   "cell_type": "code",
   "execution_count": 4,
   "id": "46e697c0",
   "metadata": {},
   "outputs": [
    {
     "data": {
      "text/plain": [
       "120"
      ]
     },
     "execution_count": 4,
     "metadata": {},
     "output_type": "execute_result"
    }
   ],
   "source": [
    "# 흡연자와 비흡연자의 인구 수 계산\n",
    "smoking_male = int(total_male * smoking_ratio_male) # 남성 흡연자 수\n",
    "smoking_male"
   ]
  },
  {
   "cell_type": "code",
   "execution_count": 5,
   "id": "1fd6a2f8",
   "metadata": {},
   "outputs": [
    {
     "data": {
      "text/plain": [
       "480"
      ]
     },
     "execution_count": 5,
     "metadata": {},
     "output_type": "execute_result"
    }
   ],
   "source": [
    "non_smoking_male = int(total_male - smoking_male) # 남성 비흡연자 수\n",
    "non_smoking_male"
   ]
  },
  {
   "cell_type": "code",
   "execution_count": 6,
   "id": "44074819",
   "metadata": {},
   "outputs": [
    {
     "data": {
      "text/plain": [
       "143"
      ]
     },
     "execution_count": 6,
     "metadata": {},
     "output_type": "execute_result"
    }
   ],
   "source": [
    "smoking_female = int(total_female * smoking_ratio_female) # 여성 흡연자 수\n",
    "smoking_female"
   ]
  },
  {
   "cell_type": "code",
   "execution_count": 7,
   "id": "132f3afe",
   "metadata": {},
   "outputs": [
    {
     "data": {
      "text/plain": [
       "407"
      ]
     },
     "execution_count": 7,
     "metadata": {},
     "output_type": "execute_result"
    }
   ],
   "source": [
    "non_smoking_female = int(total_female - smoking_female) # 여성 비흡연자 수\n",
    "non_smoking_female"
   ]
  },
  {
   "cell_type": "code",
   "execution_count": 8,
   "id": "da0a2115",
   "metadata": {},
   "outputs": [
    {
     "data": {
      "text/html": [
       "<div>\n",
       "<style scoped>\n",
       "    .dataframe tbody tr th:only-of-type {\n",
       "        vertical-align: middle;\n",
       "    }\n",
       "\n",
       "    .dataframe tbody tr th {\n",
       "        vertical-align: top;\n",
       "    }\n",
       "\n",
       "    .dataframe thead th {\n",
       "        text-align: right;\n",
       "    }\n",
       "</style>\n",
       "<table border=\"1\" class=\"dataframe\">\n",
       "  <thead>\n",
       "    <tr style=\"text-align: right;\">\n",
       "      <th></th>\n",
       "      <th>흡연</th>\n",
       "      <th>비흡연</th>\n",
       "    </tr>\n",
       "  </thead>\n",
       "  <tbody>\n",
       "    <tr>\n",
       "      <th>남성</th>\n",
       "      <td>120</td>\n",
       "      <td>143</td>\n",
       "    </tr>\n",
       "    <tr>\n",
       "      <th>여성</th>\n",
       "      <td>480</td>\n",
       "      <td>407</td>\n",
       "    </tr>\n",
       "  </tbody>\n",
       "</table>\n",
       "</div>"
      ],
      "text/plain": [
       "     흡연  비흡연\n",
       "남성  120  143\n",
       "여성  480  407"
      ]
     },
     "execution_count": 8,
     "metadata": {},
     "output_type": "execute_result"
    }
   ],
   "source": [
    "# 데이터 배열 생성 (빈도로 변환)\n",
    "import pandas as pd\n",
    "data=pd.DataFrame({'흡연':[120,480],'비흡연':[143,407]},index=['남성','여성'])\n",
    "data"
   ]
  },
  {
   "cell_type": "code",
   "execution_count": 9,
   "id": "9368c07e",
   "metadata": {},
   "outputs": [
    {
     "data": {
      "text/plain": [
       "5.521247671393307"
      ]
     },
     "metadata": {},
     "output_type": "display_data"
    },
    {
     "data": {
      "text/plain": [
       "0.018786854975740768"
      ]
     },
     "metadata": {},
     "output_type": "display_data"
    },
    {
     "data": {
      "text/plain": [
       "1"
      ]
     },
     "metadata": {},
     "output_type": "display_data"
    },
    {
     "data": {
      "text/plain": [
       "array([[137.2173913, 125.7826087],\n",
       "       [462.7826087, 424.2173913]])"
      ]
     },
     "metadata": {},
     "output_type": "display_data"
    }
   ],
   "source": [
    "# 카이제곱 독립성 검정 수행\n",
    "chi2_stat, p_value, dof, expected = chi2_contingency(data)\n",
    "# chi2_contingency() : 카이제곱 독립성 검정에 사용\n",
    "# 값이 4개 출력되고 순서대로 1.카이제곱 통계량, 2.p-value, 3.자유도(Degrees of freedom), 4.기대빈도\n",
    "# correction의 디폴트가 True이다.\n",
    "# correction = True 를 사용하면 Yate's corection 이 적용되어서 검정 통계량이 보수적으로 더 낮게 나온다.\n",
    "# Yate's corection 이 적용되면 카이제곱 통계량에 교정이 들어가 False를 할 때보다 더 낮게 나와서 p_value값은 높아진다.\n",
    "# 따라서 기각이 될 확률을 낮추어 결과를 보다 보수적으로 만들게 된다.\n",
    "# 교정의 정도가 너무 지나쳐서 쓰지 말라는 문헌의 자료가 있다.\n",
    "# https://statools.tistory.com/253\n",
    "\n",
    "display(chi2_stat, p_value, dof, expected)\n",
    "\n",
    "# p_value 값이 유의 수준 0.05 보다 작기 때문에 귀무 가설을 기각된다.\n",
    "# 자유도는 카이제곱 독립성 검정에서 만든 차원의 (행의수-1) * (열의수-1)이라 (2-1) * (2-1) = 1 이 나온다.\n",
    "# 기대빈도는 전체에서 흡연자와 비흡연자의 비율을 구해서 남성과 여성에  대입한 값이 나온다."
   ]
  },
  {
   "cell_type": "code",
   "execution_count": 10,
   "id": "7396b0c7",
   "metadata": {},
   "outputs": [],
   "source": [
    "# 카이제곱 적합성 검정을 할때는 chisquare를 사용한다.\n",
    "# 한 변수에 대해 특정 비율을 같는지 검정할 때 사용\n",
    "from scipy.stats import chisquare\n",
    "# chisquare(f_obs, f_exp=None)\n",
    "# chisquare(관측빈도, 기대빈도) 기대빈도는 특정비율을 이용하여 구한다.\n",
    "# 자유도는 n-1이다."
   ]
  },
  {
   "cell_type": "code",
   "execution_count": null,
   "id": "09c62f77",
   "metadata": {},
   "outputs": [],
   "source": []
  },
  {
   "cell_type": "code",
   "execution_count": null,
   "id": "6f8d997c",
   "metadata": {},
   "outputs": [],
   "source": []
  },
  {
   "cell_type": "markdown",
   "id": "56fdcd6e",
   "metadata": {},
   "source": [
    "연령 몸무게 콜레스테롤 수치 데이터\n",
    "<br>\n",
    "데이터 출처 : https://www.kaggle.com/datasets/hangawqadir/erbil-heart-disease-dataset\n",
    "<br>\n",
    "데이터 url : https://raw.githubusercontent.com/Datamanim/datarepo/main/adp/28/p7.csv"
   ]
  },
  {
   "cell_type": "code",
   "execution_count": 11,
   "id": "34250418",
   "metadata": {},
   "outputs": [
    {
     "data": {
      "text/html": [
       "<div>\n",
       "<style scoped>\n",
       "    .dataframe tbody tr th:only-of-type {\n",
       "        vertical-align: middle;\n",
       "    }\n",
       "\n",
       "    .dataframe tbody tr th {\n",
       "        vertical-align: top;\n",
       "    }\n",
       "\n",
       "    .dataframe thead th {\n",
       "        text-align: right;\n",
       "    }\n",
       "</style>\n",
       "<table border=\"1\" class=\"dataframe\">\n",
       "  <thead>\n",
       "    <tr style=\"text-align: right;\">\n",
       "      <th></th>\n",
       "      <th>age</th>\n",
       "      <th>Cholesterol</th>\n",
       "      <th>weight</th>\n",
       "    </tr>\n",
       "  </thead>\n",
       "  <tbody>\n",
       "    <tr>\n",
       "      <th>0</th>\n",
       "      <td>65</td>\n",
       "      <td>69.0</td>\n",
       "      <td>111.0</td>\n",
       "    </tr>\n",
       "    <tr>\n",
       "      <th>1</th>\n",
       "      <td>54</td>\n",
       "      <td>117.0</td>\n",
       "      <td>81.0</td>\n",
       "    </tr>\n",
       "    <tr>\n",
       "      <th>2</th>\n",
       "      <td>61</td>\n",
       "      <td>86.2</td>\n",
       "      <td>72.0</td>\n",
       "    </tr>\n",
       "    <tr>\n",
       "      <th>3</th>\n",
       "      <td>57</td>\n",
       "      <td>76.0</td>\n",
       "      <td>78.0</td>\n",
       "    </tr>\n",
       "    <tr>\n",
       "      <th>4</th>\n",
       "      <td>62</td>\n",
       "      <td>160.0</td>\n",
       "      <td>61.0</td>\n",
       "    </tr>\n",
       "    <tr>\n",
       "      <th>...</th>\n",
       "      <td>...</td>\n",
       "      <td>...</td>\n",
       "      <td>...</td>\n",
       "    </tr>\n",
       "    <tr>\n",
       "      <th>328</th>\n",
       "      <td>46</td>\n",
       "      <td>111.0</td>\n",
       "      <td>66.5</td>\n",
       "    </tr>\n",
       "    <tr>\n",
       "      <th>329</th>\n",
       "      <td>42</td>\n",
       "      <td>164.0</td>\n",
       "      <td>79.0</td>\n",
       "    </tr>\n",
       "    <tr>\n",
       "      <th>330</th>\n",
       "      <td>51</td>\n",
       "      <td>116.0</td>\n",
       "      <td>92.0</td>\n",
       "    </tr>\n",
       "    <tr>\n",
       "      <th>331</th>\n",
       "      <td>45</td>\n",
       "      <td>102.0</td>\n",
       "      <td>79.0</td>\n",
       "    </tr>\n",
       "    <tr>\n",
       "      <th>332</th>\n",
       "      <td>68</td>\n",
       "      <td>92.0</td>\n",
       "      <td>80.0</td>\n",
       "    </tr>\n",
       "  </tbody>\n",
       "</table>\n",
       "<p>333 rows × 3 columns</p>\n",
       "</div>"
      ],
      "text/plain": [
       "     age  Cholesterol  weight\n",
       "0     65         69.0   111.0\n",
       "1     54        117.0    81.0\n",
       "2     61         86.2    72.0\n",
       "3     57         76.0    78.0\n",
       "4     62        160.0    61.0\n",
       "..   ...          ...     ...\n",
       "328   46        111.0    66.5\n",
       "329   42        164.0    79.0\n",
       "330   51        116.0    92.0\n",
       "331   45        102.0    79.0\n",
       "332   68         92.0    80.0\n",
       "\n",
       "[333 rows x 3 columns]"
      ]
     },
     "execution_count": 11,
     "metadata": {},
     "output_type": "execute_result"
    }
   ],
   "source": [
    "import pandas as pd \n",
    "df= pd.read_csv('https://raw.githubusercontent.com/Datamanim/datarepo/main/adp/28/p7.csv')\n",
    "df"
   ]
  },
  {
   "cell_type": "markdown",
   "id": "061e04e7",
   "metadata": {},
   "source": [
    "## age와 Cholesterol을 가지고 weight를 예측하는 선형 회귀 모델을 만들려고한다. age의 회귀 계수를 구하여라"
   ]
  },
  {
   "cell_type": "markdown",
   "id": "147cd8d9",
   "metadata": {},
   "source": [
    "### 참고자료\n",
    "https://zephyrus1111.tistory.com/202\n",
    "<br>\n",
    "https://ysyblog.tistory.com/119\n",
    "<br>\n",
    "https://datalabbit.tistory.com/120"
   ]
  },
  {
   "cell_type": "code",
   "execution_count": 12,
   "id": "845ae5e4",
   "metadata": {},
   "outputs": [],
   "source": [
    "import statsmodels.api as sm"
   ]
  },
  {
   "cell_type": "code",
   "execution_count": 13,
   "id": "f50a4a6d",
   "metadata": {},
   "outputs": [
    {
     "data": {
      "text/html": [
       "<div>\n",
       "<style scoped>\n",
       "    .dataframe tbody tr th:only-of-type {\n",
       "        vertical-align: middle;\n",
       "    }\n",
       "\n",
       "    .dataframe tbody tr th {\n",
       "        vertical-align: top;\n",
       "    }\n",
       "\n",
       "    .dataframe thead th {\n",
       "        text-align: right;\n",
       "    }\n",
       "</style>\n",
       "<table border=\"1\" class=\"dataframe\">\n",
       "  <thead>\n",
       "    <tr style=\"text-align: right;\">\n",
       "      <th></th>\n",
       "      <th>const</th>\n",
       "      <th>age</th>\n",
       "      <th>Cholesterol</th>\n",
       "    </tr>\n",
       "  </thead>\n",
       "  <tbody>\n",
       "    <tr>\n",
       "      <th>0</th>\n",
       "      <td>1.0</td>\n",
       "      <td>65</td>\n",
       "      <td>69.0</td>\n",
       "    </tr>\n",
       "    <tr>\n",
       "      <th>1</th>\n",
       "      <td>1.0</td>\n",
       "      <td>54</td>\n",
       "      <td>117.0</td>\n",
       "    </tr>\n",
       "    <tr>\n",
       "      <th>2</th>\n",
       "      <td>1.0</td>\n",
       "      <td>61</td>\n",
       "      <td>86.2</td>\n",
       "    </tr>\n",
       "    <tr>\n",
       "      <th>3</th>\n",
       "      <td>1.0</td>\n",
       "      <td>57</td>\n",
       "      <td>76.0</td>\n",
       "    </tr>\n",
       "    <tr>\n",
       "      <th>4</th>\n",
       "      <td>1.0</td>\n",
       "      <td>62</td>\n",
       "      <td>160.0</td>\n",
       "    </tr>\n",
       "    <tr>\n",
       "      <th>...</th>\n",
       "      <td>...</td>\n",
       "      <td>...</td>\n",
       "      <td>...</td>\n",
       "    </tr>\n",
       "    <tr>\n",
       "      <th>328</th>\n",
       "      <td>1.0</td>\n",
       "      <td>46</td>\n",
       "      <td>111.0</td>\n",
       "    </tr>\n",
       "    <tr>\n",
       "      <th>329</th>\n",
       "      <td>1.0</td>\n",
       "      <td>42</td>\n",
       "      <td>164.0</td>\n",
       "    </tr>\n",
       "    <tr>\n",
       "      <th>330</th>\n",
       "      <td>1.0</td>\n",
       "      <td>51</td>\n",
       "      <td>116.0</td>\n",
       "    </tr>\n",
       "    <tr>\n",
       "      <th>331</th>\n",
       "      <td>1.0</td>\n",
       "      <td>45</td>\n",
       "      <td>102.0</td>\n",
       "    </tr>\n",
       "    <tr>\n",
       "      <th>332</th>\n",
       "      <td>1.0</td>\n",
       "      <td>68</td>\n",
       "      <td>92.0</td>\n",
       "    </tr>\n",
       "  </tbody>\n",
       "</table>\n",
       "<p>333 rows × 3 columns</p>\n",
       "</div>"
      ],
      "text/plain": [
       "     const  age  Cholesterol\n",
       "0      1.0   65         69.0\n",
       "1      1.0   54        117.0\n",
       "2      1.0   61         86.2\n",
       "3      1.0   57         76.0\n",
       "4      1.0   62        160.0\n",
       "..     ...  ...          ...\n",
       "328    1.0   46        111.0\n",
       "329    1.0   42        164.0\n",
       "330    1.0   51        116.0\n",
       "331    1.0   45        102.0\n",
       "332    1.0   68         92.0\n",
       "\n",
       "[333 rows x 3 columns]"
      ]
     },
     "execution_count": 13,
     "metadata": {},
     "output_type": "execute_result"
    }
   ],
   "source": [
    "# 절편항이 포함된 선형 회귀 모형을 적합하기 위해 sm.add_constant를 이용하여 1로 이루어진 칼럼을 추가한다.\n",
    "# 절편항을 빼고 싶다면 이 과정을 생략한다.\n",
    "X = sm.add_constant(df[['age', 'Cholesterol']])\n",
    "X"
   ]
  },
  {
   "cell_type": "code",
   "execution_count": 14,
   "id": "b57da828",
   "metadata": {},
   "outputs": [],
   "source": [
    "# OLS에는 y,X 순으로 넣어줘야 한다.\n",
    "model = sm.OLS(df['weight'], X)"
   ]
  },
  {
   "cell_type": "code",
   "execution_count": 15,
   "id": "0cb5b4ce",
   "metadata": {},
   "outputs": [
    {
     "data": {
      "text/plain": [
       "<statsmodels.regression.linear_model.RegressionResultsWrapper at 0x1f692917880>"
      ]
     },
     "execution_count": 15,
     "metadata": {},
     "output_type": "execute_result"
    }
   ],
   "source": [
    "results = model.fit()\n",
    "results"
   ]
  },
  {
   "cell_type": "code",
   "execution_count": 16,
   "id": "e57eb086",
   "metadata": {},
   "outputs": [
    {
     "data": {
      "text/html": [
       "<table class=\"simpletable\">\n",
       "<caption>OLS Regression Results</caption>\n",
       "<tr>\n",
       "  <th>Dep. Variable:</th>         <td>weight</td>      <th>  R-squared:         </th> <td>   0.044</td>\n",
       "</tr>\n",
       "<tr>\n",
       "  <th>Model:</th>                   <td>OLS</td>       <th>  Adj. R-squared:    </th> <td>   0.038</td>\n",
       "</tr>\n",
       "<tr>\n",
       "  <th>Method:</th>             <td>Least Squares</td>  <th>  F-statistic:       </th> <td>   7.574</td>\n",
       "</tr>\n",
       "<tr>\n",
       "  <th>Date:</th>             <td>Fri, 07 Jun 2024</td> <th>  Prob (F-statistic):</th> <td>0.000608</td>\n",
       "</tr>\n",
       "<tr>\n",
       "  <th>Time:</th>                 <td>03:29:20</td>     <th>  Log-Likelihood:    </th> <td> -1374.9</td>\n",
       "</tr>\n",
       "<tr>\n",
       "  <th>No. Observations:</th>      <td>   333</td>      <th>  AIC:               </th> <td>   2756.</td>\n",
       "</tr>\n",
       "<tr>\n",
       "  <th>Df Residuals:</th>          <td>   330</td>      <th>  BIC:               </th> <td>   2767.</td>\n",
       "</tr>\n",
       "<tr>\n",
       "  <th>Df Model:</th>              <td>     2</td>      <th>                     </th>     <td> </td>   \n",
       "</tr>\n",
       "<tr>\n",
       "  <th>Covariance Type:</th>      <td>nonrobust</td>    <th>                     </th>     <td> </td>   \n",
       "</tr>\n",
       "</table>\n",
       "<table class=\"simpletable\">\n",
       "<tr>\n",
       "       <td></td>          <th>coef</th>     <th>std err</th>      <th>t</th>      <th>P>|t|</th>  <th>[0.025</th>    <th>0.975]</th>  \n",
       "</tr>\n",
       "<tr>\n",
       "  <th>const</th>       <td>   74.8953</td> <td>    4.455</td> <td>   16.813</td> <td> 0.000</td> <td>   66.132</td> <td>   83.658</td>\n",
       "</tr>\n",
       "<tr>\n",
       "  <th>age</th>         <td>   -0.0361</td> <td>    0.059</td> <td>   -0.611</td> <td> 0.542</td> <td>   -0.152</td> <td>    0.080</td>\n",
       "</tr>\n",
       "<tr>\n",
       "  <th>Cholesterol</th> <td>    0.0819</td> <td>    0.022</td> <td>    3.716</td> <td> 0.000</td> <td>    0.039</td> <td>    0.125</td>\n",
       "</tr>\n",
       "</table>\n",
       "<table class=\"simpletable\">\n",
       "<tr>\n",
       "  <th>Omnibus:</th>       <td>15.848</td> <th>  Durbin-Watson:     </th> <td>   2.033</td>\n",
       "</tr>\n",
       "<tr>\n",
       "  <th>Prob(Omnibus):</th> <td> 0.000</td> <th>  Jarque-Bera (JB):  </th> <td>  17.569</td>\n",
       "</tr>\n",
       "<tr>\n",
       "  <th>Skew:</th>          <td> 0.471</td> <th>  Prob(JB):          </th> <td>0.000153</td>\n",
       "</tr>\n",
       "<tr>\n",
       "  <th>Kurtosis:</th>      <td> 3.617</td> <th>  Cond. No.          </th> <td>    701.</td>\n",
       "</tr>\n",
       "</table><br/><br/>Notes:<br/>[1] Standard Errors assume that the covariance matrix of the errors is correctly specified."
      ],
      "text/plain": [
       "<class 'statsmodels.iolib.summary.Summary'>\n",
       "\"\"\"\n",
       "                            OLS Regression Results                            \n",
       "==============================================================================\n",
       "Dep. Variable:                 weight   R-squared:                       0.044\n",
       "Model:                            OLS   Adj. R-squared:                  0.038\n",
       "Method:                 Least Squares   F-statistic:                     7.574\n",
       "Date:                Fri, 07 Jun 2024   Prob (F-statistic):           0.000608\n",
       "Time:                        03:29:20   Log-Likelihood:                -1374.9\n",
       "No. Observations:                 333   AIC:                             2756.\n",
       "Df Residuals:                     330   BIC:                             2767.\n",
       "Df Model:                           2                                         \n",
       "Covariance Type:            nonrobust                                         \n",
       "===============================================================================\n",
       "                  coef    std err          t      P>|t|      [0.025      0.975]\n",
       "-------------------------------------------------------------------------------\n",
       "const          74.8953      4.455     16.813      0.000      66.132      83.658\n",
       "age            -0.0361      0.059     -0.611      0.542      -0.152       0.080\n",
       "Cholesterol     0.0819      0.022      3.716      0.000       0.039       0.125\n",
       "==============================================================================\n",
       "Omnibus:                       15.848   Durbin-Watson:                   2.033\n",
       "Prob(Omnibus):                  0.000   Jarque-Bera (JB):               17.569\n",
       "Skew:                           0.471   Prob(JB):                     0.000153\n",
       "Kurtosis:                       3.617   Cond. No.                         701.\n",
       "==============================================================================\n",
       "\n",
       "Notes:\n",
       "[1] Standard Errors assume that the covariance matrix of the errors is correctly specified.\n",
       "\"\"\""
      ]
     },
     "execution_count": 16,
     "metadata": {},
     "output_type": "execute_result"
    }
   ],
   "source": [
    "# 전체 회귀 결과 출력\n",
    "results.summary()"
   ]
  },
  {
   "cell_type": "code",
   "execution_count": 17,
   "id": "ac8d5913",
   "metadata": {
    "scrolled": true
   },
   "outputs": [],
   "source": [
    "# print(results.params) # 회귀 계수\n",
    "# print(results.rsquared) # 결정 계수\n",
    "# print(results.rsquared_adj) # 수정된 결정 계수\n",
    "# print(results.pvalues) # 회귀 계수 검정 p value\n",
    "# print(results.tvalues) # 회귀 계수 검정 t 통계량\n",
    "# print(results.conf_int()) # 95% 회귀 계수 추정치 신뢰구간\n",
    "# print(results.mse_resid) ## MSE\n",
    "# print(results.fittedvalues) ## 적합값 y_hat in-sample prediction (= results.predict(X))\n",
    "# print(results.resid) ## 잔차 y-y_hat"
   ]
  },
  {
   "cell_type": "code",
   "execution_count": 18,
   "id": "650e5d11",
   "metadata": {},
   "outputs": [
    {
     "data": {
      "text/plain": [
       "const          74.895281\n",
       "age            -0.036102\n",
       "Cholesterol     0.081929\n",
       "dtype: float64"
      ]
     },
     "execution_count": 18,
     "metadata": {},
     "output_type": "execute_result"
    }
   ],
   "source": [
    "results.params"
   ]
  },
  {
   "cell_type": "code",
   "execution_count": 19,
   "id": "be6053e0",
   "metadata": {},
   "outputs": [
    {
     "name": "stdout",
     "output_type": "stream",
     "text": [
      "-0.0361016691438651\n"
     ]
    }
   ],
   "source": [
    "print(results.params['age'])"
   ]
  },
  {
   "cell_type": "markdown",
   "id": "3d8f3953",
   "metadata": {},
   "source": [
    "## age가 고정일 때 Cholesterol와 weight가 선형관계에 있다는 가설을 유의수준 0.05하에 검정하라"
   ]
  },
  {
   "cell_type": "code",
   "execution_count": 20,
   "id": "12264d32",
   "metadata": {},
   "outputs": [
    {
     "data": {
      "text/plain": [
       "const          2.951249e-46\n",
       "age            5.419233e-01\n",
       "Cholesterol    2.377808e-04\n",
       "dtype: float64"
      ]
     },
     "execution_count": 20,
     "metadata": {},
     "output_type": "execute_result"
    }
   ],
   "source": [
    "results.pvalues"
   ]
  },
  {
   "cell_type": "code",
   "execution_count": 21,
   "id": "07952821",
   "metadata": {},
   "outputs": [
    {
     "data": {
      "text/plain": [
       "0.00023778081979582738"
      ]
     },
     "execution_count": 21,
     "metadata": {},
     "output_type": "execute_result"
    }
   ],
   "source": [
    "results.pvalues['Cholesterol']"
   ]
  },
  {
   "cell_type": "code",
   "execution_count": 22,
   "id": "8901916d",
   "metadata": {},
   "outputs": [
    {
     "name": "stdout",
     "output_type": "stream",
     "text": [
      "기각 : 선형관계에 있다.\n"
     ]
    }
   ],
   "source": [
    "if 0.05 < results.pvalues['Cholesterol']:\n",
    "    print('채택 : 선형관계에 없다.')\n",
    "\n",
    "elif 0.05 >= results.pvalues['Cholesterol']:\n",
    "    print('기각 : 선형관계에 있다.')"
   ]
  },
  {
   "cell_type": "markdown",
   "id": "b5ec056d",
   "metadata": {},
   "source": [
    "## age가 55, Cholesterol가 72.6일때 위 모델을 기반으로 weight값을 예측하라."
   ]
  },
  {
   "cell_type": "code",
   "execution_count": 23,
   "id": "c0b0a14c",
   "metadata": {},
   "outputs": [
    {
     "data": {
      "text/plain": [
       "78.85771011344593"
      ]
     },
     "execution_count": 23,
     "metadata": {},
     "output_type": "execute_result"
    }
   ],
   "source": [
    "pred = results.predict([1,55,72.6])\n",
    "pred[0]"
   ]
  }
 ],
 "metadata": {
  "kernelspec": {
   "display_name": "Python 3 (ipykernel)",
   "language": "python",
   "name": "python3"
  },
  "language_info": {
   "codemirror_mode": {
    "name": "ipython",
    "version": 3
   },
   "file_extension": ".py",
   "mimetype": "text/x-python",
   "name": "python",
   "nbconvert_exporter": "python",
   "pygments_lexer": "ipython3",
   "version": "3.9.12"
  }
 },
 "nbformat": 4,
 "nbformat_minor": 5
}
