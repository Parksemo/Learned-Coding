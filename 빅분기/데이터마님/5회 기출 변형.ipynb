{
 "cells": [
  {
   "cell_type": "markdown",
   "id": "660e3b91",
   "metadata": {},
   "source": [
    "# 3유형"
   ]
  },
  {
   "cell_type": "markdown",
   "id": "836ead13",
   "metadata": {},
   "source": [
    "어느 학교에서 추출한 55명 학생들의 키 정보이다.\n",
    "<br>\n",
    "DataUrl = https://raw.githubusercontent.com/Datamanim/datarepo/main/krdatacertificate/e5_p3_1.csv\n",
    "<br>\n",
    "이 학생들의 키의 95% 신뢰구간을 구하고자 한다."
   ]
  },
  {
   "cell_type": "markdown",
   "id": "38f27519",
   "metadata": {},
   "source": [
    "## 참고자료\n",
    "https://makeit.tistory.com/128\n",
    "<br>\n",
    "https://sosoeasy.tistory.com/603\n",
    "<br>\n",
    "https://direction-f.tistory.com/32\n",
    "<br>\n",
    "https://seahahn.tistory.com/80\n",
    "<br>\n",
    "https://ehpub.co.kr/t-%EB%B6%84%ED%8F%AC-%ED%8C%8C%EC%9D%B4%EC%8D%AC%EC%9C%BC%EB%A1%9C-%EB%8B%A4%EB%A3%A8%EB%8A%94-%ED%86%B5%EA%B3%84/"
   ]
  },
  {
   "cell_type": "code",
   "execution_count": 1,
   "id": "61d16da3",
   "metadata": {
    "scrolled": true
   },
   "outputs": [
    {
     "data": {
      "text/html": [
       "<div>\n",
       "<style scoped>\n",
       "    .dataframe tbody tr th:only-of-type {\n",
       "        vertical-align: middle;\n",
       "    }\n",
       "\n",
       "    .dataframe tbody tr th {\n",
       "        vertical-align: top;\n",
       "    }\n",
       "\n",
       "    .dataframe thead th {\n",
       "        text-align: right;\n",
       "    }\n",
       "</style>\n",
       "<table border=\"1\" class=\"dataframe\">\n",
       "  <thead>\n",
       "    <tr style=\"text-align: right;\">\n",
       "      <th></th>\n",
       "      <th>ID</th>\n",
       "      <th>height</th>\n",
       "    </tr>\n",
       "  </thead>\n",
       "  <tbody>\n",
       "    <tr>\n",
       "      <th>0</th>\n",
       "      <td>user_1</td>\n",
       "      <td>164.57</td>\n",
       "    </tr>\n",
       "    <tr>\n",
       "      <th>1</th>\n",
       "      <td>user_2</td>\n",
       "      <td>174.99</td>\n",
       "    </tr>\n",
       "    <tr>\n",
       "      <th>2</th>\n",
       "      <td>user_3</td>\n",
       "      <td>171.41</td>\n",
       "    </tr>\n",
       "    <tr>\n",
       "      <th>3</th>\n",
       "      <td>user_4</td>\n",
       "      <td>162.47</td>\n",
       "    </tr>\n",
       "    <tr>\n",
       "      <th>4</th>\n",
       "      <td>user_5</td>\n",
       "      <td>167.11</td>\n",
       "    </tr>\n",
       "    <tr>\n",
       "      <th>5</th>\n",
       "      <td>user_6</td>\n",
       "      <td>178.26</td>\n",
       "    </tr>\n",
       "    <tr>\n",
       "      <th>6</th>\n",
       "      <td>user_7</td>\n",
       "      <td>157.87</td>\n",
       "    </tr>\n",
       "    <tr>\n",
       "      <th>7</th>\n",
       "      <td>user_8</td>\n",
       "      <td>167.86</td>\n",
       "    </tr>\n",
       "    <tr>\n",
       "      <th>8</th>\n",
       "      <td>user_9</td>\n",
       "      <td>176.33</td>\n",
       "    </tr>\n",
       "    <tr>\n",
       "      <th>9</th>\n",
       "      <td>user_10</td>\n",
       "      <td>165.67</td>\n",
       "    </tr>\n",
       "    <tr>\n",
       "      <th>10</th>\n",
       "      <td>user_11</td>\n",
       "      <td>166.61</td>\n",
       "    </tr>\n",
       "    <tr>\n",
       "      <th>11</th>\n",
       "      <td>user_12</td>\n",
       "      <td>169.53</td>\n",
       "    </tr>\n",
       "    <tr>\n",
       "      <th>12</th>\n",
       "      <td>user_13</td>\n",
       "      <td>177.46</td>\n",
       "    </tr>\n",
       "    <tr>\n",
       "      <th>13</th>\n",
       "      <td>user_14</td>\n",
       "      <td>166.81</td>\n",
       "    </tr>\n",
       "    <tr>\n",
       "      <th>14</th>\n",
       "      <td>user_15</td>\n",
       "      <td>167.78</td>\n",
       "    </tr>\n",
       "    <tr>\n",
       "      <th>15</th>\n",
       "      <td>user_16</td>\n",
       "      <td>167.83</td>\n",
       "    </tr>\n",
       "    <tr>\n",
       "      <th>16</th>\n",
       "      <td>user_17</td>\n",
       "      <td>181.03</td>\n",
       "    </tr>\n",
       "    <tr>\n",
       "      <th>17</th>\n",
       "      <td>user_18</td>\n",
       "      <td>180.93</td>\n",
       "    </tr>\n",
       "    <tr>\n",
       "      <th>18</th>\n",
       "      <td>user_19</td>\n",
       "      <td>175.02</td>\n",
       "    </tr>\n",
       "    <tr>\n",
       "      <th>19</th>\n",
       "      <td>user_20</td>\n",
       "      <td>171.93</td>\n",
       "    </tr>\n",
       "    <tr>\n",
       "      <th>20</th>\n",
       "      <td>user_21</td>\n",
       "      <td>173.69</td>\n",
       "    </tr>\n",
       "    <tr>\n",
       "      <th>21</th>\n",
       "      <td>user_22</td>\n",
       "      <td>177.45</td>\n",
       "    </tr>\n",
       "    <tr>\n",
       "      <th>22</th>\n",
       "      <td>user_23</td>\n",
       "      <td>165.32</td>\n",
       "    </tr>\n",
       "    <tr>\n",
       "      <th>23</th>\n",
       "      <td>user_24</td>\n",
       "      <td>175.88</td>\n",
       "    </tr>\n",
       "    <tr>\n",
       "      <th>24</th>\n",
       "      <td>user_25</td>\n",
       "      <td>163.73</td>\n",
       "    </tr>\n",
       "    <tr>\n",
       "      <th>25</th>\n",
       "      <td>user_26</td>\n",
       "      <td>166.81</td>\n",
       "    </tr>\n",
       "    <tr>\n",
       "      <th>26</th>\n",
       "      <td>user_27</td>\n",
       "      <td>174.54</td>\n",
       "    </tr>\n",
       "    <tr>\n",
       "      <th>27</th>\n",
       "      <td>user_28</td>\n",
       "      <td>162.86</td>\n",
       "    </tr>\n",
       "    <tr>\n",
       "      <th>28</th>\n",
       "      <td>user_29</td>\n",
       "      <td>169.30</td>\n",
       "    </tr>\n",
       "    <tr>\n",
       "      <th>29</th>\n",
       "      <td>user_30</td>\n",
       "      <td>165.69</td>\n",
       "    </tr>\n",
       "    <tr>\n",
       "      <th>30</th>\n",
       "      <td>user_31</td>\n",
       "      <td>168.72</td>\n",
       "    </tr>\n",
       "    <tr>\n",
       "      <th>31</th>\n",
       "      <td>user_32</td>\n",
       "      <td>156.01</td>\n",
       "    </tr>\n",
       "    <tr>\n",
       "      <th>32</th>\n",
       "      <td>user_33</td>\n",
       "      <td>161.14</td>\n",
       "    </tr>\n",
       "    <tr>\n",
       "      <th>33</th>\n",
       "      <td>user_34</td>\n",
       "      <td>166.50</td>\n",
       "    </tr>\n",
       "    <tr>\n",
       "      <th>34</th>\n",
       "      <td>user_35</td>\n",
       "      <td>174.64</td>\n",
       "    </tr>\n",
       "    <tr>\n",
       "      <th>35</th>\n",
       "      <td>user_36</td>\n",
       "      <td>169.13</td>\n",
       "    </tr>\n",
       "    <tr>\n",
       "      <th>36</th>\n",
       "      <td>user_37</td>\n",
       "      <td>170.01</td>\n",
       "    </tr>\n",
       "    <tr>\n",
       "      <th>37</th>\n",
       "      <td>user_38</td>\n",
       "      <td>173.44</td>\n",
       "    </tr>\n",
       "    <tr>\n",
       "      <th>38</th>\n",
       "      <td>user_39</td>\n",
       "      <td>165.60</td>\n",
       "    </tr>\n",
       "    <tr>\n",
       "      <th>39</th>\n",
       "      <td>user_40</td>\n",
       "      <td>171.42</td>\n",
       "    </tr>\n",
       "    <tr>\n",
       "      <th>40</th>\n",
       "      <td>user_41</td>\n",
       "      <td>165.97</td>\n",
       "    </tr>\n",
       "    <tr>\n",
       "      <th>41</th>\n",
       "      <td>user_42</td>\n",
       "      <td>161.36</td>\n",
       "    </tr>\n",
       "    <tr>\n",
       "      <th>42</th>\n",
       "      <td>user_43</td>\n",
       "      <td>168.05</td>\n",
       "    </tr>\n",
       "    <tr>\n",
       "      <th>43</th>\n",
       "      <td>user_44</td>\n",
       "      <td>172.87</td>\n",
       "    </tr>\n",
       "    <tr>\n",
       "      <th>44</th>\n",
       "      <td>user_45</td>\n",
       "      <td>171.69</td>\n",
       "    </tr>\n",
       "    <tr>\n",
       "      <th>45</th>\n",
       "      <td>user_46</td>\n",
       "      <td>169.94</td>\n",
       "    </tr>\n",
       "    <tr>\n",
       "      <th>46</th>\n",
       "      <td>user_47</td>\n",
       "      <td>181.96</td>\n",
       "    </tr>\n",
       "    <tr>\n",
       "      <th>47</th>\n",
       "      <td>user_48</td>\n",
       "      <td>172.06</td>\n",
       "    </tr>\n",
       "    <tr>\n",
       "      <th>48</th>\n",
       "      <td>user_49</td>\n",
       "      <td>174.89</td>\n",
       "    </tr>\n",
       "    <tr>\n",
       "      <th>49</th>\n",
       "      <td>user_50</td>\n",
       "      <td>181.19</td>\n",
       "    </tr>\n",
       "    <tr>\n",
       "      <th>50</th>\n",
       "      <td>user_51</td>\n",
       "      <td>163.53</td>\n",
       "    </tr>\n",
       "    <tr>\n",
       "      <th>51</th>\n",
       "      <td>user_52</td>\n",
       "      <td>164.81</td>\n",
       "    </tr>\n",
       "    <tr>\n",
       "      <th>52</th>\n",
       "      <td>user_53</td>\n",
       "      <td>178.72</td>\n",
       "    </tr>\n",
       "    <tr>\n",
       "      <th>53</th>\n",
       "      <td>user_54</td>\n",
       "      <td>166.01</td>\n",
       "    </tr>\n",
       "    <tr>\n",
       "      <th>54</th>\n",
       "      <td>user_55</td>\n",
       "      <td>170.15</td>\n",
       "    </tr>\n",
       "  </tbody>\n",
       "</table>\n",
       "</div>"
      ],
      "text/plain": [
       "         ID  height\n",
       "0    user_1  164.57\n",
       "1    user_2  174.99\n",
       "2    user_3  171.41\n",
       "3    user_4  162.47\n",
       "4    user_5  167.11\n",
       "5    user_6  178.26\n",
       "6    user_7  157.87\n",
       "7    user_8  167.86\n",
       "8    user_9  176.33\n",
       "9   user_10  165.67\n",
       "10  user_11  166.61\n",
       "11  user_12  169.53\n",
       "12  user_13  177.46\n",
       "13  user_14  166.81\n",
       "14  user_15  167.78\n",
       "15  user_16  167.83\n",
       "16  user_17  181.03\n",
       "17  user_18  180.93\n",
       "18  user_19  175.02\n",
       "19  user_20  171.93\n",
       "20  user_21  173.69\n",
       "21  user_22  177.45\n",
       "22  user_23  165.32\n",
       "23  user_24  175.88\n",
       "24  user_25  163.73\n",
       "25  user_26  166.81\n",
       "26  user_27  174.54\n",
       "27  user_28  162.86\n",
       "28  user_29  169.30\n",
       "29  user_30  165.69\n",
       "30  user_31  168.72\n",
       "31  user_32  156.01\n",
       "32  user_33  161.14\n",
       "33  user_34  166.50\n",
       "34  user_35  174.64\n",
       "35  user_36  169.13\n",
       "36  user_37  170.01\n",
       "37  user_38  173.44\n",
       "38  user_39  165.60\n",
       "39  user_40  171.42\n",
       "40  user_41  165.97\n",
       "41  user_42  161.36\n",
       "42  user_43  168.05\n",
       "43  user_44  172.87\n",
       "44  user_45  171.69\n",
       "45  user_46  169.94\n",
       "46  user_47  181.96\n",
       "47  user_48  172.06\n",
       "48  user_49  174.89\n",
       "49  user_50  181.19\n",
       "50  user_51  163.53\n",
       "51  user_52  164.81\n",
       "52  user_53  178.72\n",
       "53  user_54  166.01\n",
       "54  user_55  170.15"
      ]
     },
     "execution_count": 1,
     "metadata": {},
     "output_type": "execute_result"
    }
   ],
   "source": [
    "import pandas as pd \n",
    "df= pd.read_csv('https://raw.githubusercontent.com/Datamanim/datarepo/main/krdatacertificate/e5_p3_1.csv')\n",
    "df"
   ]
  },
  {
   "cell_type": "markdown",
   "id": "62442c1d",
   "metadata": {},
   "source": [
    "## 55명 학생들의 키에 대한 표본 평균을 구하여라(반올림하여 소숫점 3째자리까지"
   ]
  },
  {
   "cell_type": "code",
   "execution_count": 2,
   "id": "7ce1abfa",
   "metadata": {},
   "outputs": [
    {
     "name": "stdout",
     "output_type": "stream",
     "text": [
      "<class 'pandas.core.frame.DataFrame'>\n",
      "RangeIndex: 55 entries, 0 to 54\n",
      "Data columns (total 2 columns):\n",
      " #   Column  Non-Null Count  Dtype  \n",
      "---  ------  --------------  -----  \n",
      " 0   ID      55 non-null     object \n",
      " 1   height  55 non-null     float64\n",
      "dtypes: float64(1), object(1)\n",
      "memory usage: 1008.0+ bytes\n"
     ]
    }
   ],
   "source": [
    "df.info()"
   ]
  },
  {
   "cell_type": "code",
   "execution_count": 3,
   "id": "1fe0d380",
   "metadata": {},
   "outputs": [],
   "source": [
    "import numpy as np"
   ]
  },
  {
   "cell_type": "code",
   "execution_count": 4,
   "id": "38da7901",
   "metadata": {},
   "outputs": [
    {
     "data": {
      "text/plain": [
       "169.937"
      ]
     },
     "execution_count": 4,
     "metadata": {},
     "output_type": "execute_result"
    }
   ],
   "source": [
    "mean = round(np.mean(df['height']),3)\n",
    "mean"
   ]
  },
  {
   "cell_type": "markdown",
   "id": "c708cbbf",
   "metadata": {},
   "source": [
    "## t분포 양쪽 꼬리에서의 t 값을 구하여라 (반올림하여 소수4째자리까지)"
   ]
  },
  {
   "cell_type": "code",
   "execution_count": 5,
   "id": "567522f9",
   "metadata": {},
   "outputs": [],
   "source": [
    "import numpy as np\n",
    "from scipy.stats import t"
   ]
  },
  {
   "cell_type": "code",
   "execution_count": 6,
   "id": "737e0ee8",
   "metadata": {},
   "outputs": [
    {
     "data": {
      "text/plain": [
       "5.977625087231691"
      ]
     },
     "execution_count": 6,
     "metadata": {},
     "output_type": "execute_result"
    }
   ],
   "source": [
    "#ddof 기본값 = 0, ddof =1은 (n-1)로 나눌 것을 의미함\n",
    "std = np.std(df['height'], ddof=1)\n",
    "std"
   ]
  },
  {
   "cell_type": "code",
   "execution_count": 7,
   "id": "c05b015e",
   "metadata": {},
   "outputs": [
    {
     "data": {
      "text/plain": [
       "55"
      ]
     },
     "execution_count": 7,
     "metadata": {},
     "output_type": "execute_result"
    }
   ],
   "source": [
    "n = len(df['height'])\n",
    "n"
   ]
  },
  {
   "cell_type": "code",
   "execution_count": 8,
   "id": "2547cba7",
   "metadata": {},
   "outputs": [],
   "source": [
    "# 신뢰수준, 자유도\n",
    "confidence_level = 0.95\n",
    "# 95%의 신뢰 구간을 구하기 때문에\n",
    "ddof = n - 1"
   ]
  },
  {
   "cell_type": "code",
   "execution_count": 9,
   "id": "6d2a7262",
   "metadata": {},
   "outputs": [
    {
     "name": "stdout",
     "output_type": "stream",
     "text": [
      "2.0049\n"
     ]
    }
   ],
   "source": [
    "# ppf : 누적분포함수(cdf)의 역함수로 확률(%)를 넣어 t값을 구할 수 있다.\n",
    "# cdf : 누적분포함수로 t값을 넣어 확률을 구할 수 있다.\n",
    "# t 분포의 양쪽 꼬리에서의 t값을 구할 때 (1 + confidence_level) / 2을 넣어 t값을 계산한다\n",
    "t_value = round(t.ppf((1 + confidence_level) / 2, ddof),4)\n",
    "print(t_value)"
   ]
  },
  {
   "cell_type": "markdown",
   "id": "c48f0438",
   "metadata": {},
   "source": [
    "## 95% 신뢰구간을 구하여라(print(lower,upper) 방식으로 출력, 각각의 값은 소숫점 이하 3째자리까지)"
   ]
  },
  {
   "cell_type": "code",
   "execution_count": 10,
   "id": "24ce952c",
   "metadata": {},
   "outputs": [
    {
     "name": "stdout",
     "output_type": "stream",
     "text": [
      "168.321 171.553\n"
     ]
    }
   ],
   "source": [
    "# 신뢰구간 계산\n",
    "# 신뢰구간 : 표본평균 +- t값 * 표준편차/루트(표본 수)\n",
    "lower = round(mean - t_value * std / np.sqrt(n),3)\n",
    "upper = round(mean + t_value * std / np.sqrt(n),3)\n",
    "print(lower,upper)"
   ]
  },
  {
   "cell_type": "code",
   "execution_count": null,
   "id": "8c67a00e",
   "metadata": {},
   "outputs": [],
   "source": []
  },
  {
   "cell_type": "code",
   "execution_count": null,
   "id": "90d61174",
   "metadata": {},
   "outputs": [],
   "source": []
  },
  {
   "cell_type": "markdown",
   "id": "74b9ca6d",
   "metadata": {},
   "source": [
    "A,B,C 세 공장에서 생산한 동일한 제품의 길이 데이터 이다.\n",
    "<br>\n",
    "DataUrl = https://raw.githubusercontent.com/Datamanim/datarepo/main/krdatacertificate/e5_p3_2.csv\n",
    "<br>\n",
    "공장간의 제품 길이 차이가 유의미한지 확인 하려한다."
   ]
  },
  {
   "cell_type": "code",
   "execution_count": 11,
   "id": "485147a9",
   "metadata": {
    "scrolled": true
   },
   "outputs": [
    {
     "data": {
      "text/html": [
       "<div>\n",
       "<style scoped>\n",
       "    .dataframe tbody tr th:only-of-type {\n",
       "        vertical-align: middle;\n",
       "    }\n",
       "\n",
       "    .dataframe tbody tr th {\n",
       "        vertical-align: top;\n",
       "    }\n",
       "\n",
       "    .dataframe thead th {\n",
       "        text-align: right;\n",
       "    }\n",
       "</style>\n",
       "<table border=\"1\" class=\"dataframe\">\n",
       "  <thead>\n",
       "    <tr style=\"text-align: right;\">\n",
       "      <th></th>\n",
       "      <th>ID</th>\n",
       "      <th>value</th>\n",
       "    </tr>\n",
       "  </thead>\n",
       "  <tbody>\n",
       "    <tr>\n",
       "      <th>0</th>\n",
       "      <td>A</td>\n",
       "      <td>84.179434</td>\n",
       "    </tr>\n",
       "    <tr>\n",
       "      <th>1</th>\n",
       "      <td>A</td>\n",
       "      <td>93.971003</td>\n",
       "    </tr>\n",
       "    <tr>\n",
       "      <th>2</th>\n",
       "      <td>A</td>\n",
       "      <td>62.140957</td>\n",
       "    </tr>\n",
       "    <tr>\n",
       "      <th>3</th>\n",
       "      <td>A</td>\n",
       "      <td>72.911723</td>\n",
       "    </tr>\n",
       "    <tr>\n",
       "      <th>4</th>\n",
       "      <td>A</td>\n",
       "      <td>79.252747</td>\n",
       "    </tr>\n",
       "    <tr>\n",
       "      <th>5</th>\n",
       "      <td>A</td>\n",
       "      <td>72.249832</td>\n",
       "    </tr>\n",
       "    <tr>\n",
       "      <th>6</th>\n",
       "      <td>A</td>\n",
       "      <td>78.502021</td>\n",
       "    </tr>\n",
       "    <tr>\n",
       "      <th>7</th>\n",
       "      <td>A</td>\n",
       "      <td>98.617290</td>\n",
       "    </tr>\n",
       "    <tr>\n",
       "      <th>8</th>\n",
       "      <td>A</td>\n",
       "      <td>65.744707</td>\n",
       "    </tr>\n",
       "    <tr>\n",
       "      <th>9</th>\n",
       "      <td>A</td>\n",
       "      <td>76.236433</td>\n",
       "    </tr>\n",
       "    <tr>\n",
       "      <th>10</th>\n",
       "      <td>B</td>\n",
       "      <td>71.577246</td>\n",
       "    </tr>\n",
       "    <tr>\n",
       "      <th>11</th>\n",
       "      <td>B</td>\n",
       "      <td>77.949076</td>\n",
       "    </tr>\n",
       "    <tr>\n",
       "      <th>12</th>\n",
       "      <td>B</td>\n",
       "      <td>66.626763</td>\n",
       "    </tr>\n",
       "    <tr>\n",
       "      <th>13</th>\n",
       "      <td>B</td>\n",
       "      <td>84.521877</td>\n",
       "    </tr>\n",
       "    <tr>\n",
       "      <th>14</th>\n",
       "      <td>B</td>\n",
       "      <td>88.293166</td>\n",
       "    </tr>\n",
       "    <tr>\n",
       "      <th>15</th>\n",
       "      <td>B</td>\n",
       "      <td>80.246525</td>\n",
       "    </tr>\n",
       "    <tr>\n",
       "      <th>16</th>\n",
       "      <td>B</td>\n",
       "      <td>73.519000</td>\n",
       "    </tr>\n",
       "    <tr>\n",
       "      <th>17</th>\n",
       "      <td>B</td>\n",
       "      <td>83.895319</td>\n",
       "    </tr>\n",
       "    <tr>\n",
       "      <th>18</th>\n",
       "      <td>B</td>\n",
       "      <td>76.244465</td>\n",
       "    </tr>\n",
       "    <tr>\n",
       "      <th>19</th>\n",
       "      <td>B</td>\n",
       "      <td>84.910925</td>\n",
       "    </tr>\n",
       "    <tr>\n",
       "      <th>20</th>\n",
       "      <td>C</td>\n",
       "      <td>85.351467</td>\n",
       "    </tr>\n",
       "    <tr>\n",
       "      <th>21</th>\n",
       "      <td>C</td>\n",
       "      <td>87.620708</td>\n",
       "    </tr>\n",
       "    <tr>\n",
       "      <th>22</th>\n",
       "      <td>C</td>\n",
       "      <td>86.432017</td>\n",
       "    </tr>\n",
       "    <tr>\n",
       "      <th>23</th>\n",
       "      <td>C</td>\n",
       "      <td>94.010172</td>\n",
       "    </tr>\n",
       "    <tr>\n",
       "      <th>24</th>\n",
       "      <td>C</td>\n",
       "      <td>87.318586</td>\n",
       "    </tr>\n",
       "    <tr>\n",
       "      <th>25</th>\n",
       "      <td>C</td>\n",
       "      <td>77.027421</td>\n",
       "    </tr>\n",
       "    <tr>\n",
       "      <th>26</th>\n",
       "      <td>C</td>\n",
       "      <td>86.200101</td>\n",
       "    </tr>\n",
       "    <tr>\n",
       "      <th>27</th>\n",
       "      <td>C</td>\n",
       "      <td>78.432039</td>\n",
       "    </tr>\n",
       "    <tr>\n",
       "      <th>28</th>\n",
       "      <td>C</td>\n",
       "      <td>87.691746</td>\n",
       "    </tr>\n",
       "    <tr>\n",
       "      <th>29</th>\n",
       "      <td>C</td>\n",
       "      <td>88.336670</td>\n",
       "    </tr>\n",
       "  </tbody>\n",
       "</table>\n",
       "</div>"
      ],
      "text/plain": [
       "   ID      value\n",
       "0   A  84.179434\n",
       "1   A  93.971003\n",
       "2   A  62.140957\n",
       "3   A  72.911723\n",
       "4   A  79.252747\n",
       "5   A  72.249832\n",
       "6   A  78.502021\n",
       "7   A  98.617290\n",
       "8   A  65.744707\n",
       "9   A  76.236433\n",
       "10  B  71.577246\n",
       "11  B  77.949076\n",
       "12  B  66.626763\n",
       "13  B  84.521877\n",
       "14  B  88.293166\n",
       "15  B  80.246525\n",
       "16  B  73.519000\n",
       "17  B  83.895319\n",
       "18  B  76.244465\n",
       "19  B  84.910925\n",
       "20  C  85.351467\n",
       "21  C  87.620708\n",
       "22  C  86.432017\n",
       "23  C  94.010172\n",
       "24  C  87.318586\n",
       "25  C  77.027421\n",
       "26  C  86.200101\n",
       "27  C  78.432039\n",
       "28  C  87.691746\n",
       "29  C  88.336670"
      ]
     },
     "execution_count": 11,
     "metadata": {},
     "output_type": "execute_result"
    }
   ],
   "source": [
    "import pandas as pd \n",
    "df= pd.read_csv('https://raw.githubusercontent.com/Datamanim/datarepo/main/krdatacertificate/e5_p3_2.csv')\n",
    "df"
   ]
  },
  {
   "cell_type": "markdown",
   "id": "1a48891f",
   "metadata": {},
   "source": [
    "## 3 그룹의 데이터에 대해 크루스칼-왈리스 검정을 사용하여 검정 통계량을 반올림하여 소숫점 이하 3자리까지 구하여라"
   ]
  },
  {
   "cell_type": "code",
   "execution_count": 12,
   "id": "57c72add",
   "metadata": {},
   "outputs": [],
   "source": [
    "from scipy.stats import kruskal\n",
    "a = df[df['ID'] =='A']['value'].values\n",
    "b = df[df['ID'] =='B']['value'].values\n",
    "c = df[df['ID'] =='C']['value'].values"
   ]
  },
  {
   "cell_type": "code",
   "execution_count": 13,
   "id": "0729b375",
   "metadata": {},
   "outputs": [],
   "source": [
    "# kruskal()의 리턴값 : 검정통계량, p_value\n",
    "s,p = kruskal(a,b,c)"
   ]
  },
  {
   "cell_type": "code",
   "execution_count": 14,
   "id": "bcf59ee2",
   "metadata": {},
   "outputs": [
    {
     "data": {
      "text/plain": [
       "6.52129032258064"
      ]
     },
     "execution_count": 14,
     "metadata": {},
     "output_type": "execute_result"
    }
   ],
   "source": [
    "s # 검정통계량"
   ]
  },
  {
   "cell_type": "code",
   "execution_count": 15,
   "id": "b18fd0a6",
   "metadata": {},
   "outputs": [
    {
     "data": {
      "text/plain": [
       "0.038363639296696686"
      ]
     },
     "execution_count": 15,
     "metadata": {},
     "output_type": "execute_result"
    }
   ],
   "source": [
    "p # p_value"
   ]
  },
  {
   "cell_type": "code",
   "execution_count": 16,
   "id": "f17fffc4",
   "metadata": {},
   "outputs": [
    {
     "name": "stdout",
     "output_type": "stream",
     "text": [
      "6.521\n"
     ]
    }
   ],
   "source": [
    "round_s = round(s,3)\n",
    "print(round_s)"
   ]
  },
  {
   "cell_type": "markdown",
   "id": "ad678636",
   "metadata": {},
   "source": [
    "## 3 그룹의 데이터에 대해 크루스칼-왈리스 검정을 사용하여 p-value를 반올림하여 소숫점 이하 3자리까지 구하여라. 귀무가설과 대립가설중 0.05 유의수준에서 유의한 가설을  출력하라"
   ]
  },
  {
   "cell_type": "code",
   "execution_count": 17,
   "id": "ab5951ff",
   "metadata": {},
   "outputs": [
    {
     "name": "stdout",
     "output_type": "stream",
     "text": [
      "0.038\n"
     ]
    }
   ],
   "source": [
    "round_p = round(p,3)\n",
    "print(round_p)"
   ]
  },
  {
   "cell_type": "code",
   "execution_count": 18,
   "id": "88a629a2",
   "metadata": {},
   "outputs": [
    {
     "name": "stdout",
     "output_type": "stream",
     "text": [
      "대립\n"
     ]
    }
   ],
   "source": [
    "if round_p >= 0.5:\n",
    "    print('귀무')\n",
    "elif round_p < 0.5:\n",
    "    print('대립')"
   ]
  }
 ],
 "metadata": {
  "kernelspec": {
   "display_name": "Python 3 (ipykernel)",
   "language": "python",
   "name": "python3"
  },
  "language_info": {
   "codemirror_mode": {
    "name": "ipython",
    "version": 3
   },
   "file_extension": ".py",
   "mimetype": "text/x-python",
   "name": "python",
   "nbconvert_exporter": "python",
   "pygments_lexer": "ipython3",
   "version": "3.9.12"
  }
 },
 "nbformat": 4,
 "nbformat_minor": 5
}
