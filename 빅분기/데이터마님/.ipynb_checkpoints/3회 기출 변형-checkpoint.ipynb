{
 "cells": [
  {
   "cell_type": "markdown",
   "id": "dd1d37f7",
   "metadata": {},
   "source": [
    "# 3유형"
   ]
  },
  {
   "cell_type": "markdown",
   "id": "5a98b66a",
   "metadata": {},
   "source": [
    "다이어트약의 전후 체중 변화 기록이다.\n",
    "<br>\n",
    "DataUrl = https://raw.githubusercontent.com/Datamanim/datarepo/main/krdatacertificate/e3_p3_1.csv\n",
    "<br>\n",
    "투약 후 체중에서 투약 전 체중을 뺏을 때 값은 일반 적으로 세가지 등급으로 나눈다.\n",
    "<br>\n",
    "-3이하 : A등급\n",
    "<br>\n",
    "-3초과 0이하 : B등급\n",
    "<br>\n",
    "0 초과 : C등급.\n",
    "<br>\n",
    "약 실험에서 A,B,C 그룹간의 인원 수 비율은 2:1:1로 알려져 있다.\n",
    "<br>\n",
    "위 데이터 표본은 각 범주의 비율에 적합한지 카이제곱 검정하려한다."
   ]
  },
  {
   "cell_type": "code",
   "execution_count": 1,
   "id": "11259514",
   "metadata": {},
   "outputs": [
    {
     "data": {
      "text/html": [
       "<div>\n",
       "<style scoped>\n",
       "    .dataframe tbody tr th:only-of-type {\n",
       "        vertical-align: middle;\n",
       "    }\n",
       "\n",
       "    .dataframe tbody tr th {\n",
       "        vertical-align: top;\n",
       "    }\n",
       "\n",
       "    .dataframe thead th {\n",
       "        text-align: right;\n",
       "    }\n",
       "</style>\n",
       "<table border=\"1\" class=\"dataframe\">\n",
       "  <thead>\n",
       "    <tr style=\"text-align: right;\">\n",
       "      <th></th>\n",
       "      <th>ID</th>\n",
       "      <th>투약전</th>\n",
       "      <th>투약후</th>\n",
       "    </tr>\n",
       "  </thead>\n",
       "  <tbody>\n",
       "    <tr>\n",
       "      <th>0</th>\n",
       "      <td>user_1</td>\n",
       "      <td>55.137</td>\n",
       "      <td>56.106</td>\n",
       "    </tr>\n",
       "    <tr>\n",
       "      <th>1</th>\n",
       "      <td>user_2</td>\n",
       "      <td>66.584</td>\n",
       "      <td>60.409</td>\n",
       "    </tr>\n",
       "    <tr>\n",
       "      <th>2</th>\n",
       "      <td>user_3</td>\n",
       "      <td>52.259</td>\n",
       "      <td>50.639</td>\n",
       "    </tr>\n",
       "    <tr>\n",
       "      <th>3</th>\n",
       "      <td>user_4</td>\n",
       "      <td>77.081</td>\n",
       "      <td>69.164</td>\n",
       "    </tr>\n",
       "    <tr>\n",
       "      <th>4</th>\n",
       "      <td>user_5</td>\n",
       "      <td>62.677</td>\n",
       "      <td>57.622</td>\n",
       "    </tr>\n",
       "    <tr>\n",
       "      <th>...</th>\n",
       "      <td>...</td>\n",
       "      <td>...</td>\n",
       "      <td>...</td>\n",
       "    </tr>\n",
       "    <tr>\n",
       "      <th>230</th>\n",
       "      <td>user_231</td>\n",
       "      <td>78.041</td>\n",
       "      <td>81.021</td>\n",
       "    </tr>\n",
       "    <tr>\n",
       "      <th>231</th>\n",
       "      <td>user_232</td>\n",
       "      <td>77.187</td>\n",
       "      <td>68.417</td>\n",
       "    </tr>\n",
       "    <tr>\n",
       "      <th>232</th>\n",
       "      <td>user_233</td>\n",
       "      <td>50.640</td>\n",
       "      <td>51.139</td>\n",
       "    </tr>\n",
       "    <tr>\n",
       "      <th>233</th>\n",
       "      <td>user_234</td>\n",
       "      <td>58.133</td>\n",
       "      <td>49.653</td>\n",
       "    </tr>\n",
       "    <tr>\n",
       "      <th>234</th>\n",
       "      <td>user_235</td>\n",
       "      <td>55.422</td>\n",
       "      <td>55.179</td>\n",
       "    </tr>\n",
       "  </tbody>\n",
       "</table>\n",
       "<p>235 rows × 3 columns</p>\n",
       "</div>"
      ],
      "text/plain": [
       "           ID     투약전     투약후\n",
       "0      user_1  55.137  56.106\n",
       "1      user_2  66.584  60.409\n",
       "2      user_3  52.259  50.639\n",
       "3      user_4  77.081  69.164\n",
       "4      user_5  62.677  57.622\n",
       "..        ...     ...     ...\n",
       "230  user_231  78.041  81.021\n",
       "231  user_232  77.187  68.417\n",
       "232  user_233  50.640  51.139\n",
       "233  user_234  58.133  49.653\n",
       "234  user_235  55.422  55.179\n",
       "\n",
       "[235 rows x 3 columns]"
      ]
     },
     "execution_count": 1,
     "metadata": {},
     "output_type": "execute_result"
    }
   ],
   "source": [
    "import pandas as pd \n",
    "df= pd.read_csv('https://raw.githubusercontent.com/Datamanim/datarepo/main/krdatacertificate/e3_p3_1.csv')\n",
    "df"
   ]
  },
  {
   "cell_type": "markdown",
   "id": "ada47550",
   "metadata": {},
   "source": [
    "## A등급에 해당하는 유저는 몇명인지 확인하라"
   ]
  },
  {
   "cell_type": "code",
   "execution_count": 2,
   "id": "29d5df37",
   "metadata": {},
   "outputs": [
    {
     "name": "stdout",
     "output_type": "stream",
     "text": [
      "<class 'pandas.core.frame.DataFrame'>\n",
      "RangeIndex: 235 entries, 0 to 234\n",
      "Data columns (total 3 columns):\n",
      " #   Column  Non-Null Count  Dtype  \n",
      "---  ------  --------------  -----  \n",
      " 0   ID      235 non-null    object \n",
      " 1   투약전     235 non-null    float64\n",
      " 2   투약후     235 non-null    float64\n",
      "dtypes: float64(2), object(1)\n",
      "memory usage: 5.6+ KB\n"
     ]
    }
   ],
   "source": [
    "df.info()"
   ]
  },
  {
   "cell_type": "code",
   "execution_count": 3,
   "id": "d8d4a5a3",
   "metadata": {},
   "outputs": [
    {
     "data": {
      "text/html": [
       "<div>\n",
       "<style scoped>\n",
       "    .dataframe tbody tr th:only-of-type {\n",
       "        vertical-align: middle;\n",
       "    }\n",
       "\n",
       "    .dataframe tbody tr th {\n",
       "        vertical-align: top;\n",
       "    }\n",
       "\n",
       "    .dataframe thead th {\n",
       "        text-align: right;\n",
       "    }\n",
       "</style>\n",
       "<table border=\"1\" class=\"dataframe\">\n",
       "  <thead>\n",
       "    <tr style=\"text-align: right;\">\n",
       "      <th></th>\n",
       "      <th>ID</th>\n",
       "      <th>투약전</th>\n",
       "      <th>투약후</th>\n",
       "      <th>변화</th>\n",
       "    </tr>\n",
       "  </thead>\n",
       "  <tbody>\n",
       "    <tr>\n",
       "      <th>0</th>\n",
       "      <td>user_1</td>\n",
       "      <td>55.137</td>\n",
       "      <td>56.106</td>\n",
       "      <td>0.969</td>\n",
       "    </tr>\n",
       "    <tr>\n",
       "      <th>1</th>\n",
       "      <td>user_2</td>\n",
       "      <td>66.584</td>\n",
       "      <td>60.409</td>\n",
       "      <td>-6.175</td>\n",
       "    </tr>\n",
       "    <tr>\n",
       "      <th>2</th>\n",
       "      <td>user_3</td>\n",
       "      <td>52.259</td>\n",
       "      <td>50.639</td>\n",
       "      <td>-1.620</td>\n",
       "    </tr>\n",
       "    <tr>\n",
       "      <th>3</th>\n",
       "      <td>user_4</td>\n",
       "      <td>77.081</td>\n",
       "      <td>69.164</td>\n",
       "      <td>-7.917</td>\n",
       "    </tr>\n",
       "    <tr>\n",
       "      <th>4</th>\n",
       "      <td>user_5</td>\n",
       "      <td>62.677</td>\n",
       "      <td>57.622</td>\n",
       "      <td>-5.055</td>\n",
       "    </tr>\n",
       "    <tr>\n",
       "      <th>...</th>\n",
       "      <td>...</td>\n",
       "      <td>...</td>\n",
       "      <td>...</td>\n",
       "      <td>...</td>\n",
       "    </tr>\n",
       "    <tr>\n",
       "      <th>230</th>\n",
       "      <td>user_231</td>\n",
       "      <td>78.041</td>\n",
       "      <td>81.021</td>\n",
       "      <td>2.980</td>\n",
       "    </tr>\n",
       "    <tr>\n",
       "      <th>231</th>\n",
       "      <td>user_232</td>\n",
       "      <td>77.187</td>\n",
       "      <td>68.417</td>\n",
       "      <td>-8.770</td>\n",
       "    </tr>\n",
       "    <tr>\n",
       "      <th>232</th>\n",
       "      <td>user_233</td>\n",
       "      <td>50.640</td>\n",
       "      <td>51.139</td>\n",
       "      <td>0.499</td>\n",
       "    </tr>\n",
       "    <tr>\n",
       "      <th>233</th>\n",
       "      <td>user_234</td>\n",
       "      <td>58.133</td>\n",
       "      <td>49.653</td>\n",
       "      <td>-8.480</td>\n",
       "    </tr>\n",
       "    <tr>\n",
       "      <th>234</th>\n",
       "      <td>user_235</td>\n",
       "      <td>55.422</td>\n",
       "      <td>55.179</td>\n",
       "      <td>-0.243</td>\n",
       "    </tr>\n",
       "  </tbody>\n",
       "</table>\n",
       "<p>235 rows × 4 columns</p>\n",
       "</div>"
      ],
      "text/plain": [
       "           ID     투약전     투약후     변화\n",
       "0      user_1  55.137  56.106  0.969\n",
       "1      user_2  66.584  60.409 -6.175\n",
       "2      user_3  52.259  50.639 -1.620\n",
       "3      user_4  77.081  69.164 -7.917\n",
       "4      user_5  62.677  57.622 -5.055\n",
       "..        ...     ...     ...    ...\n",
       "230  user_231  78.041  81.021  2.980\n",
       "231  user_232  77.187  68.417 -8.770\n",
       "232  user_233  50.640  51.139  0.499\n",
       "233  user_234  58.133  49.653 -8.480\n",
       "234  user_235  55.422  55.179 -0.243\n",
       "\n",
       "[235 rows x 4 columns]"
      ]
     },
     "execution_count": 3,
     "metadata": {},
     "output_type": "execute_result"
    }
   ],
   "source": [
    "df['변화'] = df['투약후'] - df['투약전']\n",
    "df"
   ]
  },
  {
   "cell_type": "code",
   "execution_count": 4,
   "id": "0460d6a3",
   "metadata": {},
   "outputs": [
    {
     "data": {
      "text/html": [
       "<div>\n",
       "<style scoped>\n",
       "    .dataframe tbody tr th:only-of-type {\n",
       "        vertical-align: middle;\n",
       "    }\n",
       "\n",
       "    .dataframe tbody tr th {\n",
       "        vertical-align: top;\n",
       "    }\n",
       "\n",
       "    .dataframe thead th {\n",
       "        text-align: right;\n",
       "    }\n",
       "</style>\n",
       "<table border=\"1\" class=\"dataframe\">\n",
       "  <thead>\n",
       "    <tr style=\"text-align: right;\">\n",
       "      <th></th>\n",
       "      <th>ID</th>\n",
       "      <th>투약전</th>\n",
       "      <th>투약후</th>\n",
       "      <th>변화</th>\n",
       "      <th>등급</th>\n",
       "    </tr>\n",
       "  </thead>\n",
       "  <tbody>\n",
       "    <tr>\n",
       "      <th>0</th>\n",
       "      <td>user_1</td>\n",
       "      <td>55.137</td>\n",
       "      <td>56.106</td>\n",
       "      <td>0.969</td>\n",
       "      <td>C</td>\n",
       "    </tr>\n",
       "    <tr>\n",
       "      <th>1</th>\n",
       "      <td>user_2</td>\n",
       "      <td>66.584</td>\n",
       "      <td>60.409</td>\n",
       "      <td>-6.175</td>\n",
       "      <td>A</td>\n",
       "    </tr>\n",
       "    <tr>\n",
       "      <th>2</th>\n",
       "      <td>user_3</td>\n",
       "      <td>52.259</td>\n",
       "      <td>50.639</td>\n",
       "      <td>-1.620</td>\n",
       "      <td>B</td>\n",
       "    </tr>\n",
       "    <tr>\n",
       "      <th>3</th>\n",
       "      <td>user_4</td>\n",
       "      <td>77.081</td>\n",
       "      <td>69.164</td>\n",
       "      <td>-7.917</td>\n",
       "      <td>A</td>\n",
       "    </tr>\n",
       "    <tr>\n",
       "      <th>4</th>\n",
       "      <td>user_5</td>\n",
       "      <td>62.677</td>\n",
       "      <td>57.622</td>\n",
       "      <td>-5.055</td>\n",
       "      <td>A</td>\n",
       "    </tr>\n",
       "    <tr>\n",
       "      <th>...</th>\n",
       "      <td>...</td>\n",
       "      <td>...</td>\n",
       "      <td>...</td>\n",
       "      <td>...</td>\n",
       "      <td>...</td>\n",
       "    </tr>\n",
       "    <tr>\n",
       "      <th>230</th>\n",
       "      <td>user_231</td>\n",
       "      <td>78.041</td>\n",
       "      <td>81.021</td>\n",
       "      <td>2.980</td>\n",
       "      <td>C</td>\n",
       "    </tr>\n",
       "    <tr>\n",
       "      <th>231</th>\n",
       "      <td>user_232</td>\n",
       "      <td>77.187</td>\n",
       "      <td>68.417</td>\n",
       "      <td>-8.770</td>\n",
       "      <td>A</td>\n",
       "    </tr>\n",
       "    <tr>\n",
       "      <th>232</th>\n",
       "      <td>user_233</td>\n",
       "      <td>50.640</td>\n",
       "      <td>51.139</td>\n",
       "      <td>0.499</td>\n",
       "      <td>C</td>\n",
       "    </tr>\n",
       "    <tr>\n",
       "      <th>233</th>\n",
       "      <td>user_234</td>\n",
       "      <td>58.133</td>\n",
       "      <td>49.653</td>\n",
       "      <td>-8.480</td>\n",
       "      <td>A</td>\n",
       "    </tr>\n",
       "    <tr>\n",
       "      <th>234</th>\n",
       "      <td>user_235</td>\n",
       "      <td>55.422</td>\n",
       "      <td>55.179</td>\n",
       "      <td>-0.243</td>\n",
       "      <td>B</td>\n",
       "    </tr>\n",
       "  </tbody>\n",
       "</table>\n",
       "<p>235 rows × 5 columns</p>\n",
       "</div>"
      ],
      "text/plain": [
       "           ID     투약전     투약후     변화 등급\n",
       "0      user_1  55.137  56.106  0.969  C\n",
       "1      user_2  66.584  60.409 -6.175  A\n",
       "2      user_3  52.259  50.639 -1.620  B\n",
       "3      user_4  77.081  69.164 -7.917  A\n",
       "4      user_5  62.677  57.622 -5.055  A\n",
       "..        ...     ...     ...    ... ..\n",
       "230  user_231  78.041  81.021  2.980  C\n",
       "231  user_232  77.187  68.417 -8.770  A\n",
       "232  user_233  50.640  51.139  0.499  C\n",
       "233  user_234  58.133  49.653 -8.480  A\n",
       "234  user_235  55.422  55.179 -0.243  B\n",
       "\n",
       "[235 rows x 5 columns]"
      ]
     },
     "execution_count": 4,
     "metadata": {},
     "output_type": "execute_result"
    }
   ],
   "source": [
    "def 등급(x):\n",
    "    if x <= -3:\n",
    "        return 'A'\n",
    "    elif x > -3 and x <= 0:\n",
    "        return 'B'\n",
    "    elif x > 0:\n",
    "        return 'C'\n",
    "\n",
    "df['등급'] = df['변화'].apply(등급)\n",
    "df"
   ]
  },
  {
   "cell_type": "code",
   "execution_count": 5,
   "id": "018556ce",
   "metadata": {},
   "outputs": [
    {
     "data": {
      "text/plain": [
       "121"
      ]
     },
     "execution_count": 5,
     "metadata": {},
     "output_type": "execute_result"
    }
   ],
   "source": [
    "df[df['등급'] == 'A'].shape[0]"
   ]
  },
  {
   "cell_type": "markdown",
   "id": "4591566b",
   "metadata": {},
   "source": [
    "## 카이제곱검정 통계량을 반올림하여 소숫점 이하 3째자리까지 구하여라"
   ]
  },
  {
   "cell_type": "code",
   "execution_count": 6,
   "id": "9e1b43b4",
   "metadata": {},
   "outputs": [],
   "source": [
    "# 약 실험에서 A,B,C 그룹간의 인원 수 비율은 2:1:1로 알려져 있다.\n",
    "# 위 데이터 표본은 각 범주의 비율에 적합한지 카이제곱 검정하려한다."
   ]
  },
  {
   "cell_type": "code",
   "execution_count": 7,
   "id": "6ed8008a",
   "metadata": {},
   "outputs": [],
   "source": [
    "# 적합도 검정을 위해 등급의 측정빈도수와 기대빈도수를 구한다."
   ]
  },
  {
   "cell_type": "code",
   "execution_count": 8,
   "id": "a2d63bf9",
   "metadata": {},
   "outputs": [
    {
     "data": {
      "text/html": [
       "<div>\n",
       "<style scoped>\n",
       "    .dataframe tbody tr th:only-of-type {\n",
       "        vertical-align: middle;\n",
       "    }\n",
       "\n",
       "    .dataframe tbody tr th {\n",
       "        vertical-align: top;\n",
       "    }\n",
       "\n",
       "    .dataframe thead th {\n",
       "        text-align: right;\n",
       "    }\n",
       "</style>\n",
       "<table border=\"1\" class=\"dataframe\">\n",
       "  <thead>\n",
       "    <tr style=\"text-align: right;\">\n",
       "      <th></th>\n",
       "      <th>측정빈도</th>\n",
       "    </tr>\n",
       "  </thead>\n",
       "  <tbody>\n",
       "    <tr>\n",
       "      <th>A</th>\n",
       "      <td>121</td>\n",
       "    </tr>\n",
       "    <tr>\n",
       "      <th>B</th>\n",
       "      <td>67</td>\n",
       "    </tr>\n",
       "    <tr>\n",
       "      <th>C</th>\n",
       "      <td>47</td>\n",
       "    </tr>\n",
       "  </tbody>\n",
       "</table>\n",
       "</div>"
      ],
      "text/plain": [
       "   측정빈도\n",
       "A   121\n",
       "B    67\n",
       "C    47"
      ]
     },
     "execution_count": 8,
     "metadata": {},
     "output_type": "execute_result"
    }
   ],
   "source": [
    "df1 = df['등급'].value_counts().sort_index().to_frame().rename(columns = {'등급':'측정빈도'})\n",
    "df1"
   ]
  },
  {
   "cell_type": "code",
   "execution_count": 9,
   "id": "c8777718",
   "metadata": {},
   "outputs": [
    {
     "data": {
      "text/plain": [
       "235"
      ]
     },
     "execution_count": 9,
     "metadata": {},
     "output_type": "execute_result"
    }
   ],
   "source": [
    "합 = len(df['등급'])\n",
    "합"
   ]
  },
  {
   "cell_type": "code",
   "execution_count": 10,
   "id": "3fab53f6",
   "metadata": {},
   "outputs": [
    {
     "data": {
      "text/html": [
       "<div>\n",
       "<style scoped>\n",
       "    .dataframe tbody tr th:only-of-type {\n",
       "        vertical-align: middle;\n",
       "    }\n",
       "\n",
       "    .dataframe tbody tr th {\n",
       "        vertical-align: top;\n",
       "    }\n",
       "\n",
       "    .dataframe thead th {\n",
       "        text-align: right;\n",
       "    }\n",
       "</style>\n",
       "<table border=\"1\" class=\"dataframe\">\n",
       "  <thead>\n",
       "    <tr style=\"text-align: right;\">\n",
       "      <th></th>\n",
       "      <th>측정빈도</th>\n",
       "      <th>기대빈도</th>\n",
       "    </tr>\n",
       "  </thead>\n",
       "  <tbody>\n",
       "    <tr>\n",
       "      <th>A</th>\n",
       "      <td>121</td>\n",
       "      <td>117.50</td>\n",
       "    </tr>\n",
       "    <tr>\n",
       "      <th>B</th>\n",
       "      <td>67</td>\n",
       "      <td>58.75</td>\n",
       "    </tr>\n",
       "    <tr>\n",
       "      <th>C</th>\n",
       "      <td>47</td>\n",
       "      <td>58.75</td>\n",
       "    </tr>\n",
       "  </tbody>\n",
       "</table>\n",
       "</div>"
      ],
      "text/plain": [
       "   측정빈도    기대빈도\n",
       "A   121  117.50\n",
       "B    67   58.75\n",
       "C    47   58.75"
      ]
     },
     "execution_count": 10,
     "metadata": {},
     "output_type": "execute_result"
    }
   ],
   "source": [
    "df1['기대빈도'] = [합*0.5,합*0.25,합*0.25]\n",
    "df1"
   ]
  },
  {
   "cell_type": "code",
   "execution_count": 11,
   "id": "b2939367",
   "metadata": {},
   "outputs": [],
   "source": [
    "from scipy.stats import chisquare"
   ]
  },
  {
   "cell_type": "code",
   "execution_count": 12,
   "id": "66aed49b",
   "metadata": {},
   "outputs": [],
   "source": [
    "chi_stat, p_value = chisquare(df1['측정빈도'],df1['기대빈도'])"
   ]
  },
  {
   "cell_type": "code",
   "execution_count": 13,
   "id": "e8b0a468",
   "metadata": {},
   "outputs": [
    {
     "data": {
      "text/plain": [
       "3.613"
      ]
     },
     "execution_count": 13,
     "metadata": {},
     "output_type": "execute_result"
    }
   ],
   "source": [
    "round(chi_stat,3)"
   ]
  },
  {
   "cell_type": "markdown",
   "id": "c8f8ee2f",
   "metadata": {},
   "source": [
    "## 카이제곱 검정 p값을 반올림하여 소숫점 이하 3자리까지 구하고, 유의수준 0.05하에서 귀무가설과 대립가설중 유의한 가설을 하나를 선택하시오(귀무/대립)"
   ]
  },
  {
   "cell_type": "code",
   "execution_count": 14,
   "id": "bf16cd05",
   "metadata": {},
   "outputs": [
    {
     "data": {
      "text/plain": [
       "0.164"
      ]
     },
     "execution_count": 14,
     "metadata": {},
     "output_type": "execute_result"
    }
   ],
   "source": [
    "p = round(p_value,3)\n",
    "p"
   ]
  },
  {
   "cell_type": "code",
   "execution_count": 15,
   "id": "d798b991",
   "metadata": {},
   "outputs": [
    {
     "name": "stdout",
     "output_type": "stream",
     "text": [
      "귀무\n"
     ]
    }
   ],
   "source": [
    "if p >= 0.05:\n",
    "    print('귀무')\n",
    "elif p < 0.05:\n",
    "    print('대립')"
   ]
  },
  {
   "cell_type": "code",
   "execution_count": null,
   "id": "906befc9",
   "metadata": {},
   "outputs": [],
   "source": []
  },
  {
   "cell_type": "code",
   "execution_count": null,
   "id": "a54dec1a",
   "metadata": {},
   "outputs": [],
   "source": []
  },
  {
   "cell_type": "markdown",
   "id": "dac9d229",
   "metadata": {},
   "source": [
    "다이어트약의 전후 체중 변화 기록이다.\n",
    "<br>\n",
    "DataUrl = https://raw.githubusercontent.com/Datamanim/datarepo/main/krdatacertificate/e3_p3_2.csv\n",
    "<br>\n",
    "A,B 공장에서 생산한 기계들의 rpm 값들을 기록한 데이터이다.\n",
    "<br>\n",
    "대응 표본 t 검정을 통해 B공장 제품들이 A 공장 제품들보다 rpm이 높다고 말할 수 있는지 검정하려한다"
   ]
  },
  {
   "cell_type": "markdown",
   "id": "53321c9c",
   "metadata": {},
   "source": [
    "## 참고자료\n",
    "https://blog.naver.com/pmw9440/222619230339\n",
    "<br>\n",
    "https://signature95.tistory.com/15\n",
    "<br>\n",
    "https://jae-eun-ai.tistory.com/48\n",
    "<br>\n",
    "https://rfriend.tistory.com/755\n",
    "<br>\n",
    "https://dding0-0.tistory.com/58"
   ]
  },
  {
   "cell_type": "code",
   "execution_count": 16,
   "id": "2356c15d",
   "metadata": {},
   "outputs": [
    {
     "data": {
      "text/html": [
       "<div>\n",
       "<style scoped>\n",
       "    .dataframe tbody tr th:only-of-type {\n",
       "        vertical-align: middle;\n",
       "    }\n",
       "\n",
       "    .dataframe tbody tr th {\n",
       "        vertical-align: top;\n",
       "    }\n",
       "\n",
       "    .dataframe thead th {\n",
       "        text-align: right;\n",
       "    }\n",
       "</style>\n",
       "<table border=\"1\" class=\"dataframe\">\n",
       "  <thead>\n",
       "    <tr style=\"text-align: right;\">\n",
       "      <th></th>\n",
       "      <th>rpm</th>\n",
       "      <th>group</th>\n",
       "    </tr>\n",
       "  </thead>\n",
       "  <tbody>\n",
       "    <tr>\n",
       "      <th>0</th>\n",
       "      <td>163.6</td>\n",
       "      <td>A</td>\n",
       "    </tr>\n",
       "    <tr>\n",
       "      <th>1</th>\n",
       "      <td>246.9</td>\n",
       "      <td>A</td>\n",
       "    </tr>\n",
       "    <tr>\n",
       "      <th>2</th>\n",
       "      <td>234.9</td>\n",
       "      <td>A</td>\n",
       "    </tr>\n",
       "    <tr>\n",
       "      <th>3</th>\n",
       "      <td>156.9</td>\n",
       "      <td>A</td>\n",
       "    </tr>\n",
       "    <tr>\n",
       "      <th>4</th>\n",
       "      <td>226.6</td>\n",
       "      <td>A</td>\n",
       "    </tr>\n",
       "    <tr>\n",
       "      <th>...</th>\n",
       "      <td>...</td>\n",
       "      <td>...</td>\n",
       "    </tr>\n",
       "    <tr>\n",
       "      <th>195</th>\n",
       "      <td>239.9</td>\n",
       "      <td>B</td>\n",
       "    </tr>\n",
       "    <tr>\n",
       "      <th>196</th>\n",
       "      <td>276.4</td>\n",
       "      <td>B</td>\n",
       "    </tr>\n",
       "    <tr>\n",
       "      <th>197</th>\n",
       "      <td>260.9</td>\n",
       "      <td>B</td>\n",
       "    </tr>\n",
       "    <tr>\n",
       "      <th>198</th>\n",
       "      <td>197.2</td>\n",
       "      <td>B</td>\n",
       "    </tr>\n",
       "    <tr>\n",
       "      <th>199</th>\n",
       "      <td>233.3</td>\n",
       "      <td>B</td>\n",
       "    </tr>\n",
       "  </tbody>\n",
       "</table>\n",
       "<p>200 rows × 2 columns</p>\n",
       "</div>"
      ],
      "text/plain": [
       "       rpm group\n",
       "0    163.6     A\n",
       "1    246.9     A\n",
       "2    234.9     A\n",
       "3    156.9     A\n",
       "4    226.6     A\n",
       "..     ...   ...\n",
       "195  239.9     B\n",
       "196  276.4     B\n",
       "197  260.9     B\n",
       "198  197.2     B\n",
       "199  233.3     B\n",
       "\n",
       "[200 rows x 2 columns]"
      ]
     },
     "execution_count": 16,
     "metadata": {},
     "output_type": "execute_result"
    }
   ],
   "source": [
    "import pandas as pd\n",
    "df = pd.read_csv('https://raw.githubusercontent.com/Datamanim/datarepo/main/krdatacertificate/e3_p3_2_.csv')\n",
    "df"
   ]
  },
  {
   "cell_type": "markdown",
   "id": "6bb2dccd",
   "metadata": {},
   "source": [
    "## A,B 공장 각각 정규성을 가지는지 샤피로 검정을 통해 확인하라. (각 공장의 pvalue 출력할 것)"
   ]
  },
  {
   "cell_type": "code",
   "execution_count": 17,
   "id": "5ef4e89b",
   "metadata": {},
   "outputs": [],
   "source": [
    "# Shapiro 검정은 가설검정의 방법으로 데이터가 정규분포를 가지는 지에 대해 검정하는 방법입니다. \n",
    "# H0 : F(x)는 정규분포이다.\n",
    "# H1 : F(x)는 정규분포가 아니다."
   ]
  },
  {
   "cell_type": "code",
   "execution_count": 18,
   "id": "2822027b",
   "metadata": {},
   "outputs": [],
   "source": [
    "from scipy.stats import shapiro"
   ]
  },
  {
   "cell_type": "code",
   "execution_count": 19,
   "id": "45c74c8d",
   "metadata": {},
   "outputs": [],
   "source": [
    "a = df[df['group']=='A']['rpm']\n",
    "b =  df[df['group']=='B']['rpm']"
   ]
  },
  {
   "cell_type": "code",
   "execution_count": 20,
   "id": "516fc9ab",
   "metadata": {},
   "outputs": [
    {
     "name": "stdout",
     "output_type": "stream",
     "text": [
      "ShapiroResult(statistic=0.9863898158073425, pvalue=0.397915244102478)\n",
      "ShapiroResult(statistic=0.9943944811820984, pvalue=0.9562830924987793)\n"
     ]
    }
   ],
   "source": [
    "# shapiro() 리턴 값 : 검정통계량, p_value\n",
    "print(shapiro(a)) #pvalue=0.397\n",
    "print(shapiro(b)) #pvalue=0.956"
   ]
  },
  {
   "cell_type": "markdown",
   "id": "a84259b1",
   "metadata": {},
   "source": [
    "## A,B 공장 생산 제품의 rpm은 등분산성을 가지는지 바틀렛 검정을 통해 확인하라. (각 공장의 pvalue 출력할 것)"
   ]
  },
  {
   "cell_type": "code",
   "execution_count": 21,
   "id": "e5af0a01",
   "metadata": {},
   "outputs": [],
   "source": [
    "# 등분산검정(Equal-variance test)은 두 정규성을 만족하는 데이터에서 생성된 두 개의 데이터 집합으로부터\n",
    "# 두 정규분포의 모분산이 같은지 확인하기 위한 검정이다.\n",
    "# 바틀렛(bartlett), 레빈(levene), 플리그너(fligner) 검정을 주로 사용한다. \n",
    "# 이는 scipy의 stats에서 이를 위한  bartlett, fligner, levene 명령을 제공한다.\n",
    "# H0 : 등분산성을 충족한다.\n",
    "# H1 : 등분산성을 충족하지 않는다.(이분산성)\n",
    "# 정규성을 충족하지 않는 비모수 데이터에 대해서는 levene 검정이 더 강건한 결과를 도출할 수 있다.\n",
    "# fligner도 Levene와 동일하나, 비모수 데이터에 더 강건하게 검정할 수 있는 방법이다."
   ]
  },
  {
   "cell_type": "code",
   "execution_count": 22,
   "id": "3969b318",
   "metadata": {},
   "outputs": [],
   "source": [
    "from scipy.stats import bartlett, levene, fligner #등분산성 검정"
   ]
  },
  {
   "cell_type": "code",
   "execution_count": 23,
   "id": "3f5ed3d8",
   "metadata": {},
   "outputs": [
    {
     "name": "stdout",
     "output_type": "stream",
     "text": [
      "BartlettResult(statistic=0.018038205297268895, pvalue=0.8931603037661102)\n",
      "LeveneResult(statistic=0.014634456943777612, pvalue=0.9038351280607142)\n",
      "FlignerResult(statistic=0.008636962277039265, pvalue=0.925954994697055)\n"
     ]
    }
   ],
   "source": [
    "# 리턴 값 : 검정통계량, p_value\n",
    "print(bartlett(a,b))\n",
    "print(levene(a,b))\n",
    "print(fligner(a,b))"
   ]
  },
  {
   "cell_type": "markdown",
   "id": "f0acc48b",
   "metadata": {},
   "source": [
    "## 대응 표본 t 검정을 통해 B공장 제품들의 rpm이 A 공장 제품의 rpm보다 크다고 말할 수 있는지 검정하라. pvalue를 소숫점 이하 3자리까지 출력하고 귀무가설, 대립가설 중 하나를 출력하라*"
   ]
  },
  {
   "cell_type": "code",
   "execution_count": 24,
   "id": "228439a1",
   "metadata": {},
   "outputs": [],
   "source": [
    "# ttest_1samp(표본,평균) : 단일 표본 t검정, 하나의 집단에 대한 표본평균이 예측된 평균과 같은지 여부 검정\n",
    "\n",
    "# ttest_ind(a,b) : 두 독립 표본 t검정, 독립된 두 표본에서 추출한 그룹의 평균 파이를 검정\n",
    "# ttest_ind()에서 equal_var= True가 기본값 (두 독립표본이 등분산성을 만족하면 기본값 그대로 사용)\n",
    "# 등분산성을 만족하지 못하는 2개의 그룹에 대한 ttest_ind()에는 equal_var=False 옵션을 추가합니다.\n",
    "\n",
    "# ttest_rel(a,b) : 대응 표본 t검정, 짝지어진 표본에서 평균 검정."
   ]
  },
  {
   "cell_type": "code",
   "execution_count": 25,
   "id": "c94d7eda",
   "metadata": {},
   "outputs": [],
   "source": [
    "from scipy.stats import ttest_1samp # 단일 표본 t검정\n",
    "from scipy.stats import ttest_ind # 두 독립 표본 t검정\n",
    "from scipy.stats import ttest_rel # 대응 표본 t검정"
   ]
  },
  {
   "cell_type": "code",
   "execution_count": 26,
   "id": "04929a97",
   "metadata": {},
   "outputs": [],
   "source": [
    "#alternative='two-sided' 기본 값\n",
    "# * 'two-sided' 차이가 있는지\n",
    "# * 'less': one-sided 더 작은지\n",
    "# * 'greater': one-sided 더 큰지\n",
    "# 인데 B가 A보다 큰지 검정하기에 greater사용\n",
    "# 리턴 값 : 검정통계량, p_value"
   ]
  },
  {
   "cell_type": "code",
   "execution_count": 27,
   "id": "fea98015",
   "metadata": {},
   "outputs": [
    {
     "name": "stdout",
     "output_type": "stream",
     "text": [
      "0.009\n"
     ]
    }
   ],
   "source": [
    "s , p =ttest_rel(b,a,alternative='greater')\n",
    "round_p = round(p,3)\n",
    "print(round_p)"
   ]
  },
  {
   "cell_type": "code",
   "execution_count": 28,
   "id": "41f3fc56",
   "metadata": {},
   "outputs": [
    {
     "name": "stdout",
     "output_type": "stream",
     "text": [
      "대립\n"
     ]
    }
   ],
   "source": [
    "if round_p >= 0.05:\n",
    "    print('귀무')\n",
    "elif round_p < 0.05:\n",
    "    print('대립')"
   ]
  }
 ],
 "metadata": {
  "kernelspec": {
   "display_name": "Python 3 (ipykernel)",
   "language": "python",
   "name": "python3"
  },
  "language_info": {
   "codemirror_mode": {
    "name": "ipython",
    "version": 3
   },
   "file_extension": ".py",
   "mimetype": "text/x-python",
   "name": "python",
   "nbconvert_exporter": "python",
   "pygments_lexer": "ipython3",
   "version": "3.9.12"
  }
 },
 "nbformat": 4,
 "nbformat_minor": 5
}
