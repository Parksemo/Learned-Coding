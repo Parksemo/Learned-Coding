{
 "cells": [
  {
   "cell_type": "markdown",
   "id": "64651ea5",
   "metadata": {},
   "source": [
    "# 3유형"
   ]
  },
  {
   "cell_type": "markdown",
   "id": "6e0727f5",
   "metadata": {},
   "source": [
    "어느 호수에서 잡은 물고기 122마리 길이 데이터(자체제작)\n",
    "<br>\n",
    "DataUrl = https://raw.githubusercontent.com/Datamanim/datarepo/main/krdatacertificate/e2_p3_1.csv"
   ]
  },
  {
   "cell_type": "code",
   "execution_count": 1,
   "id": "75feb0af",
   "metadata": {},
   "outputs": [
    {
     "data": {
      "text/html": [
       "<div>\n",
       "<style scoped>\n",
       "    .dataframe tbody tr th:only-of-type {\n",
       "        vertical-align: middle;\n",
       "    }\n",
       "\n",
       "    .dataframe tbody tr th {\n",
       "        vertical-align: top;\n",
       "    }\n",
       "\n",
       "    .dataframe thead th {\n",
       "        text-align: right;\n",
       "    }\n",
       "</style>\n",
       "<table border=\"1\" class=\"dataframe\">\n",
       "  <thead>\n",
       "    <tr style=\"text-align: right;\">\n",
       "      <th></th>\n",
       "      <th>fish</th>\n",
       "      <th>height</th>\n",
       "    </tr>\n",
       "  </thead>\n",
       "  <tbody>\n",
       "    <tr>\n",
       "      <th>0</th>\n",
       "      <td>fish_1</td>\n",
       "      <td>33.74cm</td>\n",
       "    </tr>\n",
       "    <tr>\n",
       "      <th>1</th>\n",
       "      <td>fish_2</td>\n",
       "      <td>31.64cm</td>\n",
       "    </tr>\n",
       "    <tr>\n",
       "      <th>2</th>\n",
       "      <td>fish_3</td>\n",
       "      <td>27.49cm</td>\n",
       "    </tr>\n",
       "    <tr>\n",
       "      <th>3</th>\n",
       "      <td>fish_4</td>\n",
       "      <td>31.43cm</td>\n",
       "    </tr>\n",
       "    <tr>\n",
       "      <th>4</th>\n",
       "      <td>fish_5</td>\n",
       "      <td>27.56cm</td>\n",
       "    </tr>\n",
       "    <tr>\n",
       "      <th>...</th>\n",
       "      <td>...</td>\n",
       "      <td>...</td>\n",
       "    </tr>\n",
       "    <tr>\n",
       "      <th>117</th>\n",
       "      <td>fish_118</td>\n",
       "      <td>28.11cm</td>\n",
       "    </tr>\n",
       "    <tr>\n",
       "      <th>118</th>\n",
       "      <td>fish_119</td>\n",
       "      <td>27.67cm</td>\n",
       "    </tr>\n",
       "    <tr>\n",
       "      <th>119</th>\n",
       "      <td>fish_120</td>\n",
       "      <td>27.12cm</td>\n",
       "    </tr>\n",
       "    <tr>\n",
       "      <th>120</th>\n",
       "      <td>fish_121</td>\n",
       "      <td>28.68cm</td>\n",
       "    </tr>\n",
       "    <tr>\n",
       "      <th>121</th>\n",
       "      <td>fish_122</td>\n",
       "      <td>32.2cm</td>\n",
       "    </tr>\n",
       "  </tbody>\n",
       "</table>\n",
       "<p>122 rows × 2 columns</p>\n",
       "</div>"
      ],
      "text/plain": [
       "         fish   height\n",
       "0      fish_1  33.74cm\n",
       "1      fish_2  31.64cm\n",
       "2      fish_3  27.49cm\n",
       "3      fish_4  31.43cm\n",
       "4      fish_5  27.56cm\n",
       "..        ...      ...\n",
       "117  fish_118  28.11cm\n",
       "118  fish_119  27.67cm\n",
       "119  fish_120  27.12cm\n",
       "120  fish_121  28.68cm\n",
       "121  fish_122   32.2cm\n",
       "\n",
       "[122 rows x 2 columns]"
      ]
     },
     "execution_count": 1,
     "metadata": {},
     "output_type": "execute_result"
    }
   ],
   "source": [
    "import pandas as pd\n",
    "df = pd.read_csv('https://raw.githubusercontent.com/Datamanim/datarepo/main/krdatacertificate/e2_p3_1.csv')\n",
    "df"
   ]
  },
  {
   "cell_type": "markdown",
   "id": "cda67ab2",
   "metadata": {},
   "source": [
    "## 122마리의 height 평균값을 m(미터) 단위로 소숫점 이하 5자리까지 실수 값만 출력하라"
   ]
  },
  {
   "cell_type": "code",
   "execution_count": 2,
   "id": "8372ead5",
   "metadata": {},
   "outputs": [],
   "source": [
    "#데이터 상에선 단위가 cm이고 str 형태이기때문에 변환 과정이 필요"
   ]
  },
  {
   "cell_type": "code",
   "execution_count": 3,
   "id": "818fd522",
   "metadata": {},
   "outputs": [
    {
     "name": "stdout",
     "output_type": "stream",
     "text": [
      "<class 'pandas.core.frame.DataFrame'>\n",
      "RangeIndex: 122 entries, 0 to 121\n",
      "Data columns (total 2 columns):\n",
      " #   Column  Non-Null Count  Dtype \n",
      "---  ------  --------------  ----- \n",
      " 0   fish    122 non-null    object\n",
      " 1   height  122 non-null    object\n",
      "dtypes: object(2)\n",
      "memory usage: 2.0+ KB\n"
     ]
    }
   ],
   "source": [
    "df.info()"
   ]
  },
  {
   "cell_type": "code",
   "execution_count": 4,
   "id": "62f1bc26",
   "metadata": {},
   "outputs": [],
   "source": [
    "df['height(m)'] = df['height'].str.replace('cm','')\n",
    "df['height(m)'] = df['height(m)'].astype('float') / 100"
   ]
  },
  {
   "cell_type": "code",
   "execution_count": 5,
   "id": "1a403333",
   "metadata": {},
   "outputs": [
    {
     "data": {
      "text/html": [
       "<div>\n",
       "<style scoped>\n",
       "    .dataframe tbody tr th:only-of-type {\n",
       "        vertical-align: middle;\n",
       "    }\n",
       "\n",
       "    .dataframe tbody tr th {\n",
       "        vertical-align: top;\n",
       "    }\n",
       "\n",
       "    .dataframe thead th {\n",
       "        text-align: right;\n",
       "    }\n",
       "</style>\n",
       "<table border=\"1\" class=\"dataframe\">\n",
       "  <thead>\n",
       "    <tr style=\"text-align: right;\">\n",
       "      <th></th>\n",
       "      <th>fish</th>\n",
       "      <th>height</th>\n",
       "      <th>height(m)</th>\n",
       "    </tr>\n",
       "  </thead>\n",
       "  <tbody>\n",
       "    <tr>\n",
       "      <th>0</th>\n",
       "      <td>fish_1</td>\n",
       "      <td>33.74cm</td>\n",
       "      <td>0.3374</td>\n",
       "    </tr>\n",
       "    <tr>\n",
       "      <th>1</th>\n",
       "      <td>fish_2</td>\n",
       "      <td>31.64cm</td>\n",
       "      <td>0.3164</td>\n",
       "    </tr>\n",
       "    <tr>\n",
       "      <th>2</th>\n",
       "      <td>fish_3</td>\n",
       "      <td>27.49cm</td>\n",
       "      <td>0.2749</td>\n",
       "    </tr>\n",
       "    <tr>\n",
       "      <th>3</th>\n",
       "      <td>fish_4</td>\n",
       "      <td>31.43cm</td>\n",
       "      <td>0.3143</td>\n",
       "    </tr>\n",
       "    <tr>\n",
       "      <th>4</th>\n",
       "      <td>fish_5</td>\n",
       "      <td>27.56cm</td>\n",
       "      <td>0.2756</td>\n",
       "    </tr>\n",
       "    <tr>\n",
       "      <th>...</th>\n",
       "      <td>...</td>\n",
       "      <td>...</td>\n",
       "      <td>...</td>\n",
       "    </tr>\n",
       "    <tr>\n",
       "      <th>117</th>\n",
       "      <td>fish_118</td>\n",
       "      <td>28.11cm</td>\n",
       "      <td>0.2811</td>\n",
       "    </tr>\n",
       "    <tr>\n",
       "      <th>118</th>\n",
       "      <td>fish_119</td>\n",
       "      <td>27.67cm</td>\n",
       "      <td>0.2767</td>\n",
       "    </tr>\n",
       "    <tr>\n",
       "      <th>119</th>\n",
       "      <td>fish_120</td>\n",
       "      <td>27.12cm</td>\n",
       "      <td>0.2712</td>\n",
       "    </tr>\n",
       "    <tr>\n",
       "      <th>120</th>\n",
       "      <td>fish_121</td>\n",
       "      <td>28.68cm</td>\n",
       "      <td>0.2868</td>\n",
       "    </tr>\n",
       "    <tr>\n",
       "      <th>121</th>\n",
       "      <td>fish_122</td>\n",
       "      <td>32.2cm</td>\n",
       "      <td>0.3220</td>\n",
       "    </tr>\n",
       "  </tbody>\n",
       "</table>\n",
       "<p>122 rows × 3 columns</p>\n",
       "</div>"
      ],
      "text/plain": [
       "         fish   height  height(m)\n",
       "0      fish_1  33.74cm     0.3374\n",
       "1      fish_2  31.64cm     0.3164\n",
       "2      fish_3  27.49cm     0.2749\n",
       "3      fish_4  31.43cm     0.3143\n",
       "4      fish_5  27.56cm     0.2756\n",
       "..        ...      ...        ...\n",
       "117  fish_118  28.11cm     0.2811\n",
       "118  fish_119  27.67cm     0.2767\n",
       "119  fish_120  27.12cm     0.2712\n",
       "120  fish_121  28.68cm     0.2868\n",
       "121  fish_122   32.2cm     0.3220\n",
       "\n",
       "[122 rows x 3 columns]"
      ]
     },
     "execution_count": 5,
     "metadata": {},
     "output_type": "execute_result"
    }
   ],
   "source": [
    "df"
   ]
  },
  {
   "cell_type": "code",
   "execution_count": 6,
   "id": "c295d720",
   "metadata": {},
   "outputs": [],
   "source": [
    "import numpy as np"
   ]
  },
  {
   "cell_type": "code",
   "execution_count": 7,
   "id": "c4d119ac",
   "metadata": {},
   "outputs": [
    {
     "data": {
      "text/plain": [
       "0.29951"
      ]
     },
     "execution_count": 7,
     "metadata": {},
     "output_type": "execute_result"
    }
   ],
   "source": [
    "round(np.mean(df['height(m)']),5)"
   ]
  },
  {
   "cell_type": "markdown",
   "id": "358ea50d",
   "metadata": {},
   "source": [
    "## 모집단의 평균 길이가 30cm 인지 확인하려 일표본 t 검정을 시행하여 확인하려한다. 검정통계량을 소숫점 이하 3째자리까지 구하여라"
   ]
  },
  {
   "cell_type": "code",
   "execution_count": 8,
   "id": "fe70fb64",
   "metadata": {},
   "outputs": [],
   "source": [
    "from scipy.stats import ttest_1samp"
   ]
  },
  {
   "cell_type": "code",
   "execution_count": 9,
   "id": "63ad4c18",
   "metadata": {},
   "outputs": [],
   "source": [
    "statistic, p_value = ttest_1samp(df['height(m)'],0.3)"
   ]
  },
  {
   "cell_type": "code",
   "execution_count": 10,
   "id": "7e421b44",
   "metadata": {},
   "outputs": [
    {
     "data": {
      "text/plain": [
       "-0.217"
      ]
     },
     "execution_count": 10,
     "metadata": {},
     "output_type": "execute_result"
    }
   ],
   "source": [
    "round(statistic,3)"
   ]
  },
  {
   "cell_type": "markdown",
   "id": "dc7e75d9",
   "metadata": {},
   "source": [
    "## 위의 통계량에 대한 p-값을 구하고 (반올림하여 소숫점 이하 3째자리), 유의수준 0.05하에서 귀무가설과 대립가설중 유의한 가설을 하나를 선택하시오(귀무/대립)"
   ]
  },
  {
   "cell_type": "code",
   "execution_count": 11,
   "id": "8392b4da",
   "metadata": {},
   "outputs": [
    {
     "data": {
      "text/plain": [
       "0.829"
      ]
     },
     "execution_count": 11,
     "metadata": {},
     "output_type": "execute_result"
    }
   ],
   "source": [
    "p = round(p_value,3)\n",
    "p"
   ]
  },
  {
   "cell_type": "code",
   "execution_count": 12,
   "id": "56029104",
   "metadata": {},
   "outputs": [
    {
     "name": "stdout",
     "output_type": "stream",
     "text": [
      "귀무\n"
     ]
    }
   ],
   "source": [
    "if p >= 0.05:\n",
    "    print('귀무')\n",
    "elif p < 0.05:\n",
    "    print('대립')"
   ]
  },
  {
   "cell_type": "code",
   "execution_count": null,
   "id": "0907cd88",
   "metadata": {},
   "outputs": [],
   "source": []
  },
  {
   "cell_type": "code",
   "execution_count": null,
   "id": "f1802737",
   "metadata": {},
   "outputs": [],
   "source": []
  },
  {
   "cell_type": "markdown",
   "id": "6f32bb47",
   "metadata": {},
   "source": [
    "조사결과 70%의 성인 남성이 3년 동안에 적어도 1번 치과를 찾는다고 할때, 21명의 성인 남성이 임의로 추출되었다고 하자."
   ]
  },
  {
   "cell_type": "markdown",
   "id": "85bb11f4",
   "metadata": {},
   "source": [
    "## 참고자료\n",
    "https://blog.naver.com/pmw9440/221386109893"
   ]
  },
  {
   "cell_type": "markdown",
   "id": "51e41104",
   "metadata": {},
   "source": [
    "## 21명 중 16명 미만이 치과를 찾았을 확률(반올림하여 소숫점 이하 3자리)"
   ]
  },
  {
   "cell_type": "code",
   "execution_count": 13,
   "id": "1b608aaf",
   "metadata": {},
   "outputs": [],
   "source": [
    "# 이항확률값구하기\n",
    "# binom.pmf(k, n, p) : k는 전체시행가운데 성공의 횟수이며(구하는 확률값), n은 총 시행횟수, p는 독립시행의 성공확률합니다.\n",
    "\n",
    "# 이항누적확률값 구하기\n",
    "# binom.cdf(k, n, p) : k는 성공횟수, n은 총 시행횟수, p는 각 독립시행의 성공확률입니다.\n",
    "\n",
    "# 이항분포의 분위수(quartile) 구하기\n",
    "# binom.ppf(q, n, p) : q는 분위수에 대응하는 누적확률값, n은 총 시행횟수, p는 독립시행의 성공확률입니다."
   ]
  },
  {
   "cell_type": "code",
   "execution_count": 14,
   "id": "d9b92f28",
   "metadata": {},
   "outputs": [],
   "source": [
    "# 이번 문제는 16명 미만의 누적확률값을 구한다."
   ]
  },
  {
   "cell_type": "code",
   "execution_count": 15,
   "id": "944c9306",
   "metadata": {},
   "outputs": [
    {
     "name": "stdout",
     "output_type": "stream",
     "text": [
      "0.637\n"
     ]
    }
   ],
   "source": [
    "from scipy.stats import binom\n",
    "\n",
    "k = 16\n",
    "n = 21\n",
    "p = 0.7\n",
    "\n",
    "# k = 16 미만 계산\n",
    "# P(X < k) 계산 -> k-1까지의 누적 확률 값을 구한다.\n",
    "prob = binom.cdf(k-1, n, p)\n",
    "print(round(prob, 3))"
   ]
  },
  {
   "cell_type": "markdown",
   "id": "5a9a18de",
   "metadata": {},
   "source": [
    "## 적어도 19명이 치과를 찾았을 확률(반올림하여 소숫점 이하 3자리)"
   ]
  },
  {
   "cell_type": "code",
   "execution_count": 16,
   "id": "876623ac",
   "metadata": {},
   "outputs": [
    {
     "name": "stdout",
     "output_type": "stream",
     "text": [
      "0.027\n"
     ]
    }
   ],
   "source": [
    "k = 19\n",
    "n = 21\n",
    "p = 0.7\n",
    "\n",
    "# 적어도 19명 -> k = 19이상\n",
    "# P(X >= k) 계산 -> 1 - P(X < k) -> 1에 k-1까지의 누적 확률 값을 뺀다.\n",
    "prob = 1 - binom.cdf(k-1, n, p)\n",
    "print(round(prob, 3))"
   ]
  }
 ],
 "metadata": {
  "kernelspec": {
   "display_name": "Python 3 (ipykernel)",
   "language": "python",
   "name": "python3"
  },
  "language_info": {
   "codemirror_mode": {
    "name": "ipython",
    "version": 3
   },
   "file_extension": ".py",
   "mimetype": "text/x-python",
   "name": "python",
   "nbconvert_exporter": "python",
   "pygments_lexer": "ipython3",
   "version": "3.9.12"
  }
 },
 "nbformat": 4,
 "nbformat_minor": 5
}
