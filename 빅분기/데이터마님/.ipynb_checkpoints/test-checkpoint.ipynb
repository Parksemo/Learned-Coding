{
 "cells": [
  {
   "cell_type": "markdown",
   "metadata": {},
   "source": [
    "# �먮떎�� �곗뒿 �쒗넗由ъ뼹"
   ]
  },
  {
   "cell_type": "markdown",
   "metadata": {},
   "source": [
    "[![Hits](https://hits.seeyoufarm.com/api/count/incr/badge.svg?url=https%3A%2F%2Fwww.datamanim.com%2Fdataset%2F99_pandas%2FpandasMain.html&count_bg=%237B31AA&title_bg=%23555555&icon=&icon_color=%23E7E7E7&title=hits&edge_flat=false)](https://hits.seeyoufarm.com)"
   ]
  },
  {
   "cell_type": "markdown",
   "metadata": {},
   "source": [
    "```\n",
    "�� �쒕컻 愿묎퀬 �쒕쾲�⑸쭔 �뚮윭二쇱꽭�� �졼뀪 �먮쾲�� �� 醫뗪뎄��\n",
    "```"
   ]
  },
  {
   "cell_type": "markdown",
   "metadata": {},
   "source": [
    "```{attention} \n",
    "紐⑹감 諛� 援ъ꽦 異쒖쿂 : [�먮낯 源껎뿖二쇱냼](https://github.com/guipsamora/pandas_exercises)     \n",
    "**�곗씠�� �쇰� �섏젙 �� �묒뾽 吏꾪뻾�덉뒿�덈떎.**\n",
    "```"
   ]
  },
  {
   "cell_type": "markdown",
   "metadata": {},
   "source": [
    "```{admonition} 二쇳뵾�� �명듃遺� �⑥텞�� 李멸퀬�곸긽\n",
    ":class: dropdown\n",
    "<div style=\"text-align: center\"><iframe width=\"700\" height=\"500\" src=https://www.youtube.com/embed/PxTIbZJ3xrA?start=40&end=50></iframe></div>\n",
    "```"
   ]
  },
  {
   "cell_type": "markdown",
   "metadata": {},
   "source": [
    "## 01 Getting & Knowing Data"
   ]
  },
  {
   "cell_type": "code",
   "execution_count": 1,
   "metadata": {
    "ExecuteTime": {
     "end_time": "2022-02-19T18:22:27.096949Z",
     "start_time": "2022-02-19T18:22:26.651425Z"
    }
   },
   "outputs": [],
   "source": [
    "import pandas as pd"
   ]
  },
  {
   "cell_type": "markdown",
   "metadata": {},
   "source": [
    "```{attention} \n",
    "濡� ��궧 �곗씠�� : https://www.kaggle.com/datasnaek/league-of-legends    \n",
    "**DataUrl = 'https://raw.githubusercontent.com/Datamanim/pandas/main/lol.csv'**\n",
    "```"
   ]
  },
  {
   "cell_type": "markdown",
   "metadata": {},
   "source": [
    "```{admonition} Question 1\n",
    "**�곗씠�곕� 濡쒕뱶�섎씪. �곗씠�곕뒗 \\t�� 湲곗��쇰줈 援щ텇�섏뼱�덈떎.**\n",
    "```"
   ]
  },
  {
   "cell_type": "markdown",
   "metadata": {},
   "source": [
    "\n",
    "```{admonition} 1踰� , 二쇳뵾�� �명듃遺곸뿉�� 硫붿냼�� �ъ슜踰� �좏뒠釉� ����\n",
    ":class: dropdown\n",
    "<div style=\"text-align: center\"><iframe width=\"700\" height=\"500\" src=https://www.youtube.com/embed/PxTIbZJ3xrA?start=214&end=580></iframe></div>\n",
    "```"
   ]
  },
  {
   "cell_type": "code",
   "execution_count": 3,
   "metadata": {
    "ExecuteTime": {
     "end_time": "2022-02-19T18:22:27.762653Z",
     "start_time": "2022-02-19T18:22:27.729491Z"
    }
   },
   "outputs": [
    {
     "data": {
      "text/plain": [
       "pandas.core.frame.DataFrame"
      ]
     },
     "execution_count": 3,
     "metadata": {},
     "output_type": "execute_result"
    }
   ],
   "source": [
    "type(df)"
   ]
  },
  {
   "cell_type": "markdown",
   "metadata": {},
   "source": [
    "```{admonition} Question 2\n",
    "**�곗씠�곗쓽 �곸쐞 5媛� �됱쓣 異쒕젰�섎씪**\n",
    "```"
   ]
  },
  {
   "cell_type": "markdown",
   "metadata": {},
   "source": [
    "```{admonition} 2踰� �좏뒠釉� ����\n",
    ":class: dropdown\n",
    "<div style=\"text-align: center\"><iframe width=\"700\" height=\"500\" src=https://www.youtube.com/embed/PxTIbZJ3xrA?start=582&end=678></iframe></div>\n",
    "```"
   ]
  },
  {
   "cell_type": "code",
   "execution_count": 4,
   "metadata": {
    "ExecuteTime": {
     "end_time": "2022-02-19T18:22:27.766817Z",
     "start_time": "2022-02-19T18:22:27.764087Z"
    },
    "tags": [
     "hide-input"
    ]
   },
   "outputs": [],
   "source": [
    "Ans = df.head(5)"
   ]
  },
  {
   "cell_type": "code",
   "execution_count": 5,
   "metadata": {
    "ExecuteTime": {
     "end_time": "2022-02-19T18:22:27.783537Z",
     "start_time": "2022-02-19T18:22:27.768463Z"
    }
   },
   "outputs": [
    {
     "data": {
      "text/html": [
       "<div>\n",
       "<style scoped>\n",
       "    .dataframe tbody tr th:only-of-type {\n",
       "        vertical-align: middle;\n",
       "    }\n",
       "\n",
       "    .dataframe tbody tr th {\n",
       "        vertical-align: top;\n",
       "    }\n",
       "\n",
       "    .dataframe thead th {\n",
       "        text-align: right;\n",
       "    }\n",
       "</style>\n",
       "<table border=\"1\" class=\"dataframe\">\n",
       "  <thead>\n",
       "    <tr style=\"text-align: right;\">\n",
       "      <th></th>\n",
       "      <th>gameId</th>\n",
       "      <th>creationTime</th>\n",
       "      <th>gameDuration</th>\n",
       "      <th>seasonId</th>\n",
       "      <th>winner</th>\n",
       "      <th>firstBlood</th>\n",
       "      <th>firstTower</th>\n",
       "      <th>firstInhibitor</th>\n",
       "      <th>firstBaron</th>\n",
       "      <th>firstDragon</th>\n",
       "      <th>...</th>\n",
       "      <th>t2_towerKills</th>\n",
       "      <th>t2_inhibitorKills</th>\n",
       "      <th>t2_baronKills</th>\n",
       "      <th>t2_dragonKills</th>\n",
       "      <th>t2_riftHeraldKills</th>\n",
       "      <th>t2_ban1</th>\n",
       "      <th>t2_ban2</th>\n",
       "      <th>t2_ban3</th>\n",
       "      <th>t2_ban4</th>\n",
       "      <th>t2_ban5</th>\n",
       "    </tr>\n",
       "  </thead>\n",
       "  <tbody>\n",
       "    <tr>\n",
       "      <th>0</th>\n",
       "      <td>3326086514</td>\n",
       "      <td>1504279457970</td>\n",
       "      <td>1949</td>\n",
       "      <td>9</td>\n",
       "      <td>1</td>\n",
       "      <td>2</td>\n",
       "      <td>1</td>\n",
       "      <td>1</td>\n",
       "      <td>1</td>\n",
       "      <td>1</td>\n",
       "      <td>...</td>\n",
       "      <td>5</td>\n",
       "      <td>0</td>\n",
       "      <td>0</td>\n",
       "      <td>1</td>\n",
       "      <td>1</td>\n",
       "      <td>114</td>\n",
       "      <td>67</td>\n",
       "      <td>43</td>\n",
       "      <td>16</td>\n",
       "      <td>51</td>\n",
       "    </tr>\n",
       "    <tr>\n",
       "      <th>1</th>\n",
       "      <td>3229566029</td>\n",
       "      <td>1497848803862</td>\n",
       "      <td>1851</td>\n",
       "      <td>9</td>\n",
       "      <td>1</td>\n",
       "      <td>1</td>\n",
       "      <td>1</td>\n",
       "      <td>1</td>\n",
       "      <td>0</td>\n",
       "      <td>1</td>\n",
       "      <td>...</td>\n",
       "      <td>2</td>\n",
       "      <td>0</td>\n",
       "      <td>0</td>\n",
       "      <td>0</td>\n",
       "      <td>0</td>\n",
       "      <td>11</td>\n",
       "      <td>67</td>\n",
       "      <td>238</td>\n",
       "      <td>51</td>\n",
       "      <td>420</td>\n",
       "    </tr>\n",
       "    <tr>\n",
       "      <th>2</th>\n",
       "      <td>3327363504</td>\n",
       "      <td>1504360103310</td>\n",
       "      <td>1493</td>\n",
       "      <td>9</td>\n",
       "      <td>1</td>\n",
       "      <td>2</td>\n",
       "      <td>1</td>\n",
       "      <td>1</td>\n",
       "      <td>1</td>\n",
       "      <td>2</td>\n",
       "      <td>...</td>\n",
       "      <td>2</td>\n",
       "      <td>0</td>\n",
       "      <td>0</td>\n",
       "      <td>1</td>\n",
       "      <td>0</td>\n",
       "      <td>157</td>\n",
       "      <td>238</td>\n",
       "      <td>121</td>\n",
       "      <td>57</td>\n",
       "      <td>28</td>\n",
       "    </tr>\n",
       "    <tr>\n",
       "      <th>3</th>\n",
       "      <td>3326856598</td>\n",
       "      <td>1504348503996</td>\n",
       "      <td>1758</td>\n",
       "      <td>9</td>\n",
       "      <td>1</td>\n",
       "      <td>1</td>\n",
       "      <td>1</td>\n",
       "      <td>1</td>\n",
       "      <td>1</td>\n",
       "      <td>1</td>\n",
       "      <td>...</td>\n",
       "      <td>0</td>\n",
       "      <td>0</td>\n",
       "      <td>0</td>\n",
       "      <td>0</td>\n",
       "      <td>0</td>\n",
       "      <td>164</td>\n",
       "      <td>18</td>\n",
       "      <td>141</td>\n",
       "      <td>40</td>\n",
       "      <td>51</td>\n",
       "    </tr>\n",
       "    <tr>\n",
       "      <th>4</th>\n",
       "      <td>3330080762</td>\n",
       "      <td>1504554410899</td>\n",
       "      <td>2094</td>\n",
       "      <td>9</td>\n",
       "      <td>1</td>\n",
       "      <td>2</td>\n",
       "      <td>1</td>\n",
       "      <td>1</td>\n",
       "      <td>1</td>\n",
       "      <td>1</td>\n",
       "      <td>...</td>\n",
       "      <td>3</td>\n",
       "      <td>0</td>\n",
       "      <td>0</td>\n",
       "      <td>1</td>\n",
       "      <td>0</td>\n",
       "      <td>86</td>\n",
       "      <td>11</td>\n",
       "      <td>201</td>\n",
       "      <td>122</td>\n",
       "      <td>18</td>\n",
       "    </tr>\n",
       "  </tbody>\n",
       "</table>\n",
       "<p>5 rows 횞 61 columns</p>\n",
       "</div>"
      ],
      "text/plain": [
       "       gameId   creationTime  gameDuration  seasonId  winner  firstBlood  \\\n",
       "0  3326086514  1504279457970          1949         9       1           2   \n",
       "1  3229566029  1497848803862          1851         9       1           1   \n",
       "2  3327363504  1504360103310          1493         9       1           2   \n",
       "3  3326856598  1504348503996          1758         9       1           1   \n",
       "4  3330080762  1504554410899          2094         9       1           2   \n",
       "\n",
       "   firstTower  firstInhibitor  firstBaron  firstDragon  ...  t2_towerKills  \\\n",
       "0           1               1           1            1  ...              5   \n",
       "1           1               1           0            1  ...              2   \n",
       "2           1               1           1            2  ...              2   \n",
       "3           1               1           1            1  ...              0   \n",
       "4           1               1           1            1  ...              3   \n",
       "\n",
       "   t2_inhibitorKills  t2_baronKills  t2_dragonKills  t2_riftHeraldKills  \\\n",
       "0                  0              0               1                   1   \n",
       "1                  0              0               0                   0   \n",
       "2                  0              0               1                   0   \n",
       "3                  0              0               0                   0   \n",
       "4                  0              0               1                   0   \n",
       "\n",
       "   t2_ban1  t2_ban2  t2_ban3  t2_ban4  t2_ban5  \n",
       "0      114       67       43       16       51  \n",
       "1       11       67      238       51      420  \n",
       "2      157      238      121       57       28  \n",
       "3      164       18      141       40       51  \n",
       "4       86       11      201      122       18  \n",
       "\n",
       "[5 rows x 61 columns]"
      ]
     },
     "execution_count": 5,
     "metadata": {},
     "output_type": "execute_result"
    }
   ],
   "source": [
    "Ans"
   ]
  },
  {
   "cell_type": "markdown",
   "metadata": {},
   "source": [
    "```{admonition} Question 3\n",
    "**�곗씠�곗쓽 �됯낵 �댁쓽 媛�닔瑜� �뚯븙�섎씪**\n",
    "```"
   ]
  },
  {
   "cell_type": "markdown",
   "metadata": {},
   "source": [
    "```{admonition} 3踰� �좏뒠釉� ����\n",
    ":class: dropdown\n",
    "<div style=\"text-align: center\"><iframe width=\"700\" height=\"500\" src=https://www.youtube.com/embed/PxTIbZJ3xrA?start=680&end=763></iframe></div>\n",
    "```"
   ]
  },
  {
   "cell_type": "code",
   "execution_count": 6,
   "metadata": {
    "ExecuteTime": {
     "end_time": "2022-02-19T18:22:27.788561Z",
     "start_time": "2022-02-19T18:22:27.785039Z"
    },
    "tags": [
     "hide-input"
    ]
   },
   "outputs": [
    {
     "name": "stdout",
     "output_type": "stream",
     "text": [
      "(51490, 61)\n",
      "��: 51490\n",
      "��: 61\n"
     ]
    }
   ],
   "source": [
    "print(df.shape)\n",
    "print('��:',df.shape[0])\n",
    "print('��:',df.shape[1])"
   ]
  },
  {
   "cell_type": "markdown",
   "metadata": {},
   "source": [
    "```{admonition} Question 4\n",
    "**�꾩껜 而щ읆�� 異쒕젰�섎씪**\n",
    "```"
   ]
  },
  {
   "cell_type": "markdown",
   "metadata": {},
   "source": [
    "```{admonition} 4踰� �좏뒠釉� ����\n",
    ":class: dropdown\n",
    "<div style=\"text-align: center\"><iframe width=\"700\" height=\"500\" src=https://www.youtube.com/embed/PxTIbZJ3xrA?start=765&end=833></iframe></div>\n",
    "```"
   ]
  },
  {
   "cell_type": "code",
   "execution_count": 7,
   "metadata": {
    "ExecuteTime": {
     "end_time": "2022-02-19T18:22:27.792618Z",
     "start_time": "2022-02-19T18:22:27.790293Z"
    },
    "tags": [
     "hide-input"
    ]
   },
   "outputs": [],
   "source": [
    "Ans = df.columns"
   ]
  },
  {
   "cell_type": "code",
   "execution_count": 8,
   "metadata": {
    "ExecuteTime": {
     "end_time": "2022-02-19T18:22:27.797725Z",
     "start_time": "2022-02-19T18:22:27.794189Z"
    }
   },
   "outputs": [
    {
     "data": {
      "text/plain": [
       "Index(['gameId', 'creationTime', 'gameDuration', 'seasonId', 'winner',\n",
       "       'firstBlood', 'firstTower', 'firstInhibitor', 'firstBaron',\n",
       "       'firstDragon', 'firstRiftHerald', 't1_champ1id', 't1_champ1_sum1',\n",
       "       't1_champ1_sum2', 't1_champ2id', 't1_champ2_sum1', 't1_champ2_sum2',\n",
       "       't1_champ3id', 't1_champ3_sum1', 't1_champ3_sum2', 't1_champ4id',\n",
       "       't1_champ4_sum1', 't1_champ4_sum2', 't1_champ5id', 't1_champ5_sum1',\n",
       "       't1_champ5_sum2', 't1_towerKills', 't1_inhibitorKills', 't1_baronKills',\n",
       "       't1_dragonKills', 't1_riftHeraldKills', 't1_ban1', 't1_ban2', 't1_ban3',\n",
       "       't1_ban4', 't1_ban5', 't2_champ1id', 't2_champ1_sum1', 't2_champ1_sum2',\n",
       "       't2_champ2id', 't2_champ2_sum1', 't2_champ2_sum2', 't2_champ3id',\n",
       "       't2_champ3_sum1', 't2_champ3_sum2', 't2_champ4id', 't2_champ4_sum1',\n",
       "       't2_champ4_sum2', 't2_champ5id', 't2_champ5_sum1', 't2_champ5_sum2',\n",
       "       't2_towerKills', 't2_inhibitorKills', 't2_baronKills', 't2_dragonKills',\n",
       "       't2_riftHeraldKills', 't2_ban1', 't2_ban2', 't2_ban3', 't2_ban4',\n",
       "       't2_ban5'],\n",
       "      dtype='object')"
      ]
     },
     "execution_count": 8,
     "metadata": {},
     "output_type": "execute_result"
    }
   ],
   "source": [
    "Ans"
   ]
  },
  {
   "cell_type": "markdown",
   "metadata": {},
   "source": [
    "```{admonition} Question 5\n",
    "**6踰덉㎏ 而щ읆紐낆쓣 異쒕젰�섎씪**\n",
    "```"
   ]
  },
  {
   "cell_type": "markdown",
   "metadata": {},
   "source": [
    "```{admonition} 5踰� �좏뒠釉� ����\n",
    ":class: dropdown\n",
    "<div style=\"text-align: center\"><iframe width=\"700\" height=\"500\" src=https://www.youtube.com/embed/PxTIbZJ3xrA?start=835&end=868></iframe></div>\n",
    "```"
   ]
  },
  {
   "cell_type": "code",
   "execution_count": 9,
   "metadata": {
    "ExecuteTime": {
     "end_time": "2022-02-19T18:22:27.803759Z",
     "start_time": "2022-02-19T18:22:27.801391Z"
    },
    "tags": [
     "hide-input"
    ]
   },
   "outputs": [],
   "source": [
    "Ans = df.columns[5]"
   ]
  },
  {
   "cell_type": "code",
   "execution_count": 10,
   "metadata": {
    "ExecuteTime": {
     "end_time": "2022-02-19T18:22:27.808678Z",
     "start_time": "2022-02-19T18:22:27.805345Z"
    }
   },
   "outputs": [
    {
     "data": {
      "text/plain": [
       "'firstBlood'"
      ]
     },
     "execution_count": 10,
     "metadata": {},
     "output_type": "execute_result"
    }
   ],
   "source": [
    "Ans"
   ]
  },
  {
   "cell_type": "markdown",
   "metadata": {},
   "source": [
    "```{admonition} Question 6\n",
    "**6踰덉㎏ 而щ읆�� �곗씠�� ���낆쓣 �뺤씤�섎씪**\n",
    "```"
   ]
  },
  {
   "cell_type": "markdown",
   "metadata": {},
   "source": [
    "```{admonition} 6踰� �좏뒠釉� ����\n",
    ":class: dropdown\n",
    "<div style=\"text-align: center\"><iframe width=\"700\" height=\"500\" src=https://www.youtube.com/embed/PxTIbZJ3xrA?start=870&end=1071></iframe></div>\n",
    "```"
   ]
  },
  {
   "cell_type": "code",
   "execution_count": 11,
   "metadata": {
    "ExecuteTime": {
     "end_time": "2022-02-19T18:22:27.813316Z",
     "start_time": "2022-02-19T18:22:27.810456Z"
    },
    "tags": [
     "hide-input"
    ]
   },
   "outputs": [],
   "source": [
    "Ans = df.iloc[:,5].dtype"
   ]
  },
  {
   "cell_type": "code",
   "execution_count": 12,
   "metadata": {
    "ExecuteTime": {
     "end_time": "2022-02-19T18:22:27.817980Z",
     "start_time": "2022-02-19T18:22:27.815001Z"
    }
   },
   "outputs": [
    {
     "data": {
      "text/plain": [
       "dtype('int64')"
      ]
     },
     "execution_count": 12,
     "metadata": {},
     "output_type": "execute_result"
    }
   ],
   "source": [
    "Ans"
   ]
  },
  {
   "cell_type": "markdown",
   "metadata": {},
   "source": [
    "```{admonition} Question 7\n",
    "**�곗씠�곗뀑�� �몃뜳�� 援ъ꽦�� �대뼡媛�**\n",
    "```"
   ]
  },
  {
   "cell_type": "markdown",
   "metadata": {},
   "source": [
    "```{admonition} 7踰� �좏뒠釉� ����\n",
    ":class: dropdown\n",
    "<div style=\"text-align: center\"><iframe width=\"700\" height=\"500\" src=https://www.youtube.com/embed/PxTIbZJ3xrA?start=1073&end=1193></iframe></div>\n",
    "```"
   ]
  },
  {
   "cell_type": "code",
   "execution_count": 13,
   "metadata": {
    "ExecuteTime": {
     "end_time": "2022-02-19T18:22:27.821725Z",
     "start_time": "2022-02-19T18:22:27.819532Z"
    },
    "tags": [
     "hide-input"
    ]
   },
   "outputs": [],
   "source": [
    "Ans = df.index"
   ]
  },
  {
   "cell_type": "code",
   "execution_count": 14,
   "metadata": {
    "ExecuteTime": {
     "end_time": "2022-02-19T18:22:27.826800Z",
     "start_time": "2022-02-19T18:22:27.823591Z"
    }
   },
   "outputs": [
    {
     "data": {
      "text/plain": [
       "RangeIndex(start=0, stop=51490, step=1)"
      ]
     },
     "execution_count": 14,
     "metadata": {},
     "output_type": "execute_result"
    }
   ],
   "source": [
    "Ans "
   ]
  },
  {
   "cell_type": "markdown",
   "metadata": {},
   "source": [
    "```{admonition} Question 8\n",
    "**6踰덉㎏ 而щ읆�� 3踰덉㎏ 媛믪� 臾댁뾿�멸�?**\n",
    "```"
   ]
  },
  {
   "cell_type": "markdown",
   "metadata": {},
   "source": [
    "```{admonition} 8踰� �좏뒠釉� ����\n",
    ":class: dropdown\n",
    "<div style=\"text-align: center\"><iframe width=\"700\" height=\"500\" src=https://www.youtube.com/embed/PxTIbZJ3xrA?start=1195&end=1364></iframe></div>\n",
    "```"
   ]
  },
  {
   "cell_type": "code",
   "execution_count": 15,
   "metadata": {
    "ExecuteTime": {
     "end_time": "2022-02-19T18:22:27.830663Z",
     "start_time": "2022-02-19T18:22:27.828326Z"
    },
    "tags": [
     "hide-input"
    ]
   },
   "outputs": [],
   "source": [
    "Ans = df.iloc[2,5]"
   ]
  },
  {
   "cell_type": "code",
   "execution_count": 16,
   "metadata": {
    "ExecuteTime": {
     "end_time": "2022-02-19T18:22:27.834927Z",
     "start_time": "2022-02-19T18:22:27.832095Z"
    }
   },
   "outputs": [
    {
     "data": {
      "text/plain": [
       "2"
      ]
     },
     "execution_count": 16,
     "metadata": {},
     "output_type": "execute_result"
    }
   ],
   "source": [
    "Ans "
   ]
  },
  {
   "cell_type": "markdown",
   "metadata": {},
   "source": [
    "```{attention} \n",
    "�쒖＜ �좎뵪,�멸뎄�� �곕Ⅸ 援먰넻�됰뜲�댄꽣 : 異쒖쿂 �쒖＜ �곗씠�� �덈툕\n",
    "**DataUrl = 'https://raw.githubusercontent.com/Datamanim/pandas/main/Jeju.csv'**\n",
    "```"
   ]
  },
  {
   "cell_type": "markdown",
   "metadata": {},
   "source": [
    "```{admonition} Question 9\n",
    "**�곗씠�곕� 濡쒕뱶�섎씪. 而щ읆�� �쒓��닿린�� �곸젅�� 泥섎━�댁쨾�쇳븿**\n",
    "```"
   ]
  },
  {
   "cell_type": "markdown",
   "metadata": {},
   "source": [
    "```{admonition} 9踰� �좏뒠釉� ����\n",
    ":class: dropdown\n",
    "<div style=\"text-align: center\"><iframe width=\"700\" height=\"500\" src=https://www.youtube.com/embed/PxTIbZJ3xrA?start=1366&end=1470></iframe></div>\n",
    "```"
   ]
  },
  {
   "cell_type": "code",
   "execution_count": 17,
   "metadata": {
    "ExecuteTime": {
     "end_time": "2022-02-19T18:22:27.977922Z",
     "start_time": "2022-02-19T18:22:27.836216Z"
    }
   },
   "outputs": [],
   "source": [
    "DataUrl = 'https://raw.githubusercontent.com/Datamanim/pandas/main/Jeju.csv'\n",
    "df = pd.read_csv(DataUrl,encoding='euc-kr')"
   ]
  },
  {
   "cell_type": "code",
   "execution_count": 18,
   "metadata": {
    "ExecuteTime": {
     "end_time": "2022-02-19T18:22:27.983266Z",
     "start_time": "2022-02-19T18:22:27.979393Z"
    }
   },
   "outputs": [
    {
     "data": {
      "text/plain": [
       "pandas.core.frame.DataFrame"
      ]
     },
     "execution_count": 18,
     "metadata": {},
     "output_type": "execute_result"
    }
   ],
   "source": [
    "type(df)"
   ]
  },
  {
   "cell_type": "markdown",
   "metadata": {},
   "source": [
    "```{admonition} Question 10\n",
    "**�곗씠�� 留덉�留� 3媛쒗뻾�� 異쒕젰�섎씪**\n",
    "```"
   ]
  },
  {
   "cell_type": "markdown",
   "metadata": {},
   "source": [
    "```{admonition} 10踰� �좏뒠釉� ����\n",
    ":class: dropdown\n",
    "<div style=\"text-align: center\"><iframe width=\"700\" height=\"500\" src=https://www.youtube.com/embed/PxTIbZJ3xrA?start=1472&end=1508></iframe></div>\n",
    "```"
   ]
  },
  {
   "cell_type": "code",
   "execution_count": 19,
   "metadata": {
    "ExecuteTime": {
     "end_time": "2022-02-19T18:22:27.987311Z",
     "start_time": "2022-02-19T18:22:27.984874Z"
    },
    "tags": [
     "hide-input"
    ]
   },
   "outputs": [],
   "source": [
    "Ans = df.tail(3)"
   ]
  },
  {
   "cell_type": "code",
   "execution_count": 20,
   "metadata": {
    "ExecuteTime": {
     "end_time": "2022-02-19T18:22:28.002522Z",
     "start_time": "2022-02-19T18:22:27.988809Z"
    }
   },
   "outputs": [
    {
     "data": {
      "text/html": [
       "<div>\n",
       "<style scoped>\n",
       "    .dataframe tbody tr th:only-of-type {\n",
       "        vertical-align: middle;\n",
       "    }\n",
       "\n",
       "    .dataframe tbody tr th {\n",
       "        vertical-align: top;\n",
       "    }\n",
       "\n",
       "    .dataframe thead th {\n",
       "        text-align: right;\n",
       "    }\n",
       "</style>\n",
       "<table border=\"1\" class=\"dataframe\">\n",
       "  <thead>\n",
       "    <tr style=\"text-align: right;\">\n",
       "      <th></th>\n",
       "      <th>id</th>\n",
       "      <th>�쇱옄</th>\n",
       "      <th>�쒕룄紐�</th>\n",
       "      <th>�띾㈃�숇챸</th>\n",
       "      <th>嫄곗＜�멸뎄</th>\n",
       "      <th>洹쇰Т�멸뎄</th>\n",
       "      <th>諛⑸Ц�멸뎄</th>\n",
       "      <th>珥� �좊룞�멸뎄</th>\n",
       "      <th>�됯퇏 �띾룄</th>\n",
       "      <th>�됯퇏 �뚯슂 �쒓컙</th>\n",
       "      <th>�됯퇏 湲곗삩</th>\n",
       "      <th>�쇨컯�섎웾</th>\n",
       "      <th>�됯퇏 �띿냽</th>\n",
       "    </tr>\n",
       "  </thead>\n",
       "  <tbody>\n",
       "    <tr>\n",
       "      <th>9618</th>\n",
       "      <td>32066</td>\n",
       "      <td>2020-04-30</td>\n",
       "      <td>�쒖＜��</td>\n",
       "      <td>�꾨몢��</td>\n",
       "      <td>28397.481</td>\n",
       "      <td>3144.895</td>\n",
       "      <td>84052.697</td>\n",
       "      <td>115595.073</td>\n",
       "      <td>41.053</td>\n",
       "      <td>29.421</td>\n",
       "      <td>20.3</td>\n",
       "      <td>0.0</td>\n",
       "      <td>3.0</td>\n",
       "    </tr>\n",
       "    <tr>\n",
       "      <th>9619</th>\n",
       "      <td>32067</td>\n",
       "      <td>2020-04-30</td>\n",
       "      <td>�쒓��ъ떆</td>\n",
       "      <td>�덈뜒硫�</td>\n",
       "      <td>348037.846</td>\n",
       "      <td>29106.286</td>\n",
       "      <td>251129.660</td>\n",
       "      <td>628273.792</td>\n",
       "      <td>46.595</td>\n",
       "      <td>49.189</td>\n",
       "      <td>17.6</td>\n",
       "      <td>0.0</td>\n",
       "      <td>3.5</td>\n",
       "    </tr>\n",
       "    <tr>\n",
       "      <th>9620</th>\n",
       "      <td>32068</td>\n",
       "      <td>2020-04-30</td>\n",
       "      <td>�쒖＜��</td>\n",
       "      <td>�곕룞</td>\n",
       "      <td>1010643.372</td>\n",
       "      <td>65673.477</td>\n",
       "      <td>447622.068</td>\n",
       "      <td>1523938.917</td>\n",
       "      <td>40.863</td>\n",
       "      <td>27.765</td>\n",
       "      <td>14.1</td>\n",
       "      <td>0.0</td>\n",
       "      <td>4.8</td>\n",
       "    </tr>\n",
       "  </tbody>\n",
       "</table>\n",
       "</div>"
      ],
      "text/plain": [
       "         id          �쇱옄   �쒕룄紐� �띾㈃�숇챸         嫄곗＜�멸뎄       洹쇰Т�멸뎄        諛⑸Ц�멸뎄  \\\n",
       "9618  32066  2020-04-30   �쒖＜��  �꾨몢��    28397.481   3144.895   84052.697   \n",
       "9619  32067  2020-04-30  �쒓��ъ떆  �덈뜒硫�   348037.846  29106.286  251129.660   \n",
       "9620  32068  2020-04-30   �쒖＜��   �곕룞  1010643.372  65673.477  447622.068   \n",
       "\n",
       "           珥� �좊룞�멸뎄   �됯퇏 �띾룄  �됯퇏 �뚯슂 �쒓컙  �됯퇏 湲곗삩  �쇨컯�섎웾  �됯퇏 �띿냽  \n",
       "9618   115595.073  41.053    29.421   20.3   0.0    3.0  \n",
       "9619   628273.792  46.595    49.189   17.6   0.0    3.5  \n",
       "9620  1523938.917  40.863    27.765   14.1   0.0    4.8  "
      ]
     },
     "execution_count": 20,
     "metadata": {},
     "output_type": "execute_result"
    }
   ],
   "source": [
    "Ans"
   ]
  },
  {
   "cell_type": "markdown",
   "metadata": {},
   "source": [
    "```{admonition} Question 11\n",
    "**�섏튂�� 蹂��섎� 媛�吏� 而щ읆�� 異쒕젰�섎씪**\n",
    "```"
   ]
  },
  {
   "cell_type": "markdown",
   "metadata": {},
   "source": [
    "```{admonition} 11踰� �좏뒠釉� ����\n",
    ":class: dropdown\n",
    "<div style=\"text-align: center\"><iframe width=\"700\" height=\"500\" src=https://www.youtube.com/embed/PxTIbZJ3xrA?start=1510&end=1768></iframe></div>\n",
    "```\n",
    "    "
   ]
  },
  {
   "cell_type": "code",
   "execution_count": 21,
   "metadata": {
    "ExecuteTime": {
     "end_time": "2022-02-19T18:22:28.008001Z",
     "start_time": "2022-02-19T18:22:28.004130Z"
    },
    "tags": [
     "hide-input"
    ]
   },
   "outputs": [],
   "source": [
    "Ans = df.select_dtypes(exclude=object).columns"
   ]
  },
  {
   "cell_type": "code",
   "execution_count": 22,
   "metadata": {
    "ExecuteTime": {
     "end_time": "2022-02-19T18:22:28.012843Z",
     "start_time": "2022-02-19T18:22:28.009446Z"
    }
   },
   "outputs": [
    {
     "data": {
      "text/plain": [
       "Index(['id', '嫄곗＜�멸뎄', '洹쇰Т�멸뎄', '諛⑸Ц�멸뎄', '珥� �좊룞�멸뎄', '�됯퇏 �띾룄', '�됯퇏 �뚯슂 �쒓컙', '�됯퇏 湲곗삩',\n",
       "       '�쇨컯�섎웾', '�됯퇏 �띿냽'],\n",
       "      dtype='object')"
      ]
     },
     "execution_count": 22,
     "metadata": {},
     "output_type": "execute_result"
    }
   ],
   "source": [
    "Ans"
   ]
  },
  {
   "cell_type": "markdown",
   "metadata": {},
   "source": [
    "```{admonition} Question 12\n",
    "**踰붿＜�� 蹂��섎� 媛�吏� 而щ읆�� 異쒕젰�섎씪**\n",
    "```"
   ]
  },
  {
   "cell_type": "markdown",
   "metadata": {},
   "source": [
    "```{admonition} 12踰� �좏뒠釉� ����\n",
    ":class: dropdown\n",
    "<div style=\"text-align: center\"><iframe width=\"700\" height=\"500\" src=https://www.youtube.com/embed/PxTIbZJ3xrA?start=1770&end=1918></iframe></div>\n",
    "```\n",
    "    "
   ]
  },
  {
   "cell_type": "code",
   "execution_count": 23,
   "metadata": {
    "ExecuteTime": {
     "end_time": "2022-02-19T18:22:28.017567Z",
     "start_time": "2022-02-19T18:22:28.014187Z"
    },
    "tags": [
     "hide-input"
    ]
   },
   "outputs": [],
   "source": [
    "Ans = df.select_dtypes(include=object).columns"
   ]
  },
  {
   "cell_type": "code",
   "execution_count": 24,
   "metadata": {
    "ExecuteTime": {
     "end_time": "2022-02-19T18:22:28.021825Z",
     "start_time": "2022-02-19T18:22:28.018797Z"
    }
   },
   "outputs": [
    {
     "data": {
      "text/plain": [
       "Index(['�쇱옄', '�쒕룄紐�', '�띾㈃�숇챸'], dtype='object')"
      ]
     },
     "execution_count": 24,
     "metadata": {},
     "output_type": "execute_result"
    }
   ],
   "source": [
    "Ans"
   ]
  },
  {
   "cell_type": "markdown",
   "metadata": {},
   "source": [
    "```{admonition} Question 13\n",
    "**媛� 而щ읆�� 寃곗륫移� �レ옄瑜� �뚯븙�섎씪**\n",
    "```"
   ]
  },
  {
   "cell_type": "markdown",
   "metadata": {},
   "source": [
    "```{admonition} 13踰� �좏뒠釉� ����\n",
    ":class: dropdown\n",
    "<div style=\"text-align: center\"><iframe width=\"700\" height=\"500\" src=https://www.youtube.com/embed/PxTIbZJ3xrA?start=1920&end=2098></iframe></div>\n",
    "```"
   ]
  },
  {
   "cell_type": "code",
   "execution_count": 25,
   "metadata": {
    "ExecuteTime": {
     "end_time": "2022-02-19T18:22:28.027820Z",
     "start_time": "2022-02-19T18:22:28.023063Z"
    },
    "tags": [
     "hide-input"
    ]
   },
   "outputs": [],
   "source": [
    "Ans = df.isnull().sum()"
   ]
  },
  {
   "cell_type": "code",
   "execution_count": 26,
   "metadata": {
    "ExecuteTime": {
     "end_time": "2022-02-19T18:22:28.032666Z",
     "start_time": "2022-02-19T18:22:28.029137Z"
    }
   },
   "outputs": [
    {
     "data": {
      "text/plain": [
       "id          0\n",
       "�쇱옄          0\n",
       "�쒕룄紐�         0\n",
       "�띾㈃�숇챸        0\n",
       "嫄곗＜�멸뎄        0\n",
       "洹쇰Т�멸뎄        0\n",
       "諛⑸Ц�멸뎄        0\n",
       "珥� �좊룞�멸뎄      0\n",
       "�됯퇏 �띾룄       0\n",
       "�됯퇏 �뚯슂 �쒓컙    0\n",
       "�됯퇏 湲곗삩       0\n",
       "�쇨컯�섎웾        0\n",
       "�됯퇏 �띿냽       0\n",
       "dtype: int64"
      ]
     },
     "execution_count": 26,
     "metadata": {},
     "output_type": "execute_result"
    }
   ],
   "source": [
    "Ans"
   ]
  },
  {
   "cell_type": "markdown",
   "metadata": {},
   "source": [
    "```{admonition} Question 14\n",
    "**媛� 而щ읆�� �곗씠�곗닔, �곗씠�고��낆쓣 �쒕쾲�� �뺤씤�섎씪**\n",
    "```"
   ]
  },
  {
   "cell_type": "markdown",
   "metadata": {},
   "source": [
    "```{admonition} 14踰� �좏뒠釉� ����\n",
    ":class: dropdown\n",
    "<div style=\"text-align: center\"><iframe width=\"700\" height=\"500\" src=https://www.youtube.com/embed/PxTIbZJ3xrA?start=2100&end=2137></iframe></div>\n",
    "```"
   ]
  },
  {
   "cell_type": "code",
   "execution_count": 27,
   "metadata": {
    "ExecuteTime": {
     "end_time": "2022-02-19T18:22:28.049431Z",
     "start_time": "2022-02-19T18:22:28.040288Z"
    },
    "tags": [
     "hide-input"
    ]
   },
   "outputs": [
    {
     "name": "stdout",
     "output_type": "stream",
     "text": [
      "<class 'pandas.core.frame.DataFrame'>\n",
      "RangeIndex: 9621 entries, 0 to 9620\n",
      "Data columns (total 13 columns):\n",
      " #   Column    Non-Null Count  Dtype  \n",
      "---  ------    --------------  -----  \n",
      " 0   id        9621 non-null   int64  \n",
      " 1   �쇱옄        9621 non-null   object \n",
      " 2   �쒕룄紐�       9621 non-null   object \n",
      " 3   �띾㈃�숇챸      9621 non-null   object \n",
      " 4   嫄곗＜�멸뎄      9621 non-null   float64\n",
      " 5   洹쇰Т�멸뎄      9621 non-null   float64\n",
      " 6   諛⑸Ц�멸뎄      9621 non-null   float64\n",
      " 7   珥� �좊룞�멸뎄    9621 non-null   float64\n",
      " 8   �됯퇏 �띾룄     9621 non-null   float64\n",
      " 9   �됯퇏 �뚯슂 �쒓컙  9621 non-null   float64\n",
      " 10  �됯퇏 湲곗삩     9621 non-null   float64\n",
      " 11  �쇨컯�섎웾      9621 non-null   float64\n",
      " 12  �됯퇏 �띿냽     9621 non-null   float64\n",
      "dtypes: float64(9), int64(1), object(3)\n",
      "memory usage: 977.3+ KB\n"
     ]
    }
   ],
   "source": [
    "df.info()"
   ]
  },
  {
   "cell_type": "markdown",
   "metadata": {},
   "source": [
    "```{admonition} Question 15\n",
    "**媛� �섏튂�� 蹂��섏쓽 遺꾪룷(�щ텇��, �됯퇏, �쒖��몄감, 理쒕� , 理쒖냼)瑜� �뺤씤�섎씪**\n",
    "```"
   ]
  },
  {
   "cell_type": "markdown",
   "metadata": {},
   "source": [
    "```{admonition} 15踰� �좏뒠釉� ����\n",
    ":class: dropdown\n",
    "<div style=\"text-align: center\"><iframe width=\"700\" height=\"500\" src=https://www.youtube.com/embed/PxTIbZJ3xrA?start=2139&end=2203></iframe></div>\n",
    "```\n",
    "    "
   ]
  },
  {
   "cell_type": "code",
   "execution_count": 28,
   "metadata": {
    "ExecuteTime": {
     "end_time": "2022-02-19T18:22:28.070462Z",
     "start_time": "2022-02-19T18:22:28.050631Z"
    },
    "tags": [
     "hide-input"
    ]
   },
   "outputs": [],
   "source": [
    "Ans = df.describe()"
   ]
  },
  {
   "cell_type": "code",
   "execution_count": 29,
   "metadata": {
    "ExecuteTime": {
     "end_time": "2022-02-19T18:22:28.082577Z",
     "start_time": "2022-02-19T18:22:28.071936Z"
    }
   },
   "outputs": [
    {
     "data": {
      "text/html": [
       "<div>\n",
       "<style scoped>\n",
       "    .dataframe tbody tr th:only-of-type {\n",
       "        vertical-align: middle;\n",
       "    }\n",
       "\n",
       "    .dataframe tbody tr th {\n",
       "        vertical-align: top;\n",
       "    }\n",
       "\n",
       "    .dataframe thead th {\n",
       "        text-align: right;\n",
       "    }\n",
       "</style>\n",
       "<table border=\"1\" class=\"dataframe\">\n",
       "  <thead>\n",
       "    <tr style=\"text-align: right;\">\n",
       "      <th></th>\n",
       "      <th>id</th>\n",
       "      <th>嫄곗＜�멸뎄</th>\n",
       "      <th>洹쇰Т�멸뎄</th>\n",
       "      <th>諛⑸Ц�멸뎄</th>\n",
       "      <th>珥� �좊룞�멸뎄</th>\n",
       "      <th>�됯퇏 �띾룄</th>\n",
       "      <th>�됯퇏 �뚯슂 �쒓컙</th>\n",
       "      <th>�됯퇏 湲곗삩</th>\n",
       "      <th>�쇨컯�섎웾</th>\n",
       "      <th>�됯퇏 �띿냽</th>\n",
       "    </tr>\n",
       "  </thead>\n",
       "  <tbody>\n",
       "    <tr>\n",
       "      <th>count</th>\n",
       "      <td>9621.000000</td>\n",
       "      <td>9.621000e+03</td>\n",
       "      <td>9621.000000</td>\n",
       "      <td>9621.000000</td>\n",
       "      <td>9.621000e+03</td>\n",
       "      <td>9621.000000</td>\n",
       "      <td>9621.000000</td>\n",
       "      <td>9621.000000</td>\n",
       "      <td>9621.000000</td>\n",
       "      <td>9621.000000</td>\n",
       "    </tr>\n",
       "    <tr>\n",
       "      <th>mean</th>\n",
       "      <td>27258.000000</td>\n",
       "      <td>3.174315e+05</td>\n",
       "      <td>35471.201510</td>\n",
       "      <td>195889.561802</td>\n",
       "      <td>5.487922e+05</td>\n",
       "      <td>41.109084</td>\n",
       "      <td>37.215873</td>\n",
       "      <td>13.550828</td>\n",
       "      <td>6.972426</td>\n",
       "      <td>2.753171</td>\n",
       "    </tr>\n",
       "    <tr>\n",
       "      <th>std</th>\n",
       "      <td>2777.487804</td>\n",
       "      <td>2.982079e+05</td>\n",
       "      <td>40381.214775</td>\n",
       "      <td>140706.090325</td>\n",
       "      <td>4.608802e+05</td>\n",
       "      <td>8.758631</td>\n",
       "      <td>12.993786</td>\n",
       "      <td>7.745515</td>\n",
       "      <td>27.617260</td>\n",
       "      <td>1.498538</td>\n",
       "    </tr>\n",
       "    <tr>\n",
       "      <th>min</th>\n",
       "      <td>22448.000000</td>\n",
       "      <td>9.305552e+03</td>\n",
       "      <td>1407.936000</td>\n",
       "      <td>11538.322000</td>\n",
       "      <td>2.225181e+04</td>\n",
       "      <td>24.333000</td>\n",
       "      <td>12.667000</td>\n",
       "      <td>-9.600000</td>\n",
       "      <td>0.000000</td>\n",
       "      <td>0.000000</td>\n",
       "    </tr>\n",
       "    <tr>\n",
       "      <th>25%</th>\n",
       "      <td>24853.000000</td>\n",
       "      <td>9.539939e+04</td>\n",
       "      <td>12074.498000</td>\n",
       "      <td>99632.153000</td>\n",
       "      <td>2.216910e+05</td>\n",
       "      <td>34.250000</td>\n",
       "      <td>27.889000</td>\n",
       "      <td>7.600000</td>\n",
       "      <td>0.000000</td>\n",
       "      <td>1.700000</td>\n",
       "    </tr>\n",
       "    <tr>\n",
       "      <th>50%</th>\n",
       "      <td>27258.000000</td>\n",
       "      <td>2.221105e+05</td>\n",
       "      <td>21960.928000</td>\n",
       "      <td>152805.335000</td>\n",
       "      <td>3.866935e+05</td>\n",
       "      <td>39.640000</td>\n",
       "      <td>34.500000</td>\n",
       "      <td>13.400000</td>\n",
       "      <td>0.000000</td>\n",
       "      <td>2.400000</td>\n",
       "    </tr>\n",
       "    <tr>\n",
       "      <th>75%</th>\n",
       "      <td>29663.000000</td>\n",
       "      <td>4.106671e+05</td>\n",
       "      <td>40192.032000</td>\n",
       "      <td>236325.109000</td>\n",
       "      <td>6.406918e+05</td>\n",
       "      <td>49.105000</td>\n",
       "      <td>46.176000</td>\n",
       "      <td>19.700000</td>\n",
       "      <td>1.500000</td>\n",
       "      <td>3.400000</td>\n",
       "    </tr>\n",
       "    <tr>\n",
       "      <th>max</th>\n",
       "      <td>32068.000000</td>\n",
       "      <td>1.364504e+06</td>\n",
       "      <td>263476.965000</td>\n",
       "      <td>723459.209000</td>\n",
       "      <td>2.066484e+06</td>\n",
       "      <td>103.000000</td>\n",
       "      <td>172.200000</td>\n",
       "      <td>30.400000</td>\n",
       "      <td>587.500000</td>\n",
       "      <td>13.333000</td>\n",
       "    </tr>\n",
       "  </tbody>\n",
       "</table>\n",
       "</div>"
      ],
      "text/plain": [
       "                 id          嫄곗＜�멸뎄           洹쇰Т�멸뎄           諛⑸Ц�멸뎄        珥� �좊룞�멸뎄  \\\n",
       "count   9621.000000  9.621000e+03    9621.000000    9621.000000  9.621000e+03   \n",
       "mean   27258.000000  3.174315e+05   35471.201510  195889.561802  5.487922e+05   \n",
       "std     2777.487804  2.982079e+05   40381.214775  140706.090325  4.608802e+05   \n",
       "min    22448.000000  9.305552e+03    1407.936000   11538.322000  2.225181e+04   \n",
       "25%    24853.000000  9.539939e+04   12074.498000   99632.153000  2.216910e+05   \n",
       "50%    27258.000000  2.221105e+05   21960.928000  152805.335000  3.866935e+05   \n",
       "75%    29663.000000  4.106671e+05   40192.032000  236325.109000  6.406918e+05   \n",
       "max    32068.000000  1.364504e+06  263476.965000  723459.209000  2.066484e+06   \n",
       "\n",
       "             �됯퇏 �띾룄     �됯퇏 �뚯슂 �쒓컙        �됯퇏 湲곗삩         �쇨컯�섎웾        �됯퇏 �띿냽  \n",
       "count  9621.000000  9621.000000  9621.000000  9621.000000  9621.000000  \n",
       "mean     41.109084    37.215873    13.550828     6.972426     2.753171  \n",
       "std       8.758631    12.993786     7.745515    27.617260     1.498538  \n",
       "min      24.333000    12.667000    -9.600000     0.000000     0.000000  \n",
       "25%      34.250000    27.889000     7.600000     0.000000     1.700000  \n",
       "50%      39.640000    34.500000    13.400000     0.000000     2.400000  \n",
       "75%      49.105000    46.176000    19.700000     1.500000     3.400000  \n",
       "max     103.000000   172.200000    30.400000   587.500000    13.333000  "
      ]
     },
     "execution_count": 29,
     "metadata": {},
     "output_type": "execute_result"
    }
   ],
   "source": [
    "Ans"
   ]
  },
  {
   "cell_type": "markdown",
   "metadata": {},
   "source": [
    "```{admonition} Question 16\n",
    "**嫄곗＜�멸뎄 而щ읆�� 媛믩뱾�� 異쒕젰�섎씪**\n",
    "```"
   ]
  },
  {
   "cell_type": "markdown",
   "metadata": {},
   "source": [
    "```{admonition} 16踰� �좏뒠釉� ����\n",
    ":class: dropdown\n",
    "<div style=\"text-align: center\"><iframe width=\"700\" height=\"500\" src=https://www.youtube.com/embed/PxTIbZJ3xrA?start=2205&end=2370></iframe></div>\n",
    "```"
   ]
  },
  {
   "cell_type": "code",
   "execution_count": 30,
   "metadata": {
    "ExecuteTime": {
     "end_time": "2022-02-19T18:22:28.086195Z",
     "start_time": "2022-02-19T18:22:28.083923Z"
    },
    "tags": [
     "hide-input"
    ]
   },
   "outputs": [],
   "source": [
    "Ans = df['嫄곗＜�멸뎄']"
   ]
  },
  {
   "cell_type": "code",
   "execution_count": 31,
   "metadata": {
    "ExecuteTime": {
     "end_time": "2022-02-19T18:22:28.091720Z",
     "start_time": "2022-02-19T18:22:28.087518Z"
    }
   },
   "outputs": [
    {
     "data": {
      "text/plain": [
       "0         32249.987\n",
       "1        213500.997\n",
       "2       1212382.218\n",
       "3         33991.653\n",
       "4        155036.925\n",
       "           ...     \n",
       "9616     228260.005\n",
       "9617     459959.064\n",
       "9618      28397.481\n",
       "9619     348037.846\n",
       "9620    1010643.372\n",
       "Name: 嫄곗＜�멸뎄, Length: 9621, dtype: float64"
      ]
     },
     "execution_count": 31,
     "metadata": {},
     "output_type": "execute_result"
    }
   ],
   "source": [
    "Ans"
   ]
  },
  {
   "cell_type": "markdown",
   "metadata": {},
   "source": [
    "```{admonition} Question 17\n",
    "**�됯퇏 �띾룄 而щ읆�� 4遺꾩쐞 踰붿쐞(IQR) 媛믪쓣 援ы븯�щ씪**\n",
    "```"
   ]
  },
  {
   "cell_type": "markdown",
   "metadata": {},
   "source": [
    "\n",
    "```{admonition} 17踰� �좏뒠釉� ����\n",
    ":class: dropdown\n",
    "<div style=\"text-align: center\"><iframe width=\"700\" height=\"500\" src=https://www.youtube.com/embed/PxTIbZJ3xrA?start=2372&end=2546></iframe></div>\n",
    "```"
   ]
  },
  {
   "cell_type": "code",
   "execution_count": 32,
   "metadata": {
    "ExecuteTime": {
     "end_time": "2022-02-19T18:22:28.097422Z",
     "start_time": "2022-02-19T18:22:28.093294Z"
    },
    "tags": [
     "hide-input"
    ]
   },
   "outputs": [],
   "source": [
    "Ans  = df['�됯퇏 �띾룄'].quantile(0.75) -df['�됯퇏 �띾룄'].quantile(0.25)"
   ]
  },
  {
   "cell_type": "code",
   "execution_count": 33,
   "metadata": {
    "ExecuteTime": {
     "end_time": "2022-02-19T18:22:28.101635Z",
     "start_time": "2022-02-19T18:22:28.098778Z"
    }
   },
   "outputs": [
    {
     "data": {
      "text/plain": [
       "14.854999999999997"
      ]
     },
     "execution_count": 33,
     "metadata": {},
     "output_type": "execute_result"
    }
   ],
   "source": [
    "Ans"
   ]
  },
  {
   "cell_type": "markdown",
   "metadata": {},
   "source": [
    "```{admonition} Question 18\n",
    "**�띾㈃�숇챸 而щ읆�� �좎씪媛� 媛�닔瑜� 異쒕젰�섎씪**\n",
    "```"
   ]
  },
  {
   "cell_type": "markdown",
   "metadata": {},
   "source": [
    "```{admonition} 18踰� �좏뒠釉� ����\n",
    ":class: dropdown\n",
    "<div style=\"text-align: center\"><iframe width=\"700\" height=\"500\" src=https://www.youtube.com/embed/PxTIbZJ3xrA?start=2548&end=2638></iframe></div>\n",
    "```"
   ]
  },
  {
   "cell_type": "code",
   "execution_count": 34,
   "metadata": {
    "ExecuteTime": {
     "end_time": "2022-02-19T18:22:28.105188Z",
     "start_time": "2022-02-19T18:22:28.102746Z"
    },
    "tags": [
     "hide-input"
    ]
   },
   "outputs": [],
   "source": [
    "Ans = df.�띾㈃�숇챸.nunique()"
   ]
  },
  {
   "cell_type": "code",
   "execution_count": 35,
   "metadata": {
    "ExecuteTime": {
     "end_time": "2022-02-19T18:22:28.109460Z",
     "start_time": "2022-02-19T18:22:28.106646Z"
    }
   },
   "outputs": [
    {
     "data": {
      "text/plain": [
       "41"
      ]
     },
     "execution_count": 35,
     "metadata": {},
     "output_type": "execute_result"
    }
   ],
   "source": [
    "Ans"
   ]
  },
  {
   "cell_type": "markdown",
   "metadata": {},
   "source": [
    "```{admonition} Question 19\n",
    "**�띾㈃�숇챸 而щ읆�� �좎씪媛믪쓣 紐⑤몢 異쒕젰�섎씪**\n",
    "```"
   ]
  },
  {
   "cell_type": "markdown",
   "metadata": {},
   "source": [
    "```{admonition} 19踰� �좏뒠釉� ����\n",
    ":class: dropdown\n",
    "<div style=\"text-align: center\"><iframe width=\"700\" height=\"500\" src=https://www.youtube.com/embed/PxTIbZJ3xrA?start=2640&end=2673></iframe></div>\n",
    "```"
   ]
  },
  {
   "cell_type": "code",
   "execution_count": 36,
   "metadata": {
    "ExecuteTime": {
     "end_time": "2022-02-19T18:22:28.113058Z",
     "start_time": "2022-02-19T18:22:28.110748Z"
    },
    "tags": [
     "hide-input"
    ]
   },
   "outputs": [],
   "source": [
    "Ans = df.�띾㈃�숇챸.unique()"
   ]
  },
  {
   "cell_type": "code",
   "execution_count": 37,
   "metadata": {
    "ExecuteTime": {
     "end_time": "2022-02-19T18:22:28.117223Z",
     "start_time": "2022-02-19T18:22:28.114310Z"
    }
   },
   "outputs": [
    {
     "data": {
      "text/plain": [
       "array(['�꾨몢��', '�몃룄��', '�대룄2��', '�쇰룄1��', '��泥쒕룞', '�쒗솉��', '�쒓꼍硫�', '�≪궛��', '議곗쿇��',\n",
       "       '�쇰룄2��', '�곸쿇��', '�덈옒��', '��瑜쒕룞', '�쇰룄1��', '�댄샇��', '嫄댁엯��', '以묒븰��', '�쇱뼇��',\n",
       "       '�쇰룄2��', '�대룄1��', '�⑥썝��', '���뺤쓭', '�뺣갑��', '�⑤룉��', '�꾨씪��', '�쒕┝��', '援ъ쥖��',\n",
       "       '�⑸떞1��', '�ㅻ씪��', '�붾턿��', '�곕룞', '�쒖꽑硫�', '以묐Ц��', '�깆궛��', '�덈뜒硫�', '泥쒖���',\n",
       "       '�명삎��', '�숉솉��', '�⑸떞2��', '遊됯컻��', '�좎썡��'], dtype=object)"
      ]
     },
     "execution_count": 37,
     "metadata": {},
     "output_type": "execute_result"
    }
   ],
   "source": [
    "Ans"
   ]
  },
  {
   "cell_type": "markdown",
   "metadata": {},
   "source": [
    "## 02 Filtering & Sorting"
   ]
  },
  {
   "cell_type": "markdown",
   "metadata": {},
   "source": [
    "```{attention} \n",
    "�앸떦�곗씠�� : https://github.com/justmarkham/DAT8/blob/master/data/chipotle.tsv  \n",
    "**DataUrl = 'https://raw.githubusercontent.com/Datamanim/pandas/main/chipo.csv'**\n",
    "```"
   ]
  },
  {
   "cell_type": "markdown",
   "metadata": {},
   "source": [
    "```{admonition} Question 20\n",
    "**�곗씠�곕� 濡쒕뱶�섎씪.**\n",
    "```"
   ]
  },
  {
   "cell_type": "markdown",
   "metadata": {},
   "source": [
    "```{admonition} 20踰� �좏뒠釉� ����\n",
    ":class: dropdown\n",
    "<div style=\"text-align: center\"><iframe width=\"700\" height=\"500\" src=https://www.youtube.com/embed/PxTIbZJ3xrA?start=2675&end=2714></iframe></div>\n",
    "```"
   ]
  },
  {
   "cell_type": "code",
   "execution_count": 38,
   "metadata": {
    "ExecuteTime": {
     "end_time": "2022-02-19T18:22:28.169580Z",
     "start_time": "2022-02-19T18:22:28.118547Z"
    }
   },
   "outputs": [],
   "source": [
    "DataUrl = 'https://raw.githubusercontent.com/Datamanim/pandas/main/chipo.csv'\n",
    "df = pd.read_csv(DataUrl)\n",
    "Ans = type(df)"
   ]
  },
  {
   "cell_type": "code",
   "execution_count": 39,
   "metadata": {
    "ExecuteTime": {
     "end_time": "2022-02-19T18:22:28.174653Z",
     "start_time": "2022-02-19T18:22:28.171342Z"
    }
   },
   "outputs": [
    {
     "data": {
      "text/plain": [
       "pandas.core.frame.DataFrame"
      ]
     },
     "execution_count": 39,
     "metadata": {},
     "output_type": "execute_result"
    }
   ],
   "source": [
    "Ans"
   ]
  },
  {
   "cell_type": "markdown",
   "metadata": {},
   "source": [
    "```{admonition} Question 21\n",
    "**quantity而щ읆 媛믪씠 3�� �곗씠�곕� 異붿텧�섏뿬 泥� 5�됱쓣 異쒕젰�섎씪**\n",
    "```"
   ]
  },
  {
   "cell_type": "markdown",
   "metadata": {},
   "source": [
    "```{admonition} 21踰� �좏뒠釉� ����\n",
    ":class: dropdown\n",
    "<div style=\"text-align: center\"><iframe width=\"700\" height=\"500\" src=https://www.youtube.com/embed/PxTIbZJ3xrA?start=2716&end=3028></iframe></div>\n",
    "```"
   ]
  },
  {
   "cell_type": "code",
   "execution_count": 40,
   "metadata": {
    "ExecuteTime": {
     "end_time": "2022-02-19T18:22:28.179428Z",
     "start_time": "2022-02-19T18:22:28.176010Z"
    },
    "tags": [
     "hide-input"
    ]
   },
   "outputs": [],
   "source": [
    "Ans = df.loc[df['quantity']==3].head()"
   ]
  },
  {
   "cell_type": "code",
   "execution_count": 41,
   "metadata": {
    "ExecuteTime": {
     "end_time": "2022-02-19T18:22:28.189147Z",
     "start_time": "2022-02-19T18:22:28.181147Z"
    }
   },
   "outputs": [
    {
     "data": {
      "text/html": [
       "<div>\n",
       "<style scoped>\n",
       "    .dataframe tbody tr th:only-of-type {\n",
       "        vertical-align: middle;\n",
       "    }\n",
       "\n",
       "    .dataframe tbody tr th {\n",
       "        vertical-align: top;\n",
       "    }\n",
       "\n",
       "    .dataframe thead th {\n",
       "        text-align: right;\n",
       "    }\n",
       "</style>\n",
       "<table border=\"1\" class=\"dataframe\">\n",
       "  <thead>\n",
       "    <tr style=\"text-align: right;\">\n",
       "      <th></th>\n",
       "      <th>order_id</th>\n",
       "      <th>quantity</th>\n",
       "      <th>item_name</th>\n",
       "      <th>choice_description</th>\n",
       "      <th>item_price</th>\n",
       "    </tr>\n",
       "  </thead>\n",
       "  <tbody>\n",
       "    <tr>\n",
       "      <th>409</th>\n",
       "      <td>178</td>\n",
       "      <td>3</td>\n",
       "      <td>Chicken Bowl</td>\n",
       "      <td>[[Fresh Tomato Salsa (Mild), Tomatillo-Green C...</td>\n",
       "      <td>$32.94</td>\n",
       "    </tr>\n",
       "    <tr>\n",
       "      <th>445</th>\n",
       "      <td>193</td>\n",
       "      <td>3</td>\n",
       "      <td>Bowl</td>\n",
       "      <td>[Braised Carnitas, Pinto Beans, [Sour Cream, C...</td>\n",
       "      <td>$22.20</td>\n",
       "    </tr>\n",
       "    <tr>\n",
       "      <th>689</th>\n",
       "      <td>284</td>\n",
       "      <td>3</td>\n",
       "      <td>Canned Soft Drink</td>\n",
       "      <td>[Diet Coke]</td>\n",
       "      <td>$3.75</td>\n",
       "    </tr>\n",
       "    <tr>\n",
       "      <th>818</th>\n",
       "      <td>338</td>\n",
       "      <td>3</td>\n",
       "      <td>Bottled Water</td>\n",
       "      <td>NaN</td>\n",
       "      <td>$3.27</td>\n",
       "    </tr>\n",
       "    <tr>\n",
       "      <th>850</th>\n",
       "      <td>350</td>\n",
       "      <td>3</td>\n",
       "      <td>Canned Soft Drink</td>\n",
       "      <td>[Sprite]</td>\n",
       "      <td>$3.75</td>\n",
       "    </tr>\n",
       "  </tbody>\n",
       "</table>\n",
       "</div>"
      ],
      "text/plain": [
       "     order_id  quantity          item_name  \\\n",
       "409       178         3       Chicken Bowl   \n",
       "445       193         3               Bowl   \n",
       "689       284         3  Canned Soft Drink   \n",
       "818       338         3      Bottled Water   \n",
       "850       350         3  Canned Soft Drink   \n",
       "\n",
       "                                    choice_description item_price  \n",
       "409  [[Fresh Tomato Salsa (Mild), Tomatillo-Green C...    $32.94   \n",
       "445  [Braised Carnitas, Pinto Beans, [Sour Cream, C...    $22.20   \n",
       "689                                        [Diet Coke]     $3.75   \n",
       "818                                                NaN     $3.27   \n",
       "850                                           [Sprite]     $3.75   "
      ]
     },
     "execution_count": 41,
     "metadata": {},
     "output_type": "execute_result"
    }
   ],
   "source": [
    "Ans"
   ]
  },
  {
   "cell_type": "markdown",
   "metadata": {},
   "source": [
    "```{admonition} Question 22\n",
    "**quantity而щ읆 媛믪씠 3�� �곗씠�곕� 異붿텧�섏뿬 index瑜� 0遺��� �뺣젹�섍퀬 泥� 5�됱쓣 異쒕젰�섎씪**\n",
    "```"
   ]
  },
  {
   "cell_type": "markdown",
   "metadata": {},
   "source": [
    "```{admonition} 22踰� �좏뒠釉� ����\n",
    ":class: dropdown\n",
    "<div style=\"text-align: center\"><iframe width=\"700\" height=\"500\" src=https://www.youtube.com/embed/PxTIbZJ3xrA?start=3030&end=3133></iframe></div>\n",
    "```"
   ]
  },
  {
   "cell_type": "code",
   "execution_count": 42,
   "metadata": {
    "ExecuteTime": {
     "end_time": "2022-02-19T18:22:28.193938Z",
     "start_time": "2022-02-19T18:22:28.190836Z"
    },
    "tags": [
     "hide-input"
    ]
   },
   "outputs": [],
   "source": [
    "Ans = df.loc[df['quantity']==3].head().reset_index(drop=True)"
   ]
  },
  {
   "cell_type": "code",
   "execution_count": 43,
   "metadata": {
    "ExecuteTime": {
     "end_time": "2022-02-19T18:22:28.201865Z",
     "start_time": "2022-02-19T18:22:28.195411Z"
    }
   },
   "outputs": [
    {
     "data": {
      "text/html": [
       "<div>\n",
       "<style scoped>\n",
       "    .dataframe tbody tr th:only-of-type {\n",
       "        vertical-align: middle;\n",
       "    }\n",
       "\n",
       "    .dataframe tbody tr th {\n",
       "        vertical-align: top;\n",
       "    }\n",
       "\n",
       "    .dataframe thead th {\n",
       "        text-align: right;\n",
       "    }\n",
       "</style>\n",
       "<table border=\"1\" class=\"dataframe\">\n",
       "  <thead>\n",
       "    <tr style=\"text-align: right;\">\n",
       "      <th></th>\n",
       "      <th>order_id</th>\n",
       "      <th>quantity</th>\n",
       "      <th>item_name</th>\n",
       "      <th>choice_description</th>\n",
       "      <th>item_price</th>\n",
       "    </tr>\n",
       "  </thead>\n",
       "  <tbody>\n",
       "    <tr>\n",
       "      <th>0</th>\n",
       "      <td>178</td>\n",
       "      <td>3</td>\n",
       "      <td>Chicken Bowl</td>\n",
       "      <td>[[Fresh Tomato Salsa (Mild), Tomatillo-Green C...</td>\n",
       "      <td>$32.94</td>\n",
       "    </tr>\n",
       "    <tr>\n",
       "      <th>1</th>\n",
       "      <td>193</td>\n",
       "      <td>3</td>\n",
       "      <td>Bowl</td>\n",
       "      <td>[Braised Carnitas, Pinto Beans, [Sour Cream, C...</td>\n",
       "      <td>$22.20</td>\n",
       "    </tr>\n",
       "    <tr>\n",
       "      <th>2</th>\n",
       "      <td>284</td>\n",
       "      <td>3</td>\n",
       "      <td>Canned Soft Drink</td>\n",
       "      <td>[Diet Coke]</td>\n",
       "      <td>$3.75</td>\n",
       "    </tr>\n",
       "    <tr>\n",
       "      <th>3</th>\n",
       "      <td>338</td>\n",
       "      <td>3</td>\n",
       "      <td>Bottled Water</td>\n",
       "      <td>NaN</td>\n",
       "      <td>$3.27</td>\n",
       "    </tr>\n",
       "    <tr>\n",
       "      <th>4</th>\n",
       "      <td>350</td>\n",
       "      <td>3</td>\n",
       "      <td>Canned Soft Drink</td>\n",
       "      <td>[Sprite]</td>\n",
       "      <td>$3.75</td>\n",
       "    </tr>\n",
       "  </tbody>\n",
       "</table>\n",
       "</div>"
      ],
      "text/plain": [
       "   order_id  quantity          item_name  \\\n",
       "0       178         3       Chicken Bowl   \n",
       "1       193         3               Bowl   \n",
       "2       284         3  Canned Soft Drink   \n",
       "3       338         3      Bottled Water   \n",
       "4       350         3  Canned Soft Drink   \n",
       "\n",
       "                                  choice_description item_price  \n",
       "0  [[Fresh Tomato Salsa (Mild), Tomatillo-Green C...    $32.94   \n",
       "1  [Braised Carnitas, Pinto Beans, [Sour Cream, C...    $22.20   \n",
       "2                                        [Diet Coke]     $3.75   \n",
       "3                                                NaN     $3.27   \n",
       "4                                           [Sprite]     $3.75   "
      ]
     },
     "execution_count": 43,
     "metadata": {},
     "output_type": "execute_result"
    }
   ],
   "source": [
    "Ans"
   ]
  },
  {
   "cell_type": "markdown",
   "metadata": {},
   "source": [
    "```{admonition} Question 23\n",
    "**quantity , item_price �먭컻�� 而щ읆�쇰줈 援ъ꽦�� �덈줈�� �곗씠�� �꾨젅�꾩쓣 �뺤쓽�섎씪**\n",
    "```"
   ]
  },
  {
   "cell_type": "markdown",
   "metadata": {},
   "source": [
    "```{admonition} 23踰� �좏뒠釉� ����\n",
    ":class: dropdown\n",
    "<div style=\"text-align: center\"><iframe width=\"700\" height=\"500\" src=https://www.youtube.com/embed/PxTIbZJ3xrA?start=3135&end=3262></iframe></div>\n",
    "```"
   ]
  },
  {
   "cell_type": "code",
   "execution_count": 44,
   "metadata": {
    "ExecuteTime": {
     "end_time": "2022-02-19T18:22:28.205882Z",
     "start_time": "2022-02-19T18:22:28.203031Z"
    },
    "tags": [
     "hide-input"
    ]
   },
   "outputs": [],
   "source": [
    "Ans =df[['quantity','item_price']]"
   ]
  },
  {
   "cell_type": "code",
   "execution_count": 45,
   "metadata": {
    "ExecuteTime": {
     "end_time": "2022-02-19T18:22:28.213596Z",
     "start_time": "2022-02-19T18:22:28.207212Z"
    }
   },
   "outputs": [
    {
     "data": {
      "text/html": [
       "<div>\n",
       "<style scoped>\n",
       "    .dataframe tbody tr th:only-of-type {\n",
       "        vertical-align: middle;\n",
       "    }\n",
       "\n",
       "    .dataframe tbody tr th {\n",
       "        vertical-align: top;\n",
       "    }\n",
       "\n",
       "    .dataframe thead th {\n",
       "        text-align: right;\n",
       "    }\n",
       "</style>\n",
       "<table border=\"1\" class=\"dataframe\">\n",
       "  <thead>\n",
       "    <tr style=\"text-align: right;\">\n",
       "      <th></th>\n",
       "      <th>quantity</th>\n",
       "      <th>item_price</th>\n",
       "    </tr>\n",
       "  </thead>\n",
       "  <tbody>\n",
       "    <tr>\n",
       "      <th>0</th>\n",
       "      <td>1</td>\n",
       "      <td>$2.39</td>\n",
       "    </tr>\n",
       "    <tr>\n",
       "      <th>1</th>\n",
       "      <td>1</td>\n",
       "      <td>$3.39</td>\n",
       "    </tr>\n",
       "    <tr>\n",
       "      <th>2</th>\n",
       "      <td>1</td>\n",
       "      <td>$3.39</td>\n",
       "    </tr>\n",
       "    <tr>\n",
       "      <th>3</th>\n",
       "      <td>1</td>\n",
       "      <td>$2.39</td>\n",
       "    </tr>\n",
       "    <tr>\n",
       "      <th>4</th>\n",
       "      <td>2</td>\n",
       "      <td>$16.98</td>\n",
       "    </tr>\n",
       "    <tr>\n",
       "      <th>...</th>\n",
       "      <td>...</td>\n",
       "      <td>...</td>\n",
       "    </tr>\n",
       "    <tr>\n",
       "      <th>4617</th>\n",
       "      <td>1</td>\n",
       "      <td>$11.75</td>\n",
       "    </tr>\n",
       "    <tr>\n",
       "      <th>4618</th>\n",
       "      <td>1</td>\n",
       "      <td>$11.75</td>\n",
       "    </tr>\n",
       "    <tr>\n",
       "      <th>4619</th>\n",
       "      <td>1</td>\n",
       "      <td>$11.25</td>\n",
       "    </tr>\n",
       "    <tr>\n",
       "      <th>4620</th>\n",
       "      <td>1</td>\n",
       "      <td>$8.75</td>\n",
       "    </tr>\n",
       "    <tr>\n",
       "      <th>4621</th>\n",
       "      <td>1</td>\n",
       "      <td>$8.75</td>\n",
       "    </tr>\n",
       "  </tbody>\n",
       "</table>\n",
       "<p>4622 rows 횞 2 columns</p>\n",
       "</div>"
      ],
      "text/plain": [
       "      quantity item_price\n",
       "0            1     $2.39 \n",
       "1            1     $3.39 \n",
       "2            1     $3.39 \n",
       "3            1     $2.39 \n",
       "4            2    $16.98 \n",
       "...        ...        ...\n",
       "4617         1    $11.75 \n",
       "4618         1    $11.75 \n",
       "4619         1    $11.25 \n",
       "4620         1     $8.75 \n",
       "4621         1     $8.75 \n",
       "\n",
       "[4622 rows x 2 columns]"
      ]
     },
     "execution_count": 45,
     "metadata": {},
     "output_type": "execute_result"
    }
   ],
   "source": [
    "Ans"
   ]
  },
  {
   "cell_type": "markdown",
   "metadata": {},
   "source": [
    "```{admonition} Question 24\n",
    "**item_price 而щ읆�� �щ윭�쒖떆 臾몄옄瑜� �쒓굅�섍퀬 float ���낆쑝濡� ���ν븯�� new_price 而щ읆�� ���ν븯��**\n",
    "```"
   ]
  },
  {
   "cell_type": "markdown",
   "metadata": {},
   "source": [
    "```{admonition} 24踰� �좏뒠釉� ����\n",
    ":class: dropdown\n",
    "<div style=\"text-align: center\"><iframe width=\"700\" height=\"500\" src=https://www.youtube.com/embed/PxTIbZJ3xrA?start=3264&end=3773></iframe></div>\n",
    "```"
   ]
  },
  {
   "cell_type": "code",
   "execution_count": 46,
   "metadata": {
    "ExecuteTime": {
     "end_time": "2022-02-19T18:22:28.219871Z",
     "start_time": "2022-02-19T18:22:28.214962Z"
    },
    "tags": [
     "hide-input"
    ]
   },
   "outputs": [],
   "source": [
    "df['new_price'] = df['item_price'].str[1:].astype('float')\n",
    "Ans = df['new_price'].head()"
   ]
  },
  {
   "cell_type": "code",
   "execution_count": 47,
   "metadata": {
    "ExecuteTime": {
     "end_time": "2022-02-19T18:22:28.224612Z",
     "start_time": "2022-02-19T18:22:28.221271Z"
    }
   },
   "outputs": [
    {
     "data": {
      "text/plain": [
       "0     2.39\n",
       "1     3.39\n",
       "2     3.39\n",
       "3     2.39\n",
       "4    16.98\n",
       "Name: new_price, dtype: float64"
      ]
     },
     "execution_count": 47,
     "metadata": {},
     "output_type": "execute_result"
    }
   ],
   "source": [
    "Ans"
   ]
  },
  {
   "cell_type": "markdown",
   "metadata": {},
   "source": [
    "```{admonition} Question 25\n",
    "**new_price 而щ읆�� 5�댄븯�� 媛믪쓣 媛�吏��� �곗씠�고봽�덉엫�� 異붿텧�섍퀬, �꾩껜 媛�닔瑜� 援ы븯�щ씪**\n",
    "```"
   ]
  },
  {
   "cell_type": "markdown",
   "metadata": {},
   "source": [
    "```{admonition} 25踰� �좏뒠釉� ����\n",
    ":class: dropdown\n",
    "<div style=\"text-align: center\"><iframe width=\"700\" height=\"500\" src=https://www.youtube.com/embed/PxTIbZJ3xrA?start=3775&end=3826></iframe></div>\n",
    "```"
   ]
  },
  {
   "cell_type": "code",
   "execution_count": 48,
   "metadata": {
    "ExecuteTime": {
     "end_time": "2022-02-19T18:22:28.228697Z",
     "start_time": "2022-02-19T18:22:28.225894Z"
    },
    "tags": [
     "hide-input"
    ]
   },
   "outputs": [],
   "source": [
    "Ans = len(df.loc[df.new_price <=5])"
   ]
  },
  {
   "cell_type": "code",
   "execution_count": 49,
   "metadata": {
    "ExecuteTime": {
     "end_time": "2022-02-19T18:22:28.232655Z",
     "start_time": "2022-02-19T18:22:28.229709Z"
    }
   },
   "outputs": [
    {
     "data": {
      "text/plain": [
       "1652"
      ]
     },
     "execution_count": 49,
     "metadata": {},
     "output_type": "execute_result"
    }
   ],
   "source": [
    "Ans"
   ]
  },
  {
   "cell_type": "markdown",
   "metadata": {},
   "source": [
    "```{admonition} Question 26\n",
    "**item_name紐낆씠 Chicken Salad Bowl �� �곗씠�� �꾨젅�꾩쓣 異붿텧�섎씪怨� index 媛믪쓣 珥덇린�� �섏뿬��**\n",
    "```"
   ]
  },
  {
   "cell_type": "markdown",
   "metadata": {},
   "source": [
    "```{admonition} 26踰� �좏뒠釉� ����\n",
    ":class: dropdown\n",
    "<div style=\"text-align: center\"><iframe width=\"700\" height=\"500\" src=https://www.youtube.com/embed/PxTIbZJ3xrA?start=3828&end=3886></iframe></div>\n",
    "```"
   ]
  },
  {
   "cell_type": "code",
   "execution_count": 50,
   "metadata": {
    "ExecuteTime": {
     "end_time": "2022-02-19T18:22:28.237178Z",
     "start_time": "2022-02-19T18:22:28.233959Z"
    },
    "tags": [
     "hide-input"
    ]
   },
   "outputs": [],
   "source": [
    "Ans = df.loc[df.item_name =='Chicken Salad Bowl'].reset_index(drop=True)"
   ]
  },
  {
   "cell_type": "code",
   "execution_count": 51,
   "metadata": {
    "ExecuteTime": {
     "end_time": "2022-02-19T18:22:28.245471Z",
     "start_time": "2022-02-19T18:22:28.238632Z"
    }
   },
   "outputs": [
    {
     "data": {
      "text/html": [
       "<div>\n",
       "<style scoped>\n",
       "    .dataframe tbody tr th:only-of-type {\n",
       "        vertical-align: middle;\n",
       "    }\n",
       "\n",
       "    .dataframe tbody tr th {\n",
       "        vertical-align: top;\n",
       "    }\n",
       "\n",
       "    .dataframe thead th {\n",
       "        text-align: right;\n",
       "    }\n",
       "</style>\n",
       "<table border=\"1\" class=\"dataframe\">\n",
       "  <thead>\n",
       "    <tr style=\"text-align: right;\">\n",
       "      <th></th>\n",
       "      <th>order_id</th>\n",
       "      <th>quantity</th>\n",
       "      <th>item_name</th>\n",
       "      <th>choice_description</th>\n",
       "      <th>item_price</th>\n",
       "      <th>new_price</th>\n",
       "    </tr>\n",
       "  </thead>\n",
       "  <tbody>\n",
       "    <tr>\n",
       "      <th>0</th>\n",
       "      <td>20</td>\n",
       "      <td>1</td>\n",
       "      <td>Chicken Salad Bowl</td>\n",
       "      <td>[Fresh Tomato Salsa, [Fajita Vegetables, Pinto...</td>\n",
       "      <td>$8.75</td>\n",
       "      <td>8.75</td>\n",
       "    </tr>\n",
       "    <tr>\n",
       "      <th>1</th>\n",
       "      <td>60</td>\n",
       "      <td>2</td>\n",
       "      <td>Chicken Salad Bowl</td>\n",
       "      <td>[Tomatillo Green Chili Salsa, [Sour Cream, Che...</td>\n",
       "      <td>$22.50</td>\n",
       "      <td>22.50</td>\n",
       "    </tr>\n",
       "    <tr>\n",
       "      <th>2</th>\n",
       "      <td>94</td>\n",
       "      <td>2</td>\n",
       "      <td>Chicken Salad Bowl</td>\n",
       "      <td>[Fresh Tomato Salsa, [Fajita Vegetables, Pinto...</td>\n",
       "      <td>$22.50</td>\n",
       "      <td>22.50</td>\n",
       "    </tr>\n",
       "  </tbody>\n",
       "</table>\n",
       "</div>"
      ],
      "text/plain": [
       "   order_id  quantity           item_name  \\\n",
       "0        20         1  Chicken Salad Bowl   \n",
       "1        60         2  Chicken Salad Bowl   \n",
       "2        94         2  Chicken Salad Bowl   \n",
       "\n",
       "                                  choice_description item_price  new_price  \n",
       "0  [Fresh Tomato Salsa, [Fajita Vegetables, Pinto...     $8.75        8.75  \n",
       "1  [Tomatillo Green Chili Salsa, [Sour Cream, Che...    $22.50       22.50  \n",
       "2  [Fresh Tomato Salsa, [Fajita Vegetables, Pinto...    $22.50       22.50  "
      ]
     },
     "execution_count": 51,
     "metadata": {},
     "output_type": "execute_result"
    }
   ],
   "source": [
    "Ans.head(3)"
   ]
  },
  {
   "cell_type": "markdown",
   "metadata": {},
   "source": [
    "```{admonition} Question 27\n",
    "**new_price媛믪씠 9 �댄븯�닿퀬 item_name 媛믪씠 Chicken Salad Bowl �� �곗씠�� �꾨젅�꾩쓣 異붿텧�섎씪**\n",
    "```"
   ]
  },
  {
   "cell_type": "markdown",
   "metadata": {},
   "source": [
    "```{admonition} 27踰� �좏뒠釉� ����\n",
    ":class: dropdown\n",
    "<div style=\"text-align: center\"><iframe width=\"700\" height=\"500\" src=https://www.youtube.com/embed/PxTIbZJ3xrA?start=3888&end=4006></iframe></div>\n",
    "```"
   ]
  },
  {
   "cell_type": "code",
   "execution_count": 52,
   "metadata": {
    "ExecuteTime": {
     "end_time": "2022-02-19T18:22:28.250097Z",
     "start_time": "2022-02-19T18:22:28.246827Z"
    },
    "tags": [
     "hide-input"
    ]
   },
   "outputs": [],
   "source": [
    "Ans = df.loc[(df.item_name =='Chicken Salad Bowl') & (df.new_price <= 9)]"
   ]
  },
  {
   "cell_type": "code",
   "execution_count": 53,
   "metadata": {
    "ExecuteTime": {
     "end_time": "2022-02-19T18:22:28.258646Z",
     "start_time": "2022-02-19T18:22:28.251423Z"
    }
   },
   "outputs": [
    {
     "data": {
      "text/html": [
       "<div>\n",
       "<style scoped>\n",
       "    .dataframe tbody tr th:only-of-type {\n",
       "        vertical-align: middle;\n",
       "    }\n",
       "\n",
       "    .dataframe tbody tr th {\n",
       "        vertical-align: top;\n",
       "    }\n",
       "\n",
       "    .dataframe thead th {\n",
       "        text-align: right;\n",
       "    }\n",
       "</style>\n",
       "<table border=\"1\" class=\"dataframe\">\n",
       "  <thead>\n",
       "    <tr style=\"text-align: right;\">\n",
       "      <th></th>\n",
       "      <th>order_id</th>\n",
       "      <th>quantity</th>\n",
       "      <th>item_name</th>\n",
       "      <th>choice_description</th>\n",
       "      <th>item_price</th>\n",
       "      <th>new_price</th>\n",
       "    </tr>\n",
       "  </thead>\n",
       "  <tbody>\n",
       "    <tr>\n",
       "      <th>44</th>\n",
       "      <td>20</td>\n",
       "      <td>1</td>\n",
       "      <td>Chicken Salad Bowl</td>\n",
       "      <td>[Fresh Tomato Salsa, [Fajita Vegetables, Pinto...</td>\n",
       "      <td>$8.75</td>\n",
       "      <td>8.75</td>\n",
       "    </tr>\n",
       "    <tr>\n",
       "      <th>256</th>\n",
       "      <td>111</td>\n",
       "      <td>1</td>\n",
       "      <td>Chicken Salad Bowl</td>\n",
       "      <td>[Fresh Tomato Salsa, [Fajita Vegetables, Rice,...</td>\n",
       "      <td>$8.75</td>\n",
       "      <td>8.75</td>\n",
       "    </tr>\n",
       "    <tr>\n",
       "      <th>526</th>\n",
       "      <td>220</td>\n",
       "      <td>1</td>\n",
       "      <td>Chicken Salad Bowl</td>\n",
       "      <td>[Roasted Chili Corn Salsa, [Black Beans, Sour ...</td>\n",
       "      <td>$8.75</td>\n",
       "      <td>8.75</td>\n",
       "    </tr>\n",
       "    <tr>\n",
       "      <th>528</th>\n",
       "      <td>221</td>\n",
       "      <td>1</td>\n",
       "      <td>Chicken Salad Bowl</td>\n",
       "      <td>[Tomatillo Green Chili Salsa, [Fajita Vegetabl...</td>\n",
       "      <td>$8.75</td>\n",
       "      <td>8.75</td>\n",
       "    </tr>\n",
       "    <tr>\n",
       "      <th>529</th>\n",
       "      <td>221</td>\n",
       "      <td>1</td>\n",
       "      <td>Chicken Salad Bowl</td>\n",
       "      <td>[Tomatillo Green Chili Salsa, [Fajita Vegetabl...</td>\n",
       "      <td>$8.75</td>\n",
       "      <td>8.75</td>\n",
       "    </tr>\n",
       "  </tbody>\n",
       "</table>\n",
       "</div>"
      ],
      "text/plain": [
       "     order_id  quantity           item_name  \\\n",
       "44         20         1  Chicken Salad Bowl   \n",
       "256       111         1  Chicken Salad Bowl   \n",
       "526       220         1  Chicken Salad Bowl   \n",
       "528       221         1  Chicken Salad Bowl   \n",
       "529       221         1  Chicken Salad Bowl   \n",
       "\n",
       "                                    choice_description item_price  new_price  \n",
       "44   [Fresh Tomato Salsa, [Fajita Vegetables, Pinto...     $8.75        8.75  \n",
       "256  [Fresh Tomato Salsa, [Fajita Vegetables, Rice,...     $8.75        8.75  \n",
       "526  [Roasted Chili Corn Salsa, [Black Beans, Sour ...     $8.75        8.75  \n",
       "528  [Tomatillo Green Chili Salsa, [Fajita Vegetabl...     $8.75        8.75  \n",
       "529  [Tomatillo Green Chili Salsa, [Fajita Vegetabl...     $8.75        8.75  "
      ]
     },
     "execution_count": 53,
     "metadata": {},
     "output_type": "execute_result"
    }
   ],
   "source": [
    "Ans.head(5)"
   ]
  },
  {
   "cell_type": "markdown",
   "metadata": {},
   "source": [
    "```{admonition} Question 28\n",
    "**df�� new_price 而щ읆 媛믪뿉 �곕씪 �ㅻ쫫李⑥닚�쇰줈 �뺣━�섍퀬 index瑜� 珥덇린�� �섏뿬��**\n",
    "```"
   ]
  },
  {
   "cell_type": "markdown",
   "metadata": {},
   "source": [
    "```{admonition} 28踰� �좏뒠釉� ����\n",
    ":class: dropdown\n",
    "<div style=\"text-align: center\"><iframe width=\"700\" height=\"500\" src=https://www.youtube.com/embed/PxTIbZJ3xrA?start=4008&end=4163></iframe></div>\n",
    "```"
   ]
  },
  {
   "cell_type": "code",
   "execution_count": 54,
   "metadata": {
    "ExecuteTime": {
     "end_time": "2022-02-19T18:22:28.263045Z",
     "start_time": "2022-02-19T18:22:28.259732Z"
    },
    "tags": [
     "hide-input"
    ]
   },
   "outputs": [],
   "source": [
    "Ans = df.sort_values('new_price').reset_index(drop=True)"
   ]
  },
  {
   "cell_type": "code",
   "execution_count": 55,
   "metadata": {
    "ExecuteTime": {
     "end_time": "2022-02-19T18:22:28.271159Z",
     "start_time": "2022-02-19T18:22:28.264264Z"
    }
   },
   "outputs": [
    {
     "data": {
      "text/html": [
       "<div>\n",
       "<style scoped>\n",
       "    .dataframe tbody tr th:only-of-type {\n",
       "        vertical-align: middle;\n",
       "    }\n",
       "\n",
       "    .dataframe tbody tr th {\n",
       "        vertical-align: top;\n",
       "    }\n",
       "\n",
       "    .dataframe thead th {\n",
       "        text-align: right;\n",
       "    }\n",
       "</style>\n",
       "<table border=\"1\" class=\"dataframe\">\n",
       "  <thead>\n",
       "    <tr style=\"text-align: right;\">\n",
       "      <th></th>\n",
       "      <th>order_id</th>\n",
       "      <th>quantity</th>\n",
       "      <th>item_name</th>\n",
       "      <th>choice_description</th>\n",
       "      <th>item_price</th>\n",
       "      <th>new_price</th>\n",
       "    </tr>\n",
       "  </thead>\n",
       "  <tbody>\n",
       "    <tr>\n",
       "      <th>0</th>\n",
       "      <td>471</td>\n",
       "      <td>1</td>\n",
       "      <td>Bottled Water</td>\n",
       "      <td>NaN</td>\n",
       "      <td>$1.09</td>\n",
       "      <td>1.09</td>\n",
       "    </tr>\n",
       "    <tr>\n",
       "      <th>1</th>\n",
       "      <td>338</td>\n",
       "      <td>1</td>\n",
       "      <td>Canned Soda</td>\n",
       "      <td>[Coca Cola]</td>\n",
       "      <td>$1.09</td>\n",
       "      <td>1.09</td>\n",
       "    </tr>\n",
       "    <tr>\n",
       "      <th>2</th>\n",
       "      <td>1575</td>\n",
       "      <td>1</td>\n",
       "      <td>Canned Soda</td>\n",
       "      <td>[Dr. Pepper]</td>\n",
       "      <td>$1.09</td>\n",
       "      <td>1.09</td>\n",
       "    </tr>\n",
       "    <tr>\n",
       "      <th>3</th>\n",
       "      <td>47</td>\n",
       "      <td>1</td>\n",
       "      <td>Canned Soda</td>\n",
       "      <td>[Dr. Pepper]</td>\n",
       "      <td>$1.09</td>\n",
       "      <td>1.09</td>\n",
       "    </tr>\n",
       "  </tbody>\n",
       "</table>\n",
       "</div>"
      ],
      "text/plain": [
       "   order_id  quantity      item_name choice_description item_price  new_price\n",
       "0       471         1  Bottled Water                NaN     $1.09        1.09\n",
       "1       338         1    Canned Soda        [Coca Cola]     $1.09        1.09\n",
       "2      1575         1    Canned Soda       [Dr. Pepper]     $1.09        1.09\n",
       "3        47         1    Canned Soda       [Dr. Pepper]     $1.09        1.09"
      ]
     },
     "execution_count": 55,
     "metadata": {},
     "output_type": "execute_result"
    }
   ],
   "source": [
    "Ans.head(4)"
   ]
  },
  {
   "cell_type": "markdown",
   "metadata": {},
   "source": [
    "```{admonition} Question 29\n",
    "**df�� item_name 而щ읆 媛믪쨷 Chips �ы븿�섎뒗 寃쎌슦�� �곗씠�곕� 異쒕젰�섎씪**\n",
    "```"
   ]
  },
  {
   "cell_type": "markdown",
   "metadata": {},
   "source": [
    "```{admonition} 29踰� �좏뒠釉� ����\n",
    ":class: dropdown\n",
    "<div style=\"text-align: center\"><iframe width=\"700\" height=\"500\" src=https://www.youtube.com/embed/PxTIbZJ3xrA?start=4165&end=4313></iframe></div>\n",
    "```"
   ]
  },
  {
   "cell_type": "code",
   "execution_count": 56,
   "metadata": {
    "ExecuteTime": {
     "end_time": "2022-02-19T18:22:28.277344Z",
     "start_time": "2022-02-19T18:22:28.272613Z"
    },
    "tags": [
     "hide-input"
    ]
   },
   "outputs": [],
   "source": [
    "Ans = df.loc[df.item_name.str.contains('Chips')]"
   ]
  },
  {
   "cell_type": "code",
   "execution_count": 57,
   "metadata": {
    "ExecuteTime": {
     "end_time": "2022-02-19T18:22:28.286193Z",
     "start_time": "2022-02-19T18:22:28.278716Z"
    }
   },
   "outputs": [
    {
     "data": {
      "text/html": [
       "<div>\n",
       "<style scoped>\n",
       "    .dataframe tbody tr th:only-of-type {\n",
       "        vertical-align: middle;\n",
       "    }\n",
       "\n",
       "    .dataframe tbody tr th {\n",
       "        vertical-align: top;\n",
       "    }\n",
       "\n",
       "    .dataframe thead th {\n",
       "        text-align: right;\n",
       "    }\n",
       "</style>\n",
       "<table border=\"1\" class=\"dataframe\">\n",
       "  <thead>\n",
       "    <tr style=\"text-align: right;\">\n",
       "      <th></th>\n",
       "      <th>order_id</th>\n",
       "      <th>quantity</th>\n",
       "      <th>item_name</th>\n",
       "      <th>choice_description</th>\n",
       "      <th>item_price</th>\n",
       "      <th>new_price</th>\n",
       "    </tr>\n",
       "  </thead>\n",
       "  <tbody>\n",
       "    <tr>\n",
       "      <th>0</th>\n",
       "      <td>1</td>\n",
       "      <td>1</td>\n",
       "      <td>Chips and Fresh Tomato Salsa</td>\n",
       "      <td>NaN</td>\n",
       "      <td>$2.39</td>\n",
       "      <td>2.39</td>\n",
       "    </tr>\n",
       "    <tr>\n",
       "      <th>3</th>\n",
       "      <td>1</td>\n",
       "      <td>1</td>\n",
       "      <td>Chips and Tomatillo-Green Chili Salsa</td>\n",
       "      <td>NaN</td>\n",
       "      <td>$2.39</td>\n",
       "      <td>2.39</td>\n",
       "    </tr>\n",
       "    <tr>\n",
       "      <th>6</th>\n",
       "      <td>3</td>\n",
       "      <td>1</td>\n",
       "      <td>Side of Chips</td>\n",
       "      <td>NaN</td>\n",
       "      <td>$1.69</td>\n",
       "      <td>1.69</td>\n",
       "    </tr>\n",
       "    <tr>\n",
       "      <th>10</th>\n",
       "      <td>5</td>\n",
       "      <td>1</td>\n",
       "      <td>Chips and Guacamole</td>\n",
       "      <td>NaN</td>\n",
       "      <td>$4.45</td>\n",
       "      <td>4.45</td>\n",
       "    </tr>\n",
       "    <tr>\n",
       "      <th>14</th>\n",
       "      <td>7</td>\n",
       "      <td>1</td>\n",
       "      <td>Chips and Guacamole</td>\n",
       "      <td>NaN</td>\n",
       "      <td>$4.45</td>\n",
       "      <td>4.45</td>\n",
       "    </tr>\n",
       "  </tbody>\n",
       "</table>\n",
       "</div>"
      ],
      "text/plain": [
       "    order_id  quantity                              item_name  \\\n",
       "0          1         1           Chips and Fresh Tomato Salsa   \n",
       "3          1         1  Chips and Tomatillo-Green Chili Salsa   \n",
       "6          3         1                          Side of Chips   \n",
       "10         5         1                    Chips and Guacamole   \n",
       "14         7         1                    Chips and Guacamole   \n",
       "\n",
       "   choice_description item_price  new_price  \n",
       "0                 NaN     $2.39        2.39  \n",
       "3                 NaN     $2.39        2.39  \n",
       "6                 NaN     $1.69        1.69  \n",
       "10                NaN     $4.45        4.45  \n",
       "14                NaN     $4.45        4.45  "
      ]
     },
     "execution_count": 57,
     "metadata": {},
     "output_type": "execute_result"
    }
   ],
   "source": [
    "Ans.head(5)"
   ]
  },
  {
   "cell_type": "markdown",
   "metadata": {},
   "source": [
    "```{admonition} Question 30\n",
    "**df�� 吏앹닔踰덉㎏ 而щ읆留뚯쓣 �ы븿�섎뒗 �곗씠�고봽�덉엫�� 異쒕젰�섎씪**\n",
    "```"
   ]
  },
  {
   "cell_type": "markdown",
   "metadata": {},
   "source": [
    "```{admonition} 30踰� �좏뒠釉� ����\n",
    ":class: dropdown\n",
    "<div style=\"text-align: center\"><iframe width=\"700\" height=\"500\" src=https://www.youtube.com/embed/PxTIbZJ3xrA?start=4315&end=4498></iframe></div>\n",
    "```"
   ]
  },
  {
   "cell_type": "code",
   "execution_count": 58,
   "metadata": {
    "ExecuteTime": {
     "end_time": "2022-02-19T18:22:28.290258Z",
     "start_time": "2022-02-19T18:22:28.287547Z"
    },
    "tags": [
     "hide-input"
    ]
   },
   "outputs": [],
   "source": [
    "Ans = df.iloc[:,::2]"
   ]
  },
  {
   "cell_type": "code",
   "execution_count": 59,
   "metadata": {
    "ExecuteTime": {
     "end_time": "2022-02-19T18:22:28.297242Z",
     "start_time": "2022-02-19T18:22:28.291585Z"
    }
   },
   "outputs": [
    {
     "data": {
      "text/html": [
       "<div>\n",
       "<style scoped>\n",
       "    .dataframe tbody tr th:only-of-type {\n",
       "        vertical-align: middle;\n",
       "    }\n",
       "\n",
       "    .dataframe tbody tr th {\n",
       "        vertical-align: top;\n",
       "    }\n",
       "\n",
       "    .dataframe thead th {\n",
       "        text-align: right;\n",
       "    }\n",
       "</style>\n",
       "<table border=\"1\" class=\"dataframe\">\n",
       "  <thead>\n",
       "    <tr style=\"text-align: right;\">\n",
       "      <th></th>\n",
       "      <th>order_id</th>\n",
       "      <th>item_name</th>\n",
       "      <th>item_price</th>\n",
       "    </tr>\n",
       "  </thead>\n",
       "  <tbody>\n",
       "    <tr>\n",
       "      <th>0</th>\n",
       "      <td>1</td>\n",
       "      <td>Chips and Fresh Tomato Salsa</td>\n",
       "      <td>$2.39</td>\n",
       "    </tr>\n",
       "    <tr>\n",
       "      <th>1</th>\n",
       "      <td>1</td>\n",
       "      <td>Izze</td>\n",
       "      <td>$3.39</td>\n",
       "    </tr>\n",
       "    <tr>\n",
       "      <th>2</th>\n",
       "      <td>1</td>\n",
       "      <td>Nantucket Nectar</td>\n",
       "      <td>$3.39</td>\n",
       "    </tr>\n",
       "    <tr>\n",
       "      <th>3</th>\n",
       "      <td>1</td>\n",
       "      <td>Chips and Tomatillo-Green Chili Salsa</td>\n",
       "      <td>$2.39</td>\n",
       "    </tr>\n",
       "    <tr>\n",
       "      <th>4</th>\n",
       "      <td>2</td>\n",
       "      <td>Chicken Bowl</td>\n",
       "      <td>$16.98</td>\n",
       "    </tr>\n",
       "  </tbody>\n",
       "</table>\n",
       "</div>"
      ],
      "text/plain": [
       "   order_id                              item_name item_price\n",
       "0         1           Chips and Fresh Tomato Salsa     $2.39 \n",
       "1         1                                   Izze     $3.39 \n",
       "2         1                       Nantucket Nectar     $3.39 \n",
       "3         1  Chips and Tomatillo-Green Chili Salsa     $2.39 \n",
       "4         2                           Chicken Bowl    $16.98 "
      ]
     },
     "execution_count": 59,
     "metadata": {},
     "output_type": "execute_result"
    }
   ],
   "source": [
    "Ans.head(5)"
   ]
  },
  {
   "cell_type": "markdown",
   "metadata": {},
   "source": [
    "```{admonition} Question 31\n",
    "**df�� new_price 而щ읆 媛믪뿉 �곕씪 �대┝李⑥닚�쇰줈 �뺣━�섍퀬 index瑜� 珥덇린�� �섏뿬��**\n",
    "```"
   ]
  },
  {
   "cell_type": "markdown",
   "metadata": {},
   "source": [
    "```{admonition} 31踰� �좏뒠釉� ����\n",
    ":class: dropdown\n",
    "<div style=\"text-align: center\"><iframe width=\"700\" height=\"500\" src=https://www.youtube.com/embed/PxTIbZJ3xrA?start=4500&end=4559></iframe></div>\n",
    "```"
   ]
  },
  {
   "cell_type": "code",
   "execution_count": 60,
   "metadata": {
    "ExecuteTime": {
     "end_time": "2022-02-19T18:22:28.301719Z",
     "start_time": "2022-02-19T18:22:28.298500Z"
    },
    "tags": [
     "hide-input"
    ]
   },
   "outputs": [],
   "source": [
    "Ans = df.sort_values('new_price',ascending=False).reset_index(drop=True)"
   ]
  },
  {
   "cell_type": "code",
   "execution_count": 61,
   "metadata": {
    "ExecuteTime": {
     "end_time": "2022-02-19T18:22:28.310329Z",
     "start_time": "2022-02-19T18:22:28.302960Z"
    },
    "scrolled": true
   },
   "outputs": [
    {
     "data": {
      "text/html": [
       "<div>\n",
       "<style scoped>\n",
       "    .dataframe tbody tr th:only-of-type {\n",
       "        vertical-align: middle;\n",
       "    }\n",
       "\n",
       "    .dataframe tbody tr th {\n",
       "        vertical-align: top;\n",
       "    }\n",
       "\n",
       "    .dataframe thead th {\n",
       "        text-align: right;\n",
       "    }\n",
       "</style>\n",
       "<table border=\"1\" class=\"dataframe\">\n",
       "  <thead>\n",
       "    <tr style=\"text-align: right;\">\n",
       "      <th></th>\n",
       "      <th>order_id</th>\n",
       "      <th>quantity</th>\n",
       "      <th>item_name</th>\n",
       "      <th>choice_description</th>\n",
       "      <th>item_price</th>\n",
       "      <th>new_price</th>\n",
       "    </tr>\n",
       "  </thead>\n",
       "  <tbody>\n",
       "    <tr>\n",
       "      <th>0</th>\n",
       "      <td>1443</td>\n",
       "      <td>15</td>\n",
       "      <td>Chips and Fresh Tomato Salsa</td>\n",
       "      <td>NaN</td>\n",
       "      <td>$44.25</td>\n",
       "      <td>44.25</td>\n",
       "    </tr>\n",
       "    <tr>\n",
       "      <th>1</th>\n",
       "      <td>1398</td>\n",
       "      <td>3</td>\n",
       "      <td>Carnitas Bowl</td>\n",
       "      <td>[Roasted Chili Corn Salsa, [Fajita Vegetables,...</td>\n",
       "      <td>$35.25</td>\n",
       "      <td>35.25</td>\n",
       "    </tr>\n",
       "    <tr>\n",
       "      <th>2</th>\n",
       "      <td>511</td>\n",
       "      <td>4</td>\n",
       "      <td>Chicken Burrito</td>\n",
       "      <td>[Fresh Tomato Salsa, [Fajita Vegetables, Rice,...</td>\n",
       "      <td>$35.00</td>\n",
       "      <td>35.00</td>\n",
       "    </tr>\n",
       "    <tr>\n",
       "      <th>3</th>\n",
       "      <td>1443</td>\n",
       "      <td>4</td>\n",
       "      <td>Chicken Burrito</td>\n",
       "      <td>[Fresh Tomato Salsa, [Rice, Black Beans, Chees...</td>\n",
       "      <td>$35.00</td>\n",
       "      <td>35.00</td>\n",
       "    </tr>\n",
       "  </tbody>\n",
       "</table>\n",
       "</div>"
      ],
      "text/plain": [
       "   order_id  quantity                     item_name  \\\n",
       "0      1443        15  Chips and Fresh Tomato Salsa   \n",
       "1      1398         3                 Carnitas Bowl   \n",
       "2       511         4               Chicken Burrito   \n",
       "3      1443         4               Chicken Burrito   \n",
       "\n",
       "                                  choice_description item_price  new_price  \n",
       "0                                                NaN    $44.25       44.25  \n",
       "1  [Roasted Chili Corn Salsa, [Fajita Vegetables,...    $35.25       35.25  \n",
       "2  [Fresh Tomato Salsa, [Fajita Vegetables, Rice,...    $35.00       35.00  \n",
       "3  [Fresh Tomato Salsa, [Rice, Black Beans, Chees...    $35.00       35.00  "
      ]
     },
     "execution_count": 61,
     "metadata": {},
     "output_type": "execute_result"
    }
   ],
   "source": [
    "Ans.head(4)"
   ]
  },
  {
   "cell_type": "markdown",
   "metadata": {},
   "source": [
    "```{admonition} Question 32\n",
    "**df�� item_name 而щ읆 媛믪씠 Steak Salad �먮뒗 Bowl �� �곗씠�곕� �몃뜳�깊븯��**\n",
    "```"
   ]
  },
  {
   "cell_type": "markdown",
   "metadata": {},
   "source": [
    "```{admonition} 32踰� �좏뒠釉� ����\n",
    ":class: dropdown\n",
    "<div style=\"text-align: center\"><iframe width=\"700\" height=\"500\" src=https://www.youtube.com/embed/PxTIbZJ3xrA?start=4561&end=10000></iframe></div>\n",
    "```"
   ]
  },
  {
   "cell_type": "code",
   "execution_count": 62,
   "metadata": {
    "ExecuteTime": {
     "end_time": "2022-02-19T18:22:28.315124Z",
     "start_time": "2022-02-19T18:22:28.311678Z"
    },
    "tags": [
     "hide-input"
    ]
   },
   "outputs": [],
   "source": [
    "Ans = df.loc[(df.item_name =='Steak Salad') | (df.item_name =='Bowl')]"
   ]
  },
  {
   "cell_type": "code",
   "execution_count": 63,
   "metadata": {
    "ExecuteTime": {
     "end_time": "2022-02-19T18:22:28.323330Z",
     "start_time": "2022-02-19T18:22:28.316526Z"
    }
   },
   "outputs": [
    {
     "data": {
      "text/html": [
       "<div>\n",
       "<style scoped>\n",
       "    .dataframe tbody tr th:only-of-type {\n",
       "        vertical-align: middle;\n",
       "    }\n",
       "\n",
       "    .dataframe tbody tr th {\n",
       "        vertical-align: top;\n",
       "    }\n",
       "\n",
       "    .dataframe thead th {\n",
       "        text-align: right;\n",
       "    }\n",
       "</style>\n",
       "<table border=\"1\" class=\"dataframe\">\n",
       "  <thead>\n",
       "    <tr style=\"text-align: right;\">\n",
       "      <th></th>\n",
       "      <th>order_id</th>\n",
       "      <th>quantity</th>\n",
       "      <th>item_name</th>\n",
       "      <th>choice_description</th>\n",
       "      <th>item_price</th>\n",
       "      <th>new_price</th>\n",
       "    </tr>\n",
       "  </thead>\n",
       "  <tbody>\n",
       "    <tr>\n",
       "      <th>445</th>\n",
       "      <td>193</td>\n",
       "      <td>3</td>\n",
       "      <td>Bowl</td>\n",
       "      <td>[Braised Carnitas, Pinto Beans, [Sour Cream, C...</td>\n",
       "      <td>$22.20</td>\n",
       "      <td>22.20</td>\n",
       "    </tr>\n",
       "    <tr>\n",
       "      <th>664</th>\n",
       "      <td>276</td>\n",
       "      <td>1</td>\n",
       "      <td>Steak Salad</td>\n",
       "      <td>[Tomatillo-Red Chili Salsa (Hot), [Black Beans...</td>\n",
       "      <td>$8.99</td>\n",
       "      <td>8.99</td>\n",
       "    </tr>\n",
       "    <tr>\n",
       "      <th>673</th>\n",
       "      <td>279</td>\n",
       "      <td>1</td>\n",
       "      <td>Bowl</td>\n",
       "      <td>[Adobo-Marinated and Grilled Steak, [Sour Crea...</td>\n",
       "      <td>$7.40</td>\n",
       "      <td>7.40</td>\n",
       "    </tr>\n",
       "    <tr>\n",
       "      <th>752</th>\n",
       "      <td>311</td>\n",
       "      <td>1</td>\n",
       "      <td>Steak Salad</td>\n",
       "      <td>[Tomatillo-Red Chili Salsa (Hot), [Black Beans...</td>\n",
       "      <td>$8.99</td>\n",
       "      <td>8.99</td>\n",
       "    </tr>\n",
       "    <tr>\n",
       "      <th>893</th>\n",
       "      <td>369</td>\n",
       "      <td>1</td>\n",
       "      <td>Steak Salad</td>\n",
       "      <td>[Fresh Tomato Salsa (Mild), [Rice, Cheese, Sou...</td>\n",
       "      <td>$8.99</td>\n",
       "      <td>8.99</td>\n",
       "    </tr>\n",
       "    <tr>\n",
       "      <th>3502</th>\n",
       "      <td>1406</td>\n",
       "      <td>1</td>\n",
       "      <td>Steak Salad</td>\n",
       "      <td>[[Lettuce, Fajita Veggies]]</td>\n",
       "      <td>$8.69</td>\n",
       "      <td>8.69</td>\n",
       "    </tr>\n",
       "  </tbody>\n",
       "</table>\n",
       "</div>"
      ],
      "text/plain": [
       "      order_id  quantity    item_name  \\\n",
       "445        193         3         Bowl   \n",
       "664        276         1  Steak Salad   \n",
       "673        279         1         Bowl   \n",
       "752        311         1  Steak Salad   \n",
       "893        369         1  Steak Salad   \n",
       "3502      1406         1  Steak Salad   \n",
       "\n",
       "                                     choice_description item_price  new_price  \n",
       "445   [Braised Carnitas, Pinto Beans, [Sour Cream, C...    $22.20       22.20  \n",
       "664   [Tomatillo-Red Chili Salsa (Hot), [Black Beans...     $8.99        8.99  \n",
       "673   [Adobo-Marinated and Grilled Steak, [Sour Crea...     $7.40        7.40  \n",
       "752   [Tomatillo-Red Chili Salsa (Hot), [Black Beans...     $8.99        8.99  \n",
       "893   [Fresh Tomato Salsa (Mild), [Rice, Cheese, Sou...     $8.99        8.99  \n",
       "3502                        [[Lettuce, Fajita Veggies]]     $8.69        8.69  "
      ]
     },
     "execution_count": 63,
     "metadata": {},
     "output_type": "execute_result"
    }
   ],
   "source": [
    "Ans"
   ]
  },
  {
   "cell_type": "markdown",
   "metadata": {},
   "source": [
    "```{admonition} Question 33\n",
    "**df�� item_name 而щ읆 媛믪씠 Steak Salad �먮뒗 Bowl �� �곗씠�곕� �곗씠�� �꾨젅�꾪솕 �� ��, item_name瑜� 湲곗��쇰줈 以묐났�됱씠 �덉쑝硫� �쒓굅�섎릺 泥ル쾲吏� 耳��댁뒪留� �④꺼��**\n",
    "```"
   ]
  },
  {
   "cell_type": "markdown",
   "metadata": {},
   "source": [
    "```{admonition} 33踰� �좏뒠釉� ����\n",
    ":class: dropdown\n",
    "<div style=\"text-align: center\"><iframe width=\"700\" height=\"500\" src=https://www.youtube.com/embed/00rctVVSSoA?start=0&end=227></iframe></div>\n",
    "```"
   ]
  },
  {
   "cell_type": "code",
   "execution_count": 64,
   "metadata": {
    "ExecuteTime": {
     "end_time": "2022-02-19T18:22:28.329183Z",
     "start_time": "2022-02-19T18:22:28.324640Z"
    },
    "tags": [
     "hide-input"
    ]
   },
   "outputs": [],
   "source": [
    "Ans = df.loc[(df.item_name =='Steak Salad') | (df.item_name =='Bowl')]\n",
    "Ans = Ans.drop_duplicates('item_name')"
   ]
  },
  {
   "cell_type": "code",
   "execution_count": 65,
   "metadata": {
    "ExecuteTime": {
     "end_time": "2022-02-19T18:22:28.336808Z",
     "start_time": "2022-02-19T18:22:28.330357Z"
    }
   },
   "outputs": [
    {
     "data": {
      "text/html": [
       "<div>\n",
       "<style scoped>\n",
       "    .dataframe tbody tr th:only-of-type {\n",
       "        vertical-align: middle;\n",
       "    }\n",
       "\n",
       "    .dataframe tbody tr th {\n",
       "        vertical-align: top;\n",
       "    }\n",
       "\n",
       "    .dataframe thead th {\n",
       "        text-align: right;\n",
       "    }\n",
       "</style>\n",
       "<table border=\"1\" class=\"dataframe\">\n",
       "  <thead>\n",
       "    <tr style=\"text-align: right;\">\n",
       "      <th></th>\n",
       "      <th>order_id</th>\n",
       "      <th>quantity</th>\n",
       "      <th>item_name</th>\n",
       "      <th>choice_description</th>\n",
       "      <th>item_price</th>\n",
       "      <th>new_price</th>\n",
       "    </tr>\n",
       "  </thead>\n",
       "  <tbody>\n",
       "    <tr>\n",
       "      <th>445</th>\n",
       "      <td>193</td>\n",
       "      <td>3</td>\n",
       "      <td>Bowl</td>\n",
       "      <td>[Braised Carnitas, Pinto Beans, [Sour Cream, C...</td>\n",
       "      <td>$22.20</td>\n",
       "      <td>22.20</td>\n",
       "    </tr>\n",
       "    <tr>\n",
       "      <th>664</th>\n",
       "      <td>276</td>\n",
       "      <td>1</td>\n",
       "      <td>Steak Salad</td>\n",
       "      <td>[Tomatillo-Red Chili Salsa (Hot), [Black Beans...</td>\n",
       "      <td>$8.99</td>\n",
       "      <td>8.99</td>\n",
       "    </tr>\n",
       "  </tbody>\n",
       "</table>\n",
       "</div>"
      ],
      "text/plain": [
       "     order_id  quantity    item_name  \\\n",
       "445       193         3         Bowl   \n",
       "664       276         1  Steak Salad   \n",
       "\n",
       "                                    choice_description item_price  new_price  \n",
       "445  [Braised Carnitas, Pinto Beans, [Sour Cream, C...    $22.20       22.20  \n",
       "664  [Tomatillo-Red Chili Salsa (Hot), [Black Beans...     $8.99        8.99  "
      ]
     },
     "execution_count": 65,
     "metadata": {},
     "output_type": "execute_result"
    }
   ],
   "source": [
    "Ans"
   ]
  },
  {
   "cell_type": "markdown",
   "metadata": {},
   "source": [
    "```{admonition} Question 34\n",
    "**df�� item_name 而щ읆 媛믪씠 Steak Salad �먮뒗 Bowl �� �곗씠�곕� �곗씠�� �꾨젅�꾪솕 �� ��, item_name瑜� 湲곗��쇰줈 以묐났�됱씠 �덉쑝硫� �쒓굅�섎릺 留덉�留� 耳��댁뒪留� �④꺼��**\n",
    "```"
   ]
  },
  {
   "cell_type": "markdown",
   "metadata": {},
   "source": [
    "```{admonition} 34踰� �좏뒠釉� ����\n",
    ":class: dropdown\n",
    "<div style=\"text-align: center\"><iframe width=\"700\" height=\"500\" src=https://www.youtube.com/embed/00rctVVSSoA?start=229&end=388></iframe></div>\n",
    "```"
   ]
  },
  {
   "cell_type": "code",
   "execution_count": 66,
   "metadata": {
    "ExecuteTime": {
     "end_time": "2022-02-19T18:22:28.342791Z",
     "start_time": "2022-02-19T18:22:28.338230Z"
    },
    "tags": [
     "hide-input"
    ]
   },
   "outputs": [],
   "source": [
    "Ans = df.loc[(df.item_name =='Steak Salad') | (df.item_name =='Bowl')]\n",
    "Ans = Ans.drop_duplicates('item_name',keep='last')"
   ]
  },
  {
   "cell_type": "code",
   "execution_count": 67,
   "metadata": {
    "ExecuteTime": {
     "end_time": "2022-02-19T18:22:28.351218Z",
     "start_time": "2022-02-19T18:22:28.344192Z"
    }
   },
   "outputs": [
    {
     "data": {
      "text/html": [
       "<div>\n",
       "<style scoped>\n",
       "    .dataframe tbody tr th:only-of-type {\n",
       "        vertical-align: middle;\n",
       "    }\n",
       "\n",
       "    .dataframe tbody tr th {\n",
       "        vertical-align: top;\n",
       "    }\n",
       "\n",
       "    .dataframe thead th {\n",
       "        text-align: right;\n",
       "    }\n",
       "</style>\n",
       "<table border=\"1\" class=\"dataframe\">\n",
       "  <thead>\n",
       "    <tr style=\"text-align: right;\">\n",
       "      <th></th>\n",
       "      <th>order_id</th>\n",
       "      <th>quantity</th>\n",
       "      <th>item_name</th>\n",
       "      <th>choice_description</th>\n",
       "      <th>item_price</th>\n",
       "      <th>new_price</th>\n",
       "    </tr>\n",
       "  </thead>\n",
       "  <tbody>\n",
       "    <tr>\n",
       "      <th>673</th>\n",
       "      <td>279</td>\n",
       "      <td>1</td>\n",
       "      <td>Bowl</td>\n",
       "      <td>[Adobo-Marinated and Grilled Steak, [Sour Crea...</td>\n",
       "      <td>$7.40</td>\n",
       "      <td>7.40</td>\n",
       "    </tr>\n",
       "    <tr>\n",
       "      <th>3502</th>\n",
       "      <td>1406</td>\n",
       "      <td>1</td>\n",
       "      <td>Steak Salad</td>\n",
       "      <td>[[Lettuce, Fajita Veggies]]</td>\n",
       "      <td>$8.69</td>\n",
       "      <td>8.69</td>\n",
       "    </tr>\n",
       "  </tbody>\n",
       "</table>\n",
       "</div>"
      ],
      "text/plain": [
       "      order_id  quantity    item_name  \\\n",
       "673        279         1         Bowl   \n",
       "3502      1406         1  Steak Salad   \n",
       "\n",
       "                                     choice_description item_price  new_price  \n",
       "673   [Adobo-Marinated and Grilled Steak, [Sour Crea...     $7.40        7.40  \n",
       "3502                        [[Lettuce, Fajita Veggies]]     $8.69        8.69  "
      ]
     },
     "execution_count": 67,
     "metadata": {},
     "output_type": "execute_result"
    }
   ],
   "source": [
    "Ans"
   ]
  },
  {
   "cell_type": "markdown",
   "metadata": {},
   "source": [
    "```{admonition} Question 35\n",
    "**df�� �곗씠�� 以� new_price媛믪씠 new_price媛믪쓽 �됯퇏媛� �댁긽�� 媛�吏��� �곗씠�곕뱾�� �몃뜳�깊븯��**\n",
    "```"
   ]
  },
  {
   "cell_type": "markdown",
   "metadata": {},
   "source": [
    "```{admonition} 35踰� �좏뒠釉� ����\n",
    ":class: dropdown\n",
    "<div style=\"text-align: center\"><iframe width=\"700\" height=\"500\" src=https://www.youtube.com/embed/00rctVVSSoA?start=390&end=598></iframe></div>\n",
    "```"
   ]
  },
  {
   "cell_type": "code",
   "execution_count": 68,
   "metadata": {
    "ExecuteTime": {
     "end_time": "2022-02-19T18:22:28.355598Z",
     "start_time": "2022-02-19T18:22:28.352433Z"
    },
    "tags": [
     "hide-input"
    ]
   },
   "outputs": [],
   "source": [
    "Ans = df.loc[df.new_price >= df.new_price.mean()]"
   ]
  },
  {
   "cell_type": "code",
   "execution_count": 69,
   "metadata": {
    "ExecuteTime": {
     "end_time": "2022-02-19T18:22:28.364166Z",
     "start_time": "2022-02-19T18:22:28.356898Z"
    }
   },
   "outputs": [
    {
     "data": {
      "text/html": [
       "<div>\n",
       "<style scoped>\n",
       "    .dataframe tbody tr th:only-of-type {\n",
       "        vertical-align: middle;\n",
       "    }\n",
       "\n",
       "    .dataframe tbody tr th {\n",
       "        vertical-align: top;\n",
       "    }\n",
       "\n",
       "    .dataframe thead th {\n",
       "        text-align: right;\n",
       "    }\n",
       "</style>\n",
       "<table border=\"1\" class=\"dataframe\">\n",
       "  <thead>\n",
       "    <tr style=\"text-align: right;\">\n",
       "      <th></th>\n",
       "      <th>order_id</th>\n",
       "      <th>quantity</th>\n",
       "      <th>item_name</th>\n",
       "      <th>choice_description</th>\n",
       "      <th>item_price</th>\n",
       "      <th>new_price</th>\n",
       "    </tr>\n",
       "  </thead>\n",
       "  <tbody>\n",
       "    <tr>\n",
       "      <th>4</th>\n",
       "      <td>2</td>\n",
       "      <td>2</td>\n",
       "      <td>Chicken Bowl</td>\n",
       "      <td>[Tomatillo-Red Chili Salsa (Hot), [Black Beans...</td>\n",
       "      <td>$16.98</td>\n",
       "      <td>16.98</td>\n",
       "    </tr>\n",
       "    <tr>\n",
       "      <th>5</th>\n",
       "      <td>3</td>\n",
       "      <td>1</td>\n",
       "      <td>Chicken Bowl</td>\n",
       "      <td>[Fresh Tomato Salsa (Mild), [Rice, Cheese, Sou...</td>\n",
       "      <td>$10.98</td>\n",
       "      <td>10.98</td>\n",
       "    </tr>\n",
       "    <tr>\n",
       "      <th>7</th>\n",
       "      <td>4</td>\n",
       "      <td>1</td>\n",
       "      <td>Steak Burrito</td>\n",
       "      <td>[Tomatillo Red Chili Salsa, [Fajita Vegetables...</td>\n",
       "      <td>$11.75</td>\n",
       "      <td>11.75</td>\n",
       "    </tr>\n",
       "    <tr>\n",
       "      <th>8</th>\n",
       "      <td>4</td>\n",
       "      <td>1</td>\n",
       "      <td>Steak Soft Tacos</td>\n",
       "      <td>[Tomatillo Green Chili Salsa, [Pinto Beans, Ch...</td>\n",
       "      <td>$9.25</td>\n",
       "      <td>9.25</td>\n",
       "    </tr>\n",
       "    <tr>\n",
       "      <th>9</th>\n",
       "      <td>5</td>\n",
       "      <td>1</td>\n",
       "      <td>Steak Burrito</td>\n",
       "      <td>[Fresh Tomato Salsa, [Rice, Black Beans, Pinto...</td>\n",
       "      <td>$9.25</td>\n",
       "      <td>9.25</td>\n",
       "    </tr>\n",
       "  </tbody>\n",
       "</table>\n",
       "</div>"
      ],
      "text/plain": [
       "   order_id  quantity         item_name  \\\n",
       "4         2         2      Chicken Bowl   \n",
       "5         3         1      Chicken Bowl   \n",
       "7         4         1     Steak Burrito   \n",
       "8         4         1  Steak Soft Tacos   \n",
       "9         5         1     Steak Burrito   \n",
       "\n",
       "                                  choice_description item_price  new_price  \n",
       "4  [Tomatillo-Red Chili Salsa (Hot), [Black Beans...    $16.98       16.98  \n",
       "5  [Fresh Tomato Salsa (Mild), [Rice, Cheese, Sou...    $10.98       10.98  \n",
       "7  [Tomatillo Red Chili Salsa, [Fajita Vegetables...    $11.75       11.75  \n",
       "8  [Tomatillo Green Chili Salsa, [Pinto Beans, Ch...     $9.25        9.25  \n",
       "9  [Fresh Tomato Salsa, [Rice, Black Beans, Pinto...     $9.25        9.25  "
      ]
     },
     "execution_count": 69,
     "metadata": {},
     "output_type": "execute_result"
    }
   ],
   "source": [
    "Ans.head(5)"
   ]
  },
  {
   "cell_type": "markdown",
   "metadata": {},
   "source": [
    "```{admonition} Question 36\n",
    "**df�� �곗씠�� 以� item_name�� 媛믪씠 Izze �곗씠�곕� Fizzy Lizzy濡� �섏젙�섎씪**\n",
    "```"
   ]
  },
  {
   "cell_type": "markdown",
   "metadata": {},
   "source": [
    "```{admonition} 36踰� �좏뒠釉� ����\n",
    ":class: dropdown\n",
    "<div style=\"text-align: center\"><iframe width=\"700\" height=\"500\" src=https://www.youtube.com/embed/00rctVVSSoA?start=600&end=658></iframe></div>\n",
    "```"
   ]
  },
  {
   "cell_type": "code",
   "execution_count": 70,
   "metadata": {
    "ExecuteTime": {
     "end_time": "2022-02-19T18:22:28.368623Z",
     "start_time": "2022-02-19T18:22:28.365471Z"
    },
    "tags": [
     "hide-input"
    ]
   },
   "outputs": [],
   "source": [
    "df.loc[df.item_name =='Izze','item_name'] = 'Fizzy Lizzy'\n",
    "Ans = df"
   ]
  },
  {
   "cell_type": "code",
   "execution_count": 71,
   "metadata": {
    "ExecuteTime": {
     "end_time": "2022-02-19T18:22:28.376942Z",
     "start_time": "2022-02-19T18:22:28.369908Z"
    }
   },
   "outputs": [
    {
     "data": {
      "text/html": [
       "<div>\n",
       "<style scoped>\n",
       "    .dataframe tbody tr th:only-of-type {\n",
       "        vertical-align: middle;\n",
       "    }\n",
       "\n",
       "    .dataframe tbody tr th {\n",
       "        vertical-align: top;\n",
       "    }\n",
       "\n",
       "    .dataframe thead th {\n",
       "        text-align: right;\n",
       "    }\n",
       "</style>\n",
       "<table border=\"1\" class=\"dataframe\">\n",
       "  <thead>\n",
       "    <tr style=\"text-align: right;\">\n",
       "      <th></th>\n",
       "      <th>order_id</th>\n",
       "      <th>quantity</th>\n",
       "      <th>item_name</th>\n",
       "      <th>choice_description</th>\n",
       "      <th>item_price</th>\n",
       "      <th>new_price</th>\n",
       "    </tr>\n",
       "  </thead>\n",
       "  <tbody>\n",
       "    <tr>\n",
       "      <th>0</th>\n",
       "      <td>1</td>\n",
       "      <td>1</td>\n",
       "      <td>Chips and Fresh Tomato Salsa</td>\n",
       "      <td>NaN</td>\n",
       "      <td>$2.39</td>\n",
       "      <td>2.39</td>\n",
       "    </tr>\n",
       "    <tr>\n",
       "      <th>1</th>\n",
       "      <td>1</td>\n",
       "      <td>1</td>\n",
       "      <td>Fizzy Lizzy</td>\n",
       "      <td>[Clementine]</td>\n",
       "      <td>$3.39</td>\n",
       "      <td>3.39</td>\n",
       "    </tr>\n",
       "    <tr>\n",
       "      <th>2</th>\n",
       "      <td>1</td>\n",
       "      <td>1</td>\n",
       "      <td>Nantucket Nectar</td>\n",
       "      <td>[Apple]</td>\n",
       "      <td>$3.39</td>\n",
       "      <td>3.39</td>\n",
       "    </tr>\n",
       "  </tbody>\n",
       "</table>\n",
       "</div>"
      ],
      "text/plain": [
       "   order_id  quantity                     item_name choice_description  \\\n",
       "0         1         1  Chips and Fresh Tomato Salsa                NaN   \n",
       "1         1         1                   Fizzy Lizzy       [Clementine]   \n",
       "2         1         1              Nantucket Nectar            [Apple]   \n",
       "\n",
       "  item_price  new_price  \n",
       "0     $2.39        2.39  \n",
       "1     $3.39        3.39  \n",
       "2     $3.39        3.39  "
      ]
     },
     "execution_count": 71,
     "metadata": {},
     "output_type": "execute_result"
    }
   ],
   "source": [
    "Ans.head(3)"
   ]
  },
  {
   "cell_type": "markdown",
   "metadata": {},
   "source": [
    "```{admonition} Question 37\n",
    "**df�� �곗씠�� 以� choice_description 媛믪씠 NaN �� �곗씠�곗쓽 媛�닔瑜� 援ы븯�щ씪**\n",
    "```"
   ]
  },
  {
   "cell_type": "markdown",
   "metadata": {},
   "source": [
    "```{admonition} 37踰� �좏뒠釉� ����\n",
    ":class: dropdown\n",
    "<div style=\"text-align: center\"><iframe width=\"700\" height=\"500\" src=https://www.youtube.com/embed/00rctVVSSoA?start=660&end=792></iframe></div>\n",
    "```"
   ]
  },
  {
   "cell_type": "code",
   "execution_count": 72,
   "metadata": {
    "ExecuteTime": {
     "end_time": "2022-02-19T18:22:28.380894Z",
     "start_time": "2022-02-19T18:22:28.378281Z"
    },
    "scrolled": true,
    "tags": [
     "hide-input"
    ]
   },
   "outputs": [],
   "source": [
    "Ans = df.choice_description.isnull().sum()"
   ]
  },
  {
   "cell_type": "code",
   "execution_count": 73,
   "metadata": {
    "ExecuteTime": {
     "end_time": "2022-02-19T18:22:28.384996Z",
     "start_time": "2022-02-19T18:22:28.382305Z"
    }
   },
   "outputs": [
    {
     "data": {
      "text/plain": [
       "1246"
      ]
     },
     "execution_count": 73,
     "metadata": {},
     "output_type": "execute_result"
    }
   ],
   "source": [
    "Ans"
   ]
  },
  {
   "cell_type": "markdown",
   "metadata": {},
   "source": [
    "```{admonition} Question 38\n",
    "**df�� �곗씠�� 以� choice_description 媛믪씠 NaN �� �곗씠�곕� NoData 媛믪쑝濡� ��泥댄븯��(loc �댁슜)**\n",
    "```"
   ]
  },
  {
   "cell_type": "markdown",
   "metadata": {},
   "source": [
    "```{admonition} 38踰� �좏뒠釉� ����\n",
    ":class: dropdown\n",
    "<div style=\"text-align: center\"><iframe width=\"700\" height=\"500\" src=https://www.youtube.com/embed/00rctVVSSoA?start=794&end=1093></iframe></div>\n",
    "```"
   ]
  },
  {
   "cell_type": "code",
   "execution_count": 74,
   "metadata": {
    "ExecuteTime": {
     "end_time": "2022-02-19T18:22:28.390010Z",
     "start_time": "2022-02-19T18:22:28.386777Z"
    },
    "tags": [
     "hide-input"
    ]
   },
   "outputs": [],
   "source": [
    "df.loc[df.choice_description.isnull(),'choice_description'] ='NoData'\n",
    "Ans = df"
   ]
  },
  {
   "cell_type": "code",
   "execution_count": 75,
   "metadata": {
    "ExecuteTime": {
     "end_time": "2022-02-19T18:22:28.398579Z",
     "start_time": "2022-02-19T18:22:28.391398Z"
    }
   },
   "outputs": [
    {
     "data": {
      "text/html": [
       "<div>\n",
       "<style scoped>\n",
       "    .dataframe tbody tr th:only-of-type {\n",
       "        vertical-align: middle;\n",
       "    }\n",
       "\n",
       "    .dataframe tbody tr th {\n",
       "        vertical-align: top;\n",
       "    }\n",
       "\n",
       "    .dataframe thead th {\n",
       "        text-align: right;\n",
       "    }\n",
       "</style>\n",
       "<table border=\"1\" class=\"dataframe\">\n",
       "  <thead>\n",
       "    <tr style=\"text-align: right;\">\n",
       "      <th></th>\n",
       "      <th>order_id</th>\n",
       "      <th>quantity</th>\n",
       "      <th>item_name</th>\n",
       "      <th>choice_description</th>\n",
       "      <th>item_price</th>\n",
       "      <th>new_price</th>\n",
       "    </tr>\n",
       "  </thead>\n",
       "  <tbody>\n",
       "    <tr>\n",
       "      <th>0</th>\n",
       "      <td>1</td>\n",
       "      <td>1</td>\n",
       "      <td>Chips and Fresh Tomato Salsa</td>\n",
       "      <td>NoData</td>\n",
       "      <td>$2.39</td>\n",
       "      <td>2.39</td>\n",
       "    </tr>\n",
       "    <tr>\n",
       "      <th>1</th>\n",
       "      <td>1</td>\n",
       "      <td>1</td>\n",
       "      <td>Fizzy Lizzy</td>\n",
       "      <td>[Clementine]</td>\n",
       "      <td>$3.39</td>\n",
       "      <td>3.39</td>\n",
       "    </tr>\n",
       "    <tr>\n",
       "      <th>2</th>\n",
       "      <td>1</td>\n",
       "      <td>1</td>\n",
       "      <td>Nantucket Nectar</td>\n",
       "      <td>[Apple]</td>\n",
       "      <td>$3.39</td>\n",
       "      <td>3.39</td>\n",
       "    </tr>\n",
       "    <tr>\n",
       "      <th>3</th>\n",
       "      <td>1</td>\n",
       "      <td>1</td>\n",
       "      <td>Chips and Tomatillo-Green Chili Salsa</td>\n",
       "      <td>NoData</td>\n",
       "      <td>$2.39</td>\n",
       "      <td>2.39</td>\n",
       "    </tr>\n",
       "    <tr>\n",
       "      <th>4</th>\n",
       "      <td>2</td>\n",
       "      <td>2</td>\n",
       "      <td>Chicken Bowl</td>\n",
       "      <td>[Tomatillo-Red Chili Salsa (Hot), [Black Beans...</td>\n",
       "      <td>$16.98</td>\n",
       "      <td>16.98</td>\n",
       "    </tr>\n",
       "  </tbody>\n",
       "</table>\n",
       "</div>"
      ],
      "text/plain": [
       "   order_id  quantity                              item_name  \\\n",
       "0         1         1           Chips and Fresh Tomato Salsa   \n",
       "1         1         1                            Fizzy Lizzy   \n",
       "2         1         1                       Nantucket Nectar   \n",
       "3         1         1  Chips and Tomatillo-Green Chili Salsa   \n",
       "4         2         2                           Chicken Bowl   \n",
       "\n",
       "                                  choice_description item_price  new_price  \n",
       "0                                             NoData     $2.39        2.39  \n",
       "1                                       [Clementine]     $3.39        3.39  \n",
       "2                                            [Apple]     $3.39        3.39  \n",
       "3                                             NoData     $2.39        2.39  \n",
       "4  [Tomatillo-Red Chili Salsa (Hot), [Black Beans...    $16.98       16.98  "
      ]
     },
     "execution_count": 75,
     "metadata": {},
     "output_type": "execute_result"
    }
   ],
   "source": [
    "Ans.head()"
   ]
  },
  {
   "cell_type": "markdown",
   "metadata": {},
   "source": [
    "```{admonition} Question 39\n",
    "**df�� �곗씠�� 以� choice_description 媛믪뿉 Black�� �ㅼ뼱媛��� 寃쎌슦瑜� �몃뜳�깊븯��**\n",
    "```"
   ]
  },
  {
   "cell_type": "markdown",
   "metadata": {},
   "source": [
    "```{admonition} 39踰� �좏뒠釉� ����\n",
    ":class: dropdown\n",
    "<div style=\"text-align: center\"><iframe width=\"700\" height=\"500\" src=https://www.youtube.com/embed/00rctVVSSoA?start=1095&end=1188></iframe></div>\n",
    "```"
   ]
  },
  {
   "cell_type": "code",
   "execution_count": 76,
   "metadata": {
    "ExecuteTime": {
     "end_time": "2022-02-19T18:22:28.404792Z",
     "start_time": "2022-02-19T18:22:28.399881Z"
    },
    "tags": [
     "hide-input"
    ]
   },
   "outputs": [],
   "source": [
    "Ans = df[df.choice_description.str.contains('Black')]"
   ]
  },
  {
   "cell_type": "code",
   "execution_count": 77,
   "metadata": {
    "ExecuteTime": {
     "end_time": "2022-02-19T18:22:28.413658Z",
     "start_time": "2022-02-19T18:22:28.406059Z"
    }
   },
   "outputs": [
    {
     "data": {
      "text/html": [
       "<div>\n",
       "<style scoped>\n",
       "    .dataframe tbody tr th:only-of-type {\n",
       "        vertical-align: middle;\n",
       "    }\n",
       "\n",
       "    .dataframe tbody tr th {\n",
       "        vertical-align: top;\n",
       "    }\n",
       "\n",
       "    .dataframe thead th {\n",
       "        text-align: right;\n",
       "    }\n",
       "</style>\n",
       "<table border=\"1\" class=\"dataframe\">\n",
       "  <thead>\n",
       "    <tr style=\"text-align: right;\">\n",
       "      <th></th>\n",
       "      <th>order_id</th>\n",
       "      <th>quantity</th>\n",
       "      <th>item_name</th>\n",
       "      <th>choice_description</th>\n",
       "      <th>item_price</th>\n",
       "      <th>new_price</th>\n",
       "    </tr>\n",
       "  </thead>\n",
       "  <tbody>\n",
       "    <tr>\n",
       "      <th>4</th>\n",
       "      <td>2</td>\n",
       "      <td>2</td>\n",
       "      <td>Chicken Bowl</td>\n",
       "      <td>[Tomatillo-Red Chili Salsa (Hot), [Black Beans...</td>\n",
       "      <td>$16.98</td>\n",
       "      <td>16.98</td>\n",
       "    </tr>\n",
       "    <tr>\n",
       "      <th>7</th>\n",
       "      <td>4</td>\n",
       "      <td>1</td>\n",
       "      <td>Steak Burrito</td>\n",
       "      <td>[Tomatillo Red Chili Salsa, [Fajita Vegetables...</td>\n",
       "      <td>$11.75</td>\n",
       "      <td>11.75</td>\n",
       "    </tr>\n",
       "    <tr>\n",
       "      <th>9</th>\n",
       "      <td>5</td>\n",
       "      <td>1</td>\n",
       "      <td>Steak Burrito</td>\n",
       "      <td>[Fresh Tomato Salsa, [Rice, Black Beans, Pinto...</td>\n",
       "      <td>$9.25</td>\n",
       "      <td>9.25</td>\n",
       "    </tr>\n",
       "    <tr>\n",
       "      <th>11</th>\n",
       "      <td>6</td>\n",
       "      <td>1</td>\n",
       "      <td>Chicken Crispy Tacos</td>\n",
       "      <td>[Roasted Chili Corn Salsa, [Fajita Vegetables,...</td>\n",
       "      <td>$8.75</td>\n",
       "      <td>8.75</td>\n",
       "    </tr>\n",
       "    <tr>\n",
       "      <th>12</th>\n",
       "      <td>6</td>\n",
       "      <td>1</td>\n",
       "      <td>Chicken Soft Tacos</td>\n",
       "      <td>[Roasted Chili Corn Salsa, [Rice, Black Beans,...</td>\n",
       "      <td>$8.75</td>\n",
       "      <td>8.75</td>\n",
       "    </tr>\n",
       "  </tbody>\n",
       "</table>\n",
       "</div>"
      ],
      "text/plain": [
       "    order_id  quantity             item_name  \\\n",
       "4          2         2          Chicken Bowl   \n",
       "7          4         1         Steak Burrito   \n",
       "9          5         1         Steak Burrito   \n",
       "11         6         1  Chicken Crispy Tacos   \n",
       "12         6         1    Chicken Soft Tacos   \n",
       "\n",
       "                                   choice_description item_price  new_price  \n",
       "4   [Tomatillo-Red Chili Salsa (Hot), [Black Beans...    $16.98       16.98  \n",
       "7   [Tomatillo Red Chili Salsa, [Fajita Vegetables...    $11.75       11.75  \n",
       "9   [Fresh Tomato Salsa, [Rice, Black Beans, Pinto...     $9.25        9.25  \n",
       "11  [Roasted Chili Corn Salsa, [Fajita Vegetables,...     $8.75        8.75  \n",
       "12  [Roasted Chili Corn Salsa, [Rice, Black Beans,...     $8.75        8.75  "
      ]
     },
     "execution_count": 77,
     "metadata": {},
     "output_type": "execute_result"
    }
   ],
   "source": [
    "Ans.head(5)"
   ]
  },
  {
   "cell_type": "markdown",
   "metadata": {},
   "source": [
    "```{admonition} Question 40\n",
    "**df�� �곗씠�� 以� choice_description 媛믪뿉 Vegetables �ㅼ뼱媛�吏� �딅뒗 寃쎌슦�� 媛�닔瑜� 異쒕젰�섎씪**\n",
    "```"
   ]
  },
  {
   "cell_type": "markdown",
   "metadata": {},
   "source": [
    "```{admonition} 40踰� �좏뒠釉� ����\n",
    ":class: dropdown\n",
    "<div style=\"text-align: center\"><iframe width=\"700\" height=\"500\" src=https://www.youtube.com/embed/00rctVVSSoA?start=1190&end=1323></iframe></div>\n",
    "```\n"
   ]
  },
  {
   "cell_type": "code",
   "execution_count": 78,
   "metadata": {
    "ExecuteTime": {
     "end_time": "2022-02-19T18:22:28.419596Z",
     "start_time": "2022-02-19T18:22:28.414950Z"
    },
    "tags": [
     "hide-input"
    ]
   },
   "outputs": [],
   "source": [
    "Ans = len(df.loc[~df.choice_description.str.contains('Vegetables')])"
   ]
  },
  {
   "cell_type": "code",
   "execution_count": 79,
   "metadata": {
    "ExecuteTime": {
     "end_time": "2022-02-19T18:22:28.423679Z",
     "start_time": "2022-02-19T18:22:28.420851Z"
    }
   },
   "outputs": [
    {
     "data": {
      "text/plain": [
       "3900"
      ]
     },
     "execution_count": 79,
     "metadata": {},
     "output_type": "execute_result"
    }
   ],
   "source": [
    "Ans"
   ]
  },
  {
   "cell_type": "markdown",
   "metadata": {},
   "source": [
    "```{admonition} Question 41\n",
    "**df�� �곗씠�� 以� item_name 媛믪씠 N�쇰줈 �쒖옉�섎뒗 �곗씠�곕� 紐⑤몢 異붿텧�섎씪**\n",
    "```"
   ]
  },
  {
   "cell_type": "markdown",
   "metadata": {},
   "source": [
    "```{admonition} 41踰� �좏뒠釉� ����\n",
    ":class: dropdown\n",
    "<div style=\"text-align: center\"><iframe width=\"700\" height=\"500\" src=https://www.youtube.com/embed/00rctVVSSoA?start=1325&end=1498></iframe></div>\n",
    "```"
   ]
  },
  {
   "cell_type": "code",
   "execution_count": 80,
   "metadata": {
    "ExecuteTime": {
     "end_time": "2022-02-19T18:22:28.429035Z",
     "start_time": "2022-02-19T18:22:28.424928Z"
    },
    "scrolled": true,
    "tags": [
     "hide-input"
    ]
   },
   "outputs": [],
   "source": [
    "Ans = df[df.item_name.str.startswith('N')]"
   ]
  },
  {
   "cell_type": "code",
   "execution_count": 81,
   "metadata": {
    "ExecuteTime": {
     "end_time": "2022-02-19T18:22:28.452510Z",
     "start_time": "2022-02-19T18:22:28.445337Z"
    }
   },
   "outputs": [
    {
     "data": {
      "text/html": [
       "<div>\n",
       "<style scoped>\n",
       "    .dataframe tbody tr th:only-of-type {\n",
       "        vertical-align: middle;\n",
       "    }\n",
       "\n",
       "    .dataframe tbody tr th {\n",
       "        vertical-align: top;\n",
       "    }\n",
       "\n",
       "    .dataframe thead th {\n",
       "        text-align: right;\n",
       "    }\n",
       "</style>\n",
       "<table border=\"1\" class=\"dataframe\">\n",
       "  <thead>\n",
       "    <tr style=\"text-align: right;\">\n",
       "      <th></th>\n",
       "      <th>order_id</th>\n",
       "      <th>quantity</th>\n",
       "      <th>item_name</th>\n",
       "      <th>choice_description</th>\n",
       "      <th>item_price</th>\n",
       "      <th>new_price</th>\n",
       "    </tr>\n",
       "  </thead>\n",
       "  <tbody>\n",
       "    <tr>\n",
       "      <th>2</th>\n",
       "      <td>1</td>\n",
       "      <td>1</td>\n",
       "      <td>Nantucket Nectar</td>\n",
       "      <td>[Apple]</td>\n",
       "      <td>$3.39</td>\n",
       "      <td>3.39</td>\n",
       "    </tr>\n",
       "    <tr>\n",
       "      <th>22</th>\n",
       "      <td>11</td>\n",
       "      <td>1</td>\n",
       "      <td>Nantucket Nectar</td>\n",
       "      <td>[Pomegranate Cherry]</td>\n",
       "      <td>$3.39</td>\n",
       "      <td>3.39</td>\n",
       "    </tr>\n",
       "    <tr>\n",
       "      <th>105</th>\n",
       "      <td>46</td>\n",
       "      <td>1</td>\n",
       "      <td>Nantucket Nectar</td>\n",
       "      <td>[Pineapple Orange Banana]</td>\n",
       "      <td>$3.39</td>\n",
       "      <td>3.39</td>\n",
       "    </tr>\n",
       "  </tbody>\n",
       "</table>\n",
       "</div>"
      ],
      "text/plain": [
       "     order_id  quantity         item_name         choice_description  \\\n",
       "2           1         1  Nantucket Nectar                    [Apple]   \n",
       "22         11         1  Nantucket Nectar       [Pomegranate Cherry]   \n",
       "105        46         1  Nantucket Nectar  [Pineapple Orange Banana]   \n",
       "\n",
       "    item_price  new_price  \n",
       "2       $3.39        3.39  \n",
       "22      $3.39        3.39  \n",
       "105     $3.39        3.39  "
      ]
     },
     "execution_count": 81,
     "metadata": {},
     "output_type": "execute_result"
    }
   ],
   "source": [
    "Ans.head(3)"
   ]
  },
  {
   "cell_type": "markdown",
   "metadata": {},
   "source": [
    "```{admonition} Question 42\n",
    "**df�� �곗씠�� 以� item_name 媛믪쓽 �⑥뼱媛�닔媛� 15媛� �댁긽�� �곗씠�곕� �몃뜳�깊븯��**\n",
    "```"
   ]
  },
  {
   "cell_type": "markdown",
   "metadata": {},
   "source": [
    "\n",
    "```{admonition} 42踰� �좏뒠釉� ����\n",
    ":class: dropdown\n",
    "<div style=\"text-align: center\"><iframe width=\"700\" height=\"500\" src=https://www.youtube.com/embed/00rctVVSSoA?start=1500&end=1688></iframe></div>\n",
    "```"
   ]
  },
  {
   "cell_type": "code",
   "execution_count": 82,
   "metadata": {
    "ExecuteTime": {
     "end_time": "2022-02-19T18:22:28.457840Z",
     "start_time": "2022-02-19T18:22:28.453611Z"
    },
    "tags": [
     "hide-input"
    ]
   },
   "outputs": [],
   "source": [
    "Ans= df[df.item_name.str.len() >=15]"
   ]
  },
  {
   "cell_type": "code",
   "execution_count": 83,
   "metadata": {
    "ExecuteTime": {
     "end_time": "2022-02-19T18:22:28.465958Z",
     "start_time": "2022-02-19T18:22:28.459118Z"
    }
   },
   "outputs": [
    {
     "data": {
      "text/html": [
       "<div>\n",
       "<style scoped>\n",
       "    .dataframe tbody tr th:only-of-type {\n",
       "        vertical-align: middle;\n",
       "    }\n",
       "\n",
       "    .dataframe tbody tr th {\n",
       "        vertical-align: top;\n",
       "    }\n",
       "\n",
       "    .dataframe thead th {\n",
       "        text-align: right;\n",
       "    }\n",
       "</style>\n",
       "<table border=\"1\" class=\"dataframe\">\n",
       "  <thead>\n",
       "    <tr style=\"text-align: right;\">\n",
       "      <th></th>\n",
       "      <th>order_id</th>\n",
       "      <th>quantity</th>\n",
       "      <th>item_name</th>\n",
       "      <th>choice_description</th>\n",
       "      <th>item_price</th>\n",
       "      <th>new_price</th>\n",
       "    </tr>\n",
       "  </thead>\n",
       "  <tbody>\n",
       "    <tr>\n",
       "      <th>0</th>\n",
       "      <td>1</td>\n",
       "      <td>1</td>\n",
       "      <td>Chips and Fresh Tomato Salsa</td>\n",
       "      <td>NoData</td>\n",
       "      <td>$2.39</td>\n",
       "      <td>2.39</td>\n",
       "    </tr>\n",
       "    <tr>\n",
       "      <th>2</th>\n",
       "      <td>1</td>\n",
       "      <td>1</td>\n",
       "      <td>Nantucket Nectar</td>\n",
       "      <td>[Apple]</td>\n",
       "      <td>$3.39</td>\n",
       "      <td>3.39</td>\n",
       "    </tr>\n",
       "    <tr>\n",
       "      <th>3</th>\n",
       "      <td>1</td>\n",
       "      <td>1</td>\n",
       "      <td>Chips and Tomatillo-Green Chili Salsa</td>\n",
       "      <td>NoData</td>\n",
       "      <td>$2.39</td>\n",
       "      <td>2.39</td>\n",
       "    </tr>\n",
       "  </tbody>\n",
       "</table>\n",
       "</div>"
      ],
      "text/plain": [
       "   order_id  quantity                              item_name  \\\n",
       "0         1         1           Chips and Fresh Tomato Salsa   \n",
       "2         1         1                       Nantucket Nectar   \n",
       "3         1         1  Chips and Tomatillo-Green Chili Salsa   \n",
       "\n",
       "  choice_description item_price  new_price  \n",
       "0             NoData     $2.39        2.39  \n",
       "2            [Apple]     $3.39        3.39  \n",
       "3             NoData     $2.39        2.39  "
      ]
     },
     "execution_count": 83,
     "metadata": {},
     "output_type": "execute_result"
    }
   ],
   "source": [
    "Ans.head(3)"
   ]
  },
  {
   "cell_type": "markdown",
   "metadata": {},
   "source": [
    "```{admonition} Question 43\n",
    "**df�� �곗씠�� 以� new_price媛믪씠 lst�� �대떦�섎뒗 寃쎌슦�� �곗씠�� �꾨젅�꾩쓣 援ы븯怨� 洹� 媛�닔瑜� 異쒕젰�섎씪**\n",
    "lst =[1.69, 2.39, 3.39, 4.45, 9.25, 10.98, 11.75, 16.98]\n",
    "```"
   ]
  },
  {
   "cell_type": "markdown",
   "metadata": {},
   "source": [
    "```{admonition} 43踰� �좏뒠釉� ����\n",
    ":class: dropdown\n",
    "<div style=\"text-align: center\"><iframe width=\"700\" height=\"500\" src=https://www.youtube.com/embed/00rctVVSSoA?start=1690&end=1836></iframe></div>\n",
    "```"
   ]
  },
  {
   "cell_type": "code",
   "execution_count": 84,
   "metadata": {
    "ExecuteTime": {
     "end_time": "2022-02-19T18:22:28.470500Z",
     "start_time": "2022-02-19T18:22:28.467323Z"
    }
   },
   "outputs": [],
   "source": [
    "lst =[1.69, 2.39, 3.39, 4.45, 9.25, 10.98, 11.75, 16.98]\n",
    "\n",
    "Ans = df.loc[df.new_price.isin(lst)]"
   ]
  },
  {
   "cell_type": "code",
   "execution_count": 85,
   "metadata": {
    "ExecuteTime": {
     "end_time": "2022-02-19T18:22:28.482634Z",
     "start_time": "2022-02-19T18:22:28.471545Z"
    }
   },
   "outputs": [
    {
     "data": {
      "text/html": [
       "<div>\n",
       "<style scoped>\n",
       "    .dataframe tbody tr th:only-of-type {\n",
       "        vertical-align: middle;\n",
       "    }\n",
       "\n",
       "    .dataframe tbody tr th {\n",
       "        vertical-align: top;\n",
       "    }\n",
       "\n",
       "    .dataframe thead th {\n",
       "        text-align: right;\n",
       "    }\n",
       "</style>\n",
       "<table border=\"1\" class=\"dataframe\">\n",
       "  <thead>\n",
       "    <tr style=\"text-align: right;\">\n",
       "      <th></th>\n",
       "      <th>order_id</th>\n",
       "      <th>quantity</th>\n",
       "      <th>item_name</th>\n",
       "      <th>choice_description</th>\n",
       "      <th>item_price</th>\n",
       "      <th>new_price</th>\n",
       "    </tr>\n",
       "  </thead>\n",
       "  <tbody>\n",
       "    <tr>\n",
       "      <th>0</th>\n",
       "      <td>1</td>\n",
       "      <td>1</td>\n",
       "      <td>Chips and Fresh Tomato Salsa</td>\n",
       "      <td>NoData</td>\n",
       "      <td>$2.39</td>\n",
       "      <td>2.39</td>\n",
       "    </tr>\n",
       "    <tr>\n",
       "      <th>1</th>\n",
       "      <td>1</td>\n",
       "      <td>1</td>\n",
       "      <td>Fizzy Lizzy</td>\n",
       "      <td>[Clementine]</td>\n",
       "      <td>$3.39</td>\n",
       "      <td>3.39</td>\n",
       "    </tr>\n",
       "    <tr>\n",
       "      <th>2</th>\n",
       "      <td>1</td>\n",
       "      <td>1</td>\n",
       "      <td>Nantucket Nectar</td>\n",
       "      <td>[Apple]</td>\n",
       "      <td>$3.39</td>\n",
       "      <td>3.39</td>\n",
       "    </tr>\n",
       "  </tbody>\n",
       "</table>\n",
       "</div>"
      ],
      "text/plain": [
       "   order_id  quantity                     item_name choice_description  \\\n",
       "0         1         1  Chips and Fresh Tomato Salsa             NoData   \n",
       "1         1         1                   Fizzy Lizzy       [Clementine]   \n",
       "2         1         1              Nantucket Nectar            [Apple]   \n",
       "\n",
       "  item_price  new_price  \n",
       "0     $2.39        2.39  \n",
       "1     $3.39        3.39  \n",
       "2     $3.39        3.39  "
      ]
     },
     "metadata": {},
     "output_type": "display_data"
    },
    {
     "name": "stdout",
     "output_type": "stream",
     "text": [
      "1393\n"
     ]
    }
   ],
   "source": [
    "display(Ans.head(3))\n",
    "print(len(Ans))"
   ]
  },
  {
   "cell_type": "markdown",
   "metadata": {},
   "source": [
    "## 03_Grouping"
   ]
  },
  {
   "cell_type": "markdown",
   "metadata": {},
   "source": [
    "```{attention} \n",
    "�댁슃 airBnB : https://www.kaggle.com/ptoscano230382/air-bnb-ny-2019\n",
    "**DataUrl = 'https://raw.githubusercontent.com/Datamanim/pandas/main/AB_NYC_2019.csv'**\n",
    "```"
   ]
  },
  {
   "cell_type": "markdown",
   "metadata": {},
   "source": [
    "```{admonition} Question 44\n",
    "**�곗씠�곕� 濡쒕뱶�섍퀬 �곸쐞 5媛� 而щ읆�� 異쒕젰�섎씪**\n",
    "```"
   ]
  },
  {
   "cell_type": "markdown",
   "metadata": {},
   "source": [
    "```{admonition} 44踰� �좏뒠釉� ����\n",
    ":class: dropdown\n",
    "<div style=\"text-align: center\"><iframe width=\"700\" height=\"500\" src=https://www.youtube.com/embed/00rctVVSSoA?start=1838&end=1858></iframe></div>\n",
    "```"
   ]
  },
  {
   "cell_type": "code",
   "execution_count": 86,
   "metadata": {
    "ExecuteTime": {
     "end_time": "2022-02-19T18:22:28.981972Z",
     "start_time": "2022-02-19T18:22:28.483852Z"
    }
   },
   "outputs": [],
   "source": [
    "df= pd.read_csv('https://raw.githubusercontent.com/Datamanim/pandas/main/AB_NYC_2019.csv')\n",
    "\n",
    "Ans =df.head(5)"
   ]
  },
  {
   "cell_type": "code",
   "execution_count": 87,
   "metadata": {
    "ExecuteTime": {
     "end_time": "2022-02-19T18:22:28.994976Z",
     "start_time": "2022-02-19T18:22:28.983330Z"
    }
   },
   "outputs": [
    {
     "data": {
      "text/html": [
       "<div>\n",
       "<style scoped>\n",
       "    .dataframe tbody tr th:only-of-type {\n",
       "        vertical-align: middle;\n",
       "    }\n",
       "\n",
       "    .dataframe tbody tr th {\n",
       "        vertical-align: top;\n",
       "    }\n",
       "\n",
       "    .dataframe thead th {\n",
       "        text-align: right;\n",
       "    }\n",
       "</style>\n",
       "<table border=\"1\" class=\"dataframe\">\n",
       "  <thead>\n",
       "    <tr style=\"text-align: right;\">\n",
       "      <th></th>\n",
       "      <th>id</th>\n",
       "      <th>name</th>\n",
       "      <th>host_id</th>\n",
       "      <th>host_name</th>\n",
       "      <th>neighbourhood_group</th>\n",
       "      <th>neighbourhood</th>\n",
       "      <th>latitude</th>\n",
       "      <th>longitude</th>\n",
       "      <th>room_type</th>\n",
       "      <th>price</th>\n",
       "      <th>minimum_nights</th>\n",
       "      <th>number_of_reviews</th>\n",
       "      <th>last_review</th>\n",
       "      <th>reviews_per_month</th>\n",
       "      <th>calculated_host_listings_count</th>\n",
       "      <th>availability_365</th>\n",
       "    </tr>\n",
       "  </thead>\n",
       "  <tbody>\n",
       "    <tr>\n",
       "      <th>0</th>\n",
       "      <td>2539</td>\n",
       "      <td>Clean &amp; quiet apt home by the park</td>\n",
       "      <td>2787</td>\n",
       "      <td>John</td>\n",
       "      <td>Brooklyn</td>\n",
       "      <td>Kensington</td>\n",
       "      <td>40.64749</td>\n",
       "      <td>-73.97237</td>\n",
       "      <td>Private room</td>\n",
       "      <td>149</td>\n",
       "      <td>1</td>\n",
       "      <td>9</td>\n",
       "      <td>2018-10-19</td>\n",
       "      <td>0.21</td>\n",
       "      <td>6</td>\n",
       "      <td>365</td>\n",
       "    </tr>\n",
       "    <tr>\n",
       "      <th>1</th>\n",
       "      <td>2595</td>\n",
       "      <td>Skylit Midtown Castle</td>\n",
       "      <td>2845</td>\n",
       "      <td>Jennifer</td>\n",
       "      <td>Manhattan</td>\n",
       "      <td>Midtown</td>\n",
       "      <td>40.75362</td>\n",
       "      <td>-73.98377</td>\n",
       "      <td>Entire home/apt</td>\n",
       "      <td>225</td>\n",
       "      <td>1</td>\n",
       "      <td>45</td>\n",
       "      <td>2019-05-21</td>\n",
       "      <td>0.38</td>\n",
       "      <td>2</td>\n",
       "      <td>355</td>\n",
       "    </tr>\n",
       "    <tr>\n",
       "      <th>2</th>\n",
       "      <td>3647</td>\n",
       "      <td>THE VILLAGE OF HARLEM....NEW YORK !</td>\n",
       "      <td>4632</td>\n",
       "      <td>Elisabeth</td>\n",
       "      <td>Manhattan</td>\n",
       "      <td>Harlem</td>\n",
       "      <td>40.80902</td>\n",
       "      <td>-73.94190</td>\n",
       "      <td>Private room</td>\n",
       "      <td>150</td>\n",
       "      <td>3</td>\n",
       "      <td>0</td>\n",
       "      <td>NaN</td>\n",
       "      <td>NaN</td>\n",
       "      <td>1</td>\n",
       "      <td>365</td>\n",
       "    </tr>\n",
       "    <tr>\n",
       "      <th>3</th>\n",
       "      <td>3831</td>\n",
       "      <td>Cozy Entire Floor of Brownstone</td>\n",
       "      <td>4869</td>\n",
       "      <td>LisaRoxanne</td>\n",
       "      <td>Brooklyn</td>\n",
       "      <td>Clinton Hill</td>\n",
       "      <td>40.68514</td>\n",
       "      <td>-73.95976</td>\n",
       "      <td>Entire home/apt</td>\n",
       "      <td>89</td>\n",
       "      <td>1</td>\n",
       "      <td>270</td>\n",
       "      <td>2019-07-05</td>\n",
       "      <td>4.64</td>\n",
       "      <td>1</td>\n",
       "      <td>194</td>\n",
       "    </tr>\n",
       "    <tr>\n",
       "      <th>4</th>\n",
       "      <td>5022</td>\n",
       "      <td>Entire Apt: Spacious Studio/Loft by central park</td>\n",
       "      <td>7192</td>\n",
       "      <td>Laura</td>\n",
       "      <td>Manhattan</td>\n",
       "      <td>East Harlem</td>\n",
       "      <td>40.79851</td>\n",
       "      <td>-73.94399</td>\n",
       "      <td>Entire home/apt</td>\n",
       "      <td>80</td>\n",
       "      <td>10</td>\n",
       "      <td>9</td>\n",
       "      <td>2018-11-19</td>\n",
       "      <td>0.10</td>\n",
       "      <td>1</td>\n",
       "      <td>0</td>\n",
       "    </tr>\n",
       "  </tbody>\n",
       "</table>\n",
       "</div>"
      ],
      "text/plain": [
       "     id                                              name  host_id  \\\n",
       "0  2539                Clean & quiet apt home by the park     2787   \n",
       "1  2595                             Skylit Midtown Castle     2845   \n",
       "2  3647               THE VILLAGE OF HARLEM....NEW YORK !     4632   \n",
       "3  3831                   Cozy Entire Floor of Brownstone     4869   \n",
       "4  5022  Entire Apt: Spacious Studio/Loft by central park     7192   \n",
       "\n",
       "     host_name neighbourhood_group neighbourhood  latitude  longitude  \\\n",
       "0         John            Brooklyn    Kensington  40.64749  -73.97237   \n",
       "1     Jennifer           Manhattan       Midtown  40.75362  -73.98377   \n",
       "2    Elisabeth           Manhattan        Harlem  40.80902  -73.94190   \n",
       "3  LisaRoxanne            Brooklyn  Clinton Hill  40.68514  -73.95976   \n",
       "4        Laura           Manhattan   East Harlem  40.79851  -73.94399   \n",
       "\n",
       "         room_type  price  minimum_nights  number_of_reviews last_review  \\\n",
       "0     Private room    149               1                  9  2018-10-19   \n",
       "1  Entire home/apt    225               1                 45  2019-05-21   \n",
       "2     Private room    150               3                  0         NaN   \n",
       "3  Entire home/apt     89               1                270  2019-07-05   \n",
       "4  Entire home/apt     80              10                  9  2018-11-19   \n",
       "\n",
       "   reviews_per_month  calculated_host_listings_count  availability_365  \n",
       "0               0.21                               6               365  \n",
       "1               0.38                               2               355  \n",
       "2                NaN                               1               365  \n",
       "3               4.64                               1               194  \n",
       "4               0.10                               1                 0  "
      ]
     },
     "execution_count": 87,
     "metadata": {},
     "output_type": "execute_result"
    }
   ],
   "source": [
    "Ans"
   ]
  },
  {
   "cell_type": "markdown",
   "metadata": {},
   "source": [
    "```{admonition} Question 45\n",
    "**�곗씠�곗쓽 媛� host_name�� 鍮덈룄�섎� 援ы븯怨� host_name�쇰줈 �뺣젹�섏뿬 �곸쐞 5媛쒕� 異쒕젰�섎씪**\n",
    "```"
   ]
  },
  {
   "cell_type": "markdown",
   "metadata": {},
   "source": [
    "```{admonition} 45踰� �좏뒠釉� ����\n",
    ":class: dropdown\n",
    "<div style=\"text-align: center\"><iframe width=\"700\" height=\"500\" src=https://www.youtube.com/embed/00rctVVSSoA?start=1860&end=2054></iframe></div>\n",
    "```"
   ]
  },
  {
   "cell_type": "code",
   "execution_count": 88,
   "metadata": {
    "ExecuteTime": {
     "end_time": "2022-02-19T18:22:29.025449Z",
     "start_time": "2022-02-19T18:22:28.996320Z"
    },
    "tags": [
     "hide-input"
    ]
   },
   "outputs": [],
   "source": [
    "Ans = df.groupby('host_name').size()\n",
    "\n",
    "# or\n",
    "\n",
    "Ans = df.host_name.value_counts().sort_index()"
   ]
  },
  {
   "cell_type": "code",
   "execution_count": 89,
   "metadata": {
    "ExecuteTime": {
     "end_time": "2022-02-19T18:22:29.030734Z",
     "start_time": "2022-02-19T18:22:29.026807Z"
    }
   },
   "outputs": [
    {
     "data": {
      "text/plain": [
       "'Cil                        1\n",
       "(Ari) HENRY LEE             1\n",
       "(Email hidden by Airbnb)    6\n",
       "(Mary) Haiy                 1\n",
       "-TheQueensCornerLot         1\n",
       "Name: host_name, dtype: int64"
      ]
     },
     "execution_count": 89,
     "metadata": {},
     "output_type": "execute_result"
    }
   ],
   "source": [
    "Ans.head(5)"
   ]
  },
  {
   "cell_type": "markdown",
   "metadata": {},
   "source": [
    "```{admonition} Question 46\n",
    "**�곗씠�곗쓽 媛� host_name�� 鍮덈룄�섎� 援ы븯怨� 鍮덈룄�� 湲곗� �대┝李⑥닚 �뺣젹�� �곗씠�� �꾨젅�꾩쓣 留뚮뱾�대씪. 鍮덈룄�� 而щ읆�� counts濡� 紐낅챸�섎씪**\n",
    "```"
   ]
  },
  {
   "cell_type": "markdown",
   "metadata": {},
   "source": [
    "```{admonition} 46踰� �좏뒠釉� ����\n",
    ":class: dropdown\n",
    "<div style=\"text-align: center\"><iframe width=\"700\" height=\"500\" src=https://www.youtube.com/embed/00rctVVSSoA?start=2056&end=2196></iframe></div>\n",
    "```"
   ]
  },
  {
   "cell_type": "code",
   "execution_count": 90,
   "metadata": {
    "ExecuteTime": {
     "end_time": "2022-02-19T18:22:29.049740Z",
     "start_time": "2022-02-19T18:22:29.032048Z"
    },
    "tags": [
     "hide-input"
    ]
   },
   "outputs": [],
   "source": [
    "Ans = df.groupby('host_name').size().\\\n",
    "                to_frame().rename(columns={0:'counts'}).\\\n",
    "                sort_values('counts',ascending=False)"
   ]
  },
  {
   "cell_type": "code",
   "execution_count": 91,
   "metadata": {
    "ExecuteTime": {
     "end_time": "2022-02-19T18:22:29.056449Z",
     "start_time": "2022-02-19T18:22:29.050957Z"
    }
   },
   "outputs": [
    {
     "data": {
      "text/html": [
       "<div>\n",
       "<style scoped>\n",
       "    .dataframe tbody tr th:only-of-type {\n",
       "        vertical-align: middle;\n",
       "    }\n",
       "\n",
       "    .dataframe tbody tr th {\n",
       "        vertical-align: top;\n",
       "    }\n",
       "\n",
       "    .dataframe thead th {\n",
       "        text-align: right;\n",
       "    }\n",
       "</style>\n",
       "<table border=\"1\" class=\"dataframe\">\n",
       "  <thead>\n",
       "    <tr style=\"text-align: right;\">\n",
       "      <th></th>\n",
       "      <th>counts</th>\n",
       "    </tr>\n",
       "    <tr>\n",
       "      <th>host_name</th>\n",
       "      <th></th>\n",
       "    </tr>\n",
       "  </thead>\n",
       "  <tbody>\n",
       "    <tr>\n",
       "      <th>Michael</th>\n",
       "      <td>417</td>\n",
       "    </tr>\n",
       "    <tr>\n",
       "      <th>David</th>\n",
       "      <td>403</td>\n",
       "    </tr>\n",
       "    <tr>\n",
       "      <th>Sonder (NYC)</th>\n",
       "      <td>327</td>\n",
       "    </tr>\n",
       "    <tr>\n",
       "      <th>John</th>\n",
       "      <td>294</td>\n",
       "    </tr>\n",
       "    <tr>\n",
       "      <th>Alex</th>\n",
       "      <td>279</td>\n",
       "    </tr>\n",
       "  </tbody>\n",
       "</table>\n",
       "</div>"
      ],
      "text/plain": [
       "              counts\n",
       "host_name           \n",
       "Michael          417\n",
       "David            403\n",
       "Sonder (NYC)     327\n",
       "John             294\n",
       "Alex             279"
      ]
     },
     "execution_count": 91,
     "metadata": {},
     "output_type": "execute_result"
    }
   ],
   "source": [
    "Ans.head(5)"
   ]
  },
  {
   "cell_type": "markdown",
   "metadata": {},
   "source": [
    "```{admonition} Question 47\n",
    "**neighbourhood_group�� 媛믪뿉 �곕Ⅸ neighbourhood而щ읆 媛믪쓽 媛�닔瑜� 援ы븯�щ씪**\n",
    "```"
   ]
  },
  {
   "cell_type": "markdown",
   "metadata": {},
   "source": [
    "```{admonition} 47踰� �좏뒠釉� ����\n",
    ":class: dropdown\n",
    "<div style=\"text-align: center\"><iframe width=\"700\" height=\"500\" src=https://www.youtube.com/embed/00rctVVSSoA?start=2198&end=2483></iframe></div>\n",
    "```\n",
    "    "
   ]
  },
  {
   "cell_type": "code",
   "execution_count": 92,
   "metadata": {
    "ExecuteTime": {
     "end_time": "2022-02-19T18:22:29.067913Z",
     "start_time": "2022-02-19T18:22:29.057739Z"
    },
    "scrolled": true,
    "tags": [
     "hide-input"
    ]
   },
   "outputs": [],
   "source": [
    "Ans = df.groupby(['neighbourhood_group','neighbourhood'], as_index=False).size()"
   ]
  },
  {
   "cell_type": "code",
   "execution_count": 93,
   "metadata": {
    "ExecuteTime": {
     "end_time": "2022-02-19T18:22:29.074811Z",
     "start_time": "2022-02-19T18:22:29.069335Z"
    }
   },
   "outputs": [
    {
     "data": {
      "text/html": [
       "<div>\n",
       "<style scoped>\n",
       "    .dataframe tbody tr th:only-of-type {\n",
       "        vertical-align: middle;\n",
       "    }\n",
       "\n",
       "    .dataframe tbody tr th {\n",
       "        vertical-align: top;\n",
       "    }\n",
       "\n",
       "    .dataframe thead th {\n",
       "        text-align: right;\n",
       "    }\n",
       "</style>\n",
       "<table border=\"1\" class=\"dataframe\">\n",
       "  <thead>\n",
       "    <tr style=\"text-align: right;\">\n",
       "      <th></th>\n",
       "      <th>neighbourhood_group</th>\n",
       "      <th>neighbourhood</th>\n",
       "      <th>size</th>\n",
       "    </tr>\n",
       "  </thead>\n",
       "  <tbody>\n",
       "    <tr>\n",
       "      <th>0</th>\n",
       "      <td>Bronx</td>\n",
       "      <td>Allerton</td>\n",
       "      <td>42</td>\n",
       "    </tr>\n",
       "    <tr>\n",
       "      <th>1</th>\n",
       "      <td>Bronx</td>\n",
       "      <td>Baychester</td>\n",
       "      <td>7</td>\n",
       "    </tr>\n",
       "    <tr>\n",
       "      <th>2</th>\n",
       "      <td>Bronx</td>\n",
       "      <td>Belmont</td>\n",
       "      <td>24</td>\n",
       "    </tr>\n",
       "    <tr>\n",
       "      <th>3</th>\n",
       "      <td>Bronx</td>\n",
       "      <td>Bronxdale</td>\n",
       "      <td>19</td>\n",
       "    </tr>\n",
       "  </tbody>\n",
       "</table>\n",
       "</div>"
      ],
      "text/plain": [
       "  neighbourhood_group neighbourhood  size\n",
       "0               Bronx      Allerton    42\n",
       "1               Bronx    Baychester     7\n",
       "2               Bronx       Belmont    24\n",
       "3               Bronx     Bronxdale    19"
      ]
     },
     "execution_count": 93,
     "metadata": {},
     "output_type": "execute_result"
    }
   ],
   "source": [
    "Ans.head(4)"
   ]
  },
  {
   "cell_type": "markdown",
   "metadata": {},
   "source": [
    "```{admonition} Question 48\n",
    "**neighbourhood_group�� 媛믪뿉 �곕Ⅸ neighbourhood而щ읆 媛� 以� neighbourhood_group洹몃９�� 理쒕뙎媛믩뱾�� 異쒕젰�섎씪**\n",
    "```"
   ]
  },
  {
   "cell_type": "markdown",
   "metadata": {},
   "source": [
    "```{admonition} 48踰� �좏뒠釉� ����\n",
    ":class: dropdown\n",
    "<div style=\"text-align: center\"><iframe width=\"700\" height=\"500\" src=https://www.youtube.com/embed/00rctVVSSoA?start=2485&end=2723></iframe></div>\n",
    "```"
   ]
  },
  {
   "cell_type": "code",
   "execution_count": 94,
   "metadata": {
    "ExecuteTime": {
     "end_time": "2022-02-19T18:22:29.089173Z",
     "start_time": "2022-02-19T18:22:29.075808Z"
    },
    "scrolled": true,
    "tags": [
     "hide-input"
    ]
   },
   "outputs": [],
   "source": [
    "Ans= df.groupby(['neighbourhood_group','neighbourhood'], as_index=False).size()\\\n",
    "                  .groupby(['neighbourhood_group'], as_index=False).max()"
   ]
  },
  {
   "cell_type": "code",
   "execution_count": 95,
   "metadata": {
    "ExecuteTime": {
     "end_time": "2022-02-19T18:22:29.096083Z",
     "start_time": "2022-02-19T18:22:29.090363Z"
    }
   },
   "outputs": [
    {
     "data": {
      "text/html": [
       "<div>\n",
       "<style scoped>\n",
       "    .dataframe tbody tr th:only-of-type {\n",
       "        vertical-align: middle;\n",
       "    }\n",
       "\n",
       "    .dataframe tbody tr th {\n",
       "        vertical-align: top;\n",
       "    }\n",
       "\n",
       "    .dataframe thead th {\n",
       "        text-align: right;\n",
       "    }\n",
       "</style>\n",
       "<table border=\"1\" class=\"dataframe\">\n",
       "  <thead>\n",
       "    <tr style=\"text-align: right;\">\n",
       "      <th></th>\n",
       "      <th>neighbourhood_group</th>\n",
       "      <th>neighbourhood</th>\n",
       "      <th>size</th>\n",
       "    </tr>\n",
       "  </thead>\n",
       "  <tbody>\n",
       "    <tr>\n",
       "      <th>0</th>\n",
       "      <td>Bronx</td>\n",
       "      <td>Woodlawn</td>\n",
       "      <td>70</td>\n",
       "    </tr>\n",
       "    <tr>\n",
       "      <th>1</th>\n",
       "      <td>Brooklyn</td>\n",
       "      <td>Windsor Terrace</td>\n",
       "      <td>3920</td>\n",
       "    </tr>\n",
       "    <tr>\n",
       "      <th>2</th>\n",
       "      <td>Manhattan</td>\n",
       "      <td>West Village</td>\n",
       "      <td>2658</td>\n",
       "    </tr>\n",
       "    <tr>\n",
       "      <th>3</th>\n",
       "      <td>Queens</td>\n",
       "      <td>Woodside</td>\n",
       "      <td>900</td>\n",
       "    </tr>\n",
       "    <tr>\n",
       "      <th>4</th>\n",
       "      <td>Staten Island</td>\n",
       "      <td>Woodrow</td>\n",
       "      <td>48</td>\n",
       "    </tr>\n",
       "  </tbody>\n",
       "</table>\n",
       "</div>"
      ],
      "text/plain": [
       "  neighbourhood_group    neighbourhood  size\n",
       "0               Bronx         Woodlawn    70\n",
       "1            Brooklyn  Windsor Terrace  3920\n",
       "2           Manhattan     West Village  2658\n",
       "3              Queens         Woodside   900\n",
       "4       Staten Island          Woodrow    48"
      ]
     },
     "execution_count": 95,
     "metadata": {},
     "output_type": "execute_result"
    }
   ],
   "source": [
    "Ans"
   ]
  },
  {
   "cell_type": "markdown",
   "metadata": {},
   "source": [
    "```{admonition} Question 49\n",
    "**neighbourhood_group 媛믪뿉 �곕Ⅸ price媛믪쓽 �됯퇏, 遺꾩궛, 理쒕�, 理쒖냼 媛믪쓣 援ы븯�щ씪**\n",
    "```"
   ]
  },
  {
   "cell_type": "markdown",
   "metadata": {},
   "source": [
    "```{admonition} 49踰� �좏뒠釉� ����\n",
    ":class: dropdown\n",
    "<div style=\"text-align: center\"><iframe width=\"700\" height=\"500\" src=https://www.youtube.com/embed/00rctVVSSoA?start=2725&end=2893></iframe></div>\n",
    "```"
   ]
  },
  {
   "cell_type": "code",
   "execution_count": 96,
   "metadata": {
    "ExecuteTime": {
     "end_time": "2022-02-19T18:22:29.107423Z",
     "start_time": "2022-02-19T18:22:29.097431Z"
    },
    "scrolled": true,
    "tags": [
     "hide-input"
    ]
   },
   "outputs": [],
   "source": [
    "Ans = df[['neighbourhood_group','price']].groupby('neighbourhood_group').agg(['mean','var','max','min'])"
   ]
  },
  {
   "cell_type": "code",
   "execution_count": 97,
   "metadata": {
    "ExecuteTime": {
     "end_time": "2022-02-19T18:22:29.115770Z",
     "start_time": "2022-02-19T18:22:29.108690Z"
    }
   },
   "outputs": [
    {
     "data": {
      "text/html": [
       "<div>\n",
       "<style scoped>\n",
       "    .dataframe tbody tr th:only-of-type {\n",
       "        vertical-align: middle;\n",
       "    }\n",
       "\n",
       "    .dataframe tbody tr th {\n",
       "        vertical-align: top;\n",
       "    }\n",
       "\n",
       "    .dataframe thead tr th {\n",
       "        text-align: left;\n",
       "    }\n",
       "\n",
       "    .dataframe thead tr:last-of-type th {\n",
       "        text-align: right;\n",
       "    }\n",
       "</style>\n",
       "<table border=\"1\" class=\"dataframe\">\n",
       "  <thead>\n",
       "    <tr>\n",
       "      <th></th>\n",
       "      <th colspan=\"4\" halign=\"left\">price</th>\n",
       "    </tr>\n",
       "    <tr>\n",
       "      <th></th>\n",
       "      <th>mean</th>\n",
       "      <th>var</th>\n",
       "      <th>max</th>\n",
       "      <th>min</th>\n",
       "    </tr>\n",
       "    <tr>\n",
       "      <th>neighbourhood_group</th>\n",
       "      <th></th>\n",
       "      <th></th>\n",
       "      <th></th>\n",
       "      <th></th>\n",
       "    </tr>\n",
       "  </thead>\n",
       "  <tbody>\n",
       "    <tr>\n",
       "      <th>Bronx</th>\n",
       "      <td>87.496792</td>\n",
       "      <td>11386.885081</td>\n",
       "      <td>2500</td>\n",
       "      <td>0</td>\n",
       "    </tr>\n",
       "    <tr>\n",
       "      <th>Brooklyn</th>\n",
       "      <td>124.383207</td>\n",
       "      <td>34921.719135</td>\n",
       "      <td>10000</td>\n",
       "      <td>0</td>\n",
       "    </tr>\n",
       "    <tr>\n",
       "      <th>Manhattan</th>\n",
       "      <td>196.875814</td>\n",
       "      <td>84904.159185</td>\n",
       "      <td>10000</td>\n",
       "      <td>0</td>\n",
       "    </tr>\n",
       "    <tr>\n",
       "      <th>Queens</th>\n",
       "      <td>99.517649</td>\n",
       "      <td>27923.130227</td>\n",
       "      <td>10000</td>\n",
       "      <td>10</td>\n",
       "    </tr>\n",
       "    <tr>\n",
       "      <th>Staten Island</th>\n",
       "      <td>114.812332</td>\n",
       "      <td>77073.088342</td>\n",
       "      <td>5000</td>\n",
       "      <td>13</td>\n",
       "    </tr>\n",
       "  </tbody>\n",
       "</table>\n",
       "</div>"
      ],
      "text/plain": [
       "                          price                         \n",
       "                           mean           var    max min\n",
       "neighbourhood_group                                     \n",
       "Bronx                 87.496792  11386.885081   2500   0\n",
       "Brooklyn             124.383207  34921.719135  10000   0\n",
       "Manhattan            196.875814  84904.159185  10000   0\n",
       "Queens                99.517649  27923.130227  10000  10\n",
       "Staten Island        114.812332  77073.088342   5000  13"
      ]
     },
     "execution_count": 97,
     "metadata": {},
     "output_type": "execute_result"
    }
   ],
   "source": [
    "Ans"
   ]
  },
  {
   "cell_type": "markdown",
   "metadata": {},
   "source": [
    "```{admonition} Question 50\n",
    "**neighbourhood_group 媛믪뿉 �곕Ⅸ reviews_per_month �됯퇏, 遺꾩궛, 理쒕�, 理쒖냼 媛믪쓣 援ы븯�щ씪**\n",
    "```"
   ]
  },
  {
   "cell_type": "markdown",
   "metadata": {},
   "source": [
    "```{admonition} 50踰� �좏뒠釉� ����\n",
    ":class: dropdown\n",
    "<div style=\"text-align: center\"><iframe width=\"700\" height=\"500\" src=https://www.youtube.com/embed/00rctVVSSoA?start=2895&end=2956></iframe></div>\n",
    "```"
   ]
  },
  {
   "cell_type": "code",
   "execution_count": 98,
   "metadata": {
    "ExecuteTime": {
     "end_time": "2022-02-19T18:22:29.126063Z",
     "start_time": "2022-02-19T18:22:29.116973Z"
    },
    "scrolled": true,
    "tags": [
     "hide-input"
    ]
   },
   "outputs": [],
   "source": [
    "Ans = df[['neighbourhood_group','reviews_per_month']].groupby('neighbourhood_group').agg(['mean','var','max','min'])"
   ]
  },
  {
   "cell_type": "code",
   "execution_count": 99,
   "metadata": {
    "ExecuteTime": {
     "end_time": "2022-02-19T18:22:29.135374Z",
     "start_time": "2022-02-19T18:22:29.127449Z"
    }
   },
   "outputs": [
    {
     "data": {
      "text/html": [
       "<div>\n",
       "<style scoped>\n",
       "    .dataframe tbody tr th:only-of-type {\n",
       "        vertical-align: middle;\n",
       "    }\n",
       "\n",
       "    .dataframe tbody tr th {\n",
       "        vertical-align: top;\n",
       "    }\n",
       "\n",
       "    .dataframe thead tr th {\n",
       "        text-align: left;\n",
       "    }\n",
       "\n",
       "    .dataframe thead tr:last-of-type th {\n",
       "        text-align: right;\n",
       "    }\n",
       "</style>\n",
       "<table border=\"1\" class=\"dataframe\">\n",
       "  <thead>\n",
       "    <tr>\n",
       "      <th></th>\n",
       "      <th colspan=\"4\" halign=\"left\">reviews_per_month</th>\n",
       "    </tr>\n",
       "    <tr>\n",
       "      <th></th>\n",
       "      <th>mean</th>\n",
       "      <th>var</th>\n",
       "      <th>max</th>\n",
       "      <th>min</th>\n",
       "    </tr>\n",
       "    <tr>\n",
       "      <th>neighbourhood_group</th>\n",
       "      <th></th>\n",
       "      <th></th>\n",
       "      <th></th>\n",
       "      <th></th>\n",
       "    </tr>\n",
       "  </thead>\n",
       "  <tbody>\n",
       "    <tr>\n",
       "      <th>Bronx</th>\n",
       "      <td>1.837831</td>\n",
       "      <td>2.799878</td>\n",
       "      <td>10.34</td>\n",
       "      <td>0.02</td>\n",
       "    </tr>\n",
       "    <tr>\n",
       "      <th>Brooklyn</th>\n",
       "      <td>1.283212</td>\n",
       "      <td>2.299040</td>\n",
       "      <td>14.00</td>\n",
       "      <td>0.01</td>\n",
       "    </tr>\n",
       "    <tr>\n",
       "      <th>Manhattan</th>\n",
       "      <td>1.272131</td>\n",
       "      <td>2.651206</td>\n",
       "      <td>58.50</td>\n",
       "      <td>0.01</td>\n",
       "    </tr>\n",
       "    <tr>\n",
       "      <th>Queens</th>\n",
       "      <td>1.941200</td>\n",
       "      <td>4.897848</td>\n",
       "      <td>20.94</td>\n",
       "      <td>0.01</td>\n",
       "    </tr>\n",
       "    <tr>\n",
       "      <th>Staten Island</th>\n",
       "      <td>1.872580</td>\n",
       "      <td>2.840895</td>\n",
       "      <td>10.12</td>\n",
       "      <td>0.02</td>\n",
       "    </tr>\n",
       "  </tbody>\n",
       "</table>\n",
       "</div>"
      ],
      "text/plain": [
       "                    reviews_per_month                       \n",
       "                                 mean       var    max   min\n",
       "neighbourhood_group                                         \n",
       "Bronx                        1.837831  2.799878  10.34  0.02\n",
       "Brooklyn                     1.283212  2.299040  14.00  0.01\n",
       "Manhattan                    1.272131  2.651206  58.50  0.01\n",
       "Queens                       1.941200  4.897848  20.94  0.01\n",
       "Staten Island                1.872580  2.840895  10.12  0.02"
      ]
     },
     "execution_count": 99,
     "metadata": {},
     "output_type": "execute_result"
    }
   ],
   "source": [
    "Ans"
   ]
  },
  {
   "cell_type": "markdown",
   "metadata": {},
   "source": [
    "```{admonition} Question 51\n",
    "**neighbourhood 媛믨낵 neighbourhood_group 媛믪뿉 �곕Ⅸ price �� �됯퇏�� 援ы븯��**\n",
    "```"
   ]
  },
  {
   "cell_type": "markdown",
   "metadata": {},
   "source": [
    "```{admonition} 51踰� �좏뒠釉� ����\n",
    ":class: dropdown\n",
    "<div style=\"text-align: center\"><iframe width=\"700\" height=\"500\" src=https://www.youtube.com/embed/00rctVVSSoA?start=2958&end=3031></iframe></div>\n",
    "```"
   ]
  },
  {
   "cell_type": "code",
   "execution_count": 100,
   "metadata": {
    "ExecuteTime": {
     "end_time": "2022-02-19T18:22:29.145832Z",
     "start_time": "2022-02-19T18:22:29.136780Z"
    },
    "scrolled": true,
    "tags": [
     "hide-input"
    ]
   },
   "outputs": [],
   "source": [
    "Ans = df.groupby(['neighbourhood','neighbourhood_group']).price.mean()"
   ]
  },
  {
   "cell_type": "code",
   "execution_count": 101,
   "metadata": {
    "ExecuteTime": {
     "end_time": "2022-02-19T18:22:29.152235Z",
     "start_time": "2022-02-19T18:22:29.147044Z"
    }
   },
   "outputs": [
    {
     "data": {
      "text/plain": [
       "neighbourhood    neighbourhood_group\n",
       "Allerton         Bronx                   87.595238\n",
       "Arden Heights    Staten Island           67.250000\n",
       "Arrochar         Staten Island          115.000000\n",
       "Arverne          Queens                 171.779221\n",
       "Astoria          Queens                 117.187778\n",
       "                                           ...    \n",
       "Windsor Terrace  Brooklyn               138.993631\n",
       "Woodhaven        Queens                  67.170455\n",
       "Woodlawn         Bronx                   60.090909\n",
       "Woodrow          Staten Island          700.000000\n",
       "Woodside         Queens                  85.097872\n",
       "Name: price, Length: 221, dtype: float64"
      ]
     },
     "execution_count": 101,
     "metadata": {},
     "output_type": "execute_result"
    }
   ],
   "source": [
    "Ans"
   ]
  },
  {
   "cell_type": "markdown",
   "metadata": {},
   "source": [
    "```{admonition} Question 52\n",
    "**neighbourhood 媛믨낵 neighbourhood_group 媛믪뿉 �곕Ⅸ price �� �됯퇏�� 怨꾩링�� indexing �놁씠 援ы븯��**\n",
    "```"
   ]
  },
  {
   "cell_type": "markdown",
   "metadata": {},
   "source": [
    "```{admonition} 52踰� �좏뒠釉� ����\n",
    ":class: dropdown\n",
    "<div style=\"text-align: center\"><iframe width=\"700\" height=\"500\" src=https://www.youtube.com/embed/00rctVVSSoA?start=3033&end=3127></iframe></div>\n",
    "```"
   ]
  },
  {
   "cell_type": "code",
   "execution_count": 102,
   "metadata": {
    "ExecuteTime": {
     "end_time": "2022-02-19T18:22:29.163235Z",
     "start_time": "2022-02-19T18:22:29.153675Z"
    },
    "tags": [
     "hide-input"
    ]
   },
   "outputs": [],
   "source": [
    "Ans = df.groupby(['neighbourhood','neighbourhood_group']).price.mean().unstack()"
   ]
  },
  {
   "cell_type": "code",
   "execution_count": 103,
   "metadata": {
    "ExecuteTime": {
     "end_time": "2022-02-19T18:22:29.173418Z",
     "start_time": "2022-02-19T18:22:29.164602Z"
    }
   },
   "outputs": [
    {
     "data": {
      "text/html": [
       "<div>\n",
       "<style scoped>\n",
       "    .dataframe tbody tr th:only-of-type {\n",
       "        vertical-align: middle;\n",
       "    }\n",
       "\n",
       "    .dataframe tbody tr th {\n",
       "        vertical-align: top;\n",
       "    }\n",
       "\n",
       "    .dataframe thead th {\n",
       "        text-align: right;\n",
       "    }\n",
       "</style>\n",
       "<table border=\"1\" class=\"dataframe\">\n",
       "  <thead>\n",
       "    <tr style=\"text-align: right;\">\n",
       "      <th>neighbourhood_group</th>\n",
       "      <th>Bronx</th>\n",
       "      <th>Brooklyn</th>\n",
       "      <th>Manhattan</th>\n",
       "      <th>Queens</th>\n",
       "      <th>Staten Island</th>\n",
       "    </tr>\n",
       "    <tr>\n",
       "      <th>neighbourhood</th>\n",
       "      <th></th>\n",
       "      <th></th>\n",
       "      <th></th>\n",
       "      <th></th>\n",
       "      <th></th>\n",
       "    </tr>\n",
       "  </thead>\n",
       "  <tbody>\n",
       "    <tr>\n",
       "      <th>Allerton</th>\n",
       "      <td>87.595238</td>\n",
       "      <td>NaN</td>\n",
       "      <td>NaN</td>\n",
       "      <td>NaN</td>\n",
       "      <td>NaN</td>\n",
       "    </tr>\n",
       "    <tr>\n",
       "      <th>Arden Heights</th>\n",
       "      <td>NaN</td>\n",
       "      <td>NaN</td>\n",
       "      <td>NaN</td>\n",
       "      <td>NaN</td>\n",
       "      <td>67.25</td>\n",
       "    </tr>\n",
       "    <tr>\n",
       "      <th>Arrochar</th>\n",
       "      <td>NaN</td>\n",
       "      <td>NaN</td>\n",
       "      <td>NaN</td>\n",
       "      <td>NaN</td>\n",
       "      <td>115.00</td>\n",
       "    </tr>\n",
       "    <tr>\n",
       "      <th>Arverne</th>\n",
       "      <td>NaN</td>\n",
       "      <td>NaN</td>\n",
       "      <td>NaN</td>\n",
       "      <td>171.779221</td>\n",
       "      <td>NaN</td>\n",
       "    </tr>\n",
       "    <tr>\n",
       "      <th>Astoria</th>\n",
       "      <td>NaN</td>\n",
       "      <td>NaN</td>\n",
       "      <td>NaN</td>\n",
       "      <td>117.187778</td>\n",
       "      <td>NaN</td>\n",
       "    </tr>\n",
       "    <tr>\n",
       "      <th>...</th>\n",
       "      <td>...</td>\n",
       "      <td>...</td>\n",
       "      <td>...</td>\n",
       "      <td>...</td>\n",
       "      <td>...</td>\n",
       "    </tr>\n",
       "    <tr>\n",
       "      <th>Windsor Terrace</th>\n",
       "      <td>NaN</td>\n",
       "      <td>138.993631</td>\n",
       "      <td>NaN</td>\n",
       "      <td>NaN</td>\n",
       "      <td>NaN</td>\n",
       "    </tr>\n",
       "    <tr>\n",
       "      <th>Woodhaven</th>\n",
       "      <td>NaN</td>\n",
       "      <td>NaN</td>\n",
       "      <td>NaN</td>\n",
       "      <td>67.170455</td>\n",
       "      <td>NaN</td>\n",
       "    </tr>\n",
       "    <tr>\n",
       "      <th>Woodlawn</th>\n",
       "      <td>60.090909</td>\n",
       "      <td>NaN</td>\n",
       "      <td>NaN</td>\n",
       "      <td>NaN</td>\n",
       "      <td>NaN</td>\n",
       "    </tr>\n",
       "    <tr>\n",
       "      <th>Woodrow</th>\n",
       "      <td>NaN</td>\n",
       "      <td>NaN</td>\n",
       "      <td>NaN</td>\n",
       "      <td>NaN</td>\n",
       "      <td>700.00</td>\n",
       "    </tr>\n",
       "    <tr>\n",
       "      <th>Woodside</th>\n",
       "      <td>NaN</td>\n",
       "      <td>NaN</td>\n",
       "      <td>NaN</td>\n",
       "      <td>85.097872</td>\n",
       "      <td>NaN</td>\n",
       "    </tr>\n",
       "  </tbody>\n",
       "</table>\n",
       "<p>221 rows 횞 5 columns</p>\n",
       "</div>"
      ],
      "text/plain": [
       "neighbourhood_group      Bronx    Brooklyn  Manhattan      Queens  \\\n",
       "neighbourhood                                                       \n",
       "Allerton             87.595238         NaN        NaN         NaN   \n",
       "Arden Heights              NaN         NaN        NaN         NaN   \n",
       "Arrochar                   NaN         NaN        NaN         NaN   \n",
       "Arverne                    NaN         NaN        NaN  171.779221   \n",
       "Astoria                    NaN         NaN        NaN  117.187778   \n",
       "...                        ...         ...        ...         ...   \n",
       "Windsor Terrace            NaN  138.993631        NaN         NaN   \n",
       "Woodhaven                  NaN         NaN        NaN   67.170455   \n",
       "Woodlawn             60.090909         NaN        NaN         NaN   \n",
       "Woodrow                    NaN         NaN        NaN         NaN   \n",
       "Woodside                   NaN         NaN        NaN   85.097872   \n",
       "\n",
       "neighbourhood_group  Staten Island  \n",
       "neighbourhood                       \n",
       "Allerton                       NaN  \n",
       "Arden Heights                67.25  \n",
       "Arrochar                    115.00  \n",
       "Arverne                        NaN  \n",
       "Astoria                        NaN  \n",
       "...                            ...  \n",
       "Windsor Terrace                NaN  \n",
       "Woodhaven                      NaN  \n",
       "Woodlawn                       NaN  \n",
       "Woodrow                     700.00  \n",
       "Woodside                       NaN  \n",
       "\n",
       "[221 rows x 5 columns]"
      ]
     },
     "execution_count": 103,
     "metadata": {},
     "output_type": "execute_result"
    }
   ],
   "source": [
    "Ans"
   ]
  },
  {
   "cell_type": "markdown",
   "metadata": {},
   "source": [
    "```{admonition} Question 53\n",
    "**neighbourhood 媛믨낵 neighbourhood_group 媛믪뿉 �곕Ⅸ price �� �됯퇏�� 怨꾩링�� indexing �놁씠 援ы븯怨� nan 媛믪� -999媛믪쑝濡� 梨꾩썙��**\n",
    "```"
   ]
  },
  {
   "cell_type": "markdown",
   "metadata": {},
   "source": [
    "```{admonition} 53踰� �좏뒠釉� ����\n",
    ":class: dropdown\n",
    "<div style=\"text-align: center\"><iframe width=\"700\" height=\"500\" src=https://www.youtube.com/embed/00rctVVSSoA?start=3129&end=3238></iframe></div>\n",
    "```\n"
   ]
  },
  {
   "cell_type": "code",
   "execution_count": 104,
   "metadata": {
    "ExecuteTime": {
     "end_time": "2022-02-19T18:22:29.184175Z",
     "start_time": "2022-02-19T18:22:29.174509Z"
    },
    "tags": [
     "hide-input"
    ]
   },
   "outputs": [],
   "source": [
    "Ans = df.groupby(['neighbourhood','neighbourhood_group']).price.mean().unstack().fillna(-999)"
   ]
  },
  {
   "cell_type": "code",
   "execution_count": 105,
   "metadata": {
    "ExecuteTime": {
     "end_time": "2022-02-19T18:22:29.193318Z",
     "start_time": "2022-02-19T18:22:29.185510Z"
    },
    "scrolled": false
   },
   "outputs": [
    {
     "data": {
      "text/html": [
       "<div>\n",
       "<style scoped>\n",
       "    .dataframe tbody tr th:only-of-type {\n",
       "        vertical-align: middle;\n",
       "    }\n",
       "\n",
       "    .dataframe tbody tr th {\n",
       "        vertical-align: top;\n",
       "    }\n",
       "\n",
       "    .dataframe thead th {\n",
       "        text-align: right;\n",
       "    }\n",
       "</style>\n",
       "<table border=\"1\" class=\"dataframe\">\n",
       "  <thead>\n",
       "    <tr style=\"text-align: right;\">\n",
       "      <th>neighbourhood_group</th>\n",
       "      <th>Bronx</th>\n",
       "      <th>Brooklyn</th>\n",
       "      <th>Manhattan</th>\n",
       "      <th>Queens</th>\n",
       "      <th>Staten Island</th>\n",
       "    </tr>\n",
       "    <tr>\n",
       "      <th>neighbourhood</th>\n",
       "      <th></th>\n",
       "      <th></th>\n",
       "      <th></th>\n",
       "      <th></th>\n",
       "      <th></th>\n",
       "    </tr>\n",
       "  </thead>\n",
       "  <tbody>\n",
       "    <tr>\n",
       "      <th>Allerton</th>\n",
       "      <td>87.595238</td>\n",
       "      <td>-999.0</td>\n",
       "      <td>-999.0</td>\n",
       "      <td>-999.000000</td>\n",
       "      <td>-999.00</td>\n",
       "    </tr>\n",
       "    <tr>\n",
       "      <th>Arden Heights</th>\n",
       "      <td>-999.000000</td>\n",
       "      <td>-999.0</td>\n",
       "      <td>-999.0</td>\n",
       "      <td>-999.000000</td>\n",
       "      <td>67.25</td>\n",
       "    </tr>\n",
       "    <tr>\n",
       "      <th>Arrochar</th>\n",
       "      <td>-999.000000</td>\n",
       "      <td>-999.0</td>\n",
       "      <td>-999.0</td>\n",
       "      <td>-999.000000</td>\n",
       "      <td>115.00</td>\n",
       "    </tr>\n",
       "    <tr>\n",
       "      <th>Arverne</th>\n",
       "      <td>-999.000000</td>\n",
       "      <td>-999.0</td>\n",
       "      <td>-999.0</td>\n",
       "      <td>171.779221</td>\n",
       "      <td>-999.00</td>\n",
       "    </tr>\n",
       "  </tbody>\n",
       "</table>\n",
       "</div>"
      ],
      "text/plain": [
       "neighbourhood_group       Bronx  Brooklyn  Manhattan      Queens  \\\n",
       "neighbourhood                                                      \n",
       "Allerton              87.595238    -999.0     -999.0 -999.000000   \n",
       "Arden Heights       -999.000000    -999.0     -999.0 -999.000000   \n",
       "Arrochar            -999.000000    -999.0     -999.0 -999.000000   \n",
       "Arverne             -999.000000    -999.0     -999.0  171.779221   \n",
       "\n",
       "neighbourhood_group  Staten Island  \n",
       "neighbourhood                       \n",
       "Allerton                   -999.00  \n",
       "Arden Heights                67.25  \n",
       "Arrochar                    115.00  \n",
       "Arverne                    -999.00  "
      ]
     },
     "execution_count": 105,
     "metadata": {},
     "output_type": "execute_result"
    }
   ],
   "source": [
    "Ans.head(4)"
   ]
  },
  {
   "cell_type": "markdown",
   "metadata": {},
   "source": [
    "```{admonition} Question 54\n",
    "**�곗씠�곗쨷 neighbourhood_group 媛믪씠 Queens媛믪쓣 媛�吏��� �곗씠�곕뱾 以� neighbourhood 洹몃９蹂꾨줈 price媛믪쓽 �됯퇏, 遺꾩궛, 理쒕�, 理쒖냼媛믪쓣 援ы븯��**\n",
    "```"
   ]
  },
  {
   "cell_type": "markdown",
   "metadata": {},
   "source": [
    "```{admonition} 54踰� �좏뒠釉� ����\n",
    ":class: dropdown\n",
    "<div style=\"text-align: center\"><iframe width=\"700\" height=\"500\" src=https://www.youtube.com/embed/00rctVVSSoA?start=3240&end=3348></iframe></div>\n",
    "```"
   ]
  },
  {
   "cell_type": "code",
   "execution_count": 106,
   "metadata": {
    "ExecuteTime": {
     "end_time": "2022-02-19T18:22:29.203112Z",
     "start_time": "2022-02-19T18:22:29.194734Z"
    },
    "tags": [
     "hide-input"
    ]
   },
   "outputs": [],
   "source": [
    "Ans = df[df.neighbourhood_group=='Queens'].groupby(['neighbourhood']).price.agg(['mean','var','max','min'])"
   ]
  },
  {
   "cell_type": "code",
   "execution_count": 107,
   "metadata": {
    "ExecuteTime": {
     "end_time": "2022-02-19T18:22:29.210453Z",
     "start_time": "2022-02-19T18:22:29.204428Z"
    }
   },
   "outputs": [
    {
     "data": {
      "text/html": [
       "<div>\n",
       "<style scoped>\n",
       "    .dataframe tbody tr th:only-of-type {\n",
       "        vertical-align: middle;\n",
       "    }\n",
       "\n",
       "    .dataframe tbody tr th {\n",
       "        vertical-align: top;\n",
       "    }\n",
       "\n",
       "    .dataframe thead th {\n",
       "        text-align: right;\n",
       "    }\n",
       "</style>\n",
       "<table border=\"1\" class=\"dataframe\">\n",
       "  <thead>\n",
       "    <tr style=\"text-align: right;\">\n",
       "      <th></th>\n",
       "      <th>mean</th>\n",
       "      <th>var</th>\n",
       "      <th>max</th>\n",
       "      <th>min</th>\n",
       "    </tr>\n",
       "    <tr>\n",
       "      <th>neighbourhood</th>\n",
       "      <th></th>\n",
       "      <th></th>\n",
       "      <th></th>\n",
       "      <th></th>\n",
       "    </tr>\n",
       "  </thead>\n",
       "  <tbody>\n",
       "    <tr>\n",
       "      <th>Arverne</th>\n",
       "      <td>171.779221</td>\n",
       "      <td>37383.411141</td>\n",
       "      <td>1500</td>\n",
       "      <td>35</td>\n",
       "    </tr>\n",
       "    <tr>\n",
       "      <th>Astoria</th>\n",
       "      <td>117.187778</td>\n",
       "      <td>122428.811196</td>\n",
       "      <td>10000</td>\n",
       "      <td>25</td>\n",
       "    </tr>\n",
       "    <tr>\n",
       "      <th>Bay Terrace</th>\n",
       "      <td>142.000000</td>\n",
       "      <td>6816.400000</td>\n",
       "      <td>258</td>\n",
       "      <td>32</td>\n",
       "    </tr>\n",
       "    <tr>\n",
       "      <th>Bayside</th>\n",
       "      <td>157.948718</td>\n",
       "      <td>166106.470985</td>\n",
       "      <td>2600</td>\n",
       "      <td>30</td>\n",
       "    </tr>\n",
       "  </tbody>\n",
       "</table>\n",
       "</div>"
      ],
      "text/plain": [
       "                     mean            var    max  min\n",
       "neighbourhood                                       \n",
       "Arverne        171.779221   37383.411141   1500   35\n",
       "Astoria        117.187778  122428.811196  10000   25\n",
       "Bay Terrace    142.000000    6816.400000    258   32\n",
       "Bayside        157.948718  166106.470985   2600   30"
      ]
     },
     "execution_count": 107,
     "metadata": {},
     "output_type": "execute_result"
    }
   ],
   "source": [
    "Ans.head(4)"
   ]
  },
  {
   "cell_type": "markdown",
   "metadata": {},
   "source": [
    "```{admonition} Question 55\n",
    "**�곗씠�곗쨷 neighbourhood_group 媛믪뿉 �곕Ⅸ room_type 而щ읆�� �レ옄瑜� 援ы븯怨� neighbourhood_group 媛믪쓣 湲곗��쇰줈 媛� 媛믪쓽 鍮꾩쑉�� 援ы븯�щ씪**\n",
    "```"
   ]
  },
  {
   "cell_type": "markdown",
   "metadata": {},
   "source": [
    "```{admonition} 55踰� �좏뒠釉� ����\n",
    ":class: dropdown\n",
    "<div style=\"text-align: center\"><iframe width=\"700\" height=\"500\" src=https://www.youtube.com/embed/00rctVVSSoA?start=3350&end=4128></iframe></div>\n",
    "```"
   ]
  },
  {
   "cell_type": "code",
   "execution_count": 108,
   "metadata": {
    "ExecuteTime": {
     "end_time": "2022-02-19T18:22:29.223481Z",
     "start_time": "2022-02-19T18:22:29.211690Z"
    },
    "tags": [
     "hide-input"
    ]
   },
   "outputs": [],
   "source": [
    "Ans = df[['neighbourhood_group','room_type']].groupby(['neighbourhood_group','room_type']).size().unstack()\n",
    "Ans.loc[:,:] = (Ans.values /Ans.sum(axis=1).values.reshape(-1,1))"
   ]
  },
  {
   "cell_type": "code",
   "execution_count": 109,
   "metadata": {
    "ExecuteTime": {
     "end_time": "2022-02-19T18:22:29.230581Z",
     "start_time": "2022-02-19T18:22:29.224869Z"
    }
   },
   "outputs": [
    {
     "data": {
      "text/html": [
       "<div>\n",
       "<style scoped>\n",
       "    .dataframe tbody tr th:only-of-type {\n",
       "        vertical-align: middle;\n",
       "    }\n",
       "\n",
       "    .dataframe tbody tr th {\n",
       "        vertical-align: top;\n",
       "    }\n",
       "\n",
       "    .dataframe thead th {\n",
       "        text-align: right;\n",
       "    }\n",
       "</style>\n",
       "<table border=\"1\" class=\"dataframe\">\n",
       "  <thead>\n",
       "    <tr style=\"text-align: right;\">\n",
       "      <th>room_type</th>\n",
       "      <th>Entire home/apt</th>\n",
       "      <th>Private room</th>\n",
       "      <th>Shared room</th>\n",
       "    </tr>\n",
       "    <tr>\n",
       "      <th>neighbourhood_group</th>\n",
       "      <th></th>\n",
       "      <th></th>\n",
       "      <th></th>\n",
       "    </tr>\n",
       "  </thead>\n",
       "  <tbody>\n",
       "    <tr>\n",
       "      <th>Bronx</th>\n",
       "      <td>0.347388</td>\n",
       "      <td>0.597617</td>\n",
       "      <td>0.054995</td>\n",
       "    </tr>\n",
       "    <tr>\n",
       "      <th>Brooklyn</th>\n",
       "      <td>0.475478</td>\n",
       "      <td>0.503979</td>\n",
       "      <td>0.020543</td>\n",
       "    </tr>\n",
       "    <tr>\n",
       "      <th>Manhattan</th>\n",
       "      <td>0.609344</td>\n",
       "      <td>0.368496</td>\n",
       "      <td>0.022160</td>\n",
       "    </tr>\n",
       "    <tr>\n",
       "      <th>Queens</th>\n",
       "      <td>0.369926</td>\n",
       "      <td>0.595129</td>\n",
       "      <td>0.034945</td>\n",
       "    </tr>\n",
       "    <tr>\n",
       "      <th>Staten Island</th>\n",
       "      <td>0.471850</td>\n",
       "      <td>0.504021</td>\n",
       "      <td>0.024129</td>\n",
       "    </tr>\n",
       "  </tbody>\n",
       "</table>\n",
       "</div>"
      ],
      "text/plain": [
       "room_type            Entire home/apt  Private room  Shared room\n",
       "neighbourhood_group                                            \n",
       "Bronx                       0.347388      0.597617     0.054995\n",
       "Brooklyn                    0.475478      0.503979     0.020543\n",
       "Manhattan                   0.609344      0.368496     0.022160\n",
       "Queens                      0.369926      0.595129     0.034945\n",
       "Staten Island               0.471850      0.504021     0.024129"
      ]
     },
     "execution_count": 109,
     "metadata": {},
     "output_type": "execute_result"
    }
   ],
   "source": [
    "Ans"
   ]
  },
  {
   "cell_type": "markdown",
   "metadata": {},
   "source": [
    "\n",
    "## 04_Apply , Map"
   ]
  },
  {
   "cell_type": "markdown",
   "metadata": {},
   "source": [
    "```{attention} \n",
    "移대뱶�댁슜�곗씠�� : https://www.kaggle.com/sakshigoyal7/credit-card-customers\n",
    "**DataUrl = 'https://raw.githubusercontent.com/Datamanim/pandas/main/BankChurnersUp.csv'**\n",
    "```"
   ]
  },
  {
   "cell_type": "markdown",
   "metadata": {},
   "source": [
    "```{admonition} Question 56\n",
    "**�곗씠�곕� 濡쒕뱶�섍퀬 �곗씠�� �됯낵 �댁쓽 媛�닔瑜� 異쒕젰�섎씪**\n",
    "```"
   ]
  },
  {
   "cell_type": "markdown",
   "metadata": {},
   "source": [
    "```{admonition} 56踰� �좏뒠釉� ����\n",
    ":class: dropdown\n",
    "<div style=\"text-align: center\"><iframe width=\"700\" height=\"500\" src=https://www.youtube.com/embed/00rctVVSSoA?start=4130&end=4143></iframe></div>\n",
    "```"
   ]
  },
  {
   "cell_type": "code",
   "execution_count": 40,
   "metadata": {
    "ExecuteTime": {
     "end_time": "2022-08-02T11:41:02.896731Z",
     "start_time": "2022-08-02T11:41:01.024208Z"
    },
    "tags": [
     "hide-input"
    ]
   },
   "outputs": [],
   "source": [
    "df =pd.read_csv('https://raw.githubusercontent.com/Datamanim/pandas/main/BankChurnersUp.csv',index_col=0)\n",
    "Ans =df.shape"
   ]
  },
  {
   "cell_type": "code",
   "execution_count": 41,
   "metadata": {
    "ExecuteTime": {
     "end_time": "2022-08-02T11:41:02.903718Z",
     "start_time": "2022-08-02T11:41:02.899956Z"
    }
   },
   "outputs": [
    {
     "data": {
      "text/plain": [
       "(10127, 18)"
      ]
     },
     "execution_count": 41,
     "metadata": {},
     "output_type": "execute_result"
    }
   ],
   "source": [
    "Ans"
   ]
  },
  {
   "cell_type": "markdown",
   "metadata": {},
   "source": [
    "```{admonition} Question 57\n",
    "**Income_Category�� 移댄뀒怨좊━瑜� map �⑥닔瑜� �댁슜�섏뿬 �ㅼ쓬怨� 媛숈씠 蹂�寃쏀븯�� newIncome 而щ읆�� 留ㅽ븨�섎씪**\n",
    "Unknown        : N    \n",
    "Less than \\$40K : a    \n",
    "\\$40K - \\$60K    : b    \n",
    "\\$60K - \\$80K    : c    \n",
    "\\$80K - \\$120K   : d    \n",
    "\\$120K +'       : e     \n",
    "```"
   ]
  },
  {
   "cell_type": "markdown",
   "metadata": {},
   "source": [
    "```{admonition} 57踰� �좏뒠釉� ����\n",
    ":class: dropdown\n",
    "<div style=\"text-align: center\"><iframe width=\"700\" height=\"500\" src=https://www.youtube.com/embed/00rctVVSSoA?start=4145&end=4498></iframe></div>\n",
    "```"
   ]
  },
  {
   "cell_type": "code",
   "execution_count": 45,
   "metadata": {
    "ExecuteTime": {
     "end_time": "2022-08-02T11:42:37.438593Z",
     "start_time": "2022-08-02T11:42:37.433137Z"
    },
    "tags": [
     "hide-input"
    ]
   },
   "outputs": [],
   "source": [
    "dic = {\n",
    "    'Unknown'        : 'N',\n",
    "    'Less than $40K' : 'a',\n",
    "    '$40K - $60K'    : 'b',\n",
    "    '$60K - $80K'    : 'c',\n",
    "    '$80K - $120K'   : 'd',\n",
    "    '$120K +'        : 'e'   \n",
    "}\n",
    "\n",
    "df['newIncome']  =df.Income_Category.map(lambda x: dic[x])\n",
    "\n",
    "Ans = df['newIncome']"
   ]
  },
  {
   "cell_type": "code",
   "execution_count": 43,
   "metadata": {
    "ExecuteTime": {
     "end_time": "2022-08-02T11:41:45.497402Z",
     "start_time": "2022-08-02T11:41:45.492370Z"
    }
   },
   "outputs": [
    {
     "data": {
      "text/plain": [
       "0    c\n",
       "1    a\n",
       "2    d\n",
       "3    a\n",
       "Name: newIncome, dtype: object"
      ]
     },
     "execution_count": 43,
     "metadata": {},
     "output_type": "execute_result"
    }
   ],
   "source": [
    "Ans.head(4)"
   ]
  },
  {
   "cell_type": "markdown",
   "metadata": {
    "scrolled": true,
    "tags": [
     "hide-input"
    ]
   },
   "source": [
    "```{admonition} Question 58\n",
    "**Income_Category�� 移댄뀒怨좊━瑜� apply �⑥닔瑜� �댁슜�섏뿬 �ㅼ쓬怨� 媛숈씠 蹂�寃쏀븯�� newIncome 而щ읆�� 留ㅽ븨�섎씪**\n",
    "Unknown        : N    \n",
    "Less than \\$40K : a    \n",
    "\\$40K - \\$60K    : b    \n",
    "\\$60K - \\$80K    : c    \n",
    "\\$80K - \\$120K   : d    \n",
    "\\$120K +'       : e     \n",
    "```"
   ]
  },
  {
   "cell_type": "markdown",
   "metadata": {},
   "source": [
    "```{admonition} 58踰� �좏뒠釉� ����\n",
    ":class: dropdown\n",
    "<div style=\"text-align: center\"><iframe width=\"700\" height=\"500\" src=https://www.youtube.com/embed/00rctVVSSoA?start=4500&end=4687></iframe></div>\n",
    "```"
   ]
  },
  {
   "cell_type": "code",
   "execution_count": 114,
   "metadata": {
    "ExecuteTime": {
     "end_time": "2022-02-19T18:22:29.370725Z",
     "start_time": "2022-02-19T18:22:29.364899Z"
    }
   },
   "outputs": [],
   "source": [
    "def changeCategory(x):\n",
    "    if x =='Unknown':\n",
    "        return 'N'\n",
    "    elif x =='Less than $40K':\n",
    "        return 'a'\n",
    "    elif x =='$40K - $60K':   \n",
    "        return 'b'\n",
    "    elif x =='$60K - $80K':    \n",
    "        return 'c'\n",
    "    elif x =='$80K - $120K':   \n",
    "        return 'd'\n",
    "    elif x =='$120K +' :     \n",
    "        return 'e'\n",
    "\n",
    "df['newIncome']  =df.Income_Category.apply(changeCategory)\n",
    "\n",
    "Ans = df['newIncome']"
   ]
  },
  {
   "cell_type": "code",
   "execution_count": 115,
   "metadata": {
    "ExecuteTime": {
     "end_time": "2022-02-19T18:22:29.375892Z",
     "start_time": "2022-02-19T18:22:29.372078Z"
    },
    "scrolled": true
   },
   "outputs": [
    {
     "data": {
      "text/plain": [
       "0    c\n",
       "1    a\n",
       "2    d\n",
       "3    a\n",
       "Name: newIncome, dtype: object"
      ]
     },
     "execution_count": 115,
     "metadata": {},
     "output_type": "execute_result"
    }
   ],
   "source": [
    "Ans.head(4)"
   ]
  },
  {
   "cell_type": "markdown",
   "metadata": {},
   "source": [
    "```{admonition} Question 59\n",
    "**Customer_Age�� 媛믪쓣 �댁슜�섏뿬 �섏씠 援ш컙�� AgeState 而щ읆�쇰줈 �뺤쓽�섎씪. (0~9 : 0 , 10~19 :10 , 20~29 :20 ... 媛� 援ш컙�� 鍮덈룄�섎� 異쒕젰�섎씪**\n",
    "```"
   ]
  },
  {
   "cell_type": "markdown",
   "metadata": {},
   "source": [
    "```{admonition} 59踰� �좏뒠釉� ����\n",
    ":class: dropdown\n",
    "<div style=\"text-align: center\"><iframe width=\"700\" height=\"500\" src=https://www.youtube.com/embed/00rctVVSSoA?start=4689&end=4842></iframe></div>\n",
    "```"
   ]
  },
  {
   "cell_type": "code",
   "execution_count": 116,
   "metadata": {
    "ExecuteTime": {
     "end_time": "2022-02-19T18:22:29.383759Z",
     "start_time": "2022-02-19T18:22:29.377247Z"
    },
    "scrolled": true,
    "tags": [
     "hide-input"
    ]
   },
   "outputs": [],
   "source": [
    "df['AgeState']  = df.Customer_Age.map(lambda x: x//10 *10)\n",
    "\n",
    "Ans = df['AgeState'].value_counts().sort_index()"
   ]
  },
  {
   "cell_type": "code",
   "execution_count": 117,
   "metadata": {
    "ExecuteTime": {
     "end_time": "2022-02-19T18:22:29.388364Z",
     "start_time": "2022-02-19T18:22:29.385066Z"
    }
   },
   "outputs": [
    {
     "data": {
      "text/plain": [
       "20     195\n",
       "30    1841\n",
       "40    4561\n",
       "50    2998\n",
       "60     530\n",
       "70       2\n",
       "Name: AgeState, dtype: int64"
      ]
     },
     "execution_count": 117,
     "metadata": {},
     "output_type": "execute_result"
    }
   ],
   "source": [
    "Ans"
   ]
  },
  {
   "cell_type": "markdown",
   "metadata": {},
   "source": [
    "```{admonition} Question 60\n",
    "**Education_Level�� 媛믪쨷 Graduate�⑥뼱媛� �ы븿�섎뒗 媛믪� 1 洹몃젃吏� �딆� 寃쎌슦�먮뒗 0�쇰줈 蹂�寃쏀븯�� newEduLevel 而щ읆�� �뺤쓽�섍퀬 鍮덈룄�섎� 異쒕젰�섎씪**\n",
    "```"
   ]
  },
  {
   "cell_type": "markdown",
   "metadata": {},
   "source": [
    "```{admonition} 60踰� �좏뒠釉� ����\n",
    ":class: dropdown\n",
    "<div style=\"text-align: center\"><iframe width=\"700\" height=\"500\" src=https://www.youtube.com/embed/00rctVVSSoA?start=4844&end=5168></iframe></div>\n",
    "```"
   ]
  },
  {
   "cell_type": "code",
   "execution_count": 118,
   "metadata": {
    "ExecuteTime": {
     "end_time": "2022-02-19T18:22:29.395958Z",
     "start_time": "2022-02-19T18:22:29.389826Z"
    },
    "tags": [
     "hide-input"
    ]
   },
   "outputs": [],
   "source": [
    "df['newEduLevel'] = df.Education_Level.map(lambda x : 1 if 'Graduate' in x else 0)\n",
    "Ans = df['newEduLevel'].value_counts()"
   ]
  },
  {
   "cell_type": "code",
   "execution_count": 119,
   "metadata": {
    "ExecuteTime": {
     "end_time": "2022-02-19T18:22:29.400397Z",
     "start_time": "2022-02-19T18:22:29.397215Z"
    }
   },
   "outputs": [
    {
     "data": {
      "text/plain": [
       "0    6483\n",
       "1    3644\n",
       "Name: newEduLevel, dtype: int64"
      ]
     },
     "execution_count": 119,
     "metadata": {},
     "output_type": "execute_result"
    }
   ],
   "source": [
    "Ans"
   ]
  },
  {
   "cell_type": "markdown",
   "metadata": {},
   "source": [
    "```{admonition} Question 61\n",
    "**Credit_Limit 而щ읆媛믪씠 4500 �댁긽�� 寃쎌슦 1 洹몄쇅�� 寃쎌슦�먮뒗 紐⑤몢 0�쇰줈 �섎뒗 newLimit �뺤쓽�섎씪. newLimit 媛� 媛믩뱾�� 鍮덈룄�섎� 異쒕젰�섎씪**\n",
    "```"
   ]
  },
  {
   "cell_type": "markdown",
   "metadata": {},
   "source": [
    "```{admonition} 61踰� �좏뒠釉� ����\n",
    ":class: dropdown\n",
    "<div style=\"text-align: center\"><iframe width=\"700\" height=\"500\" src=https://www.youtube.com/embed/00rctVVSSoA?start=5170&end=5228></iframe></div>\n",
    "```"
   ]
  },
  {
   "cell_type": "code",
   "execution_count": 120,
   "metadata": {
    "ExecuteTime": {
     "end_time": "2022-02-19T18:22:29.408194Z",
     "start_time": "2022-02-19T18:22:29.401630Z"
    },
    "scrolled": true,
    "tags": [
     "hide-input"
    ]
   },
   "outputs": [],
   "source": [
    "df['newLimit'] = df.Credit_Limit.map(lambda x : 1 if x>=4500 else 0)\n",
    "Ans = df['newLimit'].value_counts()"
   ]
  },
  {
   "cell_type": "code",
   "execution_count": 121,
   "metadata": {
    "ExecuteTime": {
     "end_time": "2022-02-19T18:22:29.412856Z",
     "start_time": "2022-02-19T18:22:29.409440Z"
    }
   },
   "outputs": [
    {
     "data": {
      "text/plain": [
       "1    5096\n",
       "0    5031\n",
       "Name: newLimit, dtype: int64"
      ]
     },
     "execution_count": 121,
     "metadata": {},
     "output_type": "execute_result"
    }
   ],
   "source": [
    "Ans"
   ]
  },
  {
   "cell_type": "markdown",
   "metadata": {},
   "source": [
    "```{admonition} Question 62\n",
    "**Marital_Status 而щ읆媛믪씠 Married �닿퀬 Card_Category 而щ읆�� 媛믪씠 Platinum�� 寃쎌슦 1 洹몄쇅�� 寃쎌슦�먮뒗 紐⑤몢 0�쇰줈 �섎뒗 newState而щ읆�� �뺤쓽�섎씪. newState�� 媛� 媛믩뱾�� 鍮덈룄�섎� 異쒕젰�섎씪**\n",
    "```"
   ]
  },
  {
   "cell_type": "markdown",
   "metadata": {},
   "source": [
    "```{admonition} 62踰� �좏뒠釉� ����\n",
    ":class: dropdown\n",
    "<div style=\"text-align: center\"><iframe width=\"700\" height=\"500\" src=https://www.youtube.com/embed/00rctVVSSoA?start=5230&end=5748></iframe></div>\n",
    "```"
   ]
  },
  {
   "cell_type": "code",
   "execution_count": 122,
   "metadata": {
    "ExecuteTime": {
     "end_time": "2022-02-19T18:22:29.559786Z",
     "start_time": "2022-02-19T18:22:29.414224Z"
    },
    "tags": [
     "hide-input"
    ]
   },
   "outputs": [],
   "source": [
    "def check(x):\n",
    "    if x.Marital_Status =='Married' and x.Card_Category =='Platinum':\n",
    "        return 1\n",
    "    else:\n",
    "        return 0\n",
    "\n",
    "\n",
    "df['newState'] = df.apply(check,axis=1)\n",
    "\n",
    "Ans  = df['newState'].value_counts()"
   ]
  },
  {
   "cell_type": "code",
   "execution_count": 123,
   "metadata": {
    "ExecuteTime": {
     "end_time": "2022-02-19T18:22:29.565299Z",
     "start_time": "2022-02-19T18:22:29.561133Z"
    }
   },
   "outputs": [
    {
     "data": {
      "text/plain": [
       "0    10120\n",
       "1        7\n",
       "Name: newState, dtype: int64"
      ]
     },
     "execution_count": 123,
     "metadata": {},
     "output_type": "execute_result"
    }
   ],
   "source": [
    "Ans"
   ]
  },
  {
   "cell_type": "markdown",
   "metadata": {},
   "source": [
    "```{admonition} Question 63\n",
    "**Gender 而щ읆媛� M�� 寃쎌슦 male F�� 寃쎌슦 female濡� 媛믪쓣 蹂�寃쏀븯�� Gender 而щ읆�� �덈∼寃� �뺤쓽�섎씪. 媛� value�� 鍮덈룄瑜� 異쒕젰�섎씪**\n",
    "```"
   ]
  },
  {
   "cell_type": "markdown",
   "metadata": {},
   "source": [
    "```{admonition} 63踰� �좏뒠釉� ����\n",
    ":class: dropdown\n",
    "<div style=\"text-align: center\"><iframe width=\"700\" height=\"500\" src=https://www.youtube.com/embed/00rctVVSSoA?start=5750&end=5866></iframe></div>\n",
    "```"
   ]
  },
  {
   "cell_type": "code",
   "execution_count": 124,
   "metadata": {
    "ExecuteTime": {
     "end_time": "2022-02-19T18:22:29.571997Z",
     "start_time": "2022-02-19T18:22:29.566699Z"
    },
    "tags": [
     "hide-input"
    ]
   },
   "outputs": [],
   "source": [
    "def changeGender(x):\n",
    "    if x =='M':\n",
    "        return 'male'\n",
    "    else:\n",
    "        return 'female'\n",
    "df['Gender'] = df.Gender.apply(changeGender)\n",
    "Ans = df['Gender'].value_counts()"
   ]
  },
  {
   "cell_type": "code",
   "execution_count": 125,
   "metadata": {
    "ExecuteTime": {
     "end_time": "2022-02-19T18:22:29.576573Z",
     "start_time": "2022-02-19T18:22:29.573079Z"
    }
   },
   "outputs": [
    {
     "data": {
      "text/plain": [
       "female    5358\n",
       "male      4769\n",
       "Name: Gender, dtype: int64"
      ]
     },
     "execution_count": 125,
     "metadata": {},
     "output_type": "execute_result"
    }
   ],
   "source": [
    "Ans"
   ]
  },
  {
   "cell_type": "markdown",
   "metadata": {},
   "source": [
    "## 05_Time_Series"
   ]
  },
  {
   "cell_type": "markdown",
   "metadata": {},
   "source": [
    "```{attention} \n",
    "二쇨� �곗씠�� : https://raw.githubusercontent.com/guipsamora/pandas_exercises/master/06_Stats/Wind_Stats/wind.data\n",
    "**DataUrl = 'https://raw.githubusercontent.com/Datamanim/pandas/main/timeTest.csv'**\n",
    "```"
   ]
  },
  {
   "cell_type": "markdown",
   "metadata": {},
   "source": [
    "```{admonition} Question 64\n",
    "**�곗씠�곕� 濡쒕뱶�섍퀬 媛� �댁쓽 �곗씠�� ���낆쓣 �뚯븙�섎씪**\n",
    "```"
   ]
  },
  {
   "cell_type": "markdown",
   "metadata": {},
   "source": [
    "```{admonition} 64踰� �좏뒠釉� ����\n",
    ":class: dropdown\n",
    "<div style=\"text-align: center\"><iframe width=\"700\" height=\"500\" src=https://www.youtube.com/embed/00rctVVSSoA?start=5868&end=5922></iframe></div>\n",
    "```"
   ]
  },
  {
   "cell_type": "code",
   "execution_count": 29,
   "metadata": {
    "ExecuteTime": {
     "end_time": "2022-08-02T11:40:15.609975Z",
     "start_time": "2022-08-02T11:40:14.196685Z"
    },
    "scrolled": true,
    "tags": [
     "hide-input"
    ]
   },
   "outputs": [
    {
     "name": "stdout",
     "output_type": "stream",
     "text": [
      "<class 'pandas.core.frame.DataFrame'>\n",
      "RangeIndex: 6574 entries, 0 to 6573\n",
      "Data columns (total 13 columns):\n",
      " #   Column    Non-Null Count  Dtype  \n",
      "---  ------    --------------  -----  \n",
      " 0   Yr_Mo_Dy  6574 non-null   object \n",
      " 1   RPT       6568 non-null   float64\n",
      " 2   VAL       6571 non-null   float64\n",
      " 3   ROS       6572 non-null   float64\n",
      " 4   KIL       6569 non-null   float64\n",
      " 5   SHA       6572 non-null   float64\n",
      " 6   BIR       6574 non-null   float64\n",
      " 7   DUB       6571 non-null   float64\n",
      " 8   CLA       6572 non-null   float64\n",
      " 9   MUL       6571 non-null   float64\n",
      " 10  CLO       6573 non-null   float64\n",
      " 11  BEL       6574 non-null   float64\n",
      " 12  MAL       6570 non-null   float64\n",
      "dtypes: float64(12), object(1)\n",
      "memory usage: 667.8+ KB\n"
     ]
    }
   ],
   "source": [
    "df = pd.read_csv('https://raw.githubusercontent.com/Datamanim/pandas/main/timeTest.csv')\n",
    "\n",
    "df.info()"
   ]
  },
  {
   "cell_type": "markdown",
   "metadata": {},
   "source": [
    "```{admonition} Question 65\n",
    "**Yr_Mo_Dy�� �먮떎�ㅼ뿉�� �몄떇�� �� �덈뒗 datetime64���낆쑝濡� 蹂�寃쏀븯��**\n",
    "```"
   ]
  },
  {
   "cell_type": "markdown",
   "metadata": {},
   "source": [
    "```{admonition} 65踰� �좏뒠釉� ����\n",
    ":class: dropdown\n",
    "<div style=\"text-align: center\"><iframe width=\"700\" height=\"500\" src=https://www.youtube.com/embed/00rctVVSSoA?start=5924&end=6118></iframe></div>\n",
    "```"
   ]
  },
  {
   "cell_type": "code",
   "execution_count": 30,
   "metadata": {
    "ExecuteTime": {
     "end_time": "2022-08-02T11:40:15.935470Z",
     "start_time": "2022-08-02T11:40:15.930587Z"
    },
    "tags": [
     "hide-input"
    ]
   },
   "outputs": [],
   "source": [
    "df.Yr_Mo_Dy = pd.to_datetime(df.Yr_Mo_Dy)\n",
    "Ans = df.Yr_Mo_Dy"
   ]
  },
  {
   "cell_type": "code",
   "execution_count": 31,
   "metadata": {
    "ExecuteTime": {
     "end_time": "2022-08-02T11:40:16.367062Z",
     "start_time": "2022-08-02T11:40:16.361359Z"
    }
   },
   "outputs": [
    {
     "data": {
      "text/plain": [
       "0   2061-01-01\n",
       "1   2061-01-02\n",
       "2   2061-01-03\n",
       "3   2061-01-04\n",
       "Name: Yr_Mo_Dy, dtype: datetime64[ns]"
      ]
     },
     "execution_count": 31,
     "metadata": {},
     "output_type": "execute_result"
    }
   ],
   "source": [
    "Ans.head(4)"
   ]
  },
  {
   "cell_type": "markdown",
   "metadata": {},
   "source": [
    "```{admonition} Question 66\n",
    "**Yr_Mo_Dy�� 議댁옱�섎뒗 �꾨룄�� �좎씪媛믪쓣 紐⑤몢 異쒕젰�섎씪**\n",
    "```"
   ]
  },
  {
   "cell_type": "markdown",
   "metadata": {},
   "source": [
    "```{admonition} 66踰� �좏뒠釉� ����\n",
    ":class: dropdown\n",
    "<div style=\"text-align: center\"><iframe width=\"700\" height=\"500\" src=https://www.youtube.com/embed/00rctVVSSoA?start=6120&end=6358></iframe></div>\n",
    "```\n",
    "    "
   ]
  },
  {
   "cell_type": "code",
   "execution_count": 32,
   "metadata": {
    "ExecuteTime": {
     "end_time": "2022-08-02T11:40:17.098357Z",
     "start_time": "2022-08-02T11:40:17.094961Z"
    },
    "tags": [
     "hide-input"
    ]
   },
   "outputs": [],
   "source": [
    "Ans = df.Yr_Mo_Dy.dt.year.unique()"
   ]
  },
  {
   "cell_type": "code",
   "execution_count": 33,
   "metadata": {
    "ExecuteTime": {
     "end_time": "2022-08-02T11:40:17.362109Z",
     "start_time": "2022-08-02T11:40:17.358025Z"
    }
   },
   "outputs": [
    {
     "data": {
      "text/plain": [
       "array([2061, 2062, 2063, 2064, 2065, 2066, 2067, 2068, 2069, 2070, 1971,\n",
       "       1972, 1973, 1974, 1975, 1976, 1977, 1978])"
      ]
     },
     "execution_count": 33,
     "metadata": {},
     "output_type": "execute_result"
    }
   ],
   "source": [
    "Ans"
   ]
  },
  {
   "cell_type": "markdown",
   "metadata": {},
   "source": [
    "```{admonition} Question 67\n",
    "**Yr_Mo_Dy�� �꾨룄媛� 2061�� �댁긽�� 寃쎌슦�먮뒗 紐⑤몢 �섎せ�� �곗씠�곗씠��. �대떦寃쎌슦�� 媛믪� 100�� 鍮쇱꽌 �덈∼寃� �좎쭨瑜� Yr_Mo_Dy 而щ읆�� �뺤쓽�섎씪**\n",
    "```"
   ]
  },
  {
   "cell_type": "markdown",
   "metadata": {},
   "source": [
    "```{admonition} 67踰� �좏뒠釉� ����\n",
    ":class: dropdown\n",
    "<div style=\"text-align: center\"><iframe width=\"700\" height=\"500\" src=https://www.youtube.com/embed/00rctVVSSoA?start=6360&end=6698></iframe></div>\n",
    "```"
   ]
  },
  {
   "cell_type": "code",
   "execution_count": 34,
   "metadata": {
    "ExecuteTime": {
     "end_time": "2022-08-02T11:40:18.820751Z",
     "start_time": "2022-08-02T11:40:18.392128Z"
    },
    "scrolled": true,
    "tags": [
     "hide-input"
    ]
   },
   "outputs": [],
   "source": [
    "def fix_century(x):\n",
    "    import datetime\n",
    "    \n",
    "    year = x.year - 100 if x.year >= 2061 else x.year\n",
    "    return pd.to_datetime(datetime.date(year, x.month, x.day))\n",
    "\n",
    "\n",
    "df['Yr_Mo_Dy'] = df['Yr_Mo_Dy'].apply(fix_century)\n",
    "\n",
    "Ans = df.head(4)"
   ]
  },
  {
   "cell_type": "code",
   "execution_count": 36,
   "metadata": {
    "ExecuteTime": {
     "end_time": "2022-08-02T11:40:24.821332Z",
     "start_time": "2022-08-02T11:40:24.805356Z"
    }
   },
   "outputs": [
    {
     "data": {
      "text/html": [
       "<div>\n",
       "<style scoped>\n",
       "    .dataframe tbody tr th:only-of-type {\n",
       "        vertical-align: middle;\n",
       "    }\n",
       "\n",
       "    .dataframe tbody tr th {\n",
       "        vertical-align: top;\n",
       "    }\n",
       "\n",
       "    .dataframe thead th {\n",
       "        text-align: right;\n",
       "    }\n",
       "</style>\n",
       "<table border=\"1\" class=\"dataframe\">\n",
       "  <thead>\n",
       "    <tr style=\"text-align: right;\">\n",
       "      <th></th>\n",
       "      <th>Yr_Mo_Dy</th>\n",
       "      <th>RPT</th>\n",
       "      <th>VAL</th>\n",
       "      <th>ROS</th>\n",
       "      <th>KIL</th>\n",
       "      <th>SHA</th>\n",
       "      <th>BIR</th>\n",
       "      <th>DUB</th>\n",
       "      <th>CLA</th>\n",
       "      <th>MUL</th>\n",
       "      <th>CLO</th>\n",
       "      <th>BEL</th>\n",
       "      <th>MAL</th>\n",
       "    </tr>\n",
       "  </thead>\n",
       "  <tbody>\n",
       "    <tr>\n",
       "      <th>0</th>\n",
       "      <td>1961-01-01</td>\n",
       "      <td>15.04</td>\n",
       "      <td>14.96</td>\n",
       "      <td>13.17</td>\n",
       "      <td>9.29</td>\n",
       "      <td>NaN</td>\n",
       "      <td>9.87</td>\n",
       "      <td>13.67</td>\n",
       "      <td>10.25</td>\n",
       "      <td>10.83</td>\n",
       "      <td>12.58</td>\n",
       "      <td>18.50</td>\n",
       "      <td>15.04</td>\n",
       "    </tr>\n",
       "    <tr>\n",
       "      <th>1</th>\n",
       "      <td>1961-01-02</td>\n",
       "      <td>14.71</td>\n",
       "      <td>NaN</td>\n",
       "      <td>10.83</td>\n",
       "      <td>6.50</td>\n",
       "      <td>12.62</td>\n",
       "      <td>7.67</td>\n",
       "      <td>11.50</td>\n",
       "      <td>10.04</td>\n",
       "      <td>9.79</td>\n",
       "      <td>9.67</td>\n",
       "      <td>17.54</td>\n",
       "      <td>13.83</td>\n",
       "    </tr>\n",
       "    <tr>\n",
       "      <th>2</th>\n",
       "      <td>1961-01-03</td>\n",
       "      <td>18.50</td>\n",
       "      <td>16.88</td>\n",
       "      <td>12.33</td>\n",
       "      <td>10.13</td>\n",
       "      <td>11.17</td>\n",
       "      <td>6.17</td>\n",
       "      <td>11.25</td>\n",
       "      <td>NaN</td>\n",
       "      <td>8.50</td>\n",
       "      <td>7.67</td>\n",
       "      <td>12.75</td>\n",
       "      <td>12.71</td>\n",
       "    </tr>\n",
       "    <tr>\n",
       "      <th>3</th>\n",
       "      <td>1961-01-04</td>\n",
       "      <td>10.58</td>\n",
       "      <td>6.63</td>\n",
       "      <td>11.75</td>\n",
       "      <td>4.58</td>\n",
       "      <td>4.54</td>\n",
       "      <td>2.88</td>\n",
       "      <td>8.63</td>\n",
       "      <td>1.79</td>\n",
       "      <td>5.83</td>\n",
       "      <td>5.88</td>\n",
       "      <td>5.46</td>\n",
       "      <td>10.88</td>\n",
       "    </tr>\n",
       "  </tbody>\n",
       "</table>\n",
       "</div>"
      ],
      "text/plain": [
       "    Yr_Mo_Dy    RPT    VAL    ROS    KIL    SHA   BIR    DUB    CLA    MUL  \\\n",
       "0 1961-01-01  15.04  14.96  13.17   9.29    NaN  9.87  13.67  10.25  10.83   \n",
       "1 1961-01-02  14.71    NaN  10.83   6.50  12.62  7.67  11.50  10.04   9.79   \n",
       "2 1961-01-03  18.50  16.88  12.33  10.13  11.17  6.17  11.25    NaN   8.50   \n",
       "3 1961-01-04  10.58   6.63  11.75   4.58   4.54  2.88   8.63   1.79   5.83   \n",
       "\n",
       "     CLO    BEL    MAL  \n",
       "0  12.58  18.50  15.04  \n",
       "1   9.67  17.54  13.83  \n",
       "2   7.67  12.75  12.71  \n",
       "3   5.88   5.46  10.88  "
      ]
     },
     "execution_count": 36,
     "metadata": {},
     "output_type": "execute_result"
    }
   ],
   "source": [
    "Ans"
   ]
  },
  {
   "cell_type": "markdown",
   "metadata": {},
   "source": [
    "```{admonition} Question 68\n",
    "**�꾨룄蹂� 媛곸뺄�쇱쓽 �됯퇏媛믪쓣 援ы븯�щ씪**\n",
    "```"
   ]
  },
  {
   "cell_type": "markdown",
   "metadata": {},
   "source": [
    "```{admonition} 68踰� �좏뒠釉� ����\n",
    ":class: dropdown\n",
    "<div style=\"text-align: center\"><iframe width=\"700\" height=\"500\" src=https://www.youtube.com/embed/00rctVVSSoA?start=6700&end=6808></iframe></div>\n",
    "```"
   ]
  },
  {
   "cell_type": "code",
   "execution_count": 37,
   "metadata": {
    "ExecuteTime": {
     "end_time": "2022-08-02T11:40:28.758413Z",
     "start_time": "2022-08-02T11:40:28.752978Z"
    },
    "tags": [
     "hide-input"
    ]
   },
   "outputs": [],
   "source": [
    "Ans = df.groupby(df.Yr_Mo_Dy.dt.year).mean()"
   ]
  },
  {
   "cell_type": "code",
   "execution_count": 38,
   "metadata": {
    "ExecuteTime": {
     "end_time": "2022-08-02T11:40:29.013634Z",
     "start_time": "2022-08-02T11:40:29.000134Z"
    }
   },
   "outputs": [
    {
     "data": {
      "text/html": [
       "<div>\n",
       "<style scoped>\n",
       "    .dataframe tbody tr th:only-of-type {\n",
       "        vertical-align: middle;\n",
       "    }\n",
       "\n",
       "    .dataframe tbody tr th {\n",
       "        vertical-align: top;\n",
       "    }\n",
       "\n",
       "    .dataframe thead th {\n",
       "        text-align: right;\n",
       "    }\n",
       "</style>\n",
       "<table border=\"1\" class=\"dataframe\">\n",
       "  <thead>\n",
       "    <tr style=\"text-align: right;\">\n",
       "      <th></th>\n",
       "      <th>RPT</th>\n",
       "      <th>VAL</th>\n",
       "      <th>ROS</th>\n",
       "      <th>KIL</th>\n",
       "      <th>SHA</th>\n",
       "      <th>BIR</th>\n",
       "      <th>DUB</th>\n",
       "      <th>CLA</th>\n",
       "      <th>MUL</th>\n",
       "      <th>CLO</th>\n",
       "      <th>BEL</th>\n",
       "      <th>MAL</th>\n",
       "    </tr>\n",
       "    <tr>\n",
       "      <th>Yr_Mo_Dy</th>\n",
       "      <th></th>\n",
       "      <th></th>\n",
       "      <th></th>\n",
       "      <th></th>\n",
       "      <th></th>\n",
       "      <th></th>\n",
       "      <th></th>\n",
       "      <th></th>\n",
       "      <th></th>\n",
       "      <th></th>\n",
       "      <th></th>\n",
       "      <th></th>\n",
       "    </tr>\n",
       "  </thead>\n",
       "  <tbody>\n",
       "    <tr>\n",
       "      <th>1961</th>\n",
       "      <td>12.299583</td>\n",
       "      <td>10.351796</td>\n",
       "      <td>11.362369</td>\n",
       "      <td>6.958227</td>\n",
       "      <td>10.881763</td>\n",
       "      <td>7.729726</td>\n",
       "      <td>9.733923</td>\n",
       "      <td>8.858788</td>\n",
       "      <td>8.647652</td>\n",
       "      <td>9.835577</td>\n",
       "      <td>13.502795</td>\n",
       "      <td>13.680773</td>\n",
       "    </tr>\n",
       "    <tr>\n",
       "      <th>1962</th>\n",
       "      <td>12.246923</td>\n",
       "      <td>10.110438</td>\n",
       "      <td>11.732712</td>\n",
       "      <td>6.960440</td>\n",
       "      <td>10.657918</td>\n",
       "      <td>7.393068</td>\n",
       "      <td>11.020712</td>\n",
       "      <td>8.793753</td>\n",
       "      <td>8.316822</td>\n",
       "      <td>9.676247</td>\n",
       "      <td>12.930685</td>\n",
       "      <td>14.323956</td>\n",
       "    </tr>\n",
       "    <tr>\n",
       "      <th>1963</th>\n",
       "      <td>12.813452</td>\n",
       "      <td>10.836986</td>\n",
       "      <td>12.541151</td>\n",
       "      <td>7.330055</td>\n",
       "      <td>11.724110</td>\n",
       "      <td>8.434712</td>\n",
       "      <td>11.075699</td>\n",
       "      <td>10.336548</td>\n",
       "      <td>8.903589</td>\n",
       "      <td>10.224438</td>\n",
       "      <td>13.638877</td>\n",
       "      <td>14.999014</td>\n",
       "    </tr>\n",
       "    <tr>\n",
       "      <th>1964</th>\n",
       "      <td>12.363661</td>\n",
       "      <td>10.920164</td>\n",
       "      <td>12.104372</td>\n",
       "      <td>6.787787</td>\n",
       "      <td>11.454481</td>\n",
       "      <td>7.570874</td>\n",
       "      <td>10.259153</td>\n",
       "      <td>9.467350</td>\n",
       "      <td>7.789016</td>\n",
       "      <td>10.207951</td>\n",
       "      <td>13.740546</td>\n",
       "      <td>14.910301</td>\n",
       "    </tr>\n",
       "  </tbody>\n",
       "</table>\n",
       "</div>"
      ],
      "text/plain": [
       "                RPT        VAL        ROS       KIL        SHA       BIR  \\\n",
       "Yr_Mo_Dy                                                                   \n",
       "1961      12.299583  10.351796  11.362369  6.958227  10.881763  7.729726   \n",
       "1962      12.246923  10.110438  11.732712  6.960440  10.657918  7.393068   \n",
       "1963      12.813452  10.836986  12.541151  7.330055  11.724110  8.434712   \n",
       "1964      12.363661  10.920164  12.104372  6.787787  11.454481  7.570874   \n",
       "\n",
       "                DUB        CLA       MUL        CLO        BEL        MAL  \n",
       "Yr_Mo_Dy                                                                   \n",
       "1961       9.733923   8.858788  8.647652   9.835577  13.502795  13.680773  \n",
       "1962      11.020712   8.793753  8.316822   9.676247  12.930685  14.323956  \n",
       "1963      11.075699  10.336548  8.903589  10.224438  13.638877  14.999014  \n",
       "1964      10.259153   9.467350  7.789016  10.207951  13.740546  14.910301  "
      ]
     },
     "execution_count": 38,
     "metadata": {},
     "output_type": "execute_result"
    }
   ],
   "source": [
    "Ans.head(4)"
   ]
  },
  {
   "cell_type": "code",
   "execution_count": null,
   "metadata": {},
   "outputs": [],
   "source": []
  },
  {
   "cell_type": "markdown",
   "metadata": {},
   "source": [
    "```{admonition} Question 69\n",
    "**weekday而щ읆�� 留뚮뱾怨� �붿씪蹂꾨줈 留ㅽ븨�섎씪 ( �붿슂��: 0 ~ �쇱슂�� :6)**\n",
    "```"
   ]
  },
  {
   "cell_type": "markdown",
   "metadata": {},
   "source": [
    "```{admonition} 69踰� �좏뒠釉� ����\n",
    ":class: dropdown\n",
    "<div style=\"text-align: center\"><iframe width=\"700\" height=\"500\" src=https://www.youtube.com/embed/00rctVVSSoA?start=6810&end=6933></iframe></div>\n",
    "```"
   ]
  },
  {
   "cell_type": "code",
   "execution_count": 135,
   "metadata": {
    "ExecuteTime": {
     "end_time": "2022-02-19T18:22:30.171467Z",
     "start_time": "2022-02-19T18:22:30.167436Z"
    },
    "tags": [
     "hide-input"
    ]
   },
   "outputs": [],
   "source": [
    "df['weekday'] = df.Yr_Mo_Dy.dt.weekday\n",
    "\n",
    "Ans = df['weekday'].head(3).to_frame()"
   ]
  },
  {
   "cell_type": "code",
   "execution_count": 136,
   "metadata": {
    "ExecuteTime": {
     "end_time": "2022-02-19T18:22:30.177478Z",
     "start_time": "2022-02-19T18:22:30.172967Z"
    }
   },
   "outputs": [
    {
     "data": {
      "text/html": [
       "<div>\n",
       "<style scoped>\n",
       "    .dataframe tbody tr th:only-of-type {\n",
       "        vertical-align: middle;\n",
       "    }\n",
       "\n",
       "    .dataframe tbody tr th {\n",
       "        vertical-align: top;\n",
       "    }\n",
       "\n",
       "    .dataframe thead th {\n",
       "        text-align: right;\n",
       "    }\n",
       "</style>\n",
       "<table border=\"1\" class=\"dataframe\">\n",
       "  <thead>\n",
       "    <tr style=\"text-align: right;\">\n",
       "      <th></th>\n",
       "      <th>weekday</th>\n",
       "    </tr>\n",
       "  </thead>\n",
       "  <tbody>\n",
       "    <tr>\n",
       "      <th>0</th>\n",
       "      <td>6</td>\n",
       "    </tr>\n",
       "    <tr>\n",
       "      <th>1</th>\n",
       "      <td>0</td>\n",
       "    </tr>\n",
       "    <tr>\n",
       "      <th>2</th>\n",
       "      <td>1</td>\n",
       "    </tr>\n",
       "  </tbody>\n",
       "</table>\n",
       "</div>"
      ],
      "text/plain": [
       "   weekday\n",
       "0        6\n",
       "1        0\n",
       "2        1"
      ]
     },
     "execution_count": 136,
     "metadata": {},
     "output_type": "execute_result"
    }
   ],
   "source": [
    "Ans"
   ]
  },
  {
   "cell_type": "markdown",
   "metadata": {},
   "source": [
    "```{admonition} Question 70\n",
    "**weekday而щ읆�� 湲곗��쇰줈 二쇰쭚�대㈃ 1 �됱씪�대㈃ 0�� 媛믪쓣 媛�吏��� WeekCheck 而щ읆�� 留뚮뱾�대씪**\n",
    "```"
   ]
  },
  {
   "cell_type": "markdown",
   "metadata": {},
   "source": [
    "```{admonition} 70踰� �좏뒠釉� ����\n",
    ":class: dropdown\n",
    "<div style=\"text-align: center\"><iframe width=\"700\" height=\"500\" src=https://www.youtube.com/embed/00rctVVSSoA?start=6935&end=7055></iframe></div>\n",
    "```"
   ]
  },
  {
   "cell_type": "code",
   "execution_count": 137,
   "metadata": {
    "ExecuteTime": {
     "end_time": "2022-02-19T18:22:30.184573Z",
     "start_time": "2022-02-19T18:22:30.178967Z"
    },
    "scrolled": true,
    "tags": [
     "hide-input"
    ]
   },
   "outputs": [],
   "source": [
    "df['WeekCheck']  = df['weekday'].map(lambda x : 1 if x in [5,6] else 0)\n",
    "\n",
    "Ans = df['WeekCheck'].head(3).to_frame()"
   ]
  },
  {
   "cell_type": "code",
   "execution_count": 138,
   "metadata": {
    "ExecuteTime": {
     "end_time": "2022-02-19T18:22:30.190442Z",
     "start_time": "2022-02-19T18:22:30.185878Z"
    }
   },
   "outputs": [
    {
     "data": {
      "text/html": [
       "<div>\n",
       "<style scoped>\n",
       "    .dataframe tbody tr th:only-of-type {\n",
       "        vertical-align: middle;\n",
       "    }\n",
       "\n",
       "    .dataframe tbody tr th {\n",
       "        vertical-align: top;\n",
       "    }\n",
       "\n",
       "    .dataframe thead th {\n",
       "        text-align: right;\n",
       "    }\n",
       "</style>\n",
       "<table border=\"1\" class=\"dataframe\">\n",
       "  <thead>\n",
       "    <tr style=\"text-align: right;\">\n",
       "      <th></th>\n",
       "      <th>WeekCheck</th>\n",
       "    </tr>\n",
       "  </thead>\n",
       "  <tbody>\n",
       "    <tr>\n",
       "      <th>0</th>\n",
       "      <td>1</td>\n",
       "    </tr>\n",
       "    <tr>\n",
       "      <th>1</th>\n",
       "      <td>0</td>\n",
       "    </tr>\n",
       "    <tr>\n",
       "      <th>2</th>\n",
       "      <td>0</td>\n",
       "    </tr>\n",
       "  </tbody>\n",
       "</table>\n",
       "</div>"
      ],
      "text/plain": [
       "   WeekCheck\n",
       "0          1\n",
       "1          0\n",
       "2          0"
      ]
     },
     "execution_count": 138,
     "metadata": {},
     "output_type": "execute_result"
    }
   ],
   "source": [
    "Ans"
   ]
  },
  {
   "cell_type": "markdown",
   "metadata": {},
   "source": [
    "```{admonition} Question 71\n",
    "**�꾨룄, �쇱옄 �곴��놁씠 紐⑤뱺 而щ읆�� 媛� �ъ쓽 �됯퇏�� 援ы븯�щ씪**\n",
    "```"
   ]
  },
  {
   "cell_type": "markdown",
   "metadata": {},
   "source": [
    "```{admonition} 71踰� �좏뒠釉� ����\n",
    ":class: dropdown\n",
    "<div style=\"text-align: center\"><iframe width=\"700\" height=\"500\" src=https://www.youtube.com/embed/00rctVVSSoA?start=7057&end=7104></iframe></div>\n",
    "```"
   ]
  },
  {
   "cell_type": "code",
   "execution_count": 139,
   "metadata": {
    "ExecuteTime": {
     "end_time": "2022-02-19T18:22:30.210111Z",
     "start_time": "2022-02-19T18:22:30.191842Z"
    },
    "tags": [
     "hide-input"
    ]
   },
   "outputs": [],
   "source": [
    "Ans = df.groupby(df.Yr_Mo_Dy.dt.month).mean()"
   ]
  },
  {
   "cell_type": "code",
   "execution_count": 140,
   "metadata": {
    "ExecuteTime": {
     "end_time": "2022-02-19T18:22:30.223673Z",
     "start_time": "2022-02-19T18:22:30.211285Z"
    }
   },
   "outputs": [
    {
     "data": {
      "text/html": [
       "<div>\n",
       "<style scoped>\n",
       "    .dataframe tbody tr th:only-of-type {\n",
       "        vertical-align: middle;\n",
       "    }\n",
       "\n",
       "    .dataframe tbody tr th {\n",
       "        vertical-align: top;\n",
       "    }\n",
       "\n",
       "    .dataframe thead th {\n",
       "        text-align: right;\n",
       "    }\n",
       "</style>\n",
       "<table border=\"1\" class=\"dataframe\">\n",
       "  <thead>\n",
       "    <tr style=\"text-align: right;\">\n",
       "      <th></th>\n",
       "      <th>RPT</th>\n",
       "      <th>VAL</th>\n",
       "      <th>ROS</th>\n",
       "      <th>KIL</th>\n",
       "      <th>SHA</th>\n",
       "      <th>BIR</th>\n",
       "      <th>DUB</th>\n",
       "      <th>CLA</th>\n",
       "      <th>MUL</th>\n",
       "      <th>CLO</th>\n",
       "      <th>BEL</th>\n",
       "      <th>MAL</th>\n",
       "      <th>weekday</th>\n",
       "      <th>WeekCheck</th>\n",
       "    </tr>\n",
       "    <tr>\n",
       "      <th>Yr_Mo_Dy</th>\n",
       "      <th></th>\n",
       "      <th></th>\n",
       "      <th></th>\n",
       "      <th></th>\n",
       "      <th></th>\n",
       "      <th></th>\n",
       "      <th></th>\n",
       "      <th></th>\n",
       "      <th></th>\n",
       "      <th></th>\n",
       "      <th></th>\n",
       "      <th></th>\n",
       "      <th></th>\n",
       "      <th></th>\n",
       "    </tr>\n",
       "  </thead>\n",
       "  <tbody>\n",
       "    <tr>\n",
       "      <th>1</th>\n",
       "      <td>14.847325</td>\n",
       "      <td>12.914560</td>\n",
       "      <td>13.299624</td>\n",
       "      <td>7.199498</td>\n",
       "      <td>11.667734</td>\n",
       "      <td>8.054839</td>\n",
       "      <td>11.819355</td>\n",
       "      <td>9.512047</td>\n",
       "      <td>9.543208</td>\n",
       "      <td>10.053566</td>\n",
       "      <td>14.550520</td>\n",
       "      <td>18.028763</td>\n",
       "      <td>2.989247</td>\n",
       "      <td>0.284946</td>\n",
       "    </tr>\n",
       "    <tr>\n",
       "      <th>2</th>\n",
       "      <td>13.710906</td>\n",
       "      <td>12.111122</td>\n",
       "      <td>12.879132</td>\n",
       "      <td>6.942411</td>\n",
       "      <td>11.551772</td>\n",
       "      <td>7.633858</td>\n",
       "      <td>11.206024</td>\n",
       "      <td>9.341437</td>\n",
       "      <td>9.313169</td>\n",
       "      <td>9.518051</td>\n",
       "      <td>13.728898</td>\n",
       "      <td>17.156142</td>\n",
       "      <td>3.005906</td>\n",
       "      <td>0.287402</td>\n",
       "    </tr>\n",
       "    <tr>\n",
       "      <th>3</th>\n",
       "      <td>13.158687</td>\n",
       "      <td>11.505842</td>\n",
       "      <td>12.648118</td>\n",
       "      <td>7.265907</td>\n",
       "      <td>11.554516</td>\n",
       "      <td>7.959409</td>\n",
       "      <td>11.310179</td>\n",
       "      <td>9.635896</td>\n",
       "      <td>9.700324</td>\n",
       "      <td>10.096953</td>\n",
       "      <td>13.810609</td>\n",
       "      <td>16.909317</td>\n",
       "      <td>3.000000</td>\n",
       "      <td>0.283154</td>\n",
       "    </tr>\n",
       "    <tr>\n",
       "      <th>4</th>\n",
       "      <td>12.555648</td>\n",
       "      <td>10.429759</td>\n",
       "      <td>12.204815</td>\n",
       "      <td>6.898037</td>\n",
       "      <td>10.677667</td>\n",
       "      <td>7.441389</td>\n",
       "      <td>10.221315</td>\n",
       "      <td>8.909056</td>\n",
       "      <td>8.930870</td>\n",
       "      <td>9.158019</td>\n",
       "      <td>12.664759</td>\n",
       "      <td>14.937611</td>\n",
       "      <td>3.011111</td>\n",
       "      <td>0.288889</td>\n",
       "    </tr>\n",
       "  </tbody>\n",
       "</table>\n",
       "</div>"
      ],
      "text/plain": [
       "                RPT        VAL        ROS       KIL        SHA       BIR  \\\n",
       "Yr_Mo_Dy                                                                   \n",
       "1         14.847325  12.914560  13.299624  7.199498  11.667734  8.054839   \n",
       "2         13.710906  12.111122  12.879132  6.942411  11.551772  7.633858   \n",
       "3         13.158687  11.505842  12.648118  7.265907  11.554516  7.959409   \n",
       "4         12.555648  10.429759  12.204815  6.898037  10.677667  7.441389   \n",
       "\n",
       "                DUB       CLA       MUL        CLO        BEL        MAL  \\\n",
       "Yr_Mo_Dy                                                                   \n",
       "1         11.819355  9.512047  9.543208  10.053566  14.550520  18.028763   \n",
       "2         11.206024  9.341437  9.313169   9.518051  13.728898  17.156142   \n",
       "3         11.310179  9.635896  9.700324  10.096953  13.810609  16.909317   \n",
       "4         10.221315  8.909056  8.930870   9.158019  12.664759  14.937611   \n",
       "\n",
       "           weekday  WeekCheck  \n",
       "Yr_Mo_Dy                       \n",
       "1         2.989247   0.284946  \n",
       "2         3.005906   0.287402  \n",
       "3         3.000000   0.283154  \n",
       "4         3.011111   0.288889  "
      ]
     },
     "execution_count": 140,
     "metadata": {},
     "output_type": "execute_result"
    }
   ],
   "source": [
    "Ans.head(4)"
   ]
  },
  {
   "cell_type": "markdown",
   "metadata": {},
   "source": [
    "```{admonition} Question 72\n",
    "**紐⑤뱺 寃곗륫移섎뒗 而щ읆湲곗� 吏곸쟾�� 媛믪쑝濡� ��泥댄븯怨� 泥ル쾲吏� �됱뿉 寃곗륫移섍� �덉쓣寃쎌슦 �ㅼ뿉�덈뒗 媛믪쑝濡� ��梨꾪븯��**\n",
    "```"
   ]
  },
  {
   "cell_type": "markdown",
   "metadata": {},
   "source": [
    "```{admonition} 72踰� �좏뒠釉� ����\n",
    ":class: dropdown\n",
    "<div style=\"text-align: center\"><iframe width=\"700\" height=\"500\" src=https://www.youtube.com/embed/00rctVVSSoA?start=7106&end=7348></iframe></div>\n",
    "```"
   ]
  },
  {
   "cell_type": "code",
   "execution_count": 141,
   "metadata": {
    "ExecuteTime": {
     "end_time": "2022-02-19T18:22:30.228530Z",
     "start_time": "2022-02-19T18:22:30.224898Z"
    },
    "tags": [
     "hide-input"
    ]
   },
   "outputs": [],
   "source": [
    "df = df.fillna(method='ffill').fillna(method='bfill')"
   ]
  },
  {
   "cell_type": "code",
   "execution_count": 142,
   "metadata": {
    "ExecuteTime": {
     "end_time": "2022-02-19T18:22:30.234796Z",
     "start_time": "2022-02-19T18:22:30.229823Z"
    }
   },
   "outputs": [
    {
     "data": {
      "text/plain": [
       "Yr_Mo_Dy     0\n",
       "RPT          0\n",
       "VAL          0\n",
       "ROS          0\n",
       "KIL          0\n",
       "SHA          0\n",
       "BIR          0\n",
       "DUB          0\n",
       "CLA          0\n",
       "MUL          0\n",
       "CLO          0\n",
       "BEL          0\n",
       "MAL          0\n",
       "weekday      0\n",
       "WeekCheck    0\n",
       "dtype: int64"
      ]
     },
     "execution_count": 142,
     "metadata": {},
     "output_type": "execute_result"
    }
   ],
   "source": [
    "df.isnull().sum()"
   ]
  },
  {
   "cell_type": "markdown",
   "metadata": {},
   "source": [
    "```{admonition} Question 73\n",
    "**�꾨룄 - �붿쓣 湲곗��쇰줈 紐⑤뱺 而щ읆�� �됯퇏媛믪쓣 援ы븯�щ씪**\n",
    "```"
   ]
  },
  {
   "cell_type": "markdown",
   "metadata": {},
   "source": [
    "```{admonition} 73踰� �좏뒠釉� ����\n",
    ":class: dropdown\n",
    "<div style=\"text-align: center\"><iframe width=\"700\" height=\"500\" src=https://www.youtube.com/embed/00rctVVSSoA?start=7350&end=7593></iframe></div>\n",
    "```"
   ]
  },
  {
   "cell_type": "code",
   "execution_count": 143,
   "metadata": {
    "ExecuteTime": {
     "end_time": "2022-02-19T18:22:30.241137Z",
     "start_time": "2022-02-19T18:22:30.236127Z"
    },
    "tags": [
     "hide-input"
    ]
   },
   "outputs": [],
   "source": [
    "Ans = df.groupby(df.Yr_Mo_Dy.dt.to_period('M')).mean()"
   ]
  },
  {
   "cell_type": "code",
   "execution_count": 144,
   "metadata": {
    "ExecuteTime": {
     "end_time": "2022-02-19T18:22:30.253673Z",
     "start_time": "2022-02-19T18:22:30.242353Z"
    }
   },
   "outputs": [
    {
     "data": {
      "text/html": [
       "<div>\n",
       "<style scoped>\n",
       "    .dataframe tbody tr th:only-of-type {\n",
       "        vertical-align: middle;\n",
       "    }\n",
       "\n",
       "    .dataframe tbody tr th {\n",
       "        vertical-align: top;\n",
       "    }\n",
       "\n",
       "    .dataframe thead th {\n",
       "        text-align: right;\n",
       "    }\n",
       "</style>\n",
       "<table border=\"1\" class=\"dataframe\">\n",
       "  <thead>\n",
       "    <tr style=\"text-align: right;\">\n",
       "      <th></th>\n",
       "      <th>RPT</th>\n",
       "      <th>VAL</th>\n",
       "      <th>ROS</th>\n",
       "      <th>KIL</th>\n",
       "      <th>SHA</th>\n",
       "      <th>BIR</th>\n",
       "      <th>DUB</th>\n",
       "      <th>CLA</th>\n",
       "      <th>MUL</th>\n",
       "      <th>CLO</th>\n",
       "      <th>BEL</th>\n",
       "      <th>MAL</th>\n",
       "      <th>weekday</th>\n",
       "      <th>WeekCheck</th>\n",
       "    </tr>\n",
       "    <tr>\n",
       "      <th>Yr_Mo_Dy</th>\n",
       "      <th></th>\n",
       "      <th></th>\n",
       "      <th></th>\n",
       "      <th></th>\n",
       "      <th></th>\n",
       "      <th></th>\n",
       "      <th></th>\n",
       "      <th></th>\n",
       "      <th></th>\n",
       "      <th></th>\n",
       "      <th></th>\n",
       "      <th></th>\n",
       "      <th></th>\n",
       "      <th></th>\n",
       "    </tr>\n",
       "  </thead>\n",
       "  <tbody>\n",
       "    <tr>\n",
       "      <th>1961-01</th>\n",
       "      <td>14.932581</td>\n",
       "      <td>12.084194</td>\n",
       "      <td>13.431613</td>\n",
       "      <td>7.736774</td>\n",
       "      <td>11.215806</td>\n",
       "      <td>8.588065</td>\n",
       "      <td>11.184839</td>\n",
       "      <td>9.270968</td>\n",
       "      <td>9.085806</td>\n",
       "      <td>10.107419</td>\n",
       "      <td>13.880968</td>\n",
       "      <td>14.703226</td>\n",
       "      <td>2.935484</td>\n",
       "      <td>0.290323</td>\n",
       "    </tr>\n",
       "    <tr>\n",
       "      <th>1961-02</th>\n",
       "      <td>16.269286</td>\n",
       "      <td>14.975357</td>\n",
       "      <td>14.324643</td>\n",
       "      <td>9.116786</td>\n",
       "      <td>13.852143</td>\n",
       "      <td>10.937500</td>\n",
       "      <td>11.890714</td>\n",
       "      <td>11.846071</td>\n",
       "      <td>11.821429</td>\n",
       "      <td>12.714286</td>\n",
       "      <td>18.583214</td>\n",
       "      <td>15.411786</td>\n",
       "      <td>3.000000</td>\n",
       "      <td>0.285714</td>\n",
       "    </tr>\n",
       "    <tr>\n",
       "      <th>1961-03</th>\n",
       "      <td>11.015806</td>\n",
       "      <td>11.296452</td>\n",
       "      <td>10.752903</td>\n",
       "      <td>7.137742</td>\n",
       "      <td>10.509355</td>\n",
       "      <td>8.866774</td>\n",
       "      <td>9.644194</td>\n",
       "      <td>9.829677</td>\n",
       "      <td>10.646129</td>\n",
       "      <td>11.251935</td>\n",
       "      <td>16.410968</td>\n",
       "      <td>15.637742</td>\n",
       "      <td>3.000000</td>\n",
       "      <td>0.258065</td>\n",
       "    </tr>\n",
       "  </tbody>\n",
       "</table>\n",
       "</div>"
      ],
      "text/plain": [
       "                RPT        VAL        ROS       KIL        SHA        BIR  \\\n",
       "Yr_Mo_Dy                                                                    \n",
       "1961-01   14.932581  12.084194  13.431613  7.736774  11.215806   8.588065   \n",
       "1961-02   16.269286  14.975357  14.324643  9.116786  13.852143  10.937500   \n",
       "1961-03   11.015806  11.296452  10.752903  7.137742  10.509355   8.866774   \n",
       "\n",
       "                DUB        CLA        MUL        CLO        BEL        MAL  \\\n",
       "Yr_Mo_Dy                                                                     \n",
       "1961-01   11.184839   9.270968   9.085806  10.107419  13.880968  14.703226   \n",
       "1961-02   11.890714  11.846071  11.821429  12.714286  18.583214  15.411786   \n",
       "1961-03    9.644194   9.829677  10.646129  11.251935  16.410968  15.637742   \n",
       "\n",
       "           weekday  WeekCheck  \n",
       "Yr_Mo_Dy                       \n",
       "1961-01   2.935484   0.290323  \n",
       "1961-02   3.000000   0.285714  \n",
       "1961-03   3.000000   0.258065  "
      ]
     },
     "execution_count": 144,
     "metadata": {},
     "output_type": "execute_result"
    }
   ],
   "source": [
    "Ans.head(3)"
   ]
  },
  {
   "cell_type": "markdown",
   "metadata": {},
   "source": [
    "```{admonition} Question 74\n",
    "**RPT 而щ읆�� 媛믪쓣 �쇱옄蹂� 湲곗��쇰줈 1李⑥감遺꾪븯��**\n",
    "```"
   ]
  },
  {
   "cell_type": "markdown",
   "metadata": {},
   "source": [
    "```{admonition} 74踰� �좏뒠釉� ����\n",
    ":class: dropdown\n",
    "<div style=\"text-align: center\"><iframe width=\"700\" height=\"500\" src=https://www.youtube.com/embed/00rctVVSSoA?start=7595&end=7648></iframe></div>\n",
    "```"
   ]
  },
  {
   "cell_type": "code",
   "execution_count": 145,
   "metadata": {
    "ExecuteTime": {
     "end_time": "2022-02-19T18:22:30.257050Z",
     "start_time": "2022-02-19T18:22:30.254686Z"
    },
    "tags": [
     "hide-input"
    ]
   },
   "outputs": [],
   "source": [
    "Ans = df['RPT'].diff()"
   ]
  },
  {
   "cell_type": "code",
   "execution_count": 146,
   "metadata": {
    "ExecuteTime": {
     "end_time": "2022-02-19T18:22:30.261878Z",
     "start_time": "2022-02-19T18:22:30.258315Z"
    }
   },
   "outputs": [
    {
     "data": {
      "text/plain": [
       "0     NaN\n",
       "1   -0.33\n",
       "2    3.79\n",
       "Name: RPT, dtype: float64"
      ]
     },
     "execution_count": 146,
     "metadata": {},
     "output_type": "execute_result"
    }
   ],
   "source": [
    "Ans.head(3)"
   ]
  },
  {
   "cell_type": "markdown",
   "metadata": {},
   "source": [
    "```{admonition} Question 75\n",
    "**RPT�� VAL�� 而щ읆�� �쇱＜�� 媛꾧꺽�쇰줈 媛곴컖 �대룞�됯퇏�쒓컪�� 援ы븯�щ씪**\n",
    "```"
   ]
  },
  {
   "cell_type": "markdown",
   "metadata": {},
   "source": [
    "```{admonition} 75踰� �좏뒠釉� ����\n",
    ":class: dropdown\n",
    "<div style=\"text-align: center\"><iframe width=\"700\" height=\"500\" src=https://www.youtube.com/embed/00rctVVSSoA?start=7650&end=7756></iframe></div>\n",
    "```"
   ]
  },
  {
   "cell_type": "code",
   "execution_count": 147,
   "metadata": {
    "ExecuteTime": {
     "end_time": "2022-02-19T18:22:30.266742Z",
     "start_time": "2022-02-19T18:22:30.263052Z"
    },
    "scrolled": true,
    "tags": [
     "hide-input"
    ]
   },
   "outputs": [],
   "source": [
    "Ans= df[['RPT','VAL']].rolling(7).mean()\n"
   ]
  },
  {
   "cell_type": "code",
   "execution_count": 148,
   "metadata": {
    "ExecuteTime": {
     "end_time": "2022-02-19T18:22:30.274064Z",
     "start_time": "2022-02-19T18:22:30.268110Z"
    }
   },
   "outputs": [
    {
     "data": {
      "text/html": [
       "<div>\n",
       "<style scoped>\n",
       "    .dataframe tbody tr th:only-of-type {\n",
       "        vertical-align: middle;\n",
       "    }\n",
       "\n",
       "    .dataframe tbody tr th {\n",
       "        vertical-align: top;\n",
       "    }\n",
       "\n",
       "    .dataframe thead th {\n",
       "        text-align: right;\n",
       "    }\n",
       "</style>\n",
       "<table border=\"1\" class=\"dataframe\">\n",
       "  <thead>\n",
       "    <tr style=\"text-align: right;\">\n",
       "      <th></th>\n",
       "      <th>RPT</th>\n",
       "      <th>VAL</th>\n",
       "    </tr>\n",
       "  </thead>\n",
       "  <tbody>\n",
       "    <tr>\n",
       "      <th>0</th>\n",
       "      <td>NaN</td>\n",
       "      <td>NaN</td>\n",
       "    </tr>\n",
       "    <tr>\n",
       "      <th>1</th>\n",
       "      <td>NaN</td>\n",
       "      <td>NaN</td>\n",
       "    </tr>\n",
       "    <tr>\n",
       "      <th>2</th>\n",
       "      <td>NaN</td>\n",
       "      <td>NaN</td>\n",
       "    </tr>\n",
       "    <tr>\n",
       "      <th>3</th>\n",
       "      <td>NaN</td>\n",
       "      <td>NaN</td>\n",
       "    </tr>\n",
       "    <tr>\n",
       "      <th>4</th>\n",
       "      <td>NaN</td>\n",
       "      <td>NaN</td>\n",
       "    </tr>\n",
       "    <tr>\n",
       "      <th>5</th>\n",
       "      <td>NaN</td>\n",
       "      <td>NaN</td>\n",
       "    </tr>\n",
       "    <tr>\n",
       "      <th>6</th>\n",
       "      <td>14.124286</td>\n",
       "      <td>12.727143</td>\n",
       "    </tr>\n",
       "    <tr>\n",
       "      <th>7</th>\n",
       "      <td>13.541429</td>\n",
       "      <td>11.982857</td>\n",
       "    </tr>\n",
       "    <tr>\n",
       "      <th>8</th>\n",
       "      <td>13.237143</td>\n",
       "      <td>11.392857</td>\n",
       "    </tr>\n",
       "  </tbody>\n",
       "</table>\n",
       "</div>"
      ],
      "text/plain": [
       "         RPT        VAL\n",
       "0        NaN        NaN\n",
       "1        NaN        NaN\n",
       "2        NaN        NaN\n",
       "3        NaN        NaN\n",
       "4        NaN        NaN\n",
       "5        NaN        NaN\n",
       "6  14.124286  12.727143\n",
       "7  13.541429  11.982857\n",
       "8  13.237143  11.392857"
      ]
     },
     "execution_count": 148,
     "metadata": {},
     "output_type": "execute_result"
    }
   ],
   "source": [
    "Ans.head(9)"
   ]
  },
  {
   "cell_type": "markdown",
   "metadata": {},
   "source": [
    "```{attention} \n",
    "�쒖슱�� 誘몄꽭癒쇱� �곗씠�� : https://www.airkorea.or.kr/web/realSearch?pMENU_NO=97\n",
    "**DataUrl = 'https://raw.githubusercontent.com/Datamanim/pandas/main/seoul_pm.csv'**\n",
    "```"
   ]
  },
  {
   "cell_type": "code",
   "execution_count": 149,
   "metadata": {
    "ExecuteTime": {
     "end_time": "2022-02-19T18:22:30.307160Z",
     "start_time": "2022-02-19T18:22:30.275470Z"
    }
   },
   "outputs": [],
   "source": [
    "df =pd.read_csv('https://raw.githubusercontent.com/Datamanim/pandas/main/seoul_pm.csv')"
   ]
  },
  {
   "cell_type": "markdown",
   "metadata": {},
   "source": [
    "```{admonition} Question 76\n",
    "**��-��-��:�� 而щ읆�� pandas�먯꽌 �몄떇�� �� �덈뒗 datetime �뺥깭濡� 蹂�寃쏀븯��. �쒖슱�쒖쓽 �쒓났�곗씠�곗쓽 寃쎌슦 0�쒓� 24�쒕줈 �쒗쁽�쒕떎**\n",
    "```"
   ]
  },
  {
   "cell_type": "markdown",
   "metadata": {},
   "source": [
    "```{admonition} 76踰� �좏뒠釉� ����\n",
    ":class: dropdown\n",
    "<div style=\"text-align: center\"><iframe width=\"700\" height=\"500\" src=https://www.youtube.com/embed/00rctVVSSoA?start=7758&end=8278></iframe></div>\n",
    "```"
   ]
  },
  {
   "cell_type": "code",
   "execution_count": 150,
   "metadata": {
    "ExecuteTime": {
     "end_time": "2022-02-19T18:22:30.412827Z",
     "start_time": "2022-02-19T18:22:30.308394Z"
    },
    "tags": [
     "hide-input"
    ]
   },
   "outputs": [],
   "source": [
    "def change_date(x):\n",
    "    import datetime\n",
    "    hour = x.split(':')[1]\n",
    "    date = x.split(\":\")[0]\n",
    "    \n",
    "    if hour =='24':\n",
    "        hour ='00:00:00'\n",
    "        \n",
    "        FinalDate = pd.to_datetime(date +\" \"+hour) +datetime.timedelta(days=1)\n",
    "        \n",
    "    else:\n",
    "        hour = hour +':00:00'\n",
    "        FinalDate = pd.to_datetime(date +\" \"+hour)\n",
    "    \n",
    "    return FinalDate\n",
    "\n",
    "df['(��-��-��:��)'] = df['(��-��-��:��)'].apply(change_date)\n",
    "\n",
    "Ans = df\n"
   ]
  },
  {
   "cell_type": "code",
   "execution_count": 151,
   "metadata": {
    "ExecuteTime": {
     "end_time": "2022-02-19T18:22:30.426124Z",
     "start_time": "2022-02-19T18:22:30.414107Z"
    }
   },
   "outputs": [
    {
     "data": {
      "text/html": [
       "<div>\n",
       "<style scoped>\n",
       "    .dataframe tbody tr th:only-of-type {\n",
       "        vertical-align: middle;\n",
       "    }\n",
       "\n",
       "    .dataframe tbody tr th {\n",
       "        vertical-align: top;\n",
       "    }\n",
       "\n",
       "    .dataframe thead th {\n",
       "        text-align: right;\n",
       "    }\n",
       "</style>\n",
       "<table border=\"1\" class=\"dataframe\">\n",
       "  <thead>\n",
       "    <tr style=\"text-align: right;\">\n",
       "      <th></th>\n",
       "      <th>(��-��-��:��)</th>\n",
       "      <th>PM10�깃툒</th>\n",
       "      <th>PM10</th>\n",
       "      <th>PM2.5�깃툒</th>\n",
       "      <th>PM2.5</th>\n",
       "      <th>�ㅼ〈�깃툒</th>\n",
       "      <th>�ㅼ〈</th>\n",
       "      <th>�댁궛�붿쭏�뚮벑湲�</th>\n",
       "      <th>�댁궛�붿쭏��</th>\n",
       "      <th>�쇱궛�뷀깂�뚮벑湲�</th>\n",
       "      <th>�쇱궛�뷀깂��</th>\n",
       "      <th>�꾪솴�곌��ㅻ벑湲�</th>\n",
       "      <th>�꾪솴�곌���</th>\n",
       "    </tr>\n",
       "  </thead>\n",
       "  <tbody>\n",
       "    <tr>\n",
       "      <th>0</th>\n",
       "      <td>2021-05-15 15:00:00</td>\n",
       "      <td>蹂댄넻</td>\n",
       "      <td>47.0</td>\n",
       "      <td>蹂댄넻</td>\n",
       "      <td>19.0</td>\n",
       "      <td>醫뗭쓬</td>\n",
       "      <td>0.017</td>\n",
       "      <td>醫뗭쓬</td>\n",
       "      <td>0.023</td>\n",
       "      <td>醫뗭쓬</td>\n",
       "      <td>0.4</td>\n",
       "      <td>醫뗭쓬</td>\n",
       "      <td>0.003</td>\n",
       "    </tr>\n",
       "    <tr>\n",
       "      <th>1</th>\n",
       "      <td>2021-05-15 14:00:00</td>\n",
       "      <td>蹂댄넻</td>\n",
       "      <td>43.0</td>\n",
       "      <td>蹂댄넻</td>\n",
       "      <td>20.0</td>\n",
       "      <td>醫뗭쓬</td>\n",
       "      <td>0.024</td>\n",
       "      <td>醫뗭쓬</td>\n",
       "      <td>0.019</td>\n",
       "      <td>醫뗭쓬</td>\n",
       "      <td>0.3</td>\n",
       "      <td>醫뗭쓬</td>\n",
       "      <td>0.003</td>\n",
       "    </tr>\n",
       "    <tr>\n",
       "      <th>2</th>\n",
       "      <td>2021-05-15 13:00:00</td>\n",
       "      <td>蹂댄넻</td>\n",
       "      <td>34.0</td>\n",
       "      <td>蹂댄넻</td>\n",
       "      <td>24.0</td>\n",
       "      <td>蹂댄넻</td>\n",
       "      <td>0.035</td>\n",
       "      <td>醫뗭쓬</td>\n",
       "      <td>0.017</td>\n",
       "      <td>醫뗭쓬</td>\n",
       "      <td>0.4</td>\n",
       "      <td>醫뗭쓬</td>\n",
       "      <td>0.004</td>\n",
       "    </tr>\n",
       "  </tbody>\n",
       "</table>\n",
       "</div>"
      ],
      "text/plain": [
       "            (��-��-��:��) PM10�깃툒  PM10 PM2.5�깃툒  PM2.5 �ㅼ〈�깃툒     �ㅼ〈 �댁궛�붿쭏�뚮벑湲�  �댁궛�붿쭏��  \\\n",
       "0 2021-05-15 15:00:00     蹂댄넻  47.0      蹂댄넻   19.0   醫뗭쓬  0.017      醫뗭쓬  0.023   \n",
       "1 2021-05-15 14:00:00     蹂댄넻  43.0      蹂댄넻   20.0   醫뗭쓬  0.024      醫뗭쓬  0.019   \n",
       "2 2021-05-15 13:00:00     蹂댄넻  34.0      蹂댄넻   24.0   蹂댄넻  0.035      醫뗭쓬  0.017   \n",
       "\n",
       "  �쇱궛�뷀깂�뚮벑湲�  �쇱궛�뷀깂�� �꾪솴�곌��ㅻ벑湲�  �꾪솴�곌���  \n",
       "0      醫뗭쓬    0.4      醫뗭쓬  0.003  \n",
       "1      醫뗭쓬    0.3      醫뗭쓬  0.003  \n",
       "2      醫뗭쓬    0.4      醫뗭쓬  0.004  "
      ]
     },
     "execution_count": 151,
     "metadata": {},
     "output_type": "execute_result"
    }
   ],
   "source": [
    "Ans.head(3)"
   ]
  },
  {
   "cell_type": "markdown",
   "metadata": {},
   "source": [
    "```{admonition} Question 77\n",
    "**�쇱옄蹂� �곸뼱�붿씪 �대쫫�� dayName 而щ읆�� ���ν븯��**\n",
    "```"
   ]
  },
  {
   "cell_type": "markdown",
   "metadata": {},
   "source": [
    "```{admonition} 77踰� �좏뒠釉� ����\n",
    ":class: dropdown\n",
    "<div style=\"text-align: center\"><iframe width=\"700\" height=\"500\" src=https://www.youtube.com/embed/00rctVVSSoA?start=8280&end=8376></iframe></div>\n",
    "```"
   ]
  },
  {
   "cell_type": "code",
   "execution_count": 152,
   "metadata": {
    "ExecuteTime": {
     "end_time": "2022-02-19T18:22:30.430738Z",
     "start_time": "2022-02-19T18:22:30.427457Z"
    },
    "tags": [
     "hide-input"
    ]
   },
   "outputs": [],
   "source": [
    "df['dayName']  =df['(��-��-��:��)'].dt.day_name()\n",
    "Ans =df['dayName'] "
   ]
  },
  {
   "cell_type": "code",
   "execution_count": 153,
   "metadata": {
    "ExecuteTime": {
     "end_time": "2022-02-19T18:22:30.436039Z",
     "start_time": "2022-02-19T18:22:30.431980Z"
    }
   },
   "outputs": [
    {
     "data": {
      "text/plain": [
       "0    Saturday\n",
       "1    Saturday\n",
       "2    Saturday\n",
       "3    Saturday\n",
       "4    Saturday\n",
       "Name: dayName, dtype: object"
      ]
     },
     "execution_count": 153,
     "metadata": {},
     "output_type": "execute_result"
    }
   ],
   "source": [
    "Ans.head(5)"
   ]
  },
  {
   "cell_type": "markdown",
   "metadata": {},
   "source": [
    "```{admonition} Question 78\n",
    "**�쇱옄蹂� 媛� PM10�깃툒�� 鍮덈룄�섎� �뚯븙�섎씪**\n",
    "```"
   ]
  },
  {
   "cell_type": "markdown",
   "metadata": {},
   "source": [
    "```{admonition} 78踰� �좏뒠釉� ����\n",
    ":class: dropdown\n",
    "<div style=\"text-align: center\"><iframe width=\"700\" height=\"500\" src=https://www.youtube.com/embed/00rctVVSSoA?start=8378&end=8518></iframe></div>\n",
    "```"
   ]
  },
  {
   "cell_type": "code",
   "execution_count": 154,
   "metadata": {
    "ExecuteTime": {
     "end_time": "2022-02-19T18:22:30.444593Z",
     "start_time": "2022-02-19T18:22:30.437630Z"
    },
    "tags": [
     "hide-input"
    ]
   },
   "outputs": [],
   "source": [
    "Ans1 = df.groupby(['dayName','PM10�깃툒'],as_index=False).size()\n",
    "Ans2 = Ans1.pivot(index='dayName',columns='PM10�깃툒',values='size').fillna(0)"
   ]
  },
  {
   "cell_type": "code",
   "execution_count": 155,
   "metadata": {
    "ExecuteTime": {
     "end_time": "2022-02-19T18:22:30.451291Z",
     "start_time": "2022-02-19T18:22:30.445849Z"
    }
   },
   "outputs": [
    {
     "data": {
      "text/html": [
       "<div>\n",
       "<style scoped>\n",
       "    .dataframe tbody tr th:only-of-type {\n",
       "        vertical-align: middle;\n",
       "    }\n",
       "\n",
       "    .dataframe tbody tr th {\n",
       "        vertical-align: top;\n",
       "    }\n",
       "\n",
       "    .dataframe thead th {\n",
       "        text-align: right;\n",
       "    }\n",
       "</style>\n",
       "<table border=\"1\" class=\"dataframe\">\n",
       "  <thead>\n",
       "    <tr style=\"text-align: right;\">\n",
       "      <th></th>\n",
       "      <th>dayName</th>\n",
       "      <th>PM10�깃툒</th>\n",
       "      <th>size</th>\n",
       "    </tr>\n",
       "  </thead>\n",
       "  <tbody>\n",
       "    <tr>\n",
       "      <th>0</th>\n",
       "      <td>Friday</td>\n",
       "      <td>�섏겏</td>\n",
       "      <td>31</td>\n",
       "    </tr>\n",
       "    <tr>\n",
       "      <th>1</th>\n",
       "      <td>Friday</td>\n",
       "      <td>留ㅼ슦�섏겏</td>\n",
       "      <td>17</td>\n",
       "    </tr>\n",
       "    <tr>\n",
       "      <th>2</th>\n",
       "      <td>Friday</td>\n",
       "      <td>蹂댄넻</td>\n",
       "      <td>120</td>\n",
       "    </tr>\n",
       "    <tr>\n",
       "      <th>3</th>\n",
       "      <td>Friday</td>\n",
       "      <td>醫뗭쓬</td>\n",
       "      <td>21</td>\n",
       "    </tr>\n",
       "    <tr>\n",
       "      <th>4</th>\n",
       "      <td>Monday</td>\n",
       "      <td>�섏겏</td>\n",
       "      <td>1</td>\n",
       "    </tr>\n",
       "  </tbody>\n",
       "</table>\n",
       "</div>"
      ],
      "text/plain": [
       "  dayName PM10�깃툒  size\n",
       "0  Friday     �섏겏    31\n",
       "1  Friday   留ㅼ슦�섏겏    17\n",
       "2  Friday     蹂댄넻   120\n",
       "3  Friday     醫뗭쓬    21\n",
       "4  Monday     �섏겏     1"
      ]
     },
     "execution_count": 155,
     "metadata": {},
     "output_type": "execute_result"
    }
   ],
   "source": [
    "Ans1.head()"
   ]
  },
  {
   "cell_type": "code",
   "execution_count": 156,
   "metadata": {
    "ExecuteTime": {
     "end_time": "2022-02-19T18:22:30.460717Z",
     "start_time": "2022-02-19T18:22:30.452518Z"
    }
   },
   "outputs": [
    {
     "data": {
      "text/html": [
       "<div>\n",
       "<style scoped>\n",
       "    .dataframe tbody tr th:only-of-type {\n",
       "        vertical-align: middle;\n",
       "    }\n",
       "\n",
       "    .dataframe tbody tr th {\n",
       "        vertical-align: top;\n",
       "    }\n",
       "\n",
       "    .dataframe thead th {\n",
       "        text-align: right;\n",
       "    }\n",
       "</style>\n",
       "<table border=\"1\" class=\"dataframe\">\n",
       "  <thead>\n",
       "    <tr style=\"text-align: right;\">\n",
       "      <th>PM10�깃툒</th>\n",
       "      <th>�섏겏</th>\n",
       "      <th>留ㅼ슦�섏겏</th>\n",
       "      <th>蹂댄넻</th>\n",
       "      <th>醫뗭쓬</th>\n",
       "    </tr>\n",
       "    <tr>\n",
       "      <th>dayName</th>\n",
       "      <th></th>\n",
       "      <th></th>\n",
       "      <th></th>\n",
       "      <th></th>\n",
       "    </tr>\n",
       "  </thead>\n",
       "  <tbody>\n",
       "    <tr>\n",
       "      <th>Friday</th>\n",
       "      <td>31.0</td>\n",
       "      <td>17.0</td>\n",
       "      <td>120.0</td>\n",
       "      <td>21.0</td>\n",
       "    </tr>\n",
       "    <tr>\n",
       "      <th>Monday</th>\n",
       "      <td>1.0</td>\n",
       "      <td>21.0</td>\n",
       "      <td>83.0</td>\n",
       "      <td>63.0</td>\n",
       "    </tr>\n",
       "    <tr>\n",
       "      <th>Saturday</th>\n",
       "      <td>31.0</td>\n",
       "      <td>27.0</td>\n",
       "      <td>71.0</td>\n",
       "      <td>54.0</td>\n",
       "    </tr>\n",
       "    <tr>\n",
       "      <th>Sunday</th>\n",
       "      <td>2.0</td>\n",
       "      <td>1.0</td>\n",
       "      <td>67.0</td>\n",
       "      <td>98.0</td>\n",
       "    </tr>\n",
       "    <tr>\n",
       "      <th>Thursday</th>\n",
       "      <td>41.0</td>\n",
       "      <td>0.0</td>\n",
       "      <td>144.0</td>\n",
       "      <td>5.0</td>\n",
       "    </tr>\n",
       "    <tr>\n",
       "      <th>Tuesday</th>\n",
       "      <td>13.0</td>\n",
       "      <td>10.0</td>\n",
       "      <td>71.0</td>\n",
       "      <td>74.0</td>\n",
       "    </tr>\n",
       "    <tr>\n",
       "      <th>Wednesday</th>\n",
       "      <td>26.0</td>\n",
       "      <td>0.0</td>\n",
       "      <td>95.0</td>\n",
       "      <td>46.0</td>\n",
       "    </tr>\n",
       "  </tbody>\n",
       "</table>\n",
       "</div>"
      ],
      "text/plain": [
       "PM10�깃툒       �섏겏  留ㅼ슦�섏겏     蹂댄넻    醫뗭쓬\n",
       "dayName                           \n",
       "Friday     31.0  17.0  120.0  21.0\n",
       "Monday      1.0  21.0   83.0  63.0\n",
       "Saturday   31.0  27.0   71.0  54.0\n",
       "Sunday      2.0   1.0   67.0  98.0\n",
       "Thursday   41.0   0.0  144.0   5.0\n",
       "Tuesday    13.0  10.0   71.0  74.0\n",
       "Wednesday  26.0   0.0   95.0  46.0"
      ]
     },
     "execution_count": 156,
     "metadata": {},
     "output_type": "execute_result"
    }
   ],
   "source": [
    "Ans2"
   ]
  },
  {
   "cell_type": "markdown",
   "metadata": {},
   "source": [
    "```{admonition} Question 79\n",
    "**�쒓컙�� �곗냽�곸쑝濡� 議댁옱�섎ŉ 寃곗륫移섍� �녿뒗吏� �뺤씤�섎씪**\n",
    "```"
   ]
  },
  {
   "cell_type": "markdown",
   "metadata": {},
   "source": [
    "```{admonition} 79踰� �좏뒠釉� ����\n",
    ":class: dropdown\n",
    "<div style=\"text-align: center\"><iframe width=\"700\" height=\"500\" src=https://www.youtube.com/embed/00rctVVSSoA?start=8520&end=8630></iframe></div>\n",
    "```"
   ]
  },
  {
   "cell_type": "code",
   "execution_count": 157,
   "metadata": {
    "ExecuteTime": {
     "end_time": "2022-02-19T18:22:30.464868Z",
     "start_time": "2022-02-19T18:22:30.461977Z"
    },
    "tags": [
     "hide-input"
    ]
   },
   "outputs": [],
   "source": [
    "# �쒓컙�� 李⑤텇�덉쓣 寃쎌슦 泥� 媛믪� nan, �댄썑 紐⑤뱺 李⑤텇媛믪씠 �숈씪�섎㈃ �곗냽�대씪 �먮떒�쒕떎.\n",
    "check = len(df['(��-��-��:��)'].diff().unique())\n",
    "if check ==2:\n",
    "    Ans =True\n",
    "else:\n",
    "    Ans = False"
   ]
  },
  {
   "cell_type": "code",
   "execution_count": 158,
   "metadata": {
    "ExecuteTime": {
     "end_time": "2022-02-19T18:22:30.469111Z",
     "start_time": "2022-02-19T18:22:30.466230Z"
    }
   },
   "outputs": [
    {
     "data": {
      "text/plain": [
       "True"
      ]
     },
     "execution_count": 158,
     "metadata": {},
     "output_type": "execute_result"
    }
   ],
   "source": [
    "Ans"
   ]
  },
  {
   "cell_type": "markdown",
   "metadata": {},
   "source": [
    "```{admonition} Question 80\n",
    "**�ㅼ쟾 10�쒖� �ㅽ썑 10��(22��)�� PM10�� �됯퇏媛믪쓣 媛곴컖 援ы븯�щ씪**\n",
    "```"
   ]
  },
  {
   "cell_type": "markdown",
   "metadata": {},
   "source": [
    "```{admonition} 80踰� �좏뒠釉� ����\n",
    ":class: dropdown\n",
    "<div style=\"text-align: center\"><iframe width=\"700\" height=\"500\" src=https://www.youtube.com/embed/00rctVVSSoA?start=8632&end=8719></iframe></div>\n",
    "```\n",
    "    "
   ]
  },
  {
   "cell_type": "code",
   "execution_count": 159,
   "metadata": {
    "ExecuteTime": {
     "end_time": "2022-02-19T18:22:30.475169Z",
     "start_time": "2022-02-19T18:22:30.470409Z"
    },
    "scrolled": false,
    "tags": [
     "hide-input"
    ]
   },
   "outputs": [],
   "source": [
    "Ans = df.groupby(df['(��-��-��:��)'].dt.hour).mean().iloc[[10,22],[0]]"
   ]
  },
  {
   "cell_type": "code",
   "execution_count": 160,
   "metadata": {
    "ExecuteTime": {
     "end_time": "2022-02-19T18:22:30.481233Z",
     "start_time": "2022-02-19T18:22:30.476358Z"
    }
   },
   "outputs": [
    {
     "data": {
      "text/html": [
       "<div>\n",
       "<style scoped>\n",
       "    .dataframe tbody tr th:only-of-type {\n",
       "        vertical-align: middle;\n",
       "    }\n",
       "\n",
       "    .dataframe tbody tr th {\n",
       "        vertical-align: top;\n",
       "    }\n",
       "\n",
       "    .dataframe thead th {\n",
       "        text-align: right;\n",
       "    }\n",
       "</style>\n",
       "<table border=\"1\" class=\"dataframe\">\n",
       "  <thead>\n",
       "    <tr style=\"text-align: right;\">\n",
       "      <th></th>\n",
       "      <th>PM10</th>\n",
       "    </tr>\n",
       "    <tr>\n",
       "      <th>(��-��-��:��)</th>\n",
       "      <th></th>\n",
       "    </tr>\n",
       "  </thead>\n",
       "  <tbody>\n",
       "    <tr>\n",
       "      <th>10</th>\n",
       "      <td>70.384615</td>\n",
       "    </tr>\n",
       "    <tr>\n",
       "      <th>22</th>\n",
       "      <td>69.941176</td>\n",
       "    </tr>\n",
       "  </tbody>\n",
       "</table>\n",
       "</div>"
      ],
      "text/plain": [
       "                PM10\n",
       "(��-��-��:��)           \n",
       "10         70.384615\n",
       "22         69.941176"
      ]
     },
     "execution_count": 160,
     "metadata": {},
     "output_type": "execute_result"
    }
   ],
   "source": [
    "Ans"
   ]
  },
  {
   "cell_type": "markdown",
   "metadata": {},
   "source": [
    "```{admonition} Question 81\n",
    "**�좎쭨 而щ읆�� index濡� 留뚮뱾�대씪**\n",
    "```"
   ]
  },
  {
   "cell_type": "markdown",
   "metadata": {},
   "source": [
    "```{admonition} 81踰� �좏뒠釉� ����\n",
    ":class: dropdown\n",
    "<div style=\"text-align: center\"><iframe width=\"700\" height=\"500\" src=https://www.youtube.com/embed/00rctVVSSoA?start=8721&end=8756></iframe></div>\n",
    "```"
   ]
  },
  {
   "cell_type": "code",
   "execution_count": 161,
   "metadata": {
    "ExecuteTime": {
     "end_time": "2022-02-19T18:22:30.485396Z",
     "start_time": "2022-02-19T18:22:30.482538Z"
    },
    "tags": [
     "hide-input"
    ]
   },
   "outputs": [],
   "source": [
    "df.set_index('(��-��-��:��)',inplace=True,drop=True)\n",
    "\n",
    "Ans =df"
   ]
  },
  {
   "cell_type": "code",
   "execution_count": 162,
   "metadata": {
    "ExecuteTime": {
     "end_time": "2022-02-19T18:22:30.498547Z",
     "start_time": "2022-02-19T18:22:30.486660Z"
    }
   },
   "outputs": [
    {
     "data": {
      "text/html": [
       "<div>\n",
       "<style scoped>\n",
       "    .dataframe tbody tr th:only-of-type {\n",
       "        vertical-align: middle;\n",
       "    }\n",
       "\n",
       "    .dataframe tbody tr th {\n",
       "        vertical-align: top;\n",
       "    }\n",
       "\n",
       "    .dataframe thead th {\n",
       "        text-align: right;\n",
       "    }\n",
       "</style>\n",
       "<table border=\"1\" class=\"dataframe\">\n",
       "  <thead>\n",
       "    <tr style=\"text-align: right;\">\n",
       "      <th></th>\n",
       "      <th>PM10�깃툒</th>\n",
       "      <th>PM10</th>\n",
       "      <th>PM2.5�깃툒</th>\n",
       "      <th>PM2.5</th>\n",
       "      <th>�ㅼ〈�깃툒</th>\n",
       "      <th>�ㅼ〈</th>\n",
       "      <th>�댁궛�붿쭏�뚮벑湲�</th>\n",
       "      <th>�댁궛�붿쭏��</th>\n",
       "      <th>�쇱궛�뷀깂�뚮벑湲�</th>\n",
       "      <th>�쇱궛�뷀깂��</th>\n",
       "      <th>�꾪솴�곌��ㅻ벑湲�</th>\n",
       "      <th>�꾪솴�곌���</th>\n",
       "      <th>dayName</th>\n",
       "    </tr>\n",
       "    <tr>\n",
       "      <th>(��-��-��:��)</th>\n",
       "      <th></th>\n",
       "      <th></th>\n",
       "      <th></th>\n",
       "      <th></th>\n",
       "      <th></th>\n",
       "      <th></th>\n",
       "      <th></th>\n",
       "      <th></th>\n",
       "      <th></th>\n",
       "      <th></th>\n",
       "      <th></th>\n",
       "      <th></th>\n",
       "      <th></th>\n",
       "    </tr>\n",
       "  </thead>\n",
       "  <tbody>\n",
       "    <tr>\n",
       "      <th>2021-05-15 15:00:00</th>\n",
       "      <td>蹂댄넻</td>\n",
       "      <td>47.0</td>\n",
       "      <td>蹂댄넻</td>\n",
       "      <td>19.0</td>\n",
       "      <td>醫뗭쓬</td>\n",
       "      <td>0.017</td>\n",
       "      <td>醫뗭쓬</td>\n",
       "      <td>0.023</td>\n",
       "      <td>醫뗭쓬</td>\n",
       "      <td>0.4</td>\n",
       "      <td>醫뗭쓬</td>\n",
       "      <td>0.003</td>\n",
       "      <td>Saturday</td>\n",
       "    </tr>\n",
       "    <tr>\n",
       "      <th>2021-05-15 14:00:00</th>\n",
       "      <td>蹂댄넻</td>\n",
       "      <td>43.0</td>\n",
       "      <td>蹂댄넻</td>\n",
       "      <td>20.0</td>\n",
       "      <td>醫뗭쓬</td>\n",
       "      <td>0.024</td>\n",
       "      <td>醫뗭쓬</td>\n",
       "      <td>0.019</td>\n",
       "      <td>醫뗭쓬</td>\n",
       "      <td>0.3</td>\n",
       "      <td>醫뗭쓬</td>\n",
       "      <td>0.003</td>\n",
       "      <td>Saturday</td>\n",
       "    </tr>\n",
       "    <tr>\n",
       "      <th>2021-05-15 13:00:00</th>\n",
       "      <td>蹂댄넻</td>\n",
       "      <td>34.0</td>\n",
       "      <td>蹂댄넻</td>\n",
       "      <td>24.0</td>\n",
       "      <td>蹂댄넻</td>\n",
       "      <td>0.035</td>\n",
       "      <td>醫뗭쓬</td>\n",
       "      <td>0.017</td>\n",
       "      <td>醫뗭쓬</td>\n",
       "      <td>0.4</td>\n",
       "      <td>醫뗭쓬</td>\n",
       "      <td>0.004</td>\n",
       "      <td>Saturday</td>\n",
       "    </tr>\n",
       "  </tbody>\n",
       "</table>\n",
       "</div>"
      ],
      "text/plain": [
       "                    PM10�깃툒  PM10 PM2.5�깃툒  PM2.5 �ㅼ〈�깃툒     �ㅼ〈 �댁궛�붿쭏�뚮벑湲�  �댁궛�붿쭏��  \\\n",
       "(��-��-��:��)                                                                    \n",
       "2021-05-15 15:00:00     蹂댄넻  47.0      蹂댄넻   19.0   醫뗭쓬  0.017      醫뗭쓬  0.023   \n",
       "2021-05-15 14:00:00     蹂댄넻  43.0      蹂댄넻   20.0   醫뗭쓬  0.024      醫뗭쓬  0.019   \n",
       "2021-05-15 13:00:00     蹂댄넻  34.0      蹂댄넻   24.0   蹂댄넻  0.035      醫뗭쓬  0.017   \n",
       "\n",
       "                    �쇱궛�뷀깂�뚮벑湲�  �쇱궛�뷀깂�� �꾪솴�곌��ㅻ벑湲�  �꾪솴�곌���   dayName  \n",
       "(��-��-��:��)                                                    \n",
       "2021-05-15 15:00:00      醫뗭쓬    0.4      醫뗭쓬  0.003  Saturday  \n",
       "2021-05-15 14:00:00      醫뗭쓬    0.3      醫뗭쓬  0.003  Saturday  \n",
       "2021-05-15 13:00:00      醫뗭쓬    0.4      醫뗭쓬  0.004  Saturday  "
      ]
     },
     "execution_count": 162,
     "metadata": {},
     "output_type": "execute_result"
    }
   ],
   "source": [
    "Ans.head(3)"
   ]
  },
  {
   "cell_type": "markdown",
   "metadata": {},
   "source": [
    "```{admonition} Question 82\n",
    "**�곗씠�곕� 二쇰떒�꾨줈 戮묒븘�� 理쒖냼,理쒕� �됯퇏, �쒖��쒖감瑜� 援ы븯�щ씪**\n",
    "```"
   ]
  },
  {
   "cell_type": "markdown",
   "metadata": {},
   "source": [
    "```{admonition} 82踰� �좏뒠釉� ����\n",
    ":class: dropdown\n",
    "<div style=\"text-align: center\"><iframe width=\"700\" height=\"500\" src=https://www.youtube.com/embed/00rctVVSSoA?start=8758&end=9102></iframe></div>\n",
    "```\n",
    "    "
   ]
  },
  {
   "cell_type": "code",
   "execution_count": 163,
   "metadata": {
    "ExecuteTime": {
     "end_time": "2022-02-19T18:22:30.527081Z",
     "start_time": "2022-02-19T18:22:30.500121Z"
    },
    "tags": [
     "hide-input"
    ]
   },
   "outputs": [],
   "source": [
    "Ans = df.resample('W').agg(['min','max','mean','std'])"
   ]
  },
  {
   "cell_type": "code",
   "execution_count": 164,
   "metadata": {
    "ExecuteTime": {
     "end_time": "2022-02-19T18:22:30.552070Z",
     "start_time": "2022-02-19T18:22:30.528372Z"
    }
   },
   "outputs": [
    {
     "data": {
      "text/html": [
       "<div>\n",
       "<style scoped>\n",
       "    .dataframe tbody tr th:only-of-type {\n",
       "        vertical-align: middle;\n",
       "    }\n",
       "\n",
       "    .dataframe tbody tr th {\n",
       "        vertical-align: top;\n",
       "    }\n",
       "\n",
       "    .dataframe thead tr th {\n",
       "        text-align: left;\n",
       "    }\n",
       "\n",
       "    .dataframe thead tr:last-of-type th {\n",
       "        text-align: right;\n",
       "    }\n",
       "</style>\n",
       "<table border=\"1\" class=\"dataframe\">\n",
       "  <thead>\n",
       "    <tr>\n",
       "      <th></th>\n",
       "      <th colspan=\"4\" halign=\"left\">PM10</th>\n",
       "      <th colspan=\"4\" halign=\"left\">PM2.5</th>\n",
       "      <th colspan=\"2\" halign=\"left\">�ㅼ〈</th>\n",
       "      <th>...</th>\n",
       "      <th colspan=\"2\" halign=\"left\">�댁궛�붿쭏��</th>\n",
       "      <th colspan=\"4\" halign=\"left\">�쇱궛�뷀깂��</th>\n",
       "      <th colspan=\"4\" halign=\"left\">�꾪솴�곌���</th>\n",
       "    </tr>\n",
       "    <tr>\n",
       "      <th></th>\n",
       "      <th>min</th>\n",
       "      <th>max</th>\n",
       "      <th>mean</th>\n",
       "      <th>std</th>\n",
       "      <th>min</th>\n",
       "      <th>max</th>\n",
       "      <th>mean</th>\n",
       "      <th>std</th>\n",
       "      <th>min</th>\n",
       "      <th>max</th>\n",
       "      <th>...</th>\n",
       "      <th>mean</th>\n",
       "      <th>std</th>\n",
       "      <th>min</th>\n",
       "      <th>max</th>\n",
       "      <th>mean</th>\n",
       "      <th>std</th>\n",
       "      <th>min</th>\n",
       "      <th>max</th>\n",
       "      <th>mean</th>\n",
       "      <th>std</th>\n",
       "    </tr>\n",
       "    <tr>\n",
       "      <th>(��-��-��:��)</th>\n",
       "      <th></th>\n",
       "      <th></th>\n",
       "      <th></th>\n",
       "      <th></th>\n",
       "      <th></th>\n",
       "      <th></th>\n",
       "      <th></th>\n",
       "      <th></th>\n",
       "      <th></th>\n",
       "      <th></th>\n",
       "      <th></th>\n",
       "      <th></th>\n",
       "      <th></th>\n",
       "      <th></th>\n",
       "      <th></th>\n",
       "      <th></th>\n",
       "      <th></th>\n",
       "      <th></th>\n",
       "      <th></th>\n",
       "      <th></th>\n",
       "      <th></th>\n",
       "    </tr>\n",
       "  </thead>\n",
       "  <tbody>\n",
       "    <tr>\n",
       "      <th>2021-03-28</th>\n",
       "      <td>6.0</td>\n",
       "      <td>160.0</td>\n",
       "      <td>72.747368</td>\n",
       "      <td>43.345462</td>\n",
       "      <td>4.0</td>\n",
       "      <td>113.0</td>\n",
       "      <td>44.705263</td>\n",
       "      <td>29.551928</td>\n",
       "      <td>0.002</td>\n",
       "      <td>0.085</td>\n",
       "      <td>...</td>\n",
       "      <td>0.044579</td>\n",
       "      <td>0.023722</td>\n",
       "      <td>0.3</td>\n",
       "      <td>1.4</td>\n",
       "      <td>0.611579</td>\n",
       "      <td>0.232408</td>\n",
       "      <td>0.002</td>\n",
       "      <td>0.006</td>\n",
       "      <td>0.003274</td>\n",
       "      <td>0.000961</td>\n",
       "    </tr>\n",
       "    <tr>\n",
       "      <th>2021-04-04</th>\n",
       "      <td>3.0</td>\n",
       "      <td>598.0</td>\n",
       "      <td>97.148810</td>\n",
       "      <td>129.911976</td>\n",
       "      <td>1.0</td>\n",
       "      <td>120.0</td>\n",
       "      <td>23.168675</td>\n",
       "      <td>22.399578</td>\n",
       "      <td>0.003</td>\n",
       "      <td>0.055</td>\n",
       "      <td>...</td>\n",
       "      <td>0.027929</td>\n",
       "      <td>0.014978</td>\n",
       "      <td>0.3</td>\n",
       "      <td>0.9</td>\n",
       "      <td>0.445833</td>\n",
       "      <td>0.135741</td>\n",
       "      <td>0.002</td>\n",
       "      <td>0.004</td>\n",
       "      <td>0.002732</td>\n",
       "      <td>0.000541</td>\n",
       "    </tr>\n",
       "    <tr>\n",
       "      <th>2021-04-11</th>\n",
       "      <td>17.0</td>\n",
       "      <td>102.0</td>\n",
       "      <td>41.059524</td>\n",
       "      <td>16.325911</td>\n",
       "      <td>7.0</td>\n",
       "      <td>70.0</td>\n",
       "      <td>21.761905</td>\n",
       "      <td>11.479343</td>\n",
       "      <td>0.009</td>\n",
       "      <td>0.070</td>\n",
       "      <td>...</td>\n",
       "      <td>0.022583</td>\n",
       "      <td>0.009562</td>\n",
       "      <td>0.3</td>\n",
       "      <td>0.7</td>\n",
       "      <td>0.389286</td>\n",
       "      <td>0.087573</td>\n",
       "      <td>0.002</td>\n",
       "      <td>0.004</td>\n",
       "      <td>0.002744</td>\n",
       "      <td>0.000569</td>\n",
       "    </tr>\n",
       "    <tr>\n",
       "      <th>2021-04-18</th>\n",
       "      <td>3.0</td>\n",
       "      <td>367.0</td>\n",
       "      <td>48.180723</td>\n",
       "      <td>43.254468</td>\n",
       "      <td>2.0</td>\n",
       "      <td>38.0</td>\n",
       "      <td>17.066265</td>\n",
       "      <td>7.867952</td>\n",
       "      <td>0.002</td>\n",
       "      <td>0.070</td>\n",
       "      <td>...</td>\n",
       "      <td>0.023753</td>\n",
       "      <td>0.013553</td>\n",
       "      <td>0.3</td>\n",
       "      <td>0.6</td>\n",
       "      <td>0.386747</td>\n",
       "      <td>0.084954</td>\n",
       "      <td>0.002</td>\n",
       "      <td>0.004</td>\n",
       "      <td>0.002464</td>\n",
       "      <td>0.000579</td>\n",
       "    </tr>\n",
       "    <tr>\n",
       "      <th>2021-04-25</th>\n",
       "      <td>17.0</td>\n",
       "      <td>126.0</td>\n",
       "      <td>55.119048</td>\n",
       "      <td>26.659936</td>\n",
       "      <td>7.0</td>\n",
       "      <td>61.0</td>\n",
       "      <td>26.392857</td>\n",
       "      <td>13.094788</td>\n",
       "      <td>0.006</td>\n",
       "      <td>0.090</td>\n",
       "      <td>...</td>\n",
       "      <td>0.028571</td>\n",
       "      <td>0.014640</td>\n",
       "      <td>0.3</td>\n",
       "      <td>0.8</td>\n",
       "      <td>0.457143</td>\n",
       "      <td>0.122142</td>\n",
       "      <td>0.001</td>\n",
       "      <td>0.011</td>\n",
       "      <td>0.003631</td>\n",
       "      <td>0.001763</td>\n",
       "    </tr>\n",
       "  </tbody>\n",
       "</table>\n",
       "<p>5 rows 횞 24 columns</p>\n",
       "</div>"
      ],
      "text/plain": [
       "            PM10                               PM2.5                    \\\n",
       "             min    max       mean         std   min    max       mean   \n",
       "(��-��-��:��)                                                                \n",
       "2021-03-28   6.0  160.0  72.747368   43.345462   4.0  113.0  44.705263   \n",
       "2021-04-04   3.0  598.0  97.148810  129.911976   1.0  120.0  23.168675   \n",
       "2021-04-11  17.0  102.0  41.059524   16.325911   7.0   70.0  21.761905   \n",
       "2021-04-18   3.0  367.0  48.180723   43.254468   2.0   38.0  17.066265   \n",
       "2021-04-25  17.0  126.0  55.119048   26.659936   7.0   61.0  26.392857   \n",
       "\n",
       "                          �ㅼ〈         ...     �댁궛�붿쭏��           �쇱궛�뷀깂��       \\\n",
       "                  std    min    max  ...      mean       std   min  max   \n",
       "(��-��-��:��)                            ...                                  \n",
       "2021-03-28  29.551928  0.002  0.085  ...  0.044579  0.023722   0.3  1.4   \n",
       "2021-04-04  22.399578  0.003  0.055  ...  0.027929  0.014978   0.3  0.9   \n",
       "2021-04-11  11.479343  0.009  0.070  ...  0.022583  0.009562   0.3  0.7   \n",
       "2021-04-18   7.867952  0.002  0.070  ...  0.023753  0.013553   0.3  0.6   \n",
       "2021-04-25  13.094788  0.006  0.090  ...  0.028571  0.014640   0.3  0.8   \n",
       "\n",
       "                                �꾪솴�곌���                             \n",
       "                mean       std    min    max      mean       std  \n",
       "(��-��-��:��)                                                         \n",
       "2021-03-28  0.611579  0.232408  0.002  0.006  0.003274  0.000961  \n",
       "2021-04-04  0.445833  0.135741  0.002  0.004  0.002732  0.000541  \n",
       "2021-04-11  0.389286  0.087573  0.002  0.004  0.002744  0.000569  \n",
       "2021-04-18  0.386747  0.084954  0.002  0.004  0.002464  0.000579  \n",
       "2021-04-25  0.457143  0.122142  0.001  0.011  0.003631  0.001763  \n",
       "\n",
       "[5 rows x 24 columns]"
      ]
     },
     "execution_count": 164,
     "metadata": {},
     "output_type": "execute_result"
    }
   ],
   "source": [
    "Ans.head(5)"
   ]
  },
  {
   "cell_type": "markdown",
   "metadata": {},
   "source": [
    "## 06_Pivot"
   ]
  },
  {
   "cell_type": "markdown",
   "metadata": {},
   "source": [
    "```{attention} \n",
    "援��蹂� 5�몄씠�� �щ쭩鍮꾩쑉 �듦퀎 : https://www.kaggle.com/utkarshxy/who-worldhealth-statistics-2020-complete\n",
    "Dataurl = 'https://raw.githubusercontent.com/Datamanim/pandas/main/under5MortalityRate.csv'\n",
    "```"
   ]
  },
  {
   "cell_type": "code",
   "execution_count": 165,
   "metadata": {
    "ExecuteTime": {
     "end_time": "2022-02-19T18:22:30.839770Z",
     "start_time": "2022-02-19T18:22:30.553440Z"
    }
   },
   "outputs": [],
   "source": [
    "df = pd.read_csv('https://raw.githubusercontent.com/Datamanim/pandas/main/under5MortalityRate.csv')"
   ]
  },
  {
   "cell_type": "markdown",
   "metadata": {},
   "source": [
    "```{admonition} Question 83\n",
    "**Indicator�� ��젣�섍퀬 First Tooltip 而щ읆�먯꽌 �좊ː援ш컙�� �대떦�섎뒗 �쒗쁽�� 吏��뚮씪**\n",
    "```"
   ]
  },
  {
   "cell_type": "markdown",
   "metadata": {},
   "source": [
    "```{admonition} 83踰� �좏뒠釉� ����\n",
    ":class: dropdown\n",
    "<div style=\"text-align: center\"><iframe width=\"700\" height=\"500\" src=https://www.youtube.com/embed/00rctVVSSoA?start=9104&end=9322></iframe></div>\n",
    "```\n"
   ]
  },
  {
   "cell_type": "code",
   "execution_count": 166,
   "metadata": {
    "ExecuteTime": {
     "end_time": "2022-02-19T18:22:30.859929Z",
     "start_time": "2022-02-19T18:22:30.840978Z"
    },
    "tags": [
     "hide-input"
    ]
   },
   "outputs": [],
   "source": [
    "df.drop('Indicator',axis=1,inplace=True)\n",
    "\n",
    "df['First Tooltip'] = df['First Tooltip'].map(lambda x: float(x.split(\"[\")[0]))\n",
    "\n",
    "Ans = df"
   ]
  },
  {
   "cell_type": "code",
   "execution_count": 167,
   "metadata": {
    "ExecuteTime": {
     "end_time": "2022-02-19T18:22:30.867866Z",
     "start_time": "2022-02-19T18:22:30.861169Z"
    }
   },
   "outputs": [
    {
     "data": {
      "text/html": [
       "<div>\n",
       "<style scoped>\n",
       "    .dataframe tbody tr th:only-of-type {\n",
       "        vertical-align: middle;\n",
       "    }\n",
       "\n",
       "    .dataframe tbody tr th {\n",
       "        vertical-align: top;\n",
       "    }\n",
       "\n",
       "    .dataframe thead th {\n",
       "        text-align: right;\n",
       "    }\n",
       "</style>\n",
       "<table border=\"1\" class=\"dataframe\">\n",
       "  <thead>\n",
       "    <tr style=\"text-align: right;\">\n",
       "      <th></th>\n",
       "      <th>Location</th>\n",
       "      <th>Period</th>\n",
       "      <th>Dim1</th>\n",
       "      <th>First Tooltip</th>\n",
       "    </tr>\n",
       "  </thead>\n",
       "  <tbody>\n",
       "    <tr>\n",
       "      <th>0</th>\n",
       "      <td>Afghanistan</td>\n",
       "      <td>2019</td>\n",
       "      <td>Both sexes</td>\n",
       "      <td>60.27</td>\n",
       "    </tr>\n",
       "    <tr>\n",
       "      <th>1</th>\n",
       "      <td>Afghanistan</td>\n",
       "      <td>2019</td>\n",
       "      <td>Male</td>\n",
       "      <td>63.83</td>\n",
       "    </tr>\n",
       "    <tr>\n",
       "      <th>2</th>\n",
       "      <td>Afghanistan</td>\n",
       "      <td>2019</td>\n",
       "      <td>Female</td>\n",
       "      <td>56.57</td>\n",
       "    </tr>\n",
       "    <tr>\n",
       "      <th>3</th>\n",
       "      <td>Afghanistan</td>\n",
       "      <td>2018</td>\n",
       "      <td>Both sexes</td>\n",
       "      <td>62.54</td>\n",
       "    </tr>\n",
       "  </tbody>\n",
       "</table>\n",
       "</div>"
      ],
      "text/plain": [
       "      Location  Period        Dim1  First Tooltip\n",
       "0  Afghanistan    2019  Both sexes          60.27\n",
       "1  Afghanistan    2019        Male          63.83\n",
       "2  Afghanistan    2019      Female          56.57\n",
       "3  Afghanistan    2018  Both sexes          62.54"
      ]
     },
     "execution_count": 167,
     "metadata": {},
     "output_type": "execute_result"
    }
   ],
   "source": [
    "Ans.head(4)"
   ]
  },
  {
   "cell_type": "markdown",
   "metadata": {},
   "source": [
    "```{admonition} Question 84\n",
    "**�꾨룄媛� 2015�� �댁긽, Dim1�� Both sexes�� 耳��댁뒪留� 異붿텧�섎씪**\n",
    "```"
   ]
  },
  {
   "cell_type": "markdown",
   "metadata": {},
   "source": [
    "```{admonition} 84踰� �좏뒠釉� ����\n",
    ":class: dropdown\n",
    "<div style=\"text-align: center\"><iframe width=\"700\" height=\"500\" src=https://www.youtube.com/embed/00rctVVSSoA?start=9324&end=9421></iframe></div>\n",
    "```"
   ]
  },
  {
   "cell_type": "code",
   "execution_count": 168,
   "metadata": {
    "ExecuteTime": {
     "end_time": "2022-02-19T18:22:30.874519Z",
     "start_time": "2022-02-19T18:22:30.869149Z"
    },
    "tags": [
     "hide-input"
    ]
   },
   "outputs": [],
   "source": [
    "target = df[(df.Period >=2015) & (df.Dim1 =='Both sexes')]\n",
    "Ans = target"
   ]
  },
  {
   "cell_type": "code",
   "execution_count": 169,
   "metadata": {
    "ExecuteTime": {
     "end_time": "2022-02-19T18:22:30.882062Z",
     "start_time": "2022-02-19T18:22:30.875796Z"
    }
   },
   "outputs": [
    {
     "data": {
      "text/html": [
       "<div>\n",
       "<style scoped>\n",
       "    .dataframe tbody tr th:only-of-type {\n",
       "        vertical-align: middle;\n",
       "    }\n",
       "\n",
       "    .dataframe tbody tr th {\n",
       "        vertical-align: top;\n",
       "    }\n",
       "\n",
       "    .dataframe thead th {\n",
       "        text-align: right;\n",
       "    }\n",
       "</style>\n",
       "<table border=\"1\" class=\"dataframe\">\n",
       "  <thead>\n",
       "    <tr style=\"text-align: right;\">\n",
       "      <th></th>\n",
       "      <th>Location</th>\n",
       "      <th>Period</th>\n",
       "      <th>Dim1</th>\n",
       "      <th>First Tooltip</th>\n",
       "    </tr>\n",
       "  </thead>\n",
       "  <tbody>\n",
       "    <tr>\n",
       "      <th>0</th>\n",
       "      <td>Afghanistan</td>\n",
       "      <td>2019</td>\n",
       "      <td>Both sexes</td>\n",
       "      <td>60.27</td>\n",
       "    </tr>\n",
       "    <tr>\n",
       "      <th>3</th>\n",
       "      <td>Afghanistan</td>\n",
       "      <td>2018</td>\n",
       "      <td>Both sexes</td>\n",
       "      <td>62.54</td>\n",
       "    </tr>\n",
       "    <tr>\n",
       "      <th>6</th>\n",
       "      <td>Afghanistan</td>\n",
       "      <td>2017</td>\n",
       "      <td>Both sexes</td>\n",
       "      <td>64.94</td>\n",
       "    </tr>\n",
       "  </tbody>\n",
       "</table>\n",
       "</div>"
      ],
      "text/plain": [
       "      Location  Period        Dim1  First Tooltip\n",
       "0  Afghanistan    2019  Both sexes          60.27\n",
       "3  Afghanistan    2018  Both sexes          62.54\n",
       "6  Afghanistan    2017  Both sexes          64.94"
      ]
     },
     "execution_count": 169,
     "metadata": {},
     "output_type": "execute_result"
    }
   ],
   "source": [
    "Ans.head(3)"
   ]
  },
  {
   "cell_type": "markdown",
   "metadata": {},
   "source": [
    "```{admonition} Question 85\n",
    "**84踰� 臾몄젣�먯꽌 異붿텧�� �곗씠�곕줈 �꾨옒�� 媛숈씠 �섎씪�� �곕Ⅸ �꾨룄蹂� �щ쭩瑜좎쓣 �곗씠�� �꾨젅�꾪솕 �섎씪**\n",
    "```"
   ]
  },
  {
   "cell_type": "markdown",
   "metadata": {},
   "source": [
    "```{admonition} 85踰� �좏뒠釉� ����\n",
    ":class: dropdown\n",
    "<div style=\"text-align: center\"><iframe width=\"700\" height=\"500\" src=https://www.youtube.com/embed/00rctVVSSoA?start=9423&end=9503></iframe></div>\n",
    "```"
   ]
  },
  {
   "cell_type": "code",
   "execution_count": 170,
   "metadata": {
    "ExecuteTime": {
     "end_time": "2022-02-19T18:22:30.887559Z",
     "start_time": "2022-02-19T18:22:30.883328Z"
    },
    "tags": [
     "hide-input"
    ]
   },
   "outputs": [],
   "source": [
    "Ans = target.pivot(index='Location',columns='Period',values='First Tooltip')"
   ]
  },
  {
   "cell_type": "code",
   "execution_count": 171,
   "metadata": {
    "ExecuteTime": {
     "end_time": "2022-02-19T18:22:30.896251Z",
     "start_time": "2022-02-19T18:22:30.888770Z"
    }
   },
   "outputs": [
    {
     "data": {
      "text/html": [
       "<div>\n",
       "<style scoped>\n",
       "    .dataframe tbody tr th:only-of-type {\n",
       "        vertical-align: middle;\n",
       "    }\n",
       "\n",
       "    .dataframe tbody tr th {\n",
       "        vertical-align: top;\n",
       "    }\n",
       "\n",
       "    .dataframe thead th {\n",
       "        text-align: right;\n",
       "    }\n",
       "</style>\n",
       "<table border=\"1\" class=\"dataframe\">\n",
       "  <thead>\n",
       "    <tr style=\"text-align: right;\">\n",
       "      <th>Period</th>\n",
       "      <th>2015</th>\n",
       "      <th>2016</th>\n",
       "      <th>2017</th>\n",
       "      <th>2018</th>\n",
       "      <th>2019</th>\n",
       "    </tr>\n",
       "    <tr>\n",
       "      <th>Location</th>\n",
       "      <th></th>\n",
       "      <th></th>\n",
       "      <th></th>\n",
       "      <th></th>\n",
       "      <th></th>\n",
       "    </tr>\n",
       "  </thead>\n",
       "  <tbody>\n",
       "    <tr>\n",
       "      <th>Afghanistan</th>\n",
       "      <td>70.44</td>\n",
       "      <td>67.57</td>\n",
       "      <td>64.94</td>\n",
       "      <td>62.54</td>\n",
       "      <td>60.27</td>\n",
       "    </tr>\n",
       "    <tr>\n",
       "      <th>Albania</th>\n",
       "      <td>9.57</td>\n",
       "      <td>9.42</td>\n",
       "      <td>9.42</td>\n",
       "      <td>9.53</td>\n",
       "      <td>9.68</td>\n",
       "    </tr>\n",
       "    <tr>\n",
       "      <th>Algeria</th>\n",
       "      <td>25.18</td>\n",
       "      <td>24.79</td>\n",
       "      <td>24.32</td>\n",
       "      <td>23.81</td>\n",
       "      <td>23.26</td>\n",
       "    </tr>\n",
       "  </tbody>\n",
       "</table>\n",
       "</div>"
      ],
      "text/plain": [
       "Period        2015   2016   2017   2018   2019\n",
       "Location                                      \n",
       "Afghanistan  70.44  67.57  64.94  62.54  60.27\n",
       "Albania       9.57   9.42   9.42   9.53   9.68\n",
       "Algeria      25.18  24.79  24.32  23.81  23.26"
      ]
     },
     "execution_count": 171,
     "metadata": {},
     "output_type": "execute_result"
    }
   ],
   "source": [
    "Ans.head(3)"
   ]
  },
  {
   "cell_type": "markdown",
   "metadata": {},
   "source": [
    "```{admonition} Question 86\n",
    "**Dim1�� �곕Ⅸ �꾨룄蹂� �щ쭩鍮꾩쑉�� �됯퇏�� 援ы븯��**\n",
    "```"
   ]
  },
  {
   "cell_type": "markdown",
   "metadata": {},
   "source": [
    "```{admonition} 86踰� �좏뒠釉� ����\n",
    ":class: dropdown\n",
    "<div style=\"text-align: center\"><iframe width=\"700\" height=\"500\" src=https://www.youtube.com/embed/00rctVVSSoA?start=9505&end=9550></iframe></div>\n",
    "```"
   ]
  },
  {
   "cell_type": "code",
   "execution_count": 172,
   "metadata": {
    "ExecuteTime": {
     "end_time": "2022-02-19T18:22:30.908089Z",
     "start_time": "2022-02-19T18:22:30.897625Z"
    },
    "scrolled": true,
    "tags": [
     "hide-input"
    ]
   },
   "outputs": [],
   "source": [
    "Ans = df.pivot_table(index='Dim1',columns='Period',values='First Tooltip',aggfunc='mean')"
   ]
  },
  {
   "cell_type": "code",
   "execution_count": 173,
   "metadata": {
    "ExecuteTime": {
     "end_time": "2022-02-19T18:22:30.916080Z",
     "start_time": "2022-02-19T18:22:30.909539Z"
    }
   },
   "outputs": [
    {
     "data": {
      "text/html": [
       "<div>\n",
       "<style scoped>\n",
       "    .dataframe tbody tr th:only-of-type {\n",
       "        vertical-align: middle;\n",
       "    }\n",
       "\n",
       "    .dataframe tbody tr th {\n",
       "        vertical-align: top;\n",
       "    }\n",
       "\n",
       "    .dataframe thead th {\n",
       "        text-align: right;\n",
       "    }\n",
       "</style>\n",
       "<table border=\"1\" class=\"dataframe\">\n",
       "  <thead>\n",
       "    <tr style=\"text-align: right;\">\n",
       "      <th>Period</th>\n",
       "      <th>1950</th>\n",
       "      <th>1951</th>\n",
       "      <th>1952</th>\n",
       "      <th>1953</th>\n",
       "    </tr>\n",
       "    <tr>\n",
       "      <th>Dim1</th>\n",
       "      <th></th>\n",
       "      <th></th>\n",
       "      <th></th>\n",
       "      <th></th>\n",
       "    </tr>\n",
       "  </thead>\n",
       "  <tbody>\n",
       "    <tr>\n",
       "      <th>Both sexes</th>\n",
       "      <td>147.700816</td>\n",
       "      <td>155.537544</td>\n",
       "      <td>157.811094</td>\n",
       "      <td>156.147206</td>\n",
       "    </tr>\n",
       "    <tr>\n",
       "      <th>Female</th>\n",
       "      <td>140.909796</td>\n",
       "      <td>149.210175</td>\n",
       "      <td>151.516094</td>\n",
       "      <td>150.250882</td>\n",
       "    </tr>\n",
       "    <tr>\n",
       "      <th>Male</th>\n",
       "      <td>154.151224</td>\n",
       "      <td>161.538246</td>\n",
       "      <td>163.760781</td>\n",
       "      <td>161.742059</td>\n",
       "    </tr>\n",
       "  </tbody>\n",
       "</table>\n",
       "</div>"
      ],
      "text/plain": [
       "Period            1950        1951        1952        1953\n",
       "Dim1                                                      \n",
       "Both sexes  147.700816  155.537544  157.811094  156.147206\n",
       "Female      140.909796  149.210175  151.516094  150.250882\n",
       "Male        154.151224  161.538246  163.760781  161.742059"
      ]
     },
     "execution_count": 173,
     "metadata": {},
     "output_type": "execute_result"
    }
   ],
   "source": [
    "Ans.iloc[:,:4]"
   ]
  },
  {
   "cell_type": "markdown",
   "metadata": {},
   "source": [
    "```{attention} \n",
    "�щ┝�� 硫붾떖由ъ뒪�� �뺣낫 �곗씠��: https://www.kaggle.com/the-guardian/olympic-games\n",
    "dataUrl ='https://raw.githubusercontent.com/Datamanim/pandas/main/winter.csv'\n",
    "```"
   ]
  },
  {
   "cell_type": "code",
   "execution_count": 174,
   "metadata": {
    "ExecuteTime": {
     "end_time": "2022-02-19T18:22:30.980862Z",
     "start_time": "2022-02-19T18:22:30.917276Z"
    }
   },
   "outputs": [],
   "source": [
    "df = pd.read_csv('https://raw.githubusercontent.com/Datamanim/pandas/main/winter.csv')"
   ]
  },
  {
   "cell_type": "markdown",
   "metadata": {},
   "source": [
    "```{admonition} Question 87\n",
    "**�곗씠�곗뿉�� �쒓뎅 KOR �곗씠�곕쭔 異붿텧�섎씪**\n",
    "```"
   ]
  },
  {
   "cell_type": "markdown",
   "metadata": {},
   "source": [
    "```{admonition} 87踰� �좏뒠釉� ����\n",
    ":class: dropdown\n",
    "<div style=\"text-align: center\"><iframe width=\"700\" height=\"500\" src=https://www.youtube.com/embed/00rctVVSSoA?start=9552&end=9613></iframe></div>\n",
    "```"
   ]
  },
  {
   "cell_type": "code",
   "execution_count": 175,
   "metadata": {
    "ExecuteTime": {
     "end_time": "2022-02-19T18:22:30.985339Z",
     "start_time": "2022-02-19T18:22:30.982236Z"
    },
    "tags": [
     "hide-input"
    ]
   },
   "outputs": [],
   "source": [
    "kr = df[df.Country=='KOR']\n",
    "Ans = kr"
   ]
  },
  {
   "cell_type": "code",
   "execution_count": 176,
   "metadata": {
    "ExecuteTime": {
     "end_time": "2022-02-19T18:22:30.995314Z",
     "start_time": "2022-02-19T18:22:30.986798Z"
    }
   },
   "outputs": [
    {
     "data": {
      "text/html": [
       "<div>\n",
       "<style scoped>\n",
       "    .dataframe tbody tr th:only-of-type {\n",
       "        vertical-align: middle;\n",
       "    }\n",
       "\n",
       "    .dataframe tbody tr th {\n",
       "        vertical-align: top;\n",
       "    }\n",
       "\n",
       "    .dataframe thead th {\n",
       "        text-align: right;\n",
       "    }\n",
       "</style>\n",
       "<table border=\"1\" class=\"dataframe\">\n",
       "  <thead>\n",
       "    <tr style=\"text-align: right;\">\n",
       "      <th></th>\n",
       "      <th>Year</th>\n",
       "      <th>City</th>\n",
       "      <th>Sport</th>\n",
       "      <th>Discipline</th>\n",
       "      <th>Athlete</th>\n",
       "      <th>Country</th>\n",
       "      <th>Gender</th>\n",
       "      <th>Event</th>\n",
       "      <th>Medal</th>\n",
       "    </tr>\n",
       "  </thead>\n",
       "  <tbody>\n",
       "    <tr>\n",
       "      <th>2652</th>\n",
       "      <td>1992</td>\n",
       "      <td>Albertville</td>\n",
       "      <td>Skating</td>\n",
       "      <td>Short Track Speed Skating</td>\n",
       "      <td>LEE, Jun-Ho</td>\n",
       "      <td>KOR</td>\n",
       "      <td>Men</td>\n",
       "      <td>1000M</td>\n",
       "      <td>Bronze</td>\n",
       "    </tr>\n",
       "    <tr>\n",
       "      <th>2653</th>\n",
       "      <td>1992</td>\n",
       "      <td>Albertville</td>\n",
       "      <td>Skating</td>\n",
       "      <td>Short Track Speed Skating</td>\n",
       "      <td>KIM, Ki-Hoon</td>\n",
       "      <td>KOR</td>\n",
       "      <td>Men</td>\n",
       "      <td>1000M</td>\n",
       "      <td>Gold</td>\n",
       "    </tr>\n",
       "    <tr>\n",
       "      <th>2671</th>\n",
       "      <td>1992</td>\n",
       "      <td>Albertville</td>\n",
       "      <td>Skating</td>\n",
       "      <td>Short Track Speed Skating</td>\n",
       "      <td>KIM, Ki-Hoon</td>\n",
       "      <td>KOR</td>\n",
       "      <td>Men</td>\n",
       "      <td>5000M Relay</td>\n",
       "      <td>Gold</td>\n",
       "    </tr>\n",
       "    <tr>\n",
       "      <th>2672</th>\n",
       "      <td>1992</td>\n",
       "      <td>Albertville</td>\n",
       "      <td>Skating</td>\n",
       "      <td>Short Track Speed Skating</td>\n",
       "      <td>LEE, Jun-Ho</td>\n",
       "      <td>KOR</td>\n",
       "      <td>Men</td>\n",
       "      <td>5000M Relay</td>\n",
       "      <td>Gold</td>\n",
       "    </tr>\n",
       "  </tbody>\n",
       "</table>\n",
       "</div>"
      ],
      "text/plain": [
       "      Year         City    Sport                 Discipline       Athlete  \\\n",
       "2652  1992  Albertville  Skating  Short Track Speed Skating   LEE, Jun-Ho   \n",
       "2653  1992  Albertville  Skating  Short Track Speed Skating  KIM, Ki-Hoon   \n",
       "2671  1992  Albertville  Skating  Short Track Speed Skating  KIM, Ki-Hoon   \n",
       "2672  1992  Albertville  Skating  Short Track Speed Skating   LEE, Jun-Ho   \n",
       "\n",
       "     Country Gender        Event   Medal  \n",
       "2652     KOR    Men        1000M  Bronze  \n",
       "2653     KOR    Men        1000M    Gold  \n",
       "2671     KOR    Men  5000M Relay    Gold  \n",
       "2672     KOR    Men  5000M Relay    Gold  "
      ]
     },
     "execution_count": 176,
     "metadata": {},
     "output_type": "execute_result"
    }
   ],
   "source": [
    "Ans.head(4)"
   ]
  },
  {
   "cell_type": "markdown",
   "metadata": {},
   "source": [
    "```{admonition} Question 88\n",
    "**�쒓뎅 �щ┝�� 硫붾떖由ъ뒪�� �곗씠�곗뿉�� �꾨룄�� �곕Ⅸ medal 媛�닔瑜� �곗씠�고봽�덉엫�� �섎씪**\n",
    "```"
   ]
  },
  {
   "cell_type": "markdown",
   "metadata": {},
   "source": [
    "```{admonition} 88踰� �좏뒠釉� ����\n",
    ":class: dropdown\n",
    "<div style=\"text-align: center\"><iframe width=\"700\" height=\"500\" src=https://www.youtube.com/embed/00rctVVSSoA?start=9615&end=9673></iframe></div>\n",
    "```"
   ]
  },
  {
   "cell_type": "code",
   "execution_count": 177,
   "metadata": {
    "ExecuteTime": {
     "end_time": "2022-02-19T18:22:31.002421Z",
     "start_time": "2022-02-19T18:22:30.996648Z"
    },
    "tags": [
     "hide-input"
    ]
   },
   "outputs": [],
   "source": [
    "Ans = kr.pivot_table(index='Year',columns='Medal',aggfunc='size').fillna(0)"
   ]
  },
  {
   "cell_type": "code",
   "execution_count": 178,
   "metadata": {
    "ExecuteTime": {
     "end_time": "2022-02-19T18:22:31.010668Z",
     "start_time": "2022-02-19T18:22:31.003805Z"
    }
   },
   "outputs": [
    {
     "data": {
      "text/html": [
       "<div>\n",
       "<style scoped>\n",
       "    .dataframe tbody tr th:only-of-type {\n",
       "        vertical-align: middle;\n",
       "    }\n",
       "\n",
       "    .dataframe tbody tr th {\n",
       "        vertical-align: top;\n",
       "    }\n",
       "\n",
       "    .dataframe thead th {\n",
       "        text-align: right;\n",
       "    }\n",
       "</style>\n",
       "<table border=\"1\" class=\"dataframe\">\n",
       "  <thead>\n",
       "    <tr style=\"text-align: right;\">\n",
       "      <th>Medal</th>\n",
       "      <th>Bronze</th>\n",
       "      <th>Gold</th>\n",
       "      <th>Silver</th>\n",
       "    </tr>\n",
       "    <tr>\n",
       "      <th>Year</th>\n",
       "      <th></th>\n",
       "      <th></th>\n",
       "      <th></th>\n",
       "    </tr>\n",
       "  </thead>\n",
       "  <tbody>\n",
       "    <tr>\n",
       "      <th>1992</th>\n",
       "      <td>1.0</td>\n",
       "      <td>5.0</td>\n",
       "      <td>1.0</td>\n",
       "    </tr>\n",
       "    <tr>\n",
       "      <th>1994</th>\n",
       "      <td>1.0</td>\n",
       "      <td>8.0</td>\n",
       "      <td>1.0</td>\n",
       "    </tr>\n",
       "    <tr>\n",
       "      <th>1998</th>\n",
       "      <td>2.0</td>\n",
       "      <td>6.0</td>\n",
       "      <td>4.0</td>\n",
       "    </tr>\n",
       "    <tr>\n",
       "      <th>2002</th>\n",
       "      <td>0.0</td>\n",
       "      <td>5.0</td>\n",
       "      <td>2.0</td>\n",
       "    </tr>\n",
       "    <tr>\n",
       "      <th>2006</th>\n",
       "      <td>2.0</td>\n",
       "      <td>14.0</td>\n",
       "      <td>3.0</td>\n",
       "    </tr>\n",
       "    <tr>\n",
       "      <th>2010</th>\n",
       "      <td>2.0</td>\n",
       "      <td>6.0</td>\n",
       "      <td>10.0</td>\n",
       "    </tr>\n",
       "    <tr>\n",
       "      <th>2014</th>\n",
       "      <td>2.0</td>\n",
       "      <td>7.0</td>\n",
       "      <td>5.0</td>\n",
       "    </tr>\n",
       "  </tbody>\n",
       "</table>\n",
       "</div>"
      ],
      "text/plain": [
       "Medal  Bronze  Gold  Silver\n",
       "Year                       \n",
       "1992      1.0   5.0     1.0\n",
       "1994      1.0   8.0     1.0\n",
       "1998      2.0   6.0     4.0\n",
       "2002      0.0   5.0     2.0\n",
       "2006      2.0  14.0     3.0\n",
       "2010      2.0   6.0    10.0\n",
       "2014      2.0   7.0     5.0"
      ]
     },
     "execution_count": 178,
     "metadata": {},
     "output_type": "execute_result"
    }
   ],
   "source": [
    "Ans"
   ]
  },
  {
   "cell_type": "markdown",
   "metadata": {},
   "source": [
    "```{admonition} Question 89\n",
    "**�꾩껜 �곗씠�곗뿉�� sport醫낅쪟�� �곕Ⅸ �깅퀎�섎� 援ы븯�щ씪**\n",
    "```"
   ]
  },
  {
   "cell_type": "markdown",
   "metadata": {},
   "source": [
    "```{admonition} 89踰� �좏뒠釉� ����\n",
    ":class: dropdown\n",
    "<div style=\"text-align: center\"><iframe width=\"700\" height=\"500\" src=https://www.youtube.com/embed/00rctVVSSoA?start=9675&end=9718></iframe></div>\n",
    "```"
   ]
  },
  {
   "cell_type": "code",
   "execution_count": 179,
   "metadata": {
    "ExecuteTime": {
     "end_time": "2022-02-19T18:22:31.017879Z",
     "start_time": "2022-02-19T18:22:31.011822Z"
    },
    "tags": [
     "hide-input"
    ]
   },
   "outputs": [],
   "source": [
    "Ans = df.pivot_table(index='Sport',columns='Gender',aggfunc='size')"
   ]
  },
  {
   "cell_type": "code",
   "execution_count": 180,
   "metadata": {
    "ExecuteTime": {
     "end_time": "2022-02-19T18:22:31.024488Z",
     "start_time": "2022-02-19T18:22:31.019235Z"
    }
   },
   "outputs": [
    {
     "data": {
      "text/html": [
       "<div>\n",
       "<style scoped>\n",
       "    .dataframe tbody tr th:only-of-type {\n",
       "        vertical-align: middle;\n",
       "    }\n",
       "\n",
       "    .dataframe tbody tr th {\n",
       "        vertical-align: top;\n",
       "    }\n",
       "\n",
       "    .dataframe thead th {\n",
       "        text-align: right;\n",
       "    }\n",
       "</style>\n",
       "<table border=\"1\" class=\"dataframe\">\n",
       "  <thead>\n",
       "    <tr style=\"text-align: right;\">\n",
       "      <th>Gender</th>\n",
       "      <th>Men</th>\n",
       "      <th>Women</th>\n",
       "    </tr>\n",
       "    <tr>\n",
       "      <th>Sport</th>\n",
       "      <th></th>\n",
       "      <th></th>\n",
       "    </tr>\n",
       "  </thead>\n",
       "  <tbody>\n",
       "    <tr>\n",
       "      <th>Biathlon</th>\n",
       "      <td>270</td>\n",
       "      <td>150</td>\n",
       "    </tr>\n",
       "    <tr>\n",
       "      <th>Bobsleigh</th>\n",
       "      <td>416</td>\n",
       "      <td>36</td>\n",
       "    </tr>\n",
       "    <tr>\n",
       "      <th>Curling</th>\n",
       "      <td>97</td>\n",
       "      <td>75</td>\n",
       "    </tr>\n",
       "    <tr>\n",
       "      <th>Ice Hockey</th>\n",
       "      <td>1231</td>\n",
       "      <td>305</td>\n",
       "    </tr>\n",
       "    <tr>\n",
       "      <th>Luge</th>\n",
       "      <td>135</td>\n",
       "      <td>45</td>\n",
       "    </tr>\n",
       "    <tr>\n",
       "      <th>Skating</th>\n",
       "      <td>665</td>\n",
       "      <td>564</td>\n",
       "    </tr>\n",
       "    <tr>\n",
       "      <th>Skiing</th>\n",
       "      <td>1130</td>\n",
       "      <td>651</td>\n",
       "    </tr>\n",
       "  </tbody>\n",
       "</table>\n",
       "</div>"
      ],
      "text/plain": [
       "Gender       Men  Women\n",
       "Sport                  \n",
       "Biathlon     270    150\n",
       "Bobsleigh    416     36\n",
       "Curling       97     75\n",
       "Ice Hockey  1231    305\n",
       "Luge         135     45\n",
       "Skating      665    564\n",
       "Skiing      1130    651"
      ]
     },
     "execution_count": 180,
     "metadata": {},
     "output_type": "execute_result"
    }
   ],
   "source": [
    "Ans"
   ]
  },
  {
   "cell_type": "markdown",
   "metadata": {},
   "source": [
    "```{admonition} Question 90\n",
    "**�꾩껜 �곗씠�곗뿉�� Discipline醫낅쪟�� �곕Ⅸ �곕Ⅸ Medal�섎� 援ы븯�щ씪**\n",
    "```"
   ]
  },
  {
   "cell_type": "markdown",
   "metadata": {},
   "source": [
    "```{admonition} 90踰� �좏뒠釉� ����\n",
    ":class: dropdown\n",
    "<div style=\"text-align: center\"><iframe width=\"700\" height=\"500\" src=https://www.youtube.com/embed/00rctVVSSoA?start=9720&end=9733></iframe></div>\n",
    "```"
   ]
  },
  {
   "cell_type": "code",
   "execution_count": 181,
   "metadata": {
    "ExecuteTime": {
     "end_time": "2022-02-19T18:22:31.031712Z",
     "start_time": "2022-02-19T18:22:31.025856Z"
    },
    "scrolled": true,
    "tags": [
     "hide-input"
    ]
   },
   "outputs": [],
   "source": [
    "Ans = df.pivot_table(index='Discipline',columns='Medal',aggfunc='size')"
   ]
  },
  {
   "cell_type": "code",
   "execution_count": 182,
   "metadata": {
    "ExecuteTime": {
     "end_time": "2022-02-19T18:22:31.038452Z",
     "start_time": "2022-02-19T18:22:31.032921Z"
    }
   },
   "outputs": [
    {
     "data": {
      "text/html": [
       "<div>\n",
       "<style scoped>\n",
       "    .dataframe tbody tr th:only-of-type {\n",
       "        vertical-align: middle;\n",
       "    }\n",
       "\n",
       "    .dataframe tbody tr th {\n",
       "        vertical-align: top;\n",
       "    }\n",
       "\n",
       "    .dataframe thead th {\n",
       "        text-align: right;\n",
       "    }\n",
       "</style>\n",
       "<table border=\"1\" class=\"dataframe\">\n",
       "  <thead>\n",
       "    <tr style=\"text-align: right;\">\n",
       "      <th>Medal</th>\n",
       "      <th>Bronze</th>\n",
       "      <th>Gold</th>\n",
       "      <th>Silver</th>\n",
       "    </tr>\n",
       "    <tr>\n",
       "      <th>Discipline</th>\n",
       "      <th></th>\n",
       "      <th></th>\n",
       "      <th></th>\n",
       "    </tr>\n",
       "  </thead>\n",
       "  <tbody>\n",
       "    <tr>\n",
       "      <th>Alpine Skiing</th>\n",
       "      <td>141</td>\n",
       "      <td>143</td>\n",
       "      <td>144</td>\n",
       "    </tr>\n",
       "    <tr>\n",
       "      <th>Biathlon</th>\n",
       "      <td>139</td>\n",
       "      <td>140</td>\n",
       "      <td>141</td>\n",
       "    </tr>\n",
       "    <tr>\n",
       "      <th>Bobsleigh</th>\n",
       "      <td>147</td>\n",
       "      <td>134</td>\n",
       "      <td>141</td>\n",
       "    </tr>\n",
       "    <tr>\n",
       "      <th>Cross Country Skiing</th>\n",
       "      <td>263</td>\n",
       "      <td>264</td>\n",
       "      <td>262</td>\n",
       "    </tr>\n",
       "    <tr>\n",
       "      <th>Curling</th>\n",
       "      <td>56</td>\n",
       "      <td>58</td>\n",
       "      <td>58</td>\n",
       "    </tr>\n",
       "    <tr>\n",
       "      <th>Figure skating</th>\n",
       "      <td>118</td>\n",
       "      <td>122</td>\n",
       "      <td>119</td>\n",
       "    </tr>\n",
       "    <tr>\n",
       "      <th>Freestyle Skiing</th>\n",
       "      <td>34</td>\n",
       "      <td>34</td>\n",
       "      <td>34</td>\n",
       "    </tr>\n",
       "    <tr>\n",
       "      <th>Ice Hockey</th>\n",
       "      <td>512</td>\n",
       "      <td>510</td>\n",
       "      <td>514</td>\n",
       "    </tr>\n",
       "    <tr>\n",
       "      <th>Luge</th>\n",
       "      <td>60</td>\n",
       "      <td>62</td>\n",
       "      <td>58</td>\n",
       "    </tr>\n",
       "    <tr>\n",
       "      <th>Nordic Combined</th>\n",
       "      <td>55</td>\n",
       "      <td>55</td>\n",
       "      <td>55</td>\n",
       "    </tr>\n",
       "    <tr>\n",
       "      <th>Short Track Speed Skating</th>\n",
       "      <td>96</td>\n",
       "      <td>97</td>\n",
       "      <td>97</td>\n",
       "    </tr>\n",
       "    <tr>\n",
       "      <th>Skeleton</th>\n",
       "      <td>10</td>\n",
       "      <td>10</td>\n",
       "      <td>10</td>\n",
       "    </tr>\n",
       "    <tr>\n",
       "      <th>Ski Jumping</th>\n",
       "      <td>68</td>\n",
       "      <td>69</td>\n",
       "      <td>70</td>\n",
       "    </tr>\n",
       "    <tr>\n",
       "      <th>Snowboard</th>\n",
       "      <td>30</td>\n",
       "      <td>30</td>\n",
       "      <td>30</td>\n",
       "    </tr>\n",
       "    <tr>\n",
       "      <th>Speed skating</th>\n",
       "      <td>190</td>\n",
       "      <td>193</td>\n",
       "      <td>197</td>\n",
       "    </tr>\n",
       "  </tbody>\n",
       "</table>\n",
       "</div>"
      ],
      "text/plain": [
       "Medal                      Bronze  Gold  Silver\n",
       "Discipline                                     \n",
       "Alpine Skiing                 141   143     144\n",
       "Biathlon                      139   140     141\n",
       "Bobsleigh                     147   134     141\n",
       "Cross Country Skiing          263   264     262\n",
       "Curling                        56    58      58\n",
       "Figure skating                118   122     119\n",
       "Freestyle Skiing               34    34      34\n",
       "Ice Hockey                    512   510     514\n",
       "Luge                           60    62      58\n",
       "Nordic Combined                55    55      55\n",
       "Short Track Speed Skating      96    97      97\n",
       "Skeleton                       10    10      10\n",
       "Ski Jumping                    68    69      70\n",
       "Snowboard                      30    30      30\n",
       "Speed skating                 190   193     197"
      ]
     },
     "execution_count": 182,
     "metadata": {},
     "output_type": "execute_result"
    }
   ],
   "source": [
    "Ans"
   ]
  },
  {
   "cell_type": "markdown",
   "metadata": {},
   "source": [
    "## 07_Merge , Concat"
   ]
  },
  {
   "cell_type": "markdown",
   "metadata": {},
   "source": [
    "```{attention} \n",
    "援��蹂� 5�몄씠�� �щ쭩鍮꾩쑉 �듦퀎 : https://www.kaggle.com/utkarshxy/who-worldhealth-statistics-2020-complete    \n",
    "�곗씠�� 蹂���    \n",
    "Dataurl = 'https://raw.githubusercontent.com/Datamanim/pandas/main/mergeTEst.csv'\n",
    "```"
   ]
  },
  {
   "cell_type": "markdown",
   "metadata": {},
   "source": [
    "```{admonition} merge, concat 湲됱쥌猷� 蹂�紐�.. �좏뒠釉� ����\n",
    ":class: dropdown\n",
    "<div style=\"text-align: center\"><iframe width=\"700\" height=\"500\" src=https://www.youtube.com/embed/00rctVVSSoA?start=9735&end=10000></iframe></div>\n",
    "```\n",
    "   "
   ]
  },
  {
   "cell_type": "code",
   "execution_count": 2,
   "metadata": {
    "ExecuteTime": {
     "end_time": "2022-08-02T11:37:15.729474Z",
     "start_time": "2022-08-02T11:37:15.402600Z"
    }
   },
   "outputs": [],
   "source": [
    "df = pd.read_csv('https://raw.githubusercontent.com/Datamanim/pandas/main/mergeTEst.csv',index_col= 0)"
   ]
  },
  {
   "cell_type": "code",
   "execution_count": 3,
   "metadata": {
    "ExecuteTime": {
     "end_time": "2022-08-02T11:37:15.803452Z",
     "start_time": "2022-08-02T11:37:15.779890Z"
    }
   },
   "outputs": [
    {
     "data": {
      "text/html": [
       "<div>\n",
       "<style scoped>\n",
       "    .dataframe tbody tr th:only-of-type {\n",
       "        vertical-align: middle;\n",
       "    }\n",
       "\n",
       "    .dataframe tbody tr th {\n",
       "        vertical-align: top;\n",
       "    }\n",
       "\n",
       "    .dataframe thead th {\n",
       "        text-align: right;\n",
       "    }\n",
       "</style>\n",
       "<table border=\"1\" class=\"dataframe\">\n",
       "  <thead>\n",
       "    <tr style=\"text-align: right;\">\n",
       "      <th></th>\n",
       "      <th>2010</th>\n",
       "      <th>2011</th>\n",
       "      <th>2012</th>\n",
       "      <th>2013</th>\n",
       "      <th>2014</th>\n",
       "      <th>2015</th>\n",
       "      <th>2016</th>\n",
       "      <th>2017</th>\n",
       "      <th>2018</th>\n",
       "      <th>2019</th>\n",
       "    </tr>\n",
       "    <tr>\n",
       "      <th>Location</th>\n",
       "      <th></th>\n",
       "      <th></th>\n",
       "      <th></th>\n",
       "      <th></th>\n",
       "      <th></th>\n",
       "      <th></th>\n",
       "      <th></th>\n",
       "      <th></th>\n",
       "      <th></th>\n",
       "      <th></th>\n",
       "    </tr>\n",
       "  </thead>\n",
       "  <tbody>\n",
       "    <tr>\n",
       "      <th>Afghanistan</th>\n",
       "      <td>64.023</td>\n",
       "      <td>61.640</td>\n",
       "      <td>59.367</td>\n",
       "      <td>57.170</td>\n",
       "      <td>55.08</td>\n",
       "      <td>53.107</td>\n",
       "      <td>51.267</td>\n",
       "      <td>49.560</td>\n",
       "      <td>47.983</td>\n",
       "      <td>46.453</td>\n",
       "    </tr>\n",
       "    <tr>\n",
       "      <th>Albania</th>\n",
       "      <td>11.803</td>\n",
       "      <td>10.807</td>\n",
       "      <td>9.943</td>\n",
       "      <td>9.267</td>\n",
       "      <td>8.79</td>\n",
       "      <td>8.493</td>\n",
       "      <td>8.363</td>\n",
       "      <td>8.363</td>\n",
       "      <td>8.453</td>\n",
       "      <td>8.597</td>\n",
       "    </tr>\n",
       "    <tr>\n",
       "      <th>Algeria</th>\n",
       "      <td>23.540</td>\n",
       "      <td>22.907</td>\n",
       "      <td>22.450</td>\n",
       "      <td>22.117</td>\n",
       "      <td>21.85</td>\n",
       "      <td>21.587</td>\n",
       "      <td>21.257</td>\n",
       "      <td>20.850</td>\n",
       "      <td>20.407</td>\n",
       "      <td>19.930</td>\n",
       "    </tr>\n",
       "    <tr>\n",
       "      <th>Andorra</th>\n",
       "      <td>4.240</td>\n",
       "      <td>4.033</td>\n",
       "      <td>3.843</td>\n",
       "      <td>3.667</td>\n",
       "      <td>3.49</td>\n",
       "      <td>3.330</td>\n",
       "      <td>3.187</td>\n",
       "      <td>3.060</td>\n",
       "      <td>2.933</td>\n",
       "      <td>2.827</td>\n",
       "    </tr>\n",
       "  </tbody>\n",
       "</table>\n",
       "</div>"
      ],
      "text/plain": [
       "               2010    2011    2012    2013   2014    2015    2016    2017  \\\n",
       "Location                                                                     \n",
       "Afghanistan  64.023  61.640  59.367  57.170  55.08  53.107  51.267  49.560   \n",
       "Albania      11.803  10.807   9.943   9.267   8.79   8.493   8.363   8.363   \n",
       "Algeria      23.540  22.907  22.450  22.117  21.85  21.587  21.257  20.850   \n",
       "Andorra       4.240   4.033   3.843   3.667   3.49   3.330   3.187   3.060   \n",
       "\n",
       "               2018    2019  \n",
       "Location                     \n",
       "Afghanistan  47.983  46.453  \n",
       "Albania       8.453   8.597  \n",
       "Algeria      20.407  19.930  \n",
       "Andorra       2.933   2.827  "
      ]
     },
     "metadata": {},
     "output_type": "display_data"
    },
    {
     "data": {
      "text/html": [
       "<div>\n",
       "<style scoped>\n",
       "    .dataframe tbody tr th:only-of-type {\n",
       "        vertical-align: middle;\n",
       "    }\n",
       "\n",
       "    .dataframe tbody tr th {\n",
       "        vertical-align: top;\n",
       "    }\n",
       "\n",
       "    .dataframe thead th {\n",
       "        text-align: right;\n",
       "    }\n",
       "</style>\n",
       "<table border=\"1\" class=\"dataframe\">\n",
       "  <thead>\n",
       "    <tr style=\"text-align: right;\">\n",
       "      <th></th>\n",
       "      <th>2010</th>\n",
       "      <th>2011</th>\n",
       "      <th>2012</th>\n",
       "      <th>2013</th>\n",
       "      <th>2014</th>\n",
       "      <th>2015</th>\n",
       "      <th>2016</th>\n",
       "      <th>2017</th>\n",
       "      <th>2018</th>\n",
       "      <th>2019</th>\n",
       "    </tr>\n",
       "    <tr>\n",
       "      <th>Location</th>\n",
       "      <th></th>\n",
       "      <th></th>\n",
       "      <th></th>\n",
       "      <th></th>\n",
       "      <th></th>\n",
       "      <th></th>\n",
       "      <th></th>\n",
       "      <th></th>\n",
       "      <th></th>\n",
       "      <th></th>\n",
       "    </tr>\n",
       "  </thead>\n",
       "  <tbody>\n",
       "    <tr>\n",
       "      <th>Angola</th>\n",
       "      <td>75.713</td>\n",
       "      <td>71.280</td>\n",
       "      <td>67.233</td>\n",
       "      <td>63.570</td>\n",
       "      <td>60.430</td>\n",
       "      <td>57.757</td>\n",
       "      <td>55.510</td>\n",
       "      <td>53.460</td>\n",
       "      <td>51.757</td>\n",
       "      <td>50.093</td>\n",
       "    </tr>\n",
       "    <tr>\n",
       "      <th>Antigua and Barbuda</th>\n",
       "      <td>8.667</td>\n",
       "      <td>8.223</td>\n",
       "      <td>7.807</td>\n",
       "      <td>7.420</td>\n",
       "      <td>7.070</td>\n",
       "      <td>6.757</td>\n",
       "      <td>6.483</td>\n",
       "      <td>6.230</td>\n",
       "      <td>6.000</td>\n",
       "      <td>5.783</td>\n",
       "    </tr>\n",
       "    <tr>\n",
       "      <th>Argentina</th>\n",
       "      <td>12.887</td>\n",
       "      <td>12.380</td>\n",
       "      <td>11.840</td>\n",
       "      <td>11.283</td>\n",
       "      <td>10.733</td>\n",
       "      <td>10.203</td>\n",
       "      <td>9.683</td>\n",
       "      <td>9.177</td>\n",
       "      <td>8.680</td>\n",
       "      <td>8.227</td>\n",
       "    </tr>\n",
       "    <tr>\n",
       "      <th>Armenia</th>\n",
       "      <td>16.497</td>\n",
       "      <td>15.677</td>\n",
       "      <td>14.897</td>\n",
       "      <td>14.170</td>\n",
       "      <td>13.477</td>\n",
       "      <td>12.817</td>\n",
       "      <td>12.183</td>\n",
       "      <td>11.583</td>\n",
       "      <td>11.007</td>\n",
       "      <td>10.497</td>\n",
       "    </tr>\n",
       "    <tr>\n",
       "      <th>Australia</th>\n",
       "      <td>3.993</td>\n",
       "      <td>3.803</td>\n",
       "      <td>3.623</td>\n",
       "      <td>3.467</td>\n",
       "      <td>3.343</td>\n",
       "      <td>3.253</td>\n",
       "      <td>3.183</td>\n",
       "      <td>3.137</td>\n",
       "      <td>3.090</td>\n",
       "      <td>3.047</td>\n",
       "    </tr>\n",
       "    <tr>\n",
       "      <th>Austria</th>\n",
       "      <td>3.573</td>\n",
       "      <td>3.463</td>\n",
       "      <td>3.333</td>\n",
       "      <td>3.210</td>\n",
       "      <td>3.113</td>\n",
       "      <td>3.043</td>\n",
       "      <td>2.987</td>\n",
       "      <td>2.943</td>\n",
       "      <td>2.897</td>\n",
       "      <td>2.843</td>\n",
       "    </tr>\n",
       "  </tbody>\n",
       "</table>\n",
       "</div>"
      ],
      "text/plain": [
       "                       2010    2011    2012    2013    2014    2015    2016  \\\n",
       "Location                                                                      \n",
       "Angola               75.713  71.280  67.233  63.570  60.430  57.757  55.510   \n",
       "Antigua and Barbuda   8.667   8.223   7.807   7.420   7.070   6.757   6.483   \n",
       "Argentina            12.887  12.380  11.840  11.283  10.733  10.203   9.683   \n",
       "Armenia              16.497  15.677  14.897  14.170  13.477  12.817  12.183   \n",
       "Australia             3.993   3.803   3.623   3.467   3.343   3.253   3.183   \n",
       "Austria               3.573   3.463   3.333   3.210   3.113   3.043   2.987   \n",
       "\n",
       "                       2017    2018    2019  \n",
       "Location                                     \n",
       "Angola               53.460  51.757  50.093  \n",
       "Antigua and Barbuda   6.230   6.000   5.783  \n",
       "Argentina             9.177   8.680   8.227  \n",
       "Armenia              11.583  11.007  10.497  \n",
       "Australia             3.137   3.090   3.047  \n",
       "Austria               2.943   2.897   2.843  "
      ]
     },
     "metadata": {},
     "output_type": "display_data"
    }
   ],
   "source": [
    "df1 = df.iloc[:4,:]\n",
    "df2 = df.iloc[4:,:]\n",
    "\n",
    "display(df1)\n",
    "display(df2)"
   ]
  },
  {
   "cell_type": "markdown",
   "metadata": {},
   "source": [
    "```{admonition} Question 91\n",
    "**df1怨� df2 �곗씠�곕� �섎굹�� �곗씠�� �꾨젅�꾩쑝濡� �⑹퀜��**\n",
    "```"
   ]
  },
  {
   "cell_type": "code",
   "execution_count": 4,
   "metadata": {
    "ExecuteTime": {
     "end_time": "2022-08-02T11:37:17.314599Z",
     "start_time": "2022-08-02T11:37:17.311443Z"
    },
    "tags": [
     "hide-input"
    ]
   },
   "outputs": [],
   "source": [
    "total = pd.concat([df1,df2])\n",
    "Ans = total"
   ]
  },
  {
   "cell_type": "code",
   "execution_count": 5,
   "metadata": {
    "ExecuteTime": {
     "end_time": "2022-08-02T11:37:18.901433Z",
     "start_time": "2022-08-02T11:37:18.886930Z"
    }
   },
   "outputs": [
    {
     "data": {
      "text/html": [
       "<div>\n",
       "<style scoped>\n",
       "    .dataframe tbody tr th:only-of-type {\n",
       "        vertical-align: middle;\n",
       "    }\n",
       "\n",
       "    .dataframe tbody tr th {\n",
       "        vertical-align: top;\n",
       "    }\n",
       "\n",
       "    .dataframe thead th {\n",
       "        text-align: right;\n",
       "    }\n",
       "</style>\n",
       "<table border=\"1\" class=\"dataframe\">\n",
       "  <thead>\n",
       "    <tr style=\"text-align: right;\">\n",
       "      <th></th>\n",
       "      <th>2010</th>\n",
       "      <th>2011</th>\n",
       "      <th>2012</th>\n",
       "      <th>2013</th>\n",
       "      <th>2014</th>\n",
       "      <th>2015</th>\n",
       "      <th>2016</th>\n",
       "      <th>2017</th>\n",
       "      <th>2018</th>\n",
       "      <th>2019</th>\n",
       "    </tr>\n",
       "    <tr>\n",
       "      <th>Location</th>\n",
       "      <th></th>\n",
       "      <th></th>\n",
       "      <th></th>\n",
       "      <th></th>\n",
       "      <th></th>\n",
       "      <th></th>\n",
       "      <th></th>\n",
       "      <th></th>\n",
       "      <th></th>\n",
       "      <th></th>\n",
       "    </tr>\n",
       "  </thead>\n",
       "  <tbody>\n",
       "    <tr>\n",
       "      <th>Afghanistan</th>\n",
       "      <td>64.023</td>\n",
       "      <td>61.640</td>\n",
       "      <td>59.367</td>\n",
       "      <td>57.170</td>\n",
       "      <td>55.080</td>\n",
       "      <td>53.107</td>\n",
       "      <td>51.267</td>\n",
       "      <td>49.560</td>\n",
       "      <td>47.983</td>\n",
       "      <td>46.453</td>\n",
       "    </tr>\n",
       "    <tr>\n",
       "      <th>Albania</th>\n",
       "      <td>11.803</td>\n",
       "      <td>10.807</td>\n",
       "      <td>9.943</td>\n",
       "      <td>9.267</td>\n",
       "      <td>8.790</td>\n",
       "      <td>8.493</td>\n",
       "      <td>8.363</td>\n",
       "      <td>8.363</td>\n",
       "      <td>8.453</td>\n",
       "      <td>8.597</td>\n",
       "    </tr>\n",
       "    <tr>\n",
       "      <th>Algeria</th>\n",
       "      <td>23.540</td>\n",
       "      <td>22.907</td>\n",
       "      <td>22.450</td>\n",
       "      <td>22.117</td>\n",
       "      <td>21.850</td>\n",
       "      <td>21.587</td>\n",
       "      <td>21.257</td>\n",
       "      <td>20.850</td>\n",
       "      <td>20.407</td>\n",
       "      <td>19.930</td>\n",
       "    </tr>\n",
       "    <tr>\n",
       "      <th>Andorra</th>\n",
       "      <td>4.240</td>\n",
       "      <td>4.033</td>\n",
       "      <td>3.843</td>\n",
       "      <td>3.667</td>\n",
       "      <td>3.490</td>\n",
       "      <td>3.330</td>\n",
       "      <td>3.187</td>\n",
       "      <td>3.060</td>\n",
       "      <td>2.933</td>\n",
       "      <td>2.827</td>\n",
       "    </tr>\n",
       "    <tr>\n",
       "      <th>Angola</th>\n",
       "      <td>75.713</td>\n",
       "      <td>71.280</td>\n",
       "      <td>67.233</td>\n",
       "      <td>63.570</td>\n",
       "      <td>60.430</td>\n",
       "      <td>57.757</td>\n",
       "      <td>55.510</td>\n",
       "      <td>53.460</td>\n",
       "      <td>51.757</td>\n",
       "      <td>50.093</td>\n",
       "    </tr>\n",
       "    <tr>\n",
       "      <th>Antigua and Barbuda</th>\n",
       "      <td>8.667</td>\n",
       "      <td>8.223</td>\n",
       "      <td>7.807</td>\n",
       "      <td>7.420</td>\n",
       "      <td>7.070</td>\n",
       "      <td>6.757</td>\n",
       "      <td>6.483</td>\n",
       "      <td>6.230</td>\n",
       "      <td>6.000</td>\n",
       "      <td>5.783</td>\n",
       "    </tr>\n",
       "    <tr>\n",
       "      <th>Argentina</th>\n",
       "      <td>12.887</td>\n",
       "      <td>12.380</td>\n",
       "      <td>11.840</td>\n",
       "      <td>11.283</td>\n",
       "      <td>10.733</td>\n",
       "      <td>10.203</td>\n",
       "      <td>9.683</td>\n",
       "      <td>9.177</td>\n",
       "      <td>8.680</td>\n",
       "      <td>8.227</td>\n",
       "    </tr>\n",
       "    <tr>\n",
       "      <th>Armenia</th>\n",
       "      <td>16.497</td>\n",
       "      <td>15.677</td>\n",
       "      <td>14.897</td>\n",
       "      <td>14.170</td>\n",
       "      <td>13.477</td>\n",
       "      <td>12.817</td>\n",
       "      <td>12.183</td>\n",
       "      <td>11.583</td>\n",
       "      <td>11.007</td>\n",
       "      <td>10.497</td>\n",
       "    </tr>\n",
       "    <tr>\n",
       "      <th>Australia</th>\n",
       "      <td>3.993</td>\n",
       "      <td>3.803</td>\n",
       "      <td>3.623</td>\n",
       "      <td>3.467</td>\n",
       "      <td>3.343</td>\n",
       "      <td>3.253</td>\n",
       "      <td>3.183</td>\n",
       "      <td>3.137</td>\n",
       "      <td>3.090</td>\n",
       "      <td>3.047</td>\n",
       "    </tr>\n",
       "    <tr>\n",
       "      <th>Austria</th>\n",
       "      <td>3.573</td>\n",
       "      <td>3.463</td>\n",
       "      <td>3.333</td>\n",
       "      <td>3.210</td>\n",
       "      <td>3.113</td>\n",
       "      <td>3.043</td>\n",
       "      <td>2.987</td>\n",
       "      <td>2.943</td>\n",
       "      <td>2.897</td>\n",
       "      <td>2.843</td>\n",
       "    </tr>\n",
       "  </tbody>\n",
       "</table>\n",
       "</div>"
      ],
      "text/plain": [
       "                       2010    2011    2012    2013    2014    2015    2016  \\\n",
       "Location                                                                      \n",
       "Afghanistan          64.023  61.640  59.367  57.170  55.080  53.107  51.267   \n",
       "Albania              11.803  10.807   9.943   9.267   8.790   8.493   8.363   \n",
       "Algeria              23.540  22.907  22.450  22.117  21.850  21.587  21.257   \n",
       "Andorra               4.240   4.033   3.843   3.667   3.490   3.330   3.187   \n",
       "Angola               75.713  71.280  67.233  63.570  60.430  57.757  55.510   \n",
       "Antigua and Barbuda   8.667   8.223   7.807   7.420   7.070   6.757   6.483   \n",
       "Argentina            12.887  12.380  11.840  11.283  10.733  10.203   9.683   \n",
       "Armenia              16.497  15.677  14.897  14.170  13.477  12.817  12.183   \n",
       "Australia             3.993   3.803   3.623   3.467   3.343   3.253   3.183   \n",
       "Austria               3.573   3.463   3.333   3.210   3.113   3.043   2.987   \n",
       "\n",
       "                       2017    2018    2019  \n",
       "Location                                     \n",
       "Afghanistan          49.560  47.983  46.453  \n",
       "Albania               8.363   8.453   8.597  \n",
       "Algeria              20.850  20.407  19.930  \n",
       "Andorra               3.060   2.933   2.827  \n",
       "Angola               53.460  51.757  50.093  \n",
       "Antigua and Barbuda   6.230   6.000   5.783  \n",
       "Argentina             9.177   8.680   8.227  \n",
       "Armenia              11.583  11.007  10.497  \n",
       "Australia             3.137   3.090   3.047  \n",
       "Austria               2.943   2.897   2.843  "
      ]
     },
     "execution_count": 5,
     "metadata": {},
     "output_type": "execute_result"
    }
   ],
   "source": [
    "Ans"
   ]
  },
  {
   "cell_type": "code",
   "execution_count": 6,
   "metadata": {
    "ExecuteTime": {
     "end_time": "2022-08-02T11:37:19.795162Z",
     "start_time": "2022-08-02T11:37:19.777413Z"
    }
   },
   "outputs": [
    {
     "data": {
      "text/html": [
       "<div>\n",
       "<style scoped>\n",
       "    .dataframe tbody tr th:only-of-type {\n",
       "        vertical-align: middle;\n",
       "    }\n",
       "\n",
       "    .dataframe tbody tr th {\n",
       "        vertical-align: top;\n",
       "    }\n",
       "\n",
       "    .dataframe thead th {\n",
       "        text-align: right;\n",
       "    }\n",
       "</style>\n",
       "<table border=\"1\" class=\"dataframe\">\n",
       "  <thead>\n",
       "    <tr style=\"text-align: right;\">\n",
       "      <th></th>\n",
       "      <th>2010</th>\n",
       "      <th>2011</th>\n",
       "      <th>2012</th>\n",
       "      <th>2013</th>\n",
       "    </tr>\n",
       "    <tr>\n",
       "      <th>Location</th>\n",
       "      <th></th>\n",
       "      <th></th>\n",
       "      <th></th>\n",
       "      <th></th>\n",
       "    </tr>\n",
       "  </thead>\n",
       "  <tbody>\n",
       "    <tr>\n",
       "      <th>Afghanistan</th>\n",
       "      <td>64.023</td>\n",
       "      <td>61.640</td>\n",
       "      <td>59.367</td>\n",
       "      <td>57.170</td>\n",
       "    </tr>\n",
       "    <tr>\n",
       "      <th>Albania</th>\n",
       "      <td>11.803</td>\n",
       "      <td>10.807</td>\n",
       "      <td>9.943</td>\n",
       "      <td>9.267</td>\n",
       "    </tr>\n",
       "  </tbody>\n",
       "</table>\n",
       "</div>"
      ],
      "text/plain": [
       "               2010    2011    2012    2013\n",
       "Location                                   \n",
       "Afghanistan  64.023  61.640  59.367  57.170\n",
       "Albania      11.803  10.807   9.943   9.267"
      ]
     },
     "metadata": {},
     "output_type": "display_data"
    },
    {
     "data": {
      "text/html": [
       "<div>\n",
       "<style scoped>\n",
       "    .dataframe tbody tr th:only-of-type {\n",
       "        vertical-align: middle;\n",
       "    }\n",
       "\n",
       "    .dataframe tbody tr th {\n",
       "        vertical-align: top;\n",
       "    }\n",
       "\n",
       "    .dataframe thead th {\n",
       "        text-align: right;\n",
       "    }\n",
       "</style>\n",
       "<table border=\"1\" class=\"dataframe\">\n",
       "  <thead>\n",
       "    <tr style=\"text-align: right;\">\n",
       "      <th></th>\n",
       "      <th>2013</th>\n",
       "      <th>2014</th>\n",
       "      <th>2015</th>\n",
       "      <th>2016</th>\n",
       "      <th>2017</th>\n",
       "      <th>2018</th>\n",
       "      <th>2019</th>\n",
       "    </tr>\n",
       "    <tr>\n",
       "      <th>Location</th>\n",
       "      <th></th>\n",
       "      <th></th>\n",
       "      <th></th>\n",
       "      <th></th>\n",
       "      <th></th>\n",
       "      <th></th>\n",
       "      <th></th>\n",
       "    </tr>\n",
       "  </thead>\n",
       "  <tbody>\n",
       "    <tr>\n",
       "      <th>Antigua and Barbuda</th>\n",
       "      <td>7.420</td>\n",
       "      <td>7.070</td>\n",
       "      <td>6.757</td>\n",
       "      <td>6.483</td>\n",
       "      <td>6.230</td>\n",
       "      <td>6.000</td>\n",
       "      <td>5.783</td>\n",
       "    </tr>\n",
       "    <tr>\n",
       "      <th>Argentina</th>\n",
       "      <td>11.283</td>\n",
       "      <td>10.733</td>\n",
       "      <td>10.203</td>\n",
       "      <td>9.683</td>\n",
       "      <td>9.177</td>\n",
       "      <td>8.680</td>\n",
       "      <td>8.227</td>\n",
       "    </tr>\n",
       "    <tr>\n",
       "      <th>Armenia</th>\n",
       "      <td>14.170</td>\n",
       "      <td>13.477</td>\n",
       "      <td>12.817</td>\n",
       "      <td>12.183</td>\n",
       "      <td>11.583</td>\n",
       "      <td>11.007</td>\n",
       "      <td>10.497</td>\n",
       "    </tr>\n",
       "    <tr>\n",
       "      <th>Australia</th>\n",
       "      <td>3.467</td>\n",
       "      <td>3.343</td>\n",
       "      <td>3.253</td>\n",
       "      <td>3.183</td>\n",
       "      <td>3.137</td>\n",
       "      <td>3.090</td>\n",
       "      <td>3.047</td>\n",
       "    </tr>\n",
       "    <tr>\n",
       "      <th>Austria</th>\n",
       "      <td>3.210</td>\n",
       "      <td>3.113</td>\n",
       "      <td>3.043</td>\n",
       "      <td>2.987</td>\n",
       "      <td>2.943</td>\n",
       "      <td>2.897</td>\n",
       "      <td>2.843</td>\n",
       "    </tr>\n",
       "  </tbody>\n",
       "</table>\n",
       "</div>"
      ],
      "text/plain": [
       "                       2013    2014    2015    2016    2017    2018    2019\n",
       "Location                                                                   \n",
       "Antigua and Barbuda   7.420   7.070   6.757   6.483   6.230   6.000   5.783\n",
       "Argentina            11.283  10.733  10.203   9.683   9.177   8.680   8.227\n",
       "Armenia              14.170  13.477  12.817  12.183  11.583  11.007  10.497\n",
       "Australia             3.467   3.343   3.253   3.183   3.137   3.090   3.047\n",
       "Austria               3.210   3.113   3.043   2.987   2.943   2.897   2.843"
      ]
     },
     "metadata": {},
     "output_type": "display_data"
    }
   ],
   "source": [
    "df3 = df.iloc[:2,:4]\n",
    "df4 = df.iloc[5:,3:]\n",
    "\n",
    "display(df3)\n",
    "display(df4)"
   ]
  },
  {
   "cell_type": "markdown",
   "metadata": {},
   "source": [
    "```{admonition} Question 92\n",
    "**df3怨� df4 �곗씠�곕� �섎굹�� �곗씠�� �꾨젅�꾩쑝濡� �⑹퀜��. �섎떎 �ы븿�섍퀬 �덈뒗 �꾨룄�� ���댁꽌留� 怨좊젮�쒕떎**\n",
    "```"
   ]
  },
  {
   "cell_type": "code",
   "execution_count": 7,
   "metadata": {
    "ExecuteTime": {
     "end_time": "2022-08-02T11:37:21.988083Z",
     "start_time": "2022-08-02T11:37:21.984440Z"
    },
    "tags": [
     "hide-input"
    ]
   },
   "outputs": [],
   "source": [
    "Ans = pd.concat([df3,df4],join='inner')"
   ]
  },
  {
   "cell_type": "code",
   "execution_count": 9,
   "metadata": {
    "ExecuteTime": {
     "end_time": "2022-08-02T11:37:27.640740Z",
     "start_time": "2022-08-02T11:37:27.634405Z"
    }
   },
   "outputs": [
    {
     "data": {
      "text/html": [
       "<div>\n",
       "<style scoped>\n",
       "    .dataframe tbody tr th:only-of-type {\n",
       "        vertical-align: middle;\n",
       "    }\n",
       "\n",
       "    .dataframe tbody tr th {\n",
       "        vertical-align: top;\n",
       "    }\n",
       "\n",
       "    .dataframe thead th {\n",
       "        text-align: right;\n",
       "    }\n",
       "</style>\n",
       "<table border=\"1\" class=\"dataframe\">\n",
       "  <thead>\n",
       "    <tr style=\"text-align: right;\">\n",
       "      <th></th>\n",
       "      <th>2013</th>\n",
       "    </tr>\n",
       "    <tr>\n",
       "      <th>Location</th>\n",
       "      <th></th>\n",
       "    </tr>\n",
       "  </thead>\n",
       "  <tbody>\n",
       "    <tr>\n",
       "      <th>Afghanistan</th>\n",
       "      <td>57.170</td>\n",
       "    </tr>\n",
       "    <tr>\n",
       "      <th>Albania</th>\n",
       "      <td>9.267</td>\n",
       "    </tr>\n",
       "    <tr>\n",
       "      <th>Antigua and Barbuda</th>\n",
       "      <td>7.420</td>\n",
       "    </tr>\n",
       "    <tr>\n",
       "      <th>Argentina</th>\n",
       "      <td>11.283</td>\n",
       "    </tr>\n",
       "    <tr>\n",
       "      <th>Armenia</th>\n",
       "      <td>14.170</td>\n",
       "    </tr>\n",
       "    <tr>\n",
       "      <th>Australia</th>\n",
       "      <td>3.467</td>\n",
       "    </tr>\n",
       "    <tr>\n",
       "      <th>Austria</th>\n",
       "      <td>3.210</td>\n",
       "    </tr>\n",
       "  </tbody>\n",
       "</table>\n",
       "</div>"
      ],
      "text/plain": [
       "                       2013\n",
       "Location                   \n",
       "Afghanistan          57.170\n",
       "Albania               9.267\n",
       "Antigua and Barbuda   7.420\n",
       "Argentina            11.283\n",
       "Armenia              14.170\n",
       "Australia             3.467\n",
       "Austria               3.210"
      ]
     },
     "execution_count": 9,
     "metadata": {},
     "output_type": "execute_result"
    }
   ],
   "source": [
    "Ans"
   ]
  },
  {
   "cell_type": "markdown",
   "metadata": {},
   "source": [
    "```{admonition} Question 93\n",
    "**df3怨� df4 �곗씠�곕� �섎굹�� �곗씠�� �꾨젅�꾩쑝濡� �⑹퀜��. 紐⑤뱺 而щ읆�� �ы븿�섍퀬, 寃곗륫移섎뒗 0�쇰줈 ��泥댄븳��**\n",
    "```"
   ]
  },
  {
   "cell_type": "code",
   "execution_count": 10,
   "metadata": {
    "ExecuteTime": {
     "end_time": "2022-08-02T11:37:29.434991Z",
     "start_time": "2022-08-02T11:37:29.430647Z"
    },
    "tags": [
     "hide-input"
    ]
   },
   "outputs": [],
   "source": [
    "Ans = pd.concat([df3,df4],join='outer').fillna(0)"
   ]
  },
  {
   "cell_type": "code",
   "execution_count": 13,
   "metadata": {
    "ExecuteTime": {
     "end_time": "2022-08-02T11:37:35.746052Z",
     "start_time": "2022-08-02T11:37:35.731261Z"
    }
   },
   "outputs": [
    {
     "data": {
      "text/html": [
       "<div>\n",
       "<style scoped>\n",
       "    .dataframe tbody tr th:only-of-type {\n",
       "        vertical-align: middle;\n",
       "    }\n",
       "\n",
       "    .dataframe tbody tr th {\n",
       "        vertical-align: top;\n",
       "    }\n",
       "\n",
       "    .dataframe thead th {\n",
       "        text-align: right;\n",
       "    }\n",
       "</style>\n",
       "<table border=\"1\" class=\"dataframe\">\n",
       "  <thead>\n",
       "    <tr style=\"text-align: right;\">\n",
       "      <th></th>\n",
       "      <th>2010</th>\n",
       "      <th>2011</th>\n",
       "      <th>2012</th>\n",
       "      <th>2013</th>\n",
       "      <th>2014</th>\n",
       "      <th>2015</th>\n",
       "      <th>2016</th>\n",
       "      <th>2017</th>\n",
       "      <th>2018</th>\n",
       "      <th>2019</th>\n",
       "    </tr>\n",
       "    <tr>\n",
       "      <th>Location</th>\n",
       "      <th></th>\n",
       "      <th></th>\n",
       "      <th></th>\n",
       "      <th></th>\n",
       "      <th></th>\n",
       "      <th></th>\n",
       "      <th></th>\n",
       "      <th></th>\n",
       "      <th></th>\n",
       "      <th></th>\n",
       "    </tr>\n",
       "  </thead>\n",
       "  <tbody>\n",
       "    <tr>\n",
       "      <th>Afghanistan</th>\n",
       "      <td>64.023</td>\n",
       "      <td>61.640</td>\n",
       "      <td>59.367</td>\n",
       "      <td>57.170</td>\n",
       "      <td>0.000</td>\n",
       "      <td>0.000</td>\n",
       "      <td>0.000</td>\n",
       "      <td>0.000</td>\n",
       "      <td>0.000</td>\n",
       "      <td>0.000</td>\n",
       "    </tr>\n",
       "    <tr>\n",
       "      <th>Albania</th>\n",
       "      <td>11.803</td>\n",
       "      <td>10.807</td>\n",
       "      <td>9.943</td>\n",
       "      <td>9.267</td>\n",
       "      <td>0.000</td>\n",
       "      <td>0.000</td>\n",
       "      <td>0.000</td>\n",
       "      <td>0.000</td>\n",
       "      <td>0.000</td>\n",
       "      <td>0.000</td>\n",
       "    </tr>\n",
       "    <tr>\n",
       "      <th>Antigua and Barbuda</th>\n",
       "      <td>0.000</td>\n",
       "      <td>0.000</td>\n",
       "      <td>0.000</td>\n",
       "      <td>7.420</td>\n",
       "      <td>7.070</td>\n",
       "      <td>6.757</td>\n",
       "      <td>6.483</td>\n",
       "      <td>6.230</td>\n",
       "      <td>6.000</td>\n",
       "      <td>5.783</td>\n",
       "    </tr>\n",
       "    <tr>\n",
       "      <th>Argentina</th>\n",
       "      <td>0.000</td>\n",
       "      <td>0.000</td>\n",
       "      <td>0.000</td>\n",
       "      <td>11.283</td>\n",
       "      <td>10.733</td>\n",
       "      <td>10.203</td>\n",
       "      <td>9.683</td>\n",
       "      <td>9.177</td>\n",
       "      <td>8.680</td>\n",
       "      <td>8.227</td>\n",
       "    </tr>\n",
       "    <tr>\n",
       "      <th>Armenia</th>\n",
       "      <td>0.000</td>\n",
       "      <td>0.000</td>\n",
       "      <td>0.000</td>\n",
       "      <td>14.170</td>\n",
       "      <td>13.477</td>\n",
       "      <td>12.817</td>\n",
       "      <td>12.183</td>\n",
       "      <td>11.583</td>\n",
       "      <td>11.007</td>\n",
       "      <td>10.497</td>\n",
       "    </tr>\n",
       "    <tr>\n",
       "      <th>Australia</th>\n",
       "      <td>0.000</td>\n",
       "      <td>0.000</td>\n",
       "      <td>0.000</td>\n",
       "      <td>3.467</td>\n",
       "      <td>3.343</td>\n",
       "      <td>3.253</td>\n",
       "      <td>3.183</td>\n",
       "      <td>3.137</td>\n",
       "      <td>3.090</td>\n",
       "      <td>3.047</td>\n",
       "    </tr>\n",
       "    <tr>\n",
       "      <th>Austria</th>\n",
       "      <td>0.000</td>\n",
       "      <td>0.000</td>\n",
       "      <td>0.000</td>\n",
       "      <td>3.210</td>\n",
       "      <td>3.113</td>\n",
       "      <td>3.043</td>\n",
       "      <td>2.987</td>\n",
       "      <td>2.943</td>\n",
       "      <td>2.897</td>\n",
       "      <td>2.843</td>\n",
       "    </tr>\n",
       "  </tbody>\n",
       "</table>\n",
       "</div>"
      ],
      "text/plain": [
       "                       2010    2011    2012    2013    2014    2015    2016  \\\n",
       "Location                                                                      \n",
       "Afghanistan          64.023  61.640  59.367  57.170   0.000   0.000   0.000   \n",
       "Albania              11.803  10.807   9.943   9.267   0.000   0.000   0.000   \n",
       "Antigua and Barbuda   0.000   0.000   0.000   7.420   7.070   6.757   6.483   \n",
       "Argentina             0.000   0.000   0.000  11.283  10.733  10.203   9.683   \n",
       "Armenia               0.000   0.000   0.000  14.170  13.477  12.817  12.183   \n",
       "Australia             0.000   0.000   0.000   3.467   3.343   3.253   3.183   \n",
       "Austria               0.000   0.000   0.000   3.210   3.113   3.043   2.987   \n",
       "\n",
       "                       2017    2018    2019  \n",
       "Location                                     \n",
       "Afghanistan           0.000   0.000   0.000  \n",
       "Albania               0.000   0.000   0.000  \n",
       "Antigua and Barbuda   6.230   6.000   5.783  \n",
       "Argentina             9.177   8.680   8.227  \n",
       "Armenia              11.583  11.007  10.497  \n",
       "Australia             3.137   3.090   3.047  \n",
       "Austria               2.943   2.897   2.843  "
      ]
     },
     "execution_count": 13,
     "metadata": {},
     "output_type": "execute_result"
    }
   ],
   "source": [
    "Ans"
   ]
  },
  {
   "cell_type": "code",
   "execution_count": 14,
   "metadata": {
    "ExecuteTime": {
     "end_time": "2022-08-02T11:37:36.326959Z",
     "start_time": "2022-08-02T11:37:36.312846Z"
    }
   },
   "outputs": [
    {
     "data": {
      "text/html": [
       "<div>\n",
       "<style scoped>\n",
       "    .dataframe tbody tr th:only-of-type {\n",
       "        vertical-align: middle;\n",
       "    }\n",
       "\n",
       "    .dataframe tbody tr th {\n",
       "        vertical-align: top;\n",
       "    }\n",
       "\n",
       "    .dataframe thead th {\n",
       "        text-align: right;\n",
       "    }\n",
       "</style>\n",
       "<table border=\"1\" class=\"dataframe\">\n",
       "  <thead>\n",
       "    <tr style=\"text-align: right;\">\n",
       "      <th>Location</th>\n",
       "      <th>Afghanistan</th>\n",
       "      <th>Albania</th>\n",
       "      <th>Algeria</th>\n",
       "    </tr>\n",
       "  </thead>\n",
       "  <tbody>\n",
       "    <tr>\n",
       "      <th>2010</th>\n",
       "      <td>64.023</td>\n",
       "      <td>11.803</td>\n",
       "      <td>23.540</td>\n",
       "    </tr>\n",
       "    <tr>\n",
       "      <th>2011</th>\n",
       "      <td>61.640</td>\n",
       "      <td>10.807</td>\n",
       "      <td>22.907</td>\n",
       "    </tr>\n",
       "    <tr>\n",
       "      <th>2012</th>\n",
       "      <td>59.367</td>\n",
       "      <td>9.943</td>\n",
       "      <td>22.450</td>\n",
       "    </tr>\n",
       "    <tr>\n",
       "      <th>2013</th>\n",
       "      <td>57.170</td>\n",
       "      <td>9.267</td>\n",
       "      <td>22.117</td>\n",
       "    </tr>\n",
       "    <tr>\n",
       "      <th>2014</th>\n",
       "      <td>55.080</td>\n",
       "      <td>8.790</td>\n",
       "      <td>21.850</td>\n",
       "    </tr>\n",
       "    <tr>\n",
       "      <th>2015</th>\n",
       "      <td>53.107</td>\n",
       "      <td>8.493</td>\n",
       "      <td>21.587</td>\n",
       "    </tr>\n",
       "    <tr>\n",
       "      <th>2016</th>\n",
       "      <td>51.267</td>\n",
       "      <td>8.363</td>\n",
       "      <td>21.257</td>\n",
       "    </tr>\n",
       "  </tbody>\n",
       "</table>\n",
       "</div>"
      ],
      "text/plain": [
       "Location  Afghanistan  Albania  Algeria\n",
       "2010           64.023   11.803   23.540\n",
       "2011           61.640   10.807   22.907\n",
       "2012           59.367    9.943   22.450\n",
       "2013           57.170    9.267   22.117\n",
       "2014           55.080    8.790   21.850\n",
       "2015           53.107    8.493   21.587\n",
       "2016           51.267    8.363   21.257"
      ]
     },
     "metadata": {},
     "output_type": "display_data"
    },
    {
     "data": {
      "text/html": [
       "<div>\n",
       "<style scoped>\n",
       "    .dataframe tbody tr th:only-of-type {\n",
       "        vertical-align: middle;\n",
       "    }\n",
       "\n",
       "    .dataframe tbody tr th {\n",
       "        vertical-align: top;\n",
       "    }\n",
       "\n",
       "    .dataframe thead th {\n",
       "        text-align: right;\n",
       "    }\n",
       "</style>\n",
       "<table border=\"1\" class=\"dataframe\">\n",
       "  <thead>\n",
       "    <tr style=\"text-align: right;\">\n",
       "      <th>Location</th>\n",
       "      <th>Algeria</th>\n",
       "      <th>Andorra</th>\n",
       "      <th>Angola</th>\n",
       "    </tr>\n",
       "  </thead>\n",
       "  <tbody>\n",
       "    <tr>\n",
       "      <th>2016</th>\n",
       "      <td>21.257</td>\n",
       "      <td>3.187</td>\n",
       "      <td>55.510</td>\n",
       "    </tr>\n",
       "    <tr>\n",
       "      <th>2017</th>\n",
       "      <td>20.850</td>\n",
       "      <td>3.060</td>\n",
       "      <td>53.460</td>\n",
       "    </tr>\n",
       "    <tr>\n",
       "      <th>2018</th>\n",
       "      <td>20.407</td>\n",
       "      <td>2.933</td>\n",
       "      <td>51.757</td>\n",
       "    </tr>\n",
       "    <tr>\n",
       "      <th>2019</th>\n",
       "      <td>19.930</td>\n",
       "      <td>2.827</td>\n",
       "      <td>50.093</td>\n",
       "    </tr>\n",
       "  </tbody>\n",
       "</table>\n",
       "</div>"
      ],
      "text/plain": [
       "Location  Algeria  Andorra  Angola\n",
       "2016       21.257    3.187  55.510\n",
       "2017       20.850    3.060  53.460\n",
       "2018       20.407    2.933  51.757\n",
       "2019       19.930    2.827  50.093"
      ]
     },
     "metadata": {},
     "output_type": "display_data"
    }
   ],
   "source": [
    "df5 = df.T.iloc[:7,:3]\n",
    "df6 = df.T.iloc[6:,2:5]\n",
    "\n",
    "display(df5)\n",
    "display(df6)"
   ]
  },
  {
   "cell_type": "markdown",
   "metadata": {},
   "source": [
    "```{admonition} Question 94\n",
    "**df5怨� df6 �곗씠�곕� �섎굹�� �곗씠�� �꾨젅�꾩쑝濡� merge�⑥닔瑜� �댁슜�섏뿬 �⑹퀜��. Algeria而щ읆�� key濡� �섍퀬 �� �곗씠�� 紐⑤몢 �ы븿�섎뒗 �곗씠�곕쭔 異쒕젰�섎씪**\n",
    "```"
   ]
  },
  {
   "cell_type": "code",
   "execution_count": 27,
   "metadata": {
    "ExecuteTime": {
     "end_time": "2022-08-02T11:39:05.426275Z",
     "start_time": "2022-08-02T11:39:05.421518Z"
    },
    "tags": [
     "hide-input"
    ]
   },
   "outputs": [],
   "source": [
    "Ans = pd.merge(df5,df6,on='Algeria',how='inner')"
   ]
  },
  {
   "cell_type": "code",
   "execution_count": 28,
   "metadata": {
    "ExecuteTime": {
     "end_time": "2022-08-02T11:39:06.144795Z",
     "start_time": "2022-08-02T11:39:06.136807Z"
    }
   },
   "outputs": [
    {
     "data": {
      "text/html": [
       "<div>\n",
       "<style scoped>\n",
       "    .dataframe tbody tr th:only-of-type {\n",
       "        vertical-align: middle;\n",
       "    }\n",
       "\n",
       "    .dataframe tbody tr th {\n",
       "        vertical-align: top;\n",
       "    }\n",
       "\n",
       "    .dataframe thead th {\n",
       "        text-align: right;\n",
       "    }\n",
       "</style>\n",
       "<table border=\"1\" class=\"dataframe\">\n",
       "  <thead>\n",
       "    <tr style=\"text-align: right;\">\n",
       "      <th>Location</th>\n",
       "      <th>Afghanistan</th>\n",
       "      <th>Albania</th>\n",
       "      <th>Algeria</th>\n",
       "      <th>Andorra</th>\n",
       "      <th>Angola</th>\n",
       "    </tr>\n",
       "  </thead>\n",
       "  <tbody>\n",
       "    <tr>\n",
       "      <th>0</th>\n",
       "      <td>51.267</td>\n",
       "      <td>8.363</td>\n",
       "      <td>21.257</td>\n",
       "      <td>3.187</td>\n",
       "      <td>55.51</td>\n",
       "    </tr>\n",
       "  </tbody>\n",
       "</table>\n",
       "</div>"
      ],
      "text/plain": [
       "Location  Afghanistan  Albania  Algeria  Andorra  Angola\n",
       "0              51.267    8.363   21.257    3.187   55.51"
      ]
     },
     "execution_count": 28,
     "metadata": {},
     "output_type": "execute_result"
    }
   ],
   "source": [
    "Ans"
   ]
  },
  {
   "cell_type": "markdown",
   "metadata": {},
   "source": [
    "```{admonition} Question 95\n",
    "**df5怨� df6 �곗씠�곕� �섎굹�� �곗씠�� �꾨젅�꾩쑝濡� merge�⑥닔瑜� �댁슜�섏뿬 �⑹퀜��. Algeria而щ읆�� key濡� �섍퀬 �⑹쭛�⑹쑝濡� �⑹퀜��**\n",
    "```"
   ]
  },
  {
   "cell_type": "code",
   "execution_count": 18,
   "metadata": {
    "ExecuteTime": {
     "end_time": "2022-08-02T11:37:46.131071Z",
     "start_time": "2022-08-02T11:37:46.124683Z"
    },
    "tags": [
     "hide-input"
    ]
   },
   "outputs": [],
   "source": [
    "Ans =pd.merge(df5,df6,on='Algeria',how='outer')"
   ]
  },
  {
   "cell_type": "code",
   "execution_count": 21,
   "metadata": {
    "ExecuteTime": {
     "end_time": "2022-08-02T11:37:52.943572Z",
     "start_time": "2022-08-02T11:37:52.932786Z"
    }
   },
   "outputs": [
    {
     "data": {
      "text/html": [
       "<div>\n",
       "<style scoped>\n",
       "    .dataframe tbody tr th:only-of-type {\n",
       "        vertical-align: middle;\n",
       "    }\n",
       "\n",
       "    .dataframe tbody tr th {\n",
       "        vertical-align: top;\n",
       "    }\n",
       "\n",
       "    .dataframe thead th {\n",
       "        text-align: right;\n",
       "    }\n",
       "</style>\n",
       "<table border=\"1\" class=\"dataframe\">\n",
       "  <thead>\n",
       "    <tr style=\"text-align: right;\">\n",
       "      <th>Location</th>\n",
       "      <th>Afghanistan</th>\n",
       "      <th>Albania</th>\n",
       "      <th>Algeria</th>\n",
       "      <th>Andorra</th>\n",
       "      <th>Angola</th>\n",
       "    </tr>\n",
       "  </thead>\n",
       "  <tbody>\n",
       "    <tr>\n",
       "      <th>0</th>\n",
       "      <td>64.023</td>\n",
       "      <td>11.803</td>\n",
       "      <td>23.540</td>\n",
       "      <td>NaN</td>\n",
       "      <td>NaN</td>\n",
       "    </tr>\n",
       "    <tr>\n",
       "      <th>1</th>\n",
       "      <td>61.640</td>\n",
       "      <td>10.807</td>\n",
       "      <td>22.907</td>\n",
       "      <td>NaN</td>\n",
       "      <td>NaN</td>\n",
       "    </tr>\n",
       "    <tr>\n",
       "      <th>2</th>\n",
       "      <td>59.367</td>\n",
       "      <td>9.943</td>\n",
       "      <td>22.450</td>\n",
       "      <td>NaN</td>\n",
       "      <td>NaN</td>\n",
       "    </tr>\n",
       "    <tr>\n",
       "      <th>3</th>\n",
       "      <td>57.170</td>\n",
       "      <td>9.267</td>\n",
       "      <td>22.117</td>\n",
       "      <td>NaN</td>\n",
       "      <td>NaN</td>\n",
       "    </tr>\n",
       "    <tr>\n",
       "      <th>4</th>\n",
       "      <td>55.080</td>\n",
       "      <td>8.790</td>\n",
       "      <td>21.850</td>\n",
       "      <td>NaN</td>\n",
       "      <td>NaN</td>\n",
       "    </tr>\n",
       "    <tr>\n",
       "      <th>5</th>\n",
       "      <td>53.107</td>\n",
       "      <td>8.493</td>\n",
       "      <td>21.587</td>\n",
       "      <td>NaN</td>\n",
       "      <td>NaN</td>\n",
       "    </tr>\n",
       "    <tr>\n",
       "      <th>6</th>\n",
       "      <td>51.267</td>\n",
       "      <td>8.363</td>\n",
       "      <td>21.257</td>\n",
       "      <td>3.187</td>\n",
       "      <td>55.510</td>\n",
       "    </tr>\n",
       "    <tr>\n",
       "      <th>7</th>\n",
       "      <td>NaN</td>\n",
       "      <td>NaN</td>\n",
       "      <td>20.850</td>\n",
       "      <td>3.060</td>\n",
       "      <td>53.460</td>\n",
       "    </tr>\n",
       "    <tr>\n",
       "      <th>8</th>\n",
       "      <td>NaN</td>\n",
       "      <td>NaN</td>\n",
       "      <td>20.407</td>\n",
       "      <td>2.933</td>\n",
       "      <td>51.757</td>\n",
       "    </tr>\n",
       "    <tr>\n",
       "      <th>9</th>\n",
       "      <td>NaN</td>\n",
       "      <td>NaN</td>\n",
       "      <td>19.930</td>\n",
       "      <td>2.827</td>\n",
       "      <td>50.093</td>\n",
       "    </tr>\n",
       "  </tbody>\n",
       "</table>\n",
       "</div>"
      ],
      "text/plain": [
       "Location  Afghanistan  Albania  Algeria  Andorra  Angola\n",
       "0              64.023   11.803   23.540      NaN     NaN\n",
       "1              61.640   10.807   22.907      NaN     NaN\n",
       "2              59.367    9.943   22.450      NaN     NaN\n",
       "3              57.170    9.267   22.117      NaN     NaN\n",
       "4              55.080    8.790   21.850      NaN     NaN\n",
       "5              53.107    8.493   21.587      NaN     NaN\n",
       "6              51.267    8.363   21.257    3.187  55.510\n",
       "7                 NaN      NaN   20.850    3.060  53.460\n",
       "8                 NaN      NaN   20.407    2.933  51.757\n",
       "9                 NaN      NaN   19.930    2.827  50.093"
      ]
     },
     "execution_count": 21,
     "metadata": {},
     "output_type": "execute_result"
    }
   ],
   "source": [
    "Ans"
   ]
  }
 ],
 "metadata": {
  "celltoolbar": "Edit Metadata",
  "kernelspec": {
   "display_name": "Python 3 (ipykernel)",
   "language": "python",
   "name": "python3"
  },
  "language_info": {
   "codemirror_mode": {
    "name": "ipython",
    "version": 3
   },
   "file_extension": ".py",
   "mimetype": "text/x-python",
   "name": "python",
   "nbconvert_exporter": "python",
   "pygments_lexer": "ipython3",
   "version": "3.9.12"
  }
 },
 "nbformat": 4,
 "nbformat_minor": 4
}
