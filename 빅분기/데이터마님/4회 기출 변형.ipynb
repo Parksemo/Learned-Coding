{
 "cells": [
  {
   "cell_type": "markdown",
   "id": "317ea5a7",
   "metadata": {},
   "source": [
    "# 3유형"
   ]
  },
  {
   "cell_type": "markdown",
   "id": "60412229",
   "metadata": {},
   "source": [
    "어느 대학교의 신입생의 학과별 성별에 대한 데이터이다.\n",
    "<br>\n",
    "DataUrl = https://raw.githubusercontent.com/Datamanim/datarepo/main/krdatacertificate/e4_p3_1_.csv\n",
    "<br>\n",
    "이 데이터를 바탕으로, 학생들의 학과와 성별이 서로 독립적인지 여부를 확인하기 위해 카이제곱 독립성 검정을 실시 하려한다."
   ]
  },
  {
   "cell_type": "code",
   "execution_count": 1,
   "id": "7066d213",
   "metadata": {},
   "outputs": [
    {
     "data": {
      "text/html": [
       "<div>\n",
       "<style scoped>\n",
       "    .dataframe tbody tr th:only-of-type {\n",
       "        vertical-align: middle;\n",
       "    }\n",
       "\n",
       "    .dataframe tbody tr th {\n",
       "        vertical-align: top;\n",
       "    }\n",
       "\n",
       "    .dataframe thead th {\n",
       "        text-align: right;\n",
       "    }\n",
       "</style>\n",
       "<table border=\"1\" class=\"dataframe\">\n",
       "  <thead>\n",
       "    <tr style=\"text-align: right;\">\n",
       "      <th></th>\n",
       "      <th>학번</th>\n",
       "      <th>학과</th>\n",
       "      <th>성별</th>\n",
       "    </tr>\n",
       "  </thead>\n",
       "  <tbody>\n",
       "    <tr>\n",
       "      <th>0</th>\n",
       "      <td>DFSKJK_1</td>\n",
       "      <td>경영학과</td>\n",
       "      <td>여</td>\n",
       "    </tr>\n",
       "    <tr>\n",
       "      <th>1</th>\n",
       "      <td>DFSKJK_2</td>\n",
       "      <td>사회학과</td>\n",
       "      <td>여</td>\n",
       "    </tr>\n",
       "    <tr>\n",
       "      <th>2</th>\n",
       "      <td>DFSKJK_3</td>\n",
       "      <td>기계공학과</td>\n",
       "      <td>여</td>\n",
       "    </tr>\n",
       "    <tr>\n",
       "      <th>3</th>\n",
       "      <td>DFSKJK_4</td>\n",
       "      <td>경제학과</td>\n",
       "      <td>남</td>\n",
       "    </tr>\n",
       "    <tr>\n",
       "      <th>4</th>\n",
       "      <td>DFSKJK_5</td>\n",
       "      <td>기계공학과</td>\n",
       "      <td>여</td>\n",
       "    </tr>\n",
       "    <tr>\n",
       "      <th>...</th>\n",
       "      <td>...</td>\n",
       "      <td>...</td>\n",
       "      <td>...</td>\n",
       "    </tr>\n",
       "    <tr>\n",
       "      <th>1017</th>\n",
       "      <td>DFSKJK_1018</td>\n",
       "      <td>사회학과</td>\n",
       "      <td>여</td>\n",
       "    </tr>\n",
       "    <tr>\n",
       "      <th>1018</th>\n",
       "      <td>DFSKJK_1019</td>\n",
       "      <td>기계공학과</td>\n",
       "      <td>여</td>\n",
       "    </tr>\n",
       "    <tr>\n",
       "      <th>1019</th>\n",
       "      <td>DFSKJK_1020</td>\n",
       "      <td>경제학과</td>\n",
       "      <td>여</td>\n",
       "    </tr>\n",
       "    <tr>\n",
       "      <th>1020</th>\n",
       "      <td>DFSKJK_1021</td>\n",
       "      <td>경영학과</td>\n",
       "      <td>남</td>\n",
       "    </tr>\n",
       "    <tr>\n",
       "      <th>1021</th>\n",
       "      <td>DFSKJK_1022</td>\n",
       "      <td>경제학과</td>\n",
       "      <td>여</td>\n",
       "    </tr>\n",
       "  </tbody>\n",
       "</table>\n",
       "<p>1022 rows × 3 columns</p>\n",
       "</div>"
      ],
      "text/plain": [
       "               학번     학과 성별\n",
       "0        DFSKJK_1   경영학과  여\n",
       "1        DFSKJK_2   사회학과  여\n",
       "2        DFSKJK_3  기계공학과  여\n",
       "3        DFSKJK_4   경제학과  남\n",
       "4        DFSKJK_5  기계공학과  여\n",
       "...           ...    ... ..\n",
       "1017  DFSKJK_1018   사회학과  여\n",
       "1018  DFSKJK_1019  기계공학과  여\n",
       "1019  DFSKJK_1020   경제학과  여\n",
       "1020  DFSKJK_1021   경영학과  남\n",
       "1021  DFSKJK_1022   경제학과  여\n",
       "\n",
       "[1022 rows x 3 columns]"
      ]
     },
     "execution_count": 1,
     "metadata": {},
     "output_type": "execute_result"
    }
   ],
   "source": [
    "import pandas as pd \n",
    "df= pd.read_csv('https://raw.githubusercontent.com/Datamanim/datarepo/main/krdatacertificate/e4_p3_1_.csv')\n",
    "df"
   ]
  },
  {
   "cell_type": "markdown",
   "id": "286d0272",
   "metadata": {},
   "source": [
    "## 학과 평균 인원에 대한 값을 소숫점 이하 3자리까지 구하여라"
   ]
  },
  {
   "cell_type": "code",
   "execution_count": 2,
   "id": "c437612f",
   "metadata": {},
   "outputs": [
    {
     "data": {
      "text/plain": [
       "학과\n",
       "경영학과     321\n",
       "경제학과     170\n",
       "기계공학과    244\n",
       "사회학과      99\n",
       "의학과       59\n",
       "전자공학과    129\n",
       "dtype: int64"
      ]
     },
     "execution_count": 2,
     "metadata": {},
     "output_type": "execute_result"
    }
   ],
   "source": [
    "df.groupby('학과').size()"
   ]
  },
  {
   "cell_type": "code",
   "execution_count": 3,
   "id": "d94cc181",
   "metadata": {},
   "outputs": [
    {
     "data": {
      "text/plain": [
       "array([321, 170, 244,  99,  59, 129], dtype=int64)"
      ]
     },
     "execution_count": 3,
     "metadata": {},
     "output_type": "execute_result"
    }
   ],
   "source": [
    "df.groupby('학과').size().values"
   ]
  },
  {
   "cell_type": "code",
   "execution_count": 4,
   "id": "f4253eb3",
   "metadata": {},
   "outputs": [
    {
     "data": {
      "text/plain": [
       "170.33333333333334"
      ]
     },
     "execution_count": 4,
     "metadata": {},
     "output_type": "execute_result"
    }
   ],
   "source": [
    "df.groupby('학과').size().values.mean()"
   ]
  },
  {
   "cell_type": "code",
   "execution_count": 5,
   "id": "f5a0f0d6",
   "metadata": {},
   "outputs": [
    {
     "data": {
      "text/plain": [
       "170.333"
      ]
     },
     "execution_count": 5,
     "metadata": {},
     "output_type": "execute_result"
    }
   ],
   "source": [
    "round(df.groupby('학과').size().values.mean(),3)"
   ]
  },
  {
   "cell_type": "markdown",
   "id": "d9d88728",
   "metadata": {},
   "source": [
    "## 카이제곱검정 독립성 검정 통계량을 소숫점 이하 3자리까지 구하여라"
   ]
  },
  {
   "cell_type": "code",
   "execution_count": 6,
   "id": "209266f5",
   "metadata": {},
   "outputs": [
    {
     "data": {
      "text/html": [
       "<div>\n",
       "<style scoped>\n",
       "    .dataframe tbody tr th:only-of-type {\n",
       "        vertical-align: middle;\n",
       "    }\n",
       "\n",
       "    .dataframe tbody tr th {\n",
       "        vertical-align: top;\n",
       "    }\n",
       "\n",
       "    .dataframe thead th {\n",
       "        text-align: right;\n",
       "    }\n",
       "</style>\n",
       "<table border=\"1\" class=\"dataframe\">\n",
       "  <thead>\n",
       "    <tr style=\"text-align: right;\">\n",
       "      <th>학과</th>\n",
       "      <th>경영학과</th>\n",
       "      <th>경제학과</th>\n",
       "      <th>기계공학과</th>\n",
       "      <th>사회학과</th>\n",
       "      <th>의학과</th>\n",
       "      <th>전자공학과</th>\n",
       "    </tr>\n",
       "    <tr>\n",
       "      <th>성별</th>\n",
       "      <th></th>\n",
       "      <th></th>\n",
       "      <th></th>\n",
       "      <th></th>\n",
       "      <th></th>\n",
       "      <th></th>\n",
       "    </tr>\n",
       "  </thead>\n",
       "  <tbody>\n",
       "    <tr>\n",
       "      <th>남</th>\n",
       "      <td>150</td>\n",
       "      <td>79</td>\n",
       "      <td>125</td>\n",
       "      <td>48</td>\n",
       "      <td>32</td>\n",
       "      <td>74</td>\n",
       "    </tr>\n",
       "    <tr>\n",
       "      <th>여</th>\n",
       "      <td>171</td>\n",
       "      <td>91</td>\n",
       "      <td>119</td>\n",
       "      <td>51</td>\n",
       "      <td>27</td>\n",
       "      <td>55</td>\n",
       "    </tr>\n",
       "  </tbody>\n",
       "</table>\n",
       "</div>"
      ],
      "text/plain": [
       "학과  경영학과  경제학과  기계공학과  사회학과  의학과  전자공학과\n",
       "성별                                     \n",
       "남    150    79    125    48   32     74\n",
       "여    171    91    119    51   27     55"
      ]
     },
     "execution_count": 6,
     "metadata": {},
     "output_type": "execute_result"
    }
   ],
   "source": [
    "data = df.groupby(['성별','학과']).size().unstack()\n",
    "data"
   ]
  },
  {
   "cell_type": "code",
   "execution_count": 7,
   "id": "52c3c482",
   "metadata": {},
   "outputs": [
    {
     "data": {
      "text/html": [
       "<div>\n",
       "<style scoped>\n",
       "    .dataframe tbody tr th:only-of-type {\n",
       "        vertical-align: middle;\n",
       "    }\n",
       "\n",
       "    .dataframe tbody tr th {\n",
       "        vertical-align: top;\n",
       "    }\n",
       "\n",
       "    .dataframe thead th {\n",
       "        text-align: right;\n",
       "    }\n",
       "</style>\n",
       "<table border=\"1\" class=\"dataframe\">\n",
       "  <thead>\n",
       "    <tr style=\"text-align: right;\">\n",
       "      <th>학과</th>\n",
       "      <th>경영학과</th>\n",
       "      <th>경제학과</th>\n",
       "      <th>기계공학과</th>\n",
       "      <th>사회학과</th>\n",
       "      <th>의학과</th>\n",
       "      <th>전자공학과</th>\n",
       "    </tr>\n",
       "    <tr>\n",
       "      <th>성별</th>\n",
       "      <th></th>\n",
       "      <th></th>\n",
       "      <th></th>\n",
       "      <th></th>\n",
       "      <th></th>\n",
       "      <th></th>\n",
       "    </tr>\n",
       "  </thead>\n",
       "  <tbody>\n",
       "    <tr>\n",
       "      <th>남</th>\n",
       "      <td>150</td>\n",
       "      <td>79</td>\n",
       "      <td>125</td>\n",
       "      <td>48</td>\n",
       "      <td>32</td>\n",
       "      <td>74</td>\n",
       "    </tr>\n",
       "    <tr>\n",
       "      <th>여</th>\n",
       "      <td>171</td>\n",
       "      <td>91</td>\n",
       "      <td>119</td>\n",
       "      <td>51</td>\n",
       "      <td>27</td>\n",
       "      <td>55</td>\n",
       "    </tr>\n",
       "  </tbody>\n",
       "</table>\n",
       "</div>"
      ],
      "text/plain": [
       "학과  경영학과  경제학과  기계공학과  사회학과  의학과  전자공학과\n",
       "성별                                     \n",
       "남    150    79    125    48   32     74\n",
       "여    171    91    119    51   27     55"
      ]
     },
     "execution_count": 7,
     "metadata": {},
     "output_type": "execute_result"
    }
   ],
   "source": [
    "# 다른 방법\n",
    "pd.crosstab(df['성별'], df['학과'])"
   ]
  },
  {
   "cell_type": "code",
   "execution_count": 8,
   "id": "dc06d54b",
   "metadata": {},
   "outputs": [],
   "source": [
    "from scipy.stats import chi2_contingency"
   ]
  },
  {
   "cell_type": "code",
   "execution_count": 9,
   "id": "0b5df508",
   "metadata": {},
   "outputs": [
    {
     "data": {
      "text/plain": [
       "5.646488667066096"
      ]
     },
     "metadata": {},
     "output_type": "display_data"
    },
    {
     "data": {
      "text/plain": [
       "0.34215005734979864"
      ]
     },
     "metadata": {},
     "output_type": "display_data"
    },
    {
     "data": {
      "text/plain": [
       "5"
      ]
     },
     "metadata": {},
     "output_type": "display_data"
    },
    {
     "data": {
      "text/plain": [
       "array([[159.55772994,  84.50097847, 121.28375734,  49.20939335,\n",
       "         29.32681018,  64.12133072],\n",
       "       [161.44227006,  85.49902153, 122.71624266,  49.79060665,\n",
       "         29.67318982,  64.87866928]])"
      ]
     },
     "metadata": {},
     "output_type": "display_data"
    }
   ],
   "source": [
    "chi2_stat, p_value, dof, expected = chi2_contingency(data)\n",
    "display(chi2_stat, p_value, dof, expected)"
   ]
  },
  {
   "cell_type": "code",
   "execution_count": 10,
   "id": "3e8ede24",
   "metadata": {},
   "outputs": [
    {
     "data": {
      "text/plain": [
       "5.646"
      ]
     },
     "execution_count": 10,
     "metadata": {},
     "output_type": "execute_result"
    }
   ],
   "source": [
    "round(chi2_stat,3)"
   ]
  },
  {
   "cell_type": "markdown",
   "id": "93687e86",
   "metadata": {},
   "source": [
    "## 카이제곱검정 독립성 검정의 pvalue를 소숫점 이하 3자리까지 구하여라. 유의수준 0.05하에서 귀무가설과 대립가설중 유의한 것을 출력하라"
   ]
  },
  {
   "cell_type": "code",
   "execution_count": 11,
   "id": "6d9bdb95",
   "metadata": {},
   "outputs": [
    {
     "data": {
      "text/plain": [
       "0.342"
      ]
     },
     "execution_count": 11,
     "metadata": {},
     "output_type": "execute_result"
    }
   ],
   "source": [
    "round(p_value,3)"
   ]
  },
  {
   "cell_type": "code",
   "execution_count": 12,
   "id": "a712c588",
   "metadata": {},
   "outputs": [
    {
     "name": "stdout",
     "output_type": "stream",
     "text": [
      "귀무\n"
     ]
    }
   ],
   "source": [
    "if p_value >= 0.05:\n",
    "    print('귀무')\n",
    "elif p_value < 0.05:\n",
    "    print('대립')"
   ]
  },
  {
   "cell_type": "code",
   "execution_count": null,
   "id": "d4440ad7",
   "metadata": {},
   "outputs": [],
   "source": []
  },
  {
   "cell_type": "code",
   "execution_count": null,
   "id": "04374d00",
   "metadata": {},
   "outputs": [],
   "source": []
  },
  {
   "cell_type": "markdown",
   "id": "84d2ed8c",
   "metadata": {},
   "source": [
    "## 어느 학교에서 수학 시험을 본 학생 100명 중 60명이 60점 이상을 받았다. 이 학교의 수학 시험의 평균 점수가 50점 이상인지 95%의 신뢰 수준에서 검정하려한다."
   ]
  },
  {
   "cell_type": "markdown",
   "id": "4f429015",
   "metadata": {},
   "source": [
    "## 참고자료\n",
    "https://blog.naver.com/tmdwls379/222066996180\n",
    "<br>\n",
    "https://m.blog.naver.com/pmw9440/221805677577"
   ]
  },
  {
   "cell_type": "markdown",
   "id": "45f5bc41",
   "metadata": {},
   "source": [
    "## 검정 통계량을 소숫점 이하 3자리에서 구하시오"
   ]
  },
  {
   "cell_type": "code",
   "execution_count": 13,
   "id": "6388e800",
   "metadata": {},
   "outputs": [
    {
     "name": "stdout",
     "output_type": "stream",
     "text": [
      "2.0\n"
     ]
    }
   ],
   "source": [
    "import numpy as np\n",
    "n = 100 # 표본 수\n",
    "p_hat = 0.6 # 표본비율\n",
    "p = 0.5 # 검정 비율\n",
    "\n",
    "# 검정 통계량 계산 : (표본 비율 - 검정비율) / 루트(검점비율(1-검정비율) / 표본 수)\n",
    "z = round((p_hat - p) / np.sqrt(p * (1 - p) / n),3)\n",
    "print(z)"
   ]
  },
  {
   "cell_type": "markdown",
   "id": "ff076553",
   "metadata": {},
   "source": [
    "## pvalue를 소숫점 이하 3자리까지 구하고 귀무가설과 대립가설중 유의한 것을 출력하라"
   ]
  },
  {
   "cell_type": "code",
   "execution_count": 14,
   "id": "40ef3090",
   "metadata": {},
   "outputs": [
    {
     "data": {
      "text/plain": [
       "0.023"
      ]
     },
     "execution_count": 14,
     "metadata": {},
     "output_type": "execute_result"
    }
   ],
   "source": [
    "from scipy.stats import norm # 정규분포\n",
    "p_value = round(1 - norm.cdf(z),3) # 1-a\n",
    "p_value"
   ]
  },
  {
   "cell_type": "code",
   "execution_count": 15,
   "id": "774b2e58",
   "metadata": {},
   "outputs": [
    {
     "name": "stdout",
     "output_type": "stream",
     "text": [
      "대립\n"
     ]
    }
   ],
   "source": [
    "if p_value >= 0.5:\n",
    "    print('귀무')\n",
    "elif p_value < 0.5:\n",
    "    print('대립')"
   ]
  }
 ],
 "metadata": {
  "kernelspec": {
   "display_name": "Python 3 (ipykernel)",
   "language": "python",
   "name": "python3"
  },
  "language_info": {
   "codemirror_mode": {
    "name": "ipython",
    "version": 3
   },
   "file_extension": ".py",
   "mimetype": "text/x-python",
   "name": "python",
   "nbconvert_exporter": "python",
   "pygments_lexer": "ipython3",
   "version": "3.9.12"
  }
 },
 "nbformat": 4,
 "nbformat_minor": 5
}
